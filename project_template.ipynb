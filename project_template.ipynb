{
 "cells": [
  {
   "cell_type": "markdown",
   "metadata": {},
   "source": [
    "# Project Group - \n",
    "\n",
    "Members: \n",
    "\n",
    "Florentin Dutruel   5011057\n",
    "\n",
    "Adinda Ramadani     5347734\n",
    "\n",
    "Watetu Mbugua       5721784\n",
    "\n",
    "Aristi Molocha      5864755\n",
    "\n",
    "Nguyen Thi Minh Hoa 5735041"
   ]
  },
  {
   "cell_type": "markdown",
   "metadata": {},
   "source": [
    "# Research Objective\n",
    "\n",
    "*Requires data modeling and quantitative research in Transport, Infrastructure & Logistics*"
   ]
  },
  {
   "cell_type": "markdown",
   "metadata": {},
   "source": [
    "**Research goal/topic:** Post-covid emissions per transport type (goods + passenger)\n",
    "\n",
    "**Research question:** What is the predicted CO2 and PM10 emissions in 2022 for car transport, public transport and inland ship transport in the Netherlands?\n",
    "\n",
    "**Project Steps/Description:**\n",
    "Use trends from before covid plus changes in behavior during covid to predict the vehicle-kilometres for 2022. \n",
    "Use that to calculate the emissions in 2022. \n",
    "This also needs to take into account that new cars are getting cleaner and that more electric cars are used.\n"
   ]
  },
  {
   "cell_type": "markdown",
   "metadata": {},
   "source": [
    "# Contribution Statement\n",
    "\n",
    "*Be specific. Some of the tasks can be coding (expect everyone to do this), background research, conceptualisation, visualisation, data analysis, data modelling*"
   ]
  },
  {
   "cell_type": "markdown",
   "metadata": {},
   "source": [
    "**Author 1**:\n",
    "\n",
    "**Author 2**:\n",
    "\n",
    "**Author 3**:"
   ]
  },
  {
   "cell_type": "markdown",
   "metadata": {},
   "source": [
    "# Data Used"
   ]
  },
  {
   "cell_type": "markdown",
   "metadata": {},
   "source": [
    "- Emissions per transport mode 1990-2021: https://opendata.cbs.nl/statline/portal.html?_la=en&_catalog=CBS&tableId=84735ENG&_theme=1157 \n",
    "- Vehicle-kilometres for motor vehicles 1990-2020:\n",
    "https://data.overheid.nl/dataset/4454-traffic-performance-motor-vehicles--kilometres--type-of-vehicle--territory \n",
    "- Emissions to air on Dutch territory; road traffic: https://data.overheid.nl/dataset/4394-emissions-to-air-on-dutch-territory--road-traffic \n",
    "- Greenhouse gas emissions 11 percent lower in Q1 2022: https://www.cbs.nl/en-gb/news/2022/24/greenhouse-gas-emissions-11-percent-lower-in-q1-2022 \n",
    "- Predictions/trends vehicle-kilometres    *Source needed/calculate ourselves*\n",
    "- Vehicle-kilometres for inland ships    *Source needed (probably replaced with weight transported)*\n",
    "- Vehicle-kilometres for non motor vehicles public transport    *Source needed*\n",
    "- Inland shipping record 2020-2021 (weight):\n",
    "    https://www.cbs.nl/en-gb/news/2022/10/inland-navigation-reached-record-level-in-2021\n",
    "- Total transport performance in the Netherlands for cars and public transport 2018-2021 (passenger-kilometres):\n",
    "https://opendata.cbs.nl/#/CBS/en/dataset/84687ENG/table\n"
   ]
  },
  {
   "cell_type": "markdown",
   "metadata": {},
   "source": [
    "# Data Pipeline"
   ]
  },
  {
   "cell_type": "markdown",
   "metadata": {},
   "source": []
  }
 ],
 "metadata": {
  "kernelspec": {
   "display_name": "Python 3",
   "language": "python",
   "name": "python3"
  },
  "language_info": {
   "name": "python",
   "version": "3.8.2"
  },
  "orig_nbformat": 4,
  "vscode": {
   "interpreter": {
    "hash": "31f2aee4e71d21fbe5cf8b01ff0e069b9275f58929596ceb00d14d90e3e16cd6"
   }
  }
 },
 "nbformat": 4,
 "nbformat_minor": 2
}
