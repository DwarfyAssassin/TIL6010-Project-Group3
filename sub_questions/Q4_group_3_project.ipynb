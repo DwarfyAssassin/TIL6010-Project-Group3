{
 "cells": [
  {
   "cell_type": "code",
   "execution_count": 1,
   "metadata": {},
   "outputs": [],
   "source": [
    "import pandas as pd\n",
    "import numpy as np\n",
    "import plotly.express as px\n",
    "import matplotlib.pyplot as plt\n",
    "import seaborn as sns"
   ]
  },
  {
   "cell_type": "markdown",
   "metadata": {
    "tags": []
   },
   "source": [
    "# Group & Topic info\n",
    "\n",
    "Group members:\n",
    "  - Florentin Dutruel 5011507\n",
    "  - Adinda Ramadani 5347734\n",
    "  - Watetu Mbugua 5721784\n",
    "  - Aristi Molocha 5864755\n",
    "  - Nguyen Thi Minh Hoa 5735041\n",
    "\n",
    "Project type: Application Project<br>\n",
    "Research Question: What is the correlation between vehicle kilometers and emissions?<br>\n",
    "Sub question:\n",
    "  - What are the trends of vehicle kilomiters over the years?\n",
    "  - What are the trends of emissions over the years?\n",
    "  - What are the correlations between e/vhkm and years?\n",
    "  - What are the correlations between emissions and vhkm?\n",
    "\n",
    "Scope:\n",
    "  - Time: 1990-2021\n",
    "  - Place: Netherlands\n",
    "  - Vehicle types: Passenger cars & Road freight\n",
    "  - Emission types: CO2, CO, NOx, PM10\n",
    "\n",
    "\n",
    "\n",
    "<br><br>\n",
    "Sources:\n",
    "  - Emissions per transport mode 1990-2021: https://opendata.cbs.nl/statline/portal.html?_la=en&_catalog=CBS&tableId=84735ENG&_theme=1157 \n",
    "  - Vehicle-kilometres for motor vehicles 1990-2020: https://opendata.cbs.nl/statline/portal.html?_la=en&_catalog=CBS&tableId=80302ENG\n",
    "\n",
    "\n",
    "Contributions: https://docs.google.com/spreadsheets/d/13XAgn709_jYkHUsW45FdbP5MM8wKJRv-gXowcEMF_7Q/edit#gid=0"
   ]
  },
  {
   "cell_type": "markdown",
   "metadata": {
    "tags": []
   },
   "source": [
    "# Report"
   ]
  },
  {
   "cell_type": "markdown",
   "metadata": {
    "jp-MarkdownHeadingCollapsed": true,
    "tags": []
   },
   "source": [
    "### Data import & filtering"
   ]
  },
  {
   "cell_type": "markdown",
   "metadata": {},
   "source": [
    "Load the data from the two different datasets and link the data to the meta files."
   ]
  },
  {
   "cell_type": "code",
   "execution_count": 7,
   "metadata": {},
   "outputs": [],
   "source": [
    "vk_data = load_vk_data(\"data/vehicle-kilometres_data.csv\", \"data/vehicle-kilometres_typ_meta.csv\")\n",
    "ems_data = load_ems_data(\"data/emissions_data.csv\", \"data/emissions_source_meta.csv\", \"data/emissions_emission_meta.csv\")"
   ]
  },
  {
   "cell_type": "markdown",
   "metadata": {},
   "source": [
    "Filter and split the data sets into the used topics. "
   ]
  },
  {
   "cell_type": "code",
   "execution_count": 15,
   "metadata": {},
   "outputs": [],
   "source": [
    "vk_data_freight = getCategory(vk_data, \"Vehicle Type\", [\"Delivery van\", \"Lorry (road tractor not included)\", \"Road tractor\"], True)\n",
    "vk_data_car = getCategory(vk_data, \"Vehicle Type\", [\"Passenger car\"], True)\n",
    "\n",
    "ems_data = getCategory(ems_data, \"Emission Type\", [\"Carbon dioxide (CO2)\", \"Carbon monoxide (CO)\", \"PM10 (Particulate matter)\", \"Nitrogen oxides (NOx)\"], False)\n",
    "ems_data_freight = getCategory(ems_data, \"Sources\", [\"Road traffic, freight vehicles\"], False)\n",
    "ems_data_car = getCategory(ems_data, \"Sources\", [\"Road traffic, passenger cars\"], False)"
   ]
  },
  {
   "cell_type": "markdown",
   "metadata": {},
   "source": [
    "Merge data sets and calculate emissions per kilomiter"
   ]
  },
  {
   "cell_type": "code",
   "execution_count": 9,
   "metadata": {
    "tags": []
   },
   "outputs": [
    {
     "data": {
      "text/html": [
       "<div>\n",
       "<style scoped>\n",
       "    .dataframe tbody tr th:only-of-type {\n",
       "        vertical-align: middle;\n",
       "    }\n",
       "\n",
       "    .dataframe tbody tr th {\n",
       "        vertical-align: top;\n",
       "    }\n",
       "\n",
       "    .dataframe thead th {\n",
       "        text-align: right;\n",
       "    }\n",
       "</style>\n",
       "<table border=\"1\" class=\"dataframe\">\n",
       "  <thead>\n",
       "    <tr style=\"text-align: right;\">\n",
       "      <th></th>\n",
       "      <th>Sources</th>\n",
       "      <th>Emission Type</th>\n",
       "      <th>Year</th>\n",
       "      <th>Emission</th>\n",
       "      <th>vhkm</th>\n",
       "      <th>e/km</th>\n",
       "    </tr>\n",
       "  </thead>\n",
       "  <tbody>\n",
       "    <tr>\n",
       "      <th>0</th>\n",
       "      <td>Road traffic, freight vehicles</td>\n",
       "      <td>Carbon dioxide (CO2)</td>\n",
       "      <td>1990</td>\n",
       "      <td>7.600000e+09</td>\n",
       "      <td>1.354200e+10</td>\n",
       "      <td>0.561217</td>\n",
       "    </tr>\n",
       "    <tr>\n",
       "      <th>1</th>\n",
       "      <td>Road traffic, freight vehicles</td>\n",
       "      <td>Carbon dioxide (CO2)</td>\n",
       "      <td>1991</td>\n",
       "      <td>7.900000e+09</td>\n",
       "      <td>1.436300e+10</td>\n",
       "      <td>0.550024</td>\n",
       "    </tr>\n",
       "    <tr>\n",
       "      <th>2</th>\n",
       "      <td>Road traffic, freight vehicles</td>\n",
       "      <td>Carbon dioxide (CO2)</td>\n",
       "      <td>1992</td>\n",
       "      <td>8.400000e+09</td>\n",
       "      <td>1.565000e+10</td>\n",
       "      <td>0.536741</td>\n",
       "    </tr>\n",
       "    <tr>\n",
       "      <th>3</th>\n",
       "      <td>Road traffic, freight vehicles</td>\n",
       "      <td>Carbon dioxide (CO2)</td>\n",
       "      <td>1993</td>\n",
       "      <td>8.500000e+09</td>\n",
       "      <td>1.657200e+10</td>\n",
       "      <td>0.512913</td>\n",
       "    </tr>\n",
       "    <tr>\n",
       "      <th>4</th>\n",
       "      <td>Road traffic, freight vehicles</td>\n",
       "      <td>Carbon dioxide (CO2)</td>\n",
       "      <td>1994</td>\n",
       "      <td>8.500000e+09</td>\n",
       "      <td>1.664700e+10</td>\n",
       "      <td>0.510603</td>\n",
       "    </tr>\n",
       "    <tr>\n",
       "      <th>...</th>\n",
       "      <td>...</td>\n",
       "      <td>...</td>\n",
       "      <td>...</td>\n",
       "      <td>...</td>\n",
       "      <td>...</td>\n",
       "      <td>...</td>\n",
       "    </tr>\n",
       "    <tr>\n",
       "      <th>123</th>\n",
       "      <td>Road traffic, passenger cars</td>\n",
       "      <td>PM10 (Particulate matter)</td>\n",
       "      <td>2017</td>\n",
       "      <td>2.300000e+06</td>\n",
       "      <td>1.089361e+11</td>\n",
       "      <td>0.000021</td>\n",
       "    </tr>\n",
       "    <tr>\n",
       "      <th>124</th>\n",
       "      <td>Road traffic, passenger cars</td>\n",
       "      <td>PM10 (Particulate matter)</td>\n",
       "      <td>2018</td>\n",
       "      <td>2.300000e+06</td>\n",
       "      <td>1.103559e+11</td>\n",
       "      <td>0.000021</td>\n",
       "    </tr>\n",
       "    <tr>\n",
       "      <th>125</th>\n",
       "      <td>Road traffic, passenger cars</td>\n",
       "      <td>PM10 (Particulate matter)</td>\n",
       "      <td>2019</td>\n",
       "      <td>2.200000e+06</td>\n",
       "      <td>1.103728e+11</td>\n",
       "      <td>0.000020</td>\n",
       "    </tr>\n",
       "    <tr>\n",
       "      <th>126</th>\n",
       "      <td>Road traffic, passenger cars</td>\n",
       "      <td>PM10 (Particulate matter)</td>\n",
       "      <td>2020</td>\n",
       "      <td>1.800000e+06</td>\n",
       "      <td>9.265420e+10</td>\n",
       "      <td>0.000019</td>\n",
       "    </tr>\n",
       "    <tr>\n",
       "      <th>127</th>\n",
       "      <td>Road traffic, passenger cars</td>\n",
       "      <td>PM10 (Particulate matter)</td>\n",
       "      <td>2021</td>\n",
       "      <td>1.900000e+06</td>\n",
       "      <td>NaN</td>\n",
       "      <td>NaN</td>\n",
       "    </tr>\n",
       "  </tbody>\n",
       "</table>\n",
       "<p>256 rows × 6 columns</p>\n",
       "</div>"
      ],
      "text/plain": [
       "                            Sources              Emission Type  Year  \\\n",
       "0    Road traffic, freight vehicles       Carbon dioxide (CO2)  1990   \n",
       "1    Road traffic, freight vehicles       Carbon dioxide (CO2)  1991   \n",
       "2    Road traffic, freight vehicles       Carbon dioxide (CO2)  1992   \n",
       "3    Road traffic, freight vehicles       Carbon dioxide (CO2)  1993   \n",
       "4    Road traffic, freight vehicles       Carbon dioxide (CO2)  1994   \n",
       "..                              ...                        ...   ...   \n",
       "123    Road traffic, passenger cars  PM10 (Particulate matter)  2017   \n",
       "124    Road traffic, passenger cars  PM10 (Particulate matter)  2018   \n",
       "125    Road traffic, passenger cars  PM10 (Particulate matter)  2019   \n",
       "126    Road traffic, passenger cars  PM10 (Particulate matter)  2020   \n",
       "127    Road traffic, passenger cars  PM10 (Particulate matter)  2021   \n",
       "\n",
       "         Emission          vhkm      e/km  \n",
       "0    7.600000e+09  1.354200e+10  0.561217  \n",
       "1    7.900000e+09  1.436300e+10  0.550024  \n",
       "2    8.400000e+09  1.565000e+10  0.536741  \n",
       "3    8.500000e+09  1.657200e+10  0.512913  \n",
       "4    8.500000e+09  1.664700e+10  0.510603  \n",
       "..            ...           ...       ...  \n",
       "123  2.300000e+06  1.089361e+11  0.000021  \n",
       "124  2.300000e+06  1.103559e+11  0.000021  \n",
       "125  2.200000e+06  1.103728e+11  0.000020  \n",
       "126  1.800000e+06  9.265420e+10  0.000019  \n",
       "127  1.900000e+06           NaN       NaN  \n",
       "\n",
       "[256 rows x 6 columns]"
      ]
     },
     "metadata": {},
     "output_type": "display_data"
    }
   ],
   "source": [
    "freight_data = ems_data_freight.merge(right = vk_data_freight, how=\"left\", on=\"Year\")\n",
    "car_data = ems_data_car.merge(right = vk_data_car, how=\"left\", on=\"Year\")\n",
    "\n",
    "vehicle_data = pd.concat([freight_data, car_data])\n",
    "vehicle_data[\"e/km\"] = vehicle_data[\"Emission\"] / vehicle_data[\"vhkm\"]\n",
    "\n",
    "display(vehicle_data)"
   ]
  },
  {
   "cell_type": "markdown",
   "metadata": {},
   "source": [
    "### What are the trends of vehicle kilomiters over the years?"
   ]
  },
  {
   "cell_type": "markdown",
   "metadata": {},
   "source": [
    "### What are the trends of emissions over the years?"
   ]
  },
  {
   "cell_type": "markdown",
   "metadata": {},
   "source": [
    "### What are the correlations between e/vhkm and years?"
   ]
  },
  {
   "cell_type": "markdown",
   "metadata": {},
   "source": [
    "### What are the correlations between emissions and vhkm?"
   ]
  },
  {
   "cell_type": "markdown",
   "metadata": {},
   "source": [
    "### Conclusion & Discussion"
   ]
  },
  {
   "cell_type": "markdown",
   "metadata": {
    "jp-MarkdownHeadingCollapsed": true,
    "tags": []
   },
   "source": [
    "# Graphs and stuff"
   ]
  },
  {
   "cell_type": "code",
   "execution_count": 18,
   "metadata": {},
   "outputs": [
    {
     "data": {
      "application/vnd.plotly.v1+json": {
       "config": {
        "plotlyServerURL": "https://plot.ly"
       },
       "data": [
        {
         "hovertemplate": "Emission Type=Carbon dioxide (CO2)<br>Sources=Road traffic, freight vehicles<br>Year=%{x}<br>e/km=%{y}<extra></extra>",
         "legendgroup": "Carbon dioxide (CO2)",
         "line": {
          "color": "#636efa",
          "dash": "solid"
         },
         "marker": {
          "symbol": "circle"
         },
         "mode": "lines",
         "name": "Carbon dioxide (CO2)",
         "orientation": "v",
         "showlegend": true,
         "type": "scatter",
         "x": [
          1990,
          1991,
          1992,
          1993,
          1994,
          1995,
          1996,
          1997,
          1998,
          1999,
          2000,
          2001,
          2002,
          2003,
          2004,
          2005,
          2006,
          2007,
          2008,
          2009,
          2010,
          2011,
          2012,
          2013,
          2014,
          2015,
          2016,
          2017,
          2018,
          2019,
          2020,
          2021
         ],
         "xaxis": "x2",
         "y": [
          0.5612169546595777,
          0.55002436816821,
          0.536741214057508,
          0.5129133478155926,
          0.5106025109629363,
          0.5086650499792985,
          0.4997094712376525,
          0.4868333702146493,
          0.47420531526836895,
          0.46901172529313234,
          0.43859649122807015,
          0.42625375146796574,
          0.42215176786821973,
          0.4191327761830975,
          0.41383435972449284,
          0.4128568479593943,
          0.4215015372409005,
          0.41690952658506575,
          0.42108608429666705,
          0.42217044319777874,
          0.42483313044828064,
          0.41788722837330156,
          0.4184825568861516,
          0.4143676531524655,
          0.41020091116968355,
          0.4175952479365255,
          0.41674838203569325,
          0.4140242761541922,
          0.41266652651577085,
          0.40860280752134664,
          0.41496212491925855,
          null
         ],
         "yaxis": "y2"
        },
        {
         "hovertemplate": "Emission Type=Carbon dioxide (CO2)<br>Sources=Road traffic, passenger cars<br>Year=%{x}<br>e/km=%{y}<extra></extra>",
         "legendgroup": "Carbon dioxide (CO2)",
         "line": {
          "color": "#636efa",
          "dash": "solid"
         },
         "marker": {
          "symbol": "circle"
         },
         "mode": "lines",
         "name": "Carbon dioxide (CO2)",
         "orientation": "v",
         "showlegend": false,
         "type": "scatter",
         "x": [
          1990,
          1991,
          1992,
          1993,
          1994,
          1995,
          1996,
          1997,
          1998,
          1999,
          2000,
          2001,
          2002,
          2003,
          2004,
          2005,
          2006,
          2007,
          2008,
          2009,
          2010,
          2011,
          2012,
          2013,
          2014,
          2015,
          2016,
          2017,
          2018,
          2019,
          2020,
          2021
         ],
         "xaxis": "x",
         "y": [
          0.18932222642938282,
          0.1897392932827362,
          0.1902488596885118,
          0.19033254327371973,
          0.19125618942576209,
          0.19132046772506892,
          0.19074813055129722,
          0.19139084991289998,
          0.1905615962336061,
          0.19120045801691637,
          0.19099122298761775,
          0.19095549888184946,
          0.1911604896201932,
          0.1909370595487521,
          0.19111486003087855,
          0.18893617876578447,
          0.18712369971423823,
          0.18196332558521752,
          0.18074038372269882,
          0.17830052997616092,
          0.17594000836692483,
          0.1738600028750034,
          0.17067146615516945,
          0.16858635496922814,
          0.1658645060564653,
          0.16462252435794836,
          0.16340460930979192,
          0.16248057347380712,
          0.16129631492289945,
          0.1594595769972312,
          0.15757515579434067,
          null
         ],
         "yaxis": "y"
        },
        {
         "hovertemplate": "Emission Type=Carbon monoxide (CO)<br>Sources=Road traffic, freight vehicles<br>Year=%{x}<br>e/km=%{y}<extra></extra>",
         "legendgroup": "Carbon monoxide (CO)",
         "line": {
          "color": "#EF553B",
          "dash": "solid"
         },
         "marker": {
          "symbol": "circle"
         },
         "mode": "lines",
         "name": "Carbon monoxide (CO)",
         "orientation": "v",
         "showlegend": true,
         "type": "scatter",
         "x": [
          1990,
          1991,
          1992,
          1993,
          1994,
          1995,
          1996,
          1997,
          1998,
          1999,
          2000,
          2001,
          2002,
          2003,
          2004,
          2005,
          2006,
          2007,
          2008,
          2009,
          2010,
          2011,
          2012,
          2013,
          2014,
          2015,
          2016,
          2017,
          2018,
          2019,
          2020,
          2021
         ],
         "xaxis": "x2",
         "y": [
          0.005065721459164082,
          0.004609064958574114,
          0.004153354632587859,
          0.003759353125754284,
          0.0033940049258124588,
          0.002998757910924469,
          0.0025973271353864034,
          0.0022018145607435274,
          0.0018655549765502866,
          0.001588896865278775,
          0.0013610056068005065,
          0.0012048192771084338,
          0.0010984561306775105,
          0.0010033784641959001,
          0.0009464924464985926,
          0.000890475554422223,
          0.000884326754603458,
          0.0008702480409299916,
          0.0008580622095101895,
          0.0008565188799493395,
          0.0008292415911634709,
          0.0008026744782615892,
          0.00077355866575925,
          0.0007240529518243082,
          0.0006720312800013964,
          0.0006093481679073791,
          0.0006128652676995489,
          0.0006130744089206308,
          0.00042434576783225493,
          0.0003704156292483236,
          0.0003405821213959952,
          null
         ],
         "yaxis": "y2"
        },
        {
         "hovertemplate": "Emission Type=Carbon monoxide (CO)<br>Sources=Road traffic, passenger cars<br>Year=%{x}<br>e/km=%{y}<extra></extra>",
         "legendgroup": "Carbon monoxide (CO)",
         "line": {
          "color": "#EF553B",
          "dash": "solid"
         },
         "marker": {
          "symbol": "circle"
         },
         "mode": "lines",
         "name": "Carbon monoxide (CO)",
         "orientation": "v",
         "showlegend": false,
         "type": "scatter",
         "x": [
          1990,
          1991,
          1992,
          1993,
          1994,
          1995,
          1996,
          1997,
          1998,
          1999,
          2000,
          2001,
          2002,
          2003,
          2004,
          2005,
          2006,
          2007,
          2008,
          2009,
          2010,
          2011,
          2012,
          2013,
          2014,
          2015,
          2016,
          2017,
          2018,
          2019,
          2020,
          2021
         ],
         "xaxis": "x",
         "y": [
          0.007240659085634718,
          0.006192400571682026,
          0.005617658875522889,
          0.0051114462879168765,
          0.004672283106094384,
          0.004509696739233768,
          0.00426550267398453,
          0.003924085449711194,
          0.003629637932967156,
          0.003414602529895326,
          0.0032554346659799567,
          0.0032313913866339637,
          0.0032175219367050994,
          0.00321410716907066,
          0.003150893687105951,
          0.0030933274374525775,
          0.0030377741038715694,
          0.003015112738998067,
          0.0029629571102081772,
          0.0028991075122643184,
          0.0028336115791984173,
          0.002751650213099914,
          0.0026366802072494643,
          0.0025462352922938597,
          0.002405999666342331,
          0.00234753622885005,
          0.002198534743440837,
          0.002181095155783987,
          0.0020071423458102376,
          0.001870025948422075,
          0.0017926872176328758,
          null
         ],
         "yaxis": "y"
        },
        {
         "hovertemplate": "Emission Type=Nitrogen oxides (NOx)<br>Sources=Road traffic, freight vehicles<br>Year=%{x}<br>e/km=%{y}<extra></extra>",
         "legendgroup": "Nitrogen oxides (NOx)",
         "line": {
          "color": "#00cc96",
          "dash": "solid"
         },
         "marker": {
          "symbol": "circle"
         },
         "mode": "lines",
         "name": "Nitrogen oxides (NOx)",
         "orientation": "v",
         "showlegend": true,
         "type": "scatter",
         "x": [
          1990,
          1991,
          1992,
          1993,
          1994,
          1995,
          1996,
          1997,
          1998,
          1999,
          2000,
          2001,
          2002,
          2003,
          2004,
          2005,
          2006,
          2007,
          2008,
          2009,
          2010,
          2011,
          2012,
          2013,
          2014,
          2015,
          2016,
          2017,
          2018,
          2019,
          2020,
          2021
         ],
         "xaxis": "x2",
         "y": [
          0.007724117560183134,
          0.007533245143772192,
          0.007035143769968051,
          0.006354091238233164,
          0.00594101039226287,
          0.005624889099189684,
          0.005188843695525857,
          0.004774286346536844,
          0.00440333507034914,
          0.0041923905240488155,
          0.003906673901247965,
          0.0037057979209255795,
          0.003601213040181956,
          0.003505474128076816,
          0.003421303865049025,
          0.003420235652212629,
          0.0034835862342556777,
          0.003448610841266757,
          0.0033448536129980534,
          0.003223108960567657,
          0.0030637004599635624,
          0.0029417605878556178,
          0.0028110191952453616,
          0.002647591215405753,
          0.002483024664420744,
          0.0023436467996437657,
          0.002169543047656403,
          0.0019944823303197144,
          0.0017986031627385485,
          0.0016191363587761774,
          0.0015032590185754273,
          null
         ],
         "yaxis": "y2"
        },
        {
         "hovertemplate": "Emission Type=Nitrogen oxides (NOx)<br>Sources=Road traffic, passenger cars<br>Year=%{x}<br>e/km=%{y}<extra></extra>",
         "legendgroup": "Nitrogen oxides (NOx)",
         "line": {
          "color": "#00cc96",
          "dash": "solid"
         },
         "marker": {
          "symbol": "circle"
         },
         "mode": "lines",
         "name": "Nitrogen oxides (NOx)",
         "orientation": "v",
         "showlegend": false,
         "type": "scatter",
         "x": [
          1990,
          1991,
          1992,
          1993,
          1994,
          1995,
          1996,
          1997,
          1998,
          1999,
          2000,
          2001,
          2002,
          2003,
          2004,
          2005,
          2006,
          2007,
          2008,
          2009,
          2010,
          2011,
          2012,
          2013,
          2014,
          2015,
          2016,
          2017,
          2018,
          2019,
          2020,
          2021
         ],
         "xaxis": "x",
         "y": [
          0.001742985916869221,
          0.0016066236262382337,
          0.0014404556519273036,
          0.0013083866025042495,
          0.0011803909605050103,
          0.0010837532084798935,
          0.0010087416474553264,
          0.0009111121298248831,
          0.0008272615177670665,
          0.0007572402320330982,
          0.0006759801712483101,
          0.0006099967325392413,
          0.0005516642390669705,
          0.0005081389487990983,
          0.0004692820385051416,
          0.0004351561989658759,
          0.0004070935807612949,
          0.00038251430270870996,
          0.000362468419815467,
          0.0003388695155348031,
          0.00032548901547881093,
          0.00031955274271439174,
          0.00031128148088528066,
          0.0002993861131350086,
          0.00028640557150447785,
          0.0002873757361624301,
          0.0002683177959689197,
          0.00026804704776469876,
          0.0002500999040377542,
          0.00023284722322891146,
          0.00021153925024445735,
          null
         ],
         "yaxis": "y"
        },
        {
         "hovertemplate": "Emission Type=PM10 (Particulate matter)<br>Sources=Road traffic, freight vehicles<br>Year=%{x}<br>e/km=%{y}<extra></extra>",
         "legendgroup": "PM10 (Particulate matter)",
         "line": {
          "color": "#ab63fa",
          "dash": "solid"
         },
         "marker": {
          "symbol": "circle"
         },
         "mode": "lines",
         "name": "PM10 (Particulate matter)",
         "orientation": "v",
         "showlegend": true,
         "type": "scatter",
         "x": [
          1990,
          1991,
          1992,
          1993,
          1994,
          1995,
          1996,
          1997,
          1998,
          1999,
          2000,
          2001,
          2002,
          2003,
          2004,
          2005,
          2006,
          2007,
          2008,
          2009,
          2010,
          2011,
          2012,
          2013,
          2014,
          2015,
          2016,
          2017,
          2018,
          2019,
          2020,
          2021
         ],
         "xaxis": "x2",
         "y": [
          0.0006498301580268793,
          0.0006196477059110213,
          0.0005623003194888178,
          0.0005008447984552257,
          0.00045653871568450774,
          0.00041402969184361506,
          0.00037187681580476466,
          0.0003263996459393671,
          0.0002918186555497655,
          0.0002680067001675042,
          0.00024416711882799784,
          0.00022617545996259406,
          0.00020676821283341373,
          0.00019051489826504432,
          0.00018028427552354144,
          0.0001699998785715153,
          0.00016116235247446196,
          0.00014976361634609156,
          0.00013903785802248442,
          0.0001258392667224148,
          0.00011437815050530633,
          0.00010757493007629545,
          9.722322028668169e-05,
          8.723529540051906e-05,
          8.291295013004241e-05,
          7.670116798834143e-05,
          7.354383212394588e-05,
          6.767704514058911e-05,
          6.228928702124843e-05,
          5.7280767409534574e-05,
          5.872105541310262e-05,
          null
         ],
         "yaxis": "y2"
        },
        {
         "hovertemplate": "Emission Type=PM10 (Particulate matter)<br>Sources=Road traffic, passenger cars<br>Year=%{x}<br>e/km=%{y}<extra></extra>",
         "legendgroup": "PM10 (Particulate matter)",
         "line": {
          "color": "#ab63fa",
          "dash": "solid"
         },
         "marker": {
          "symbol": "circle"
         },
         "mode": "lines",
         "name": "PM10 (Particulate matter)",
         "orientation": "v",
         "showlegend": false,
         "type": "scatter",
         "x": [
          1990,
          1991,
          1992,
          1993,
          1994,
          1995,
          1996,
          1997,
          1998,
          1999,
          2000,
          2001,
          2002,
          2003,
          2004,
          2005,
          2006,
          2007,
          2008,
          2009,
          2010,
          2011,
          2012,
          2013,
          2014,
          2015,
          2016,
          2017,
          2018,
          2019,
          2020,
          2021
         ],
         "xaxis": "x",
         "y": [
          8.427892660404783e-05,
          7.638854664629639e-05,
          7.090019615720937e-05,
          6.583830113241878e-05,
          6.2187595334757e-05,
          5.941629432455557e-05,
          5.617122862860286e-05,
          5.2718437700559275e-05,
          5.0442775473601616e-05,
          4.861028593650417e-05,
          4.721131354750102e-05,
          4.455628307243154e-05,
          4.1556628178302866e-05,
          4.0035189905383504e-05,
          3.802285173389207e-05,
          3.718424794858524e-05,
          3.5832197817620085e-05,
          3.424041072840115e-05,
          3.259252821228995e-05,
          3.053765983017121e-05,
          2.9323334727820806e-05,
          2.8167263035615075e-05,
          2.6182554466986225e-05,
          2.422217743810749e-05,
          2.3143884566018413e-05,
          2.2837806847345438e-05,
          2.1354011443893263e-05,
          2.1113294858178326e-05,
          2.084165866981285e-05,
          1.99324471246539e-05,
          1.9427074002042e-05,
          null
         ],
         "yaxis": "y"
        }
       ],
       "layout": {
        "annotations": [
         {
          "font": {},
          "showarrow": false,
          "text": "Sources=Road traffic, passenger cars",
          "textangle": 90,
          "x": 0.98,
          "xanchor": "left",
          "xref": "paper",
          "y": 0.2425,
          "yanchor": "middle",
          "yref": "paper"
         },
         {
          "font": {},
          "showarrow": false,
          "text": "Sources=Road traffic, freight vehicles",
          "textangle": 90,
          "x": 0.98,
          "xanchor": "left",
          "xref": "paper",
          "y": 0.7575000000000001,
          "yanchor": "middle",
          "yref": "paper"
         }
        ],
        "autosize": true,
        "legend": {
         "title": {
          "text": "Emission Type"
         },
         "tracegroupgap": 0
        },
        "margin": {
         "t": 60
        },
        "template": {
         "data": {
          "bar": [
           {
            "error_x": {
             "color": "#2a3f5f"
            },
            "error_y": {
             "color": "#2a3f5f"
            },
            "marker": {
             "line": {
              "color": "#E5ECF6",
              "width": 0.5
             },
             "pattern": {
              "fillmode": "overlay",
              "size": 10,
              "solidity": 0.2
             }
            },
            "type": "bar"
           }
          ],
          "barpolar": [
           {
            "marker": {
             "line": {
              "color": "#E5ECF6",
              "width": 0.5
             },
             "pattern": {
              "fillmode": "overlay",
              "size": 10,
              "solidity": 0.2
             }
            },
            "type": "barpolar"
           }
          ],
          "carpet": [
           {
            "aaxis": {
             "endlinecolor": "#2a3f5f",
             "gridcolor": "white",
             "linecolor": "white",
             "minorgridcolor": "white",
             "startlinecolor": "#2a3f5f"
            },
            "baxis": {
             "endlinecolor": "#2a3f5f",
             "gridcolor": "white",
             "linecolor": "white",
             "minorgridcolor": "white",
             "startlinecolor": "#2a3f5f"
            },
            "type": "carpet"
           }
          ],
          "choropleth": [
           {
            "colorbar": {
             "outlinewidth": 0,
             "ticks": ""
            },
            "type": "choropleth"
           }
          ],
          "contour": [
           {
            "colorbar": {
             "outlinewidth": 0,
             "ticks": ""
            },
            "colorscale": [
             [
              0,
              "#0d0887"
             ],
             [
              0.1111111111111111,
              "#46039f"
             ],
             [
              0.2222222222222222,
              "#7201a8"
             ],
             [
              0.3333333333333333,
              "#9c179e"
             ],
             [
              0.4444444444444444,
              "#bd3786"
             ],
             [
              0.5555555555555556,
              "#d8576b"
             ],
             [
              0.6666666666666666,
              "#ed7953"
             ],
             [
              0.7777777777777778,
              "#fb9f3a"
             ],
             [
              0.8888888888888888,
              "#fdca26"
             ],
             [
              1,
              "#f0f921"
             ]
            ],
            "type": "contour"
           }
          ],
          "contourcarpet": [
           {
            "colorbar": {
             "outlinewidth": 0,
             "ticks": ""
            },
            "type": "contourcarpet"
           }
          ],
          "heatmap": [
           {
            "colorbar": {
             "outlinewidth": 0,
             "ticks": ""
            },
            "colorscale": [
             [
              0,
              "#0d0887"
             ],
             [
              0.1111111111111111,
              "#46039f"
             ],
             [
              0.2222222222222222,
              "#7201a8"
             ],
             [
              0.3333333333333333,
              "#9c179e"
             ],
             [
              0.4444444444444444,
              "#bd3786"
             ],
             [
              0.5555555555555556,
              "#d8576b"
             ],
             [
              0.6666666666666666,
              "#ed7953"
             ],
             [
              0.7777777777777778,
              "#fb9f3a"
             ],
             [
              0.8888888888888888,
              "#fdca26"
             ],
             [
              1,
              "#f0f921"
             ]
            ],
            "type": "heatmap"
           }
          ],
          "heatmapgl": [
           {
            "colorbar": {
             "outlinewidth": 0,
             "ticks": ""
            },
            "colorscale": [
             [
              0,
              "#0d0887"
             ],
             [
              0.1111111111111111,
              "#46039f"
             ],
             [
              0.2222222222222222,
              "#7201a8"
             ],
             [
              0.3333333333333333,
              "#9c179e"
             ],
             [
              0.4444444444444444,
              "#bd3786"
             ],
             [
              0.5555555555555556,
              "#d8576b"
             ],
             [
              0.6666666666666666,
              "#ed7953"
             ],
             [
              0.7777777777777778,
              "#fb9f3a"
             ],
             [
              0.8888888888888888,
              "#fdca26"
             ],
             [
              1,
              "#f0f921"
             ]
            ],
            "type": "heatmapgl"
           }
          ],
          "histogram": [
           {
            "marker": {
             "pattern": {
              "fillmode": "overlay",
              "size": 10,
              "solidity": 0.2
             }
            },
            "type": "histogram"
           }
          ],
          "histogram2d": [
           {
            "colorbar": {
             "outlinewidth": 0,
             "ticks": ""
            },
            "colorscale": [
             [
              0,
              "#0d0887"
             ],
             [
              0.1111111111111111,
              "#46039f"
             ],
             [
              0.2222222222222222,
              "#7201a8"
             ],
             [
              0.3333333333333333,
              "#9c179e"
             ],
             [
              0.4444444444444444,
              "#bd3786"
             ],
             [
              0.5555555555555556,
              "#d8576b"
             ],
             [
              0.6666666666666666,
              "#ed7953"
             ],
             [
              0.7777777777777778,
              "#fb9f3a"
             ],
             [
              0.8888888888888888,
              "#fdca26"
             ],
             [
              1,
              "#f0f921"
             ]
            ],
            "type": "histogram2d"
           }
          ],
          "histogram2dcontour": [
           {
            "colorbar": {
             "outlinewidth": 0,
             "ticks": ""
            },
            "colorscale": [
             [
              0,
              "#0d0887"
             ],
             [
              0.1111111111111111,
              "#46039f"
             ],
             [
              0.2222222222222222,
              "#7201a8"
             ],
             [
              0.3333333333333333,
              "#9c179e"
             ],
             [
              0.4444444444444444,
              "#bd3786"
             ],
             [
              0.5555555555555556,
              "#d8576b"
             ],
             [
              0.6666666666666666,
              "#ed7953"
             ],
             [
              0.7777777777777778,
              "#fb9f3a"
             ],
             [
              0.8888888888888888,
              "#fdca26"
             ],
             [
              1,
              "#f0f921"
             ]
            ],
            "type": "histogram2dcontour"
           }
          ],
          "mesh3d": [
           {
            "colorbar": {
             "outlinewidth": 0,
             "ticks": ""
            },
            "type": "mesh3d"
           }
          ],
          "parcoords": [
           {
            "line": {
             "colorbar": {
              "outlinewidth": 0,
              "ticks": ""
             }
            },
            "type": "parcoords"
           }
          ],
          "pie": [
           {
            "automargin": true,
            "type": "pie"
           }
          ],
          "scatter": [
           {
            "fillpattern": {
             "fillmode": "overlay",
             "size": 10,
             "solidity": 0.2
            },
            "type": "scatter"
           }
          ],
          "scatter3d": [
           {
            "line": {
             "colorbar": {
              "outlinewidth": 0,
              "ticks": ""
             }
            },
            "marker": {
             "colorbar": {
              "outlinewidth": 0,
              "ticks": ""
             }
            },
            "type": "scatter3d"
           }
          ],
          "scattercarpet": [
           {
            "marker": {
             "colorbar": {
              "outlinewidth": 0,
              "ticks": ""
             }
            },
            "type": "scattercarpet"
           }
          ],
          "scattergeo": [
           {
            "marker": {
             "colorbar": {
              "outlinewidth": 0,
              "ticks": ""
             }
            },
            "type": "scattergeo"
           }
          ],
          "scattergl": [
           {
            "marker": {
             "colorbar": {
              "outlinewidth": 0,
              "ticks": ""
             }
            },
            "type": "scattergl"
           }
          ],
          "scattermapbox": [
           {
            "marker": {
             "colorbar": {
              "outlinewidth": 0,
              "ticks": ""
             }
            },
            "type": "scattermapbox"
           }
          ],
          "scatterpolar": [
           {
            "marker": {
             "colorbar": {
              "outlinewidth": 0,
              "ticks": ""
             }
            },
            "type": "scatterpolar"
           }
          ],
          "scatterpolargl": [
           {
            "marker": {
             "colorbar": {
              "outlinewidth": 0,
              "ticks": ""
             }
            },
            "type": "scatterpolargl"
           }
          ],
          "scatterternary": [
           {
            "marker": {
             "colorbar": {
              "outlinewidth": 0,
              "ticks": ""
             }
            },
            "type": "scatterternary"
           }
          ],
          "surface": [
           {
            "colorbar": {
             "outlinewidth": 0,
             "ticks": ""
            },
            "colorscale": [
             [
              0,
              "#0d0887"
             ],
             [
              0.1111111111111111,
              "#46039f"
             ],
             [
              0.2222222222222222,
              "#7201a8"
             ],
             [
              0.3333333333333333,
              "#9c179e"
             ],
             [
              0.4444444444444444,
              "#bd3786"
             ],
             [
              0.5555555555555556,
              "#d8576b"
             ],
             [
              0.6666666666666666,
              "#ed7953"
             ],
             [
              0.7777777777777778,
              "#fb9f3a"
             ],
             [
              0.8888888888888888,
              "#fdca26"
             ],
             [
              1,
              "#f0f921"
             ]
            ],
            "type": "surface"
           }
          ],
          "table": [
           {
            "cells": {
             "fill": {
              "color": "#EBF0F8"
             },
             "line": {
              "color": "white"
             }
            },
            "header": {
             "fill": {
              "color": "#C8D4E3"
             },
             "line": {
              "color": "white"
             }
            },
            "type": "table"
           }
          ]
         },
         "layout": {
          "annotationdefaults": {
           "arrowcolor": "#2a3f5f",
           "arrowhead": 0,
           "arrowwidth": 1
          },
          "autotypenumbers": "strict",
          "coloraxis": {
           "colorbar": {
            "outlinewidth": 0,
            "ticks": ""
           }
          },
          "colorscale": {
           "diverging": [
            [
             0,
             "#8e0152"
            ],
            [
             0.1,
             "#c51b7d"
            ],
            [
             0.2,
             "#de77ae"
            ],
            [
             0.3,
             "#f1b6da"
            ],
            [
             0.4,
             "#fde0ef"
            ],
            [
             0.5,
             "#f7f7f7"
            ],
            [
             0.6,
             "#e6f5d0"
            ],
            [
             0.7,
             "#b8e186"
            ],
            [
             0.8,
             "#7fbc41"
            ],
            [
             0.9,
             "#4d9221"
            ],
            [
             1,
             "#276419"
            ]
           ],
           "sequential": [
            [
             0,
             "#0d0887"
            ],
            [
             0.1111111111111111,
             "#46039f"
            ],
            [
             0.2222222222222222,
             "#7201a8"
            ],
            [
             0.3333333333333333,
             "#9c179e"
            ],
            [
             0.4444444444444444,
             "#bd3786"
            ],
            [
             0.5555555555555556,
             "#d8576b"
            ],
            [
             0.6666666666666666,
             "#ed7953"
            ],
            [
             0.7777777777777778,
             "#fb9f3a"
            ],
            [
             0.8888888888888888,
             "#fdca26"
            ],
            [
             1,
             "#f0f921"
            ]
           ],
           "sequentialminus": [
            [
             0,
             "#0d0887"
            ],
            [
             0.1111111111111111,
             "#46039f"
            ],
            [
             0.2222222222222222,
             "#7201a8"
            ],
            [
             0.3333333333333333,
             "#9c179e"
            ],
            [
             0.4444444444444444,
             "#bd3786"
            ],
            [
             0.5555555555555556,
             "#d8576b"
            ],
            [
             0.6666666666666666,
             "#ed7953"
            ],
            [
             0.7777777777777778,
             "#fb9f3a"
            ],
            [
             0.8888888888888888,
             "#fdca26"
            ],
            [
             1,
             "#f0f921"
            ]
           ]
          },
          "colorway": [
           "#636efa",
           "#EF553B",
           "#00cc96",
           "#ab63fa",
           "#FFA15A",
           "#19d3f3",
           "#FF6692",
           "#B6E880",
           "#FF97FF",
           "#FECB52"
          ],
          "font": {
           "color": "#2a3f5f"
          },
          "geo": {
           "bgcolor": "white",
           "lakecolor": "white",
           "landcolor": "#E5ECF6",
           "showlakes": true,
           "showland": true,
           "subunitcolor": "white"
          },
          "hoverlabel": {
           "align": "left"
          },
          "hovermode": "closest",
          "mapbox": {
           "style": "light"
          },
          "paper_bgcolor": "white",
          "plot_bgcolor": "#E5ECF6",
          "polar": {
           "angularaxis": {
            "gridcolor": "white",
            "linecolor": "white",
            "ticks": ""
           },
           "bgcolor": "#E5ECF6",
           "radialaxis": {
            "gridcolor": "white",
            "linecolor": "white",
            "ticks": ""
           }
          },
          "scene": {
           "xaxis": {
            "backgroundcolor": "#E5ECF6",
            "gridcolor": "white",
            "gridwidth": 2,
            "linecolor": "white",
            "showbackground": true,
            "ticks": "",
            "zerolinecolor": "white"
           },
           "yaxis": {
            "backgroundcolor": "#E5ECF6",
            "gridcolor": "white",
            "gridwidth": 2,
            "linecolor": "white",
            "showbackground": true,
            "ticks": "",
            "zerolinecolor": "white"
           },
           "zaxis": {
            "backgroundcolor": "#E5ECF6",
            "gridcolor": "white",
            "gridwidth": 2,
            "linecolor": "white",
            "showbackground": true,
            "ticks": "",
            "zerolinecolor": "white"
           }
          },
          "shapedefaults": {
           "line": {
            "color": "#2a3f5f"
           }
          },
          "ternary": {
           "aaxis": {
            "gridcolor": "white",
            "linecolor": "white",
            "ticks": ""
           },
           "baxis": {
            "gridcolor": "white",
            "linecolor": "white",
            "ticks": ""
           },
           "bgcolor": "#E5ECF6",
           "caxis": {
            "gridcolor": "white",
            "linecolor": "white",
            "ticks": ""
           }
          },
          "title": {
           "x": 0.05
          },
          "xaxis": {
           "automargin": true,
           "gridcolor": "white",
           "linecolor": "white",
           "ticks": "",
           "title": {
            "standoff": 15
           },
           "zerolinecolor": "white",
           "zerolinewidth": 2
          },
          "yaxis": {
           "automargin": true,
           "gridcolor": "white",
           "linecolor": "white",
           "ticks": "",
           "title": {
            "standoff": 15
           },
           "zerolinecolor": "white",
           "zerolinewidth": 2
          }
         }
        },
        "xaxis": {
         "anchor": "y",
         "autorange": true,
         "domain": [
          0,
          0.98
         ],
         "range": [
          1990,
          2021
         ],
         "title": {
          "text": "Year"
         },
         "type": "linear"
        },
        "xaxis2": {
         "anchor": "y2",
         "autorange": true,
         "domain": [
          0,
          0.98
         ],
         "matches": "x",
         "range": [
          1990,
          2021
         ],
         "showticklabels": false,
         "type": "linear"
        },
        "yaxis": {
         "anchor": "x",
         "autorange": true,
         "domain": [
          0,
          0.485
         ],
         "range": [
          -4.9594105715144785,
          -0.0030512511630424177
         ],
         "title": {
          "text": "e/km"
         },
         "type": "log"
        },
        "yaxis2": {
         "anchor": "x2",
         "autorange": true,
         "domain": [
          0.515,
          1
         ],
         "matches": "y",
         "range": [
          -4.9594105715144785,
          -0.0030512511630424177
         ],
         "title": {
          "text": "e/km"
         },
         "type": "log"
        }
       }
      },
      "image/png": "[encoded data removed]",
      "text/html": [
       "<div>                            <div id=\"14a57c2e-9e45-44e5-8f31-6e845dc7970a\" class=\"plotly-graph-div\" style=\"height:600px; width:100%;\"></div>            <script type=\"text/javascript\">                require([\"plotly\"], function(Plotly) {                    window.PLOTLYENV=window.PLOTLYENV || {};                                    if (document.getElementById(\"14a57c2e-9e45-44e5-8f31-6e845dc7970a\")) {                    Plotly.newPlot(                        \"14a57c2e-9e45-44e5-8f31-6e845dc7970a\",                        [{\"hovertemplate\":\"Emission Type=Carbon dioxide (CO2)<br>Sources=Road traffic, freight vehicles<br>Year=%{x}<br>e/km=%{y}<extra></extra>\",\"legendgroup\":\"Carbon dioxide (CO2)\",\"line\":{\"color\":\"#636efa\",\"dash\":\"solid\"},\"marker\":{\"symbol\":\"circle\"},\"mode\":\"lines\",\"name\":\"Carbon dioxide (CO2)\",\"orientation\":\"v\",\"showlegend\":true,\"x\":[1990,1991,1992,1993,1994,1995,1996,1997,1998,1999,2000,2001,2002,2003,2004,2005,2006,2007,2008,2009,2010,2011,2012,2013,2014,2015,2016,2017,2018,2019,2020,2021],\"xaxis\":\"x2\",\"y\":[0.5612169546595777,0.55002436816821,0.536741214057508,0.5129133478155926,0.5106025109629363,0.5086650499792985,0.4997094712376525,0.4868333702146493,0.47420531526836895,0.46901172529313234,0.43859649122807015,0.42625375146796574,0.42215176786821973,0.4191327761830975,0.41383435972449284,0.4128568479593943,0.4215015372409005,0.41690952658506575,0.42108608429666705,0.42217044319777874,0.42483313044828064,0.41788722837330156,0.4184825568861516,0.4143676531524655,0.41020091116968355,0.4175952479365255,0.41674838203569325,0.4140242761541922,0.41266652651577085,0.40860280752134664,0.41496212491925855,null],\"yaxis\":\"y2\",\"type\":\"scatter\"},{\"hovertemplate\":\"Emission Type=Carbon dioxide (CO2)<br>Sources=Road traffic, passenger cars<br>Year=%{x}<br>e/km=%{y}<extra></extra>\",\"legendgroup\":\"Carbon dioxide (CO2)\",\"line\":{\"color\":\"#636efa\",\"dash\":\"solid\"},\"marker\":{\"symbol\":\"circle\"},\"mode\":\"lines\",\"name\":\"Carbon dioxide (CO2)\",\"orientation\":\"v\",\"showlegend\":false,\"x\":[1990,1991,1992,1993,1994,1995,1996,1997,1998,1999,2000,2001,2002,2003,2004,2005,2006,2007,2008,2009,2010,2011,2012,2013,2014,2015,2016,2017,2018,2019,2020,2021],\"xaxis\":\"x\",\"y\":[0.18932222642938282,0.1897392932827362,0.1902488596885118,0.19033254327371973,0.19125618942576209,0.19132046772506892,0.19074813055129722,0.19139084991289998,0.1905615962336061,0.19120045801691637,0.19099122298761775,0.19095549888184946,0.1911604896201932,0.1909370595487521,0.19111486003087855,0.18893617876578447,0.18712369971423823,0.18196332558521752,0.18074038372269882,0.17830052997616092,0.17594000836692483,0.1738600028750034,0.17067146615516945,0.16858635496922814,0.1658645060564653,0.16462252435794836,0.16340460930979192,0.16248057347380712,0.16129631492289945,0.1594595769972312,0.15757515579434067,null],\"yaxis\":\"y\",\"type\":\"scatter\"},{\"hovertemplate\":\"Emission Type=Carbon monoxide (CO)<br>Sources=Road traffic, freight vehicles<br>Year=%{x}<br>e/km=%{y}<extra></extra>\",\"legendgroup\":\"Carbon monoxide (CO)\",\"line\":{\"color\":\"#EF553B\",\"dash\":\"solid\"},\"marker\":{\"symbol\":\"circle\"},\"mode\":\"lines\",\"name\":\"Carbon monoxide (CO)\",\"orientation\":\"v\",\"showlegend\":true,\"x\":[1990,1991,1992,1993,1994,1995,1996,1997,1998,1999,2000,2001,2002,2003,2004,2005,2006,2007,2008,2009,2010,2011,2012,2013,2014,2015,2016,2017,2018,2019,2020,2021],\"xaxis\":\"x2\",\"y\":[0.005065721459164082,0.004609064958574114,0.004153354632587859,0.003759353125754284,0.0033940049258124588,0.002998757910924469,0.0025973271353864034,0.0022018145607435274,0.0018655549765502866,0.001588896865278775,0.0013610056068005065,0.0012048192771084338,0.0010984561306775105,0.0010033784641959001,0.0009464924464985926,0.000890475554422223,0.000884326754603458,0.0008702480409299916,0.0008580622095101895,0.0008565188799493395,0.0008292415911634709,0.0008026744782615892,0.00077355866575925,0.0007240529518243082,0.0006720312800013964,0.0006093481679073791,0.0006128652676995489,0.0006130744089206308,0.00042434576783225493,0.0003704156292483236,0.0003405821213959952,null],\"yaxis\":\"y2\",\"type\":\"scatter\"},{\"hovertemplate\":\"Emission Type=Carbon monoxide (CO)<br>Sources=Road traffic, passenger cars<br>Year=%{x}<br>e/km=%{y}<extra></extra>\",\"legendgroup\":\"Carbon monoxide (CO)\",\"line\":{\"color\":\"#EF553B\",\"dash\":\"solid\"},\"marker\":{\"symbol\":\"circle\"},\"mode\":\"lines\",\"name\":\"Carbon monoxide (CO)\",\"orientation\":\"v\",\"showlegend\":false,\"x\":[1990,1991,1992,1993,1994,1995,1996,1997,1998,1999,2000,2001,2002,2003,2004,2005,2006,2007,2008,2009,2010,2011,2012,2013,2014,2015,2016,2017,2018,2019,2020,2021],\"xaxis\":\"x\",\"y\":[0.007240659085634718,0.006192400571682026,0.005617658875522889,0.0051114462879168765,0.004672283106094384,0.004509696739233768,0.00426550267398453,0.003924085449711194,0.003629637932967156,0.003414602529895326,0.0032554346659799567,0.0032313913866339637,0.0032175219367050994,0.00321410716907066,0.003150893687105951,0.0030933274374525775,0.0030377741038715694,0.003015112738998067,0.0029629571102081772,0.0028991075122643184,0.0028336115791984173,0.002751650213099914,0.0026366802072494643,0.0025462352922938597,0.002405999666342331,0.00234753622885005,0.002198534743440837,0.002181095155783987,0.0020071423458102376,0.001870025948422075,0.0017926872176328758,null],\"yaxis\":\"y\",\"type\":\"scatter\"},{\"hovertemplate\":\"Emission Type=Nitrogen oxides (NOx)<br>Sources=Road traffic, freight vehicles<br>Year=%{x}<br>e/km=%{y}<extra></extra>\",\"legendgroup\":\"Nitrogen oxides (NOx)\",\"line\":{\"color\":\"#00cc96\",\"dash\":\"solid\"},\"marker\":{\"symbol\":\"circle\"},\"mode\":\"lines\",\"name\":\"Nitrogen oxides (NOx)\",\"orientation\":\"v\",\"showlegend\":true,\"x\":[1990,1991,1992,1993,1994,1995,1996,1997,1998,1999,2000,2001,2002,2003,2004,2005,2006,2007,2008,2009,2010,2011,2012,2013,2014,2015,2016,2017,2018,2019,2020,2021],\"xaxis\":\"x2\",\"y\":[0.007724117560183134,0.007533245143772192,0.007035143769968051,0.006354091238233164,0.00594101039226287,0.005624889099189684,0.005188843695525857,0.004774286346536844,0.00440333507034914,0.0041923905240488155,0.003906673901247965,0.0037057979209255795,0.003601213040181956,0.003505474128076816,0.003421303865049025,0.003420235652212629,0.0034835862342556777,0.003448610841266757,0.0033448536129980534,0.003223108960567657,0.0030637004599635624,0.0029417605878556178,0.0028110191952453616,0.002647591215405753,0.002483024664420744,0.0023436467996437657,0.002169543047656403,0.0019944823303197144,0.0017986031627385485,0.0016191363587761774,0.0015032590185754273,null],\"yaxis\":\"y2\",\"type\":\"scatter\"},{\"hovertemplate\":\"Emission Type=Nitrogen oxides (NOx)<br>Sources=Road traffic, passenger cars<br>Year=%{x}<br>e/km=%{y}<extra></extra>\",\"legendgroup\":\"Nitrogen oxides (NOx)\",\"line\":{\"color\":\"#00cc96\",\"dash\":\"solid\"},\"marker\":{\"symbol\":\"circle\"},\"mode\":\"lines\",\"name\":\"Nitrogen oxides (NOx)\",\"orientation\":\"v\",\"showlegend\":false,\"x\":[1990,1991,1992,1993,1994,1995,1996,1997,1998,1999,2000,2001,2002,2003,2004,2005,2006,2007,2008,2009,2010,2011,2012,2013,2014,2015,2016,2017,2018,2019,2020,2021],\"xaxis\":\"x\",\"y\":[0.001742985916869221,0.0016066236262382337,0.0014404556519273036,0.0013083866025042495,0.0011803909605050103,0.0010837532084798935,0.0010087416474553264,0.0009111121298248831,0.0008272615177670665,0.0007572402320330982,0.0006759801712483101,0.0006099967325392413,0.0005516642390669705,0.0005081389487990983,0.0004692820385051416,0.0004351561989658759,0.0004070935807612949,0.00038251430270870996,0.000362468419815467,0.0003388695155348031,0.00032548901547881093,0.00031955274271439174,0.00031128148088528066,0.0002993861131350086,0.00028640557150447785,0.0002873757361624301,0.0002683177959689197,0.00026804704776469876,0.0002500999040377542,0.00023284722322891146,0.00021153925024445735,null],\"yaxis\":\"y\",\"type\":\"scatter\"},{\"hovertemplate\":\"Emission Type=PM10 (Particulate matter)<br>Sources=Road traffic, freight vehicles<br>Year=%{x}<br>e/km=%{y}<extra></extra>\",\"legendgroup\":\"PM10 (Particulate matter)\",\"line\":{\"color\":\"#ab63fa\",\"dash\":\"solid\"},\"marker\":{\"symbol\":\"circle\"},\"mode\":\"lines\",\"name\":\"PM10 (Particulate matter)\",\"orientation\":\"v\",\"showlegend\":true,\"x\":[1990,1991,1992,1993,1994,1995,1996,1997,1998,1999,2000,2001,2002,2003,2004,2005,2006,2007,2008,2009,2010,2011,2012,2013,2014,2015,2016,2017,2018,2019,2020,2021],\"xaxis\":\"x2\",\"y\":[0.0006498301580268793,0.0006196477059110213,0.0005623003194888178,0.0005008447984552257,0.00045653871568450774,0.00041402969184361506,0.00037187681580476466,0.0003263996459393671,0.0002918186555497655,0.0002680067001675042,0.00024416711882799784,0.00022617545996259406,0.00020676821283341373,0.00019051489826504432,0.00018028427552354144,0.0001699998785715153,0.00016116235247446196,0.00014976361634609156,0.00013903785802248442,0.0001258392667224148,0.00011437815050530633,0.00010757493007629545,9.722322028668169e-05,8.723529540051906e-05,8.291295013004241e-05,7.670116798834143e-05,7.354383212394588e-05,6.767704514058911e-05,6.228928702124843e-05,5.7280767409534574e-05,5.872105541310262e-05,null],\"yaxis\":\"y2\",\"type\":\"scatter\"},{\"hovertemplate\":\"Emission Type=PM10 (Particulate matter)<br>Sources=Road traffic, passenger cars<br>Year=%{x}<br>e/km=%{y}<extra></extra>\",\"legendgroup\":\"PM10 (Particulate matter)\",\"line\":{\"color\":\"#ab63fa\",\"dash\":\"solid\"},\"marker\":{\"symbol\":\"circle\"},\"mode\":\"lines\",\"name\":\"PM10 (Particulate matter)\",\"orientation\":\"v\",\"showlegend\":false,\"x\":[1990,1991,1992,1993,1994,1995,1996,1997,1998,1999,2000,2001,2002,2003,2004,2005,2006,2007,2008,2009,2010,2011,2012,2013,2014,2015,2016,2017,2018,2019,2020,2021],\"xaxis\":\"x\",\"y\":[8.427892660404783e-05,7.638854664629639e-05,7.090019615720937e-05,6.583830113241878e-05,6.2187595334757e-05,5.941629432455557e-05,5.617122862860286e-05,5.2718437700559275e-05,5.0442775473601616e-05,4.861028593650417e-05,4.721131354750102e-05,4.455628307243154e-05,4.1556628178302866e-05,4.0035189905383504e-05,3.802285173389207e-05,3.718424794858524e-05,3.5832197817620085e-05,3.424041072840115e-05,3.259252821228995e-05,3.053765983017121e-05,2.9323334727820806e-05,2.8167263035615075e-05,2.6182554466986225e-05,2.422217743810749e-05,2.3143884566018413e-05,2.2837806847345438e-05,2.1354011443893263e-05,2.1113294858178326e-05,2.084165866981285e-05,1.99324471246539e-05,1.9427074002042e-05,null],\"yaxis\":\"y\",\"type\":\"scatter\"}],                        {\"template\":{\"data\":{\"histogram2dcontour\":[{\"type\":\"histogram2dcontour\",\"colorbar\":{\"outlinewidth\":0,\"ticks\":\"\"},\"colorscale\":[[0.0,\"#0d0887\"],[0.1111111111111111,\"#46039f\"],[0.2222222222222222,\"#7201a8\"],[0.3333333333333333,\"#9c179e\"],[0.4444444444444444,\"#bd3786\"],[0.5555555555555556,\"#d8576b\"],[0.6666666666666666,\"#ed7953\"],[0.7777777777777778,\"#fb9f3a\"],[0.8888888888888888,\"#fdca26\"],[1.0,\"#f0f921\"]]}],\"choropleth\":[{\"type\":\"choropleth\",\"colorbar\":{\"outlinewidth\":0,\"ticks\":\"\"}}],\"histogram2d\":[{\"type\":\"histogram2d\",\"colorbar\":{\"outlinewidth\":0,\"ticks\":\"\"},\"colorscale\":[[0.0,\"#0d0887\"],[0.1111111111111111,\"#46039f\"],[0.2222222222222222,\"#7201a8\"],[0.3333333333333333,\"#9c179e\"],[0.4444444444444444,\"#bd3786\"],[0.5555555555555556,\"#d8576b\"],[0.6666666666666666,\"#ed7953\"],[0.7777777777777778,\"#fb9f3a\"],[0.8888888888888888,\"#fdca26\"],[1.0,\"#f0f921\"]]}],\"heatmap\":[{\"type\":\"heatmap\",\"colorbar\":{\"outlinewidth\":0,\"ticks\":\"\"},\"colorscale\":[[0.0,\"#0d0887\"],[0.1111111111111111,\"#46039f\"],[0.2222222222222222,\"#7201a8\"],[0.3333333333333333,\"#9c179e\"],[0.4444444444444444,\"#bd3786\"],[0.5555555555555556,\"#d8576b\"],[0.6666666666666666,\"#ed7953\"],[0.7777777777777778,\"#fb9f3a\"],[0.8888888888888888,\"#fdca26\"],[1.0,\"#f0f921\"]]}],\"heatmapgl\":[{\"type\":\"heatmapgl\",\"colorbar\":{\"outlinewidth\":0,\"ticks\":\"\"},\"colorscale\":[[0.0,\"#0d0887\"],[0.1111111111111111,\"#46039f\"],[0.2222222222222222,\"#7201a8\"],[0.3333333333333333,\"#9c179e\"],[0.4444444444444444,\"#bd3786\"],[0.5555555555555556,\"#d8576b\"],[0.6666666666666666,\"#ed7953\"],[0.7777777777777778,\"#fb9f3a\"],[0.8888888888888888,\"#fdca26\"],[1.0,\"#f0f921\"]]}],\"contourcarpet\":[{\"type\":\"contourcarpet\",\"colorbar\":{\"outlinewidth\":0,\"ticks\":\"\"}}],\"contour\":[{\"type\":\"contour\",\"colorbar\":{\"outlinewidth\":0,\"ticks\":\"\"},\"colorscale\":[[0.0,\"#0d0887\"],[0.1111111111111111,\"#46039f\"],[0.2222222222222222,\"#7201a8\"],[0.3333333333333333,\"#9c179e\"],[0.4444444444444444,\"#bd3786\"],[0.5555555555555556,\"#d8576b\"],[0.6666666666666666,\"#ed7953\"],[0.7777777777777778,\"#fb9f3a\"],[0.8888888888888888,\"#fdca26\"],[1.0,\"#f0f921\"]]}],\"surface\":[{\"type\":\"surface\",\"colorbar\":{\"outlinewidth\":0,\"ticks\":\"\"},\"colorscale\":[[0.0,\"#0d0887\"],[0.1111111111111111,\"#46039f\"],[0.2222222222222222,\"#7201a8\"],[0.3333333333333333,\"#9c179e\"],[0.4444444444444444,\"#bd3786\"],[0.5555555555555556,\"#d8576b\"],[0.6666666666666666,\"#ed7953\"],[0.7777777777777778,\"#fb9f3a\"],[0.8888888888888888,\"#fdca26\"],[1.0,\"#f0f921\"]]}],\"mesh3d\":[{\"type\":\"mesh3d\",\"colorbar\":{\"outlinewidth\":0,\"ticks\":\"\"}}],\"scatter\":[{\"fillpattern\":{\"fillmode\":\"overlay\",\"size\":10,\"solidity\":0.2},\"type\":\"scatter\"}],\"parcoords\":[{\"type\":\"parcoords\",\"line\":{\"colorbar\":{\"outlinewidth\":0,\"ticks\":\"\"}}}],\"scatterpolargl\":[{\"type\":\"scatterpolargl\",\"marker\":{\"colorbar\":{\"outlinewidth\":0,\"ticks\":\"\"}}}],\"bar\":[{\"error_x\":{\"color\":\"#2a3f5f\"},\"error_y\":{\"color\":\"#2a3f5f\"},\"marker\":{\"line\":{\"color\":\"#E5ECF6\",\"width\":0.5},\"pattern\":{\"fillmode\":\"overlay\",\"size\":10,\"solidity\":0.2}},\"type\":\"bar\"}],\"scattergeo\":[{\"type\":\"scattergeo\",\"marker\":{\"colorbar\":{\"outlinewidth\":0,\"ticks\":\"\"}}}],\"scatterpolar\":[{\"type\":\"scatterpolar\",\"marker\":{\"colorbar\":{\"outlinewidth\":0,\"ticks\":\"\"}}}],\"histogram\":[{\"marker\":{\"pattern\":{\"fillmode\":\"overlay\",\"size\":10,\"solidity\":0.2}},\"type\":\"histogram\"}],\"scattergl\":[{\"type\":\"scattergl\",\"marker\":{\"colorbar\":{\"outlinewidth\":0,\"ticks\":\"\"}}}],\"scatter3d\":[{\"type\":\"scatter3d\",\"line\":{\"colorbar\":{\"outlinewidth\":0,\"ticks\":\"\"}},\"marker\":{\"colorbar\":{\"outlinewidth\":0,\"ticks\":\"\"}}}],\"scattermapbox\":[{\"type\":\"scattermapbox\",\"marker\":{\"colorbar\":{\"outlinewidth\":0,\"ticks\":\"\"}}}],\"scatterternary\":[{\"type\":\"scatterternary\",\"marker\":{\"colorbar\":{\"outlinewidth\":0,\"ticks\":\"\"}}}],\"scattercarpet\":[{\"type\":\"scattercarpet\",\"marker\":{\"colorbar\":{\"outlinewidth\":0,\"ticks\":\"\"}}}],\"carpet\":[{\"aaxis\":{\"endlinecolor\":\"#2a3f5f\",\"gridcolor\":\"white\",\"linecolor\":\"white\",\"minorgridcolor\":\"white\",\"startlinecolor\":\"#2a3f5f\"},\"baxis\":{\"endlinecolor\":\"#2a3f5f\",\"gridcolor\":\"white\",\"linecolor\":\"white\",\"minorgridcolor\":\"white\",\"startlinecolor\":\"#2a3f5f\"},\"type\":\"carpet\"}],\"table\":[{\"cells\":{\"fill\":{\"color\":\"#EBF0F8\"},\"line\":{\"color\":\"white\"}},\"header\":{\"fill\":{\"color\":\"#C8D4E3\"},\"line\":{\"color\":\"white\"}},\"type\":\"table\"}],\"barpolar\":[{\"marker\":{\"line\":{\"color\":\"#E5ECF6\",\"width\":0.5},\"pattern\":{\"fillmode\":\"overlay\",\"size\":10,\"solidity\":0.2}},\"type\":\"barpolar\"}],\"pie\":[{\"automargin\":true,\"type\":\"pie\"}]},\"layout\":{\"autotypenumbers\":\"strict\",\"colorway\":[\"#636efa\",\"#EF553B\",\"#00cc96\",\"#ab63fa\",\"#FFA15A\",\"#19d3f3\",\"#FF6692\",\"#B6E880\",\"#FF97FF\",\"#FECB52\"],\"font\":{\"color\":\"#2a3f5f\"},\"hovermode\":\"closest\",\"hoverlabel\":{\"align\":\"left\"},\"paper_bgcolor\":\"white\",\"plot_bgcolor\":\"#E5ECF6\",\"polar\":{\"bgcolor\":\"#E5ECF6\",\"angularaxis\":{\"gridcolor\":\"white\",\"linecolor\":\"white\",\"ticks\":\"\"},\"radialaxis\":{\"gridcolor\":\"white\",\"linecolor\":\"white\",\"ticks\":\"\"}},\"ternary\":{\"bgcolor\":\"#E5ECF6\",\"aaxis\":{\"gridcolor\":\"white\",\"linecolor\":\"white\",\"ticks\":\"\"},\"baxis\":{\"gridcolor\":\"white\",\"linecolor\":\"white\",\"ticks\":\"\"},\"caxis\":{\"gridcolor\":\"white\",\"linecolor\":\"white\",\"ticks\":\"\"}},\"coloraxis\":{\"colorbar\":{\"outlinewidth\":0,\"ticks\":\"\"}},\"colorscale\":{\"sequential\":[[0.0,\"#0d0887\"],[0.1111111111111111,\"#46039f\"],[0.2222222222222222,\"#7201a8\"],[0.3333333333333333,\"#9c179e\"],[0.4444444444444444,\"#bd3786\"],[0.5555555555555556,\"#d8576b\"],[0.6666666666666666,\"#ed7953\"],[0.7777777777777778,\"#fb9f3a\"],[0.8888888888888888,\"#fdca26\"],[1.0,\"#f0f921\"]],\"sequentialminus\":[[0.0,\"#0d0887\"],[0.1111111111111111,\"#46039f\"],[0.2222222222222222,\"#7201a8\"],[0.3333333333333333,\"#9c179e\"],[0.4444444444444444,\"#bd3786\"],[0.5555555555555556,\"#d8576b\"],[0.6666666666666666,\"#ed7953\"],[0.7777777777777778,\"#fb9f3a\"],[0.8888888888888888,\"#fdca26\"],[1.0,\"#f0f921\"]],\"diverging\":[[0,\"#8e0152\"],[0.1,\"#c51b7d\"],[0.2,\"#de77ae\"],[0.3,\"#f1b6da\"],[0.4,\"#fde0ef\"],[0.5,\"#f7f7f7\"],[0.6,\"#e6f5d0\"],[0.7,\"#b8e186\"],[0.8,\"#7fbc41\"],[0.9,\"#4d9221\"],[1,\"#276419\"]]},\"xaxis\":{\"gridcolor\":\"white\",\"linecolor\":\"white\",\"ticks\":\"\",\"title\":{\"standoff\":15},\"zerolinecolor\":\"white\",\"automargin\":true,\"zerolinewidth\":2},\"yaxis\":{\"gridcolor\":\"white\",\"linecolor\":\"white\",\"ticks\":\"\",\"title\":{\"standoff\":15},\"zerolinecolor\":\"white\",\"automargin\":true,\"zerolinewidth\":2},\"scene\":{\"xaxis\":{\"backgroundcolor\":\"#E5ECF6\",\"gridcolor\":\"white\",\"linecolor\":\"white\",\"showbackground\":true,\"ticks\":\"\",\"zerolinecolor\":\"white\",\"gridwidth\":2},\"yaxis\":{\"backgroundcolor\":\"#E5ECF6\",\"gridcolor\":\"white\",\"linecolor\":\"white\",\"showbackground\":true,\"ticks\":\"\",\"zerolinecolor\":\"white\",\"gridwidth\":2},\"zaxis\":{\"backgroundcolor\":\"#E5ECF6\",\"gridcolor\":\"white\",\"linecolor\":\"white\",\"showbackground\":true,\"ticks\":\"\",\"zerolinecolor\":\"white\",\"gridwidth\":2}},\"shapedefaults\":{\"line\":{\"color\":\"#2a3f5f\"}},\"annotationdefaults\":{\"arrowcolor\":\"#2a3f5f\",\"arrowhead\":0,\"arrowwidth\":1},\"geo\":{\"bgcolor\":\"white\",\"landcolor\":\"#E5ECF6\",\"subunitcolor\":\"white\",\"showland\":true,\"showlakes\":true,\"lakecolor\":\"white\"},\"title\":{\"x\":0.05},\"mapbox\":{\"style\":\"light\"}}},\"xaxis\":{\"anchor\":\"y\",\"domain\":[0.0,0.98],\"title\":{\"text\":\"Year\"}},\"yaxis\":{\"anchor\":\"x\",\"domain\":[0.0,0.485],\"title\":{\"text\":\"e/km\"},\"type\":\"log\"},\"xaxis2\":{\"anchor\":\"y2\",\"domain\":[0.0,0.98],\"matches\":\"x\",\"showticklabels\":false},\"yaxis2\":{\"anchor\":\"x2\",\"domain\":[0.515,1.0],\"matches\":\"y\",\"title\":{\"text\":\"e/km\"},\"type\":\"log\"},\"annotations\":[{\"font\":{},\"showarrow\":false,\"text\":\"Sources=Road traffic, passenger cars\",\"textangle\":90,\"x\":0.98,\"xanchor\":\"left\",\"xref\":\"paper\",\"y\":0.2425,\"yanchor\":\"middle\",\"yref\":\"paper\"},{\"font\":{},\"showarrow\":false,\"text\":\"Sources=Road traffic, freight vehicles\",\"textangle\":90,\"x\":0.98,\"xanchor\":\"left\",\"xref\":\"paper\",\"y\":0.7575000000000001,\"yanchor\":\"middle\",\"yref\":\"paper\"}],\"legend\":{\"title\":{\"text\":\"Emission Type\"},\"tracegroupgap\":0},\"margin\":{\"t\":60},\"height\":600},                        {\"responsive\": true}                    ).then(function(){\n",
       "                            \n",
       "var gd = document.getElementById('14a57c2e-9e45-44e5-8f31-6e845dc7970a');\n",
       "var x = new MutationObserver(function (mutations, observer) {{\n",
       "        var display = window.getComputedStyle(gd).display;\n",
       "        if (!display || display === 'none') {{\n",
       "            console.log([gd, 'removed!']);\n",
       "            Plotly.purge(gd);\n",
       "            observer.disconnect();\n",
       "        }}\n",
       "}});\n",
       "\n",
       "// Listen for the removal of the full notebook cells\n",
       "var notebookContainer = gd.closest('#notebook-container');\n",
       "if (notebookContainer) {{\n",
       "    x.observe(notebookContainer, {childList: true});\n",
       "}}\n",
       "\n",
       "// Listen for the clearing of the current output cell\n",
       "var outputEl = gd.closest('.output');\n",
       "if (outputEl) {{\n",
       "    x.observe(outputEl, {childList: true});\n",
       "}}\n",
       "\n",
       "                        })                };                });            </script>        </div>"
      ]
     },
     "metadata": {},
     "output_type": "display_data"
    }
   ],
   "source": [
    "px.line(vehicle_data, x=\"Year\", y=\"e/km\", color=\"Emission Type\", facet_row=\"Sources\", log_y=True, height=600)"
   ]
  },
  {
   "cell_type": "code",
   "execution_count": 11,
   "metadata": {},
   "outputs": [
    {
     "data": {
      "application/vnd.plotly.v1+json": {
       "config": {
        "plotlyServerURL": "https://plot.ly"
       },
       "data": [
        {
         "hovertemplate": "Emission Type=Carbon dioxide (CO2)<br>Sources=Road traffic, freight vehicles<br>Year=%{x}<br>Emission=%{y}<extra></extra>",
         "legendgroup": "Carbon dioxide (CO2)",
         "line": {
          "color": "#636efa",
          "dash": "solid"
         },
         "marker": {
          "symbol": "circle"
         },
         "mode": "lines",
         "name": "Carbon dioxide (CO2)",
         "orientation": "v",
         "showlegend": true,
         "type": "scatter",
         "visible": "legendonly",
         "x": [
          1990,
          1991,
          1992,
          1993,
          1994,
          1995,
          1996,
          1997,
          1998,
          1999,
          2000,
          2001,
          2002,
          2003,
          2004,
          2005,
          2006,
          2007,
          2008,
          2009,
          2010,
          2011,
          2012,
          2013,
          2014,
          2015,
          2016,
          2017,
          2018,
          2019,
          2020,
          2021
         ],
         "xaxis": "x2",
         "y": [
          7600000000,
          7900000000,
          8400000000,
          8500000000,
          8500000000,
          8600000000,
          8600000000,
          8800000000,
          9100000000,
          9800000000,
          9700000000,
          9800000000,
          9800000000,
          9900000000,
          10100000000,
          10200000000,
          10200000000,
          10300000000,
          10600000000,
          10400000000,
          10400000000,
          10100000000,
          9900000000,
          9500000000,
          9400000000,
          9800000000,
          10200000000,
          10400000000,
          10600000000,
          10700000000,
          10600000000,
          11000000000
         ],
         "yaxis": "y2"
        },
        {
         "hovertemplate": "Emission Type=Carbon dioxide (CO2)<br>Sources=Road traffic, passenger cars<br>Year=%{x}<br>Emission=%{y}<extra></extra>",
         "legendgroup": "Carbon dioxide (CO2)",
         "line": {
          "color": "#636efa",
          "dash": "solid"
         },
         "marker": {
          "symbol": "circle"
         },
         "mode": "lines",
         "name": "Carbon dioxide (CO2)",
         "orientation": "v",
         "showlegend": false,
         "type": "scatter",
         "visible": "legendonly",
         "x": [
          1990,
          1991,
          1992,
          1993,
          1994,
          1995,
          1996,
          1997,
          1998,
          1999,
          2000,
          2001,
          2002,
          2003,
          2004,
          2005,
          2006,
          2007,
          2008,
          2009,
          2010,
          2011,
          2012,
          2013,
          2014,
          2015,
          2016,
          2017,
          2018,
          2019,
          2020,
          2021
         ],
         "xaxis": "x",
         "y": [
          15500000000,
          15400000000,
          16100000000,
          15900000000,
          16300000000,
          16100000000,
          16300000000,
          16700000000,
          17000000000,
          17700000000,
          17800000000,
          18000000000,
          18400000000,
          18600000000,
          19100000000,
          18800000000,
          18800000000,
          18600000000,
          18300000000,
          18100000000,
          18000000000,
          17900000000,
          17600000000,
          17400000000,
          17200000000,
          17300000000,
          17600000000,
          17700000000,
          17800000000,
          17600000000,
          14600000000,
          14800000000
         ],
         "yaxis": "y"
        },
        {
         "hovertemplate": "Emission Type=Carbon monoxide (CO)<br>Sources=Road traffic, freight vehicles<br>Year=%{x}<br>Emission=%{y}<extra></extra>",
         "legendgroup": "Carbon monoxide (CO)",
         "line": {
          "color": "#EF553B",
          "dash": "solid"
         },
         "marker": {
          "symbol": "circle"
         },
         "mode": "lines",
         "name": "Carbon monoxide (CO)",
         "orientation": "v",
         "showlegend": true,
         "type": "scatter",
         "visible": true,
         "x": [
          1990,
          1991,
          1992,
          1993,
          1994,
          1995,
          1996,
          1997,
          1998,
          1999,
          2000,
          2001,
          2002,
          2003,
          2004,
          2005,
          2006,
          2007,
          2008,
          2009,
          2010,
          2011,
          2012,
          2013,
          2014,
          2015,
          2016,
          2017,
          2018,
          2019,
          2020,
          2021
         ],
         "xaxis": "x2",
         "y": [
          68600000,
          66200000,
          65000000,
          62300000,
          56500000,
          50700000,
          44700000,
          39800000,
          35800000,
          33200000.000000004,
          30100000,
          27700000,
          25500000,
          23700000,
          23100000,
          22000000,
          21400000,
          21500000,
          21600000,
          21100000,
          20300000,
          19400000,
          18300000,
          16600000.000000002,
          15400000,
          14300000,
          15000000,
          15400000,
          10900000,
          9700000,
          8700000,
          9100000
         ],
         "yaxis": "y2"
        },
        {
         "hovertemplate": "Emission Type=Carbon monoxide (CO)<br>Sources=Road traffic, passenger cars<br>Year=%{x}<br>Emission=%{y}<extra></extra>",
         "legendgroup": "Carbon monoxide (CO)",
         "line": {
          "color": "#EF553B",
          "dash": "solid"
         },
         "marker": {
          "symbol": "circle"
         },
         "mode": "lines",
         "name": "Carbon monoxide (CO)",
         "orientation": "v",
         "showlegend": false,
         "type": "scatter",
         "visible": true,
         "x": [
          1990,
          1991,
          1992,
          1993,
          1994,
          1995,
          1996,
          1997,
          1998,
          1999,
          2000,
          2001,
          2002,
          2003,
          2004,
          2005,
          2006,
          2007,
          2008,
          2009,
          2010,
          2011,
          2012,
          2013,
          2014,
          2015,
          2016,
          2017,
          2018,
          2019,
          2020,
          2021
         ],
         "xaxis": "x",
         "y": [
          592800000,
          502600000,
          475400000,
          427000000,
          398200000,
          379500000,
          364500000,
          342400000,
          323800000,
          316100000,
          303400000,
          304600000,
          309700000,
          313100000,
          314900000,
          307800000,
          305200000,
          308200000,
          300000000,
          294300000,
          289900000,
          283300000,
          271900000,
          262800000,
          249500000,
          246700000,
          236800000,
          237600000,
          221500000,
          206400000,
          166100000,
          159000000
         ],
         "yaxis": "y"
        },
        {
         "hovertemplate": "Emission Type=Nitrogen oxides (NOx)<br>Sources=Road traffic, freight vehicles<br>Year=%{x}<br>Emission=%{y}<extra></extra>",
         "legendgroup": "Nitrogen oxides (NOx)",
         "line": {
          "color": "#00cc96",
          "dash": "solid"
         },
         "marker": {
          "symbol": "circle"
         },
         "mode": "lines",
         "name": "Nitrogen oxides (NOx)",
         "orientation": "v",
         "showlegend": true,
         "type": "scatter",
         "visible": "legendonly",
         "x": [
          1990,
          1991,
          1992,
          1993,
          1994,
          1995,
          1996,
          1997,
          1998,
          1999,
          2000,
          2001,
          2002,
          2003,
          2004,
          2005,
          2006,
          2007,
          2008,
          2009,
          2010,
          2011,
          2012,
          2013,
          2014,
          2015,
          2016,
          2017,
          2018,
          2019,
          2020,
          2021
         ],
         "xaxis": "x2",
         "y": [
          104600000,
          108200000,
          110100000,
          105300000,
          98900000,
          95100000,
          89300000,
          86300000,
          84500000,
          87600000,
          86400000,
          85200000,
          83600000,
          82800000,
          83500000,
          84500000,
          84300000,
          85200000,
          84200000,
          79400000,
          75000000,
          71100000,
          66500000,
          60700000,
          56900000,
          55000000,
          53100000,
          50100000,
          46200000,
          42400000,
          38400000,
          37000000
         ],
         "yaxis": "y2"
        },
        {
         "hovertemplate": "Emission Type=Nitrogen oxides (NOx)<br>Sources=Road traffic, passenger cars<br>Year=%{x}<br>Emission=%{y}<extra></extra>",
         "legendgroup": "Nitrogen oxides (NOx)",
         "line": {
          "color": "#00cc96",
          "dash": "solid"
         },
         "marker": {
          "symbol": "circle"
         },
         "mode": "lines",
         "name": "Nitrogen oxides (NOx)",
         "orientation": "v",
         "showlegend": false,
         "type": "scatter",
         "visible": "legendonly",
         "x": [
          1990,
          1991,
          1992,
          1993,
          1994,
          1995,
          1996,
          1997,
          1998,
          1999,
          2000,
          2001,
          2002,
          2003,
          2004,
          2005,
          2006,
          2007,
          2008,
          2009,
          2010,
          2011,
          2012,
          2013,
          2014,
          2015,
          2016,
          2017,
          2018,
          2019,
          2020,
          2021
         ],
         "xaxis": "x",
         "y": [
          142700000,
          130400000,
          121900000,
          109300000,
          100600000,
          91200000,
          86200000,
          79500000,
          73800000,
          70100000,
          63000000,
          57500000,
          53100000,
          49500000,
          46900000,
          43300000,
          40900000,
          39100000,
          36700000,
          34400000,
          33299999.999999996,
          32900000,
          32100000,
          30900000,
          29700000,
          30200000,
          28900000,
          29200000,
          27600000,
          25700000,
          19600000,
          19100000
         ],
         "yaxis": "y"
        },
        {
         "hovertemplate": "Emission Type=PM10 (Particulate matter)<br>Sources=Road traffic, freight vehicles<br>Year=%{x}<br>Emission=%{y}<extra></extra>",
         "legendgroup": "PM10 (Particulate matter)",
         "line": {
          "color": "#ab63fa",
          "dash": "solid"
         },
         "marker": {
          "symbol": "circle"
         },
         "mode": "lines",
         "name": "PM10 (Particulate matter)",
         "orientation": "v",
         "showlegend": true,
         "type": "scatter",
         "visible": "legendonly",
         "x": [
          1990,
          1991,
          1992,
          1993,
          1994,
          1995,
          1996,
          1997,
          1998,
          1999,
          2000,
          2001,
          2002,
          2003,
          2004,
          2005,
          2006,
          2007,
          2008,
          2009,
          2010,
          2011,
          2012,
          2013,
          2014,
          2015,
          2016,
          2017,
          2018,
          2019,
          2020,
          2021
         ],
         "xaxis": "x2",
         "y": [
          8800000,
          8900000,
          8800000,
          8300000.000000001,
          7600000,
          7000000,
          6400000,
          5900000,
          5600000,
          5600000,
          5400000,
          5200000,
          4800000,
          4500000,
          4400000,
          4200000,
          3900000,
          3700000,
          3500000,
          3100000,
          2800000,
          2600000,
          2300000,
          2000000,
          1900000,
          1800000,
          1800000,
          1700000,
          1600000,
          1500000,
          1500000,
          1500000
         ],
         "yaxis": "y2"
        },
        {
         "hovertemplate": "Emission Type=PM10 (Particulate matter)<br>Sources=Road traffic, passenger cars<br>Year=%{x}<br>Emission=%{y}<extra></extra>",
         "legendgroup": "PM10 (Particulate matter)",
         "line": {
          "color": "#ab63fa",
          "dash": "solid"
         },
         "marker": {
          "symbol": "circle"
         },
         "mode": "lines",
         "name": "PM10 (Particulate matter)",
         "orientation": "v",
         "showlegend": false,
         "type": "scatter",
         "visible": "legendonly",
         "x": [
          1990,
          1991,
          1992,
          1993,
          1994,
          1995,
          1996,
          1997,
          1998,
          1999,
          2000,
          2001,
          2002,
          2003,
          2004,
          2005,
          2006,
          2007,
          2008,
          2009,
          2010,
          2011,
          2012,
          2013,
          2014,
          2015,
          2016,
          2017,
          2018,
          2019,
          2020,
          2021
         ],
         "xaxis": "x",
         "y": [
          6900000,
          6200000,
          6000000,
          5500000,
          5300000,
          5000000,
          4800000,
          4600000,
          4500000,
          4500000,
          4400000,
          4200000,
          4000000,
          3900000,
          3800000,
          3700000,
          3600000,
          3500000,
          3300000,
          3100000,
          3000000,
          2900000,
          2700000,
          2500000,
          2400000,
          2400000,
          2300000,
          2300000,
          2300000,
          2200000,
          1800000,
          1900000
         ],
         "yaxis": "y"
        }
       ],
       "layout": {
        "annotations": [
         {
          "font": {},
          "showarrow": false,
          "text": "Sources=Road traffic, passenger cars",
          "textangle": 90,
          "x": 0.98,
          "xanchor": "left",
          "xref": "paper",
          "y": 0.2425,
          "yanchor": "middle",
          "yref": "paper"
         },
         {
          "font": {},
          "showarrow": false,
          "text": "Sources=Road traffic, freight vehicles",
          "textangle": 90,
          "x": 0.98,
          "xanchor": "left",
          "xref": "paper",
          "y": 0.7575000000000001,
          "yanchor": "middle",
          "yref": "paper"
         }
        ],
        "autosize": true,
        "legend": {
         "title": {
          "text": "Emission Type"
         },
         "tracegroupgap": 0
        },
        "margin": {
         "t": 60
        },
        "template": {
         "data": {
          "bar": [
           {
            "error_x": {
             "color": "#2a3f5f"
            },
            "error_y": {
             "color": "#2a3f5f"
            },
            "marker": {
             "line": {
              "color": "#E5ECF6",
              "width": 0.5
             },
             "pattern": {
              "fillmode": "overlay",
              "size": 10,
              "solidity": 0.2
             }
            },
            "type": "bar"
           }
          ],
          "barpolar": [
           {
            "marker": {
             "line": {
              "color": "#E5ECF6",
              "width": 0.5
             },
             "pattern": {
              "fillmode": "overlay",
              "size": 10,
              "solidity": 0.2
             }
            },
            "type": "barpolar"
           }
          ],
          "carpet": [
           {
            "aaxis": {
             "endlinecolor": "#2a3f5f",
             "gridcolor": "white",
             "linecolor": "white",
             "minorgridcolor": "white",
             "startlinecolor": "#2a3f5f"
            },
            "baxis": {
             "endlinecolor": "#2a3f5f",
             "gridcolor": "white",
             "linecolor": "white",
             "minorgridcolor": "white",
             "startlinecolor": "#2a3f5f"
            },
            "type": "carpet"
           }
          ],
          "choropleth": [
           {
            "colorbar": {
             "outlinewidth": 0,
             "ticks": ""
            },
            "type": "choropleth"
           }
          ],
          "contour": [
           {
            "colorbar": {
             "outlinewidth": 0,
             "ticks": ""
            },
            "colorscale": [
             [
              0,
              "#0d0887"
             ],
             [
              0.1111111111111111,
              "#46039f"
             ],
             [
              0.2222222222222222,
              "#7201a8"
             ],
             [
              0.3333333333333333,
              "#9c179e"
             ],
             [
              0.4444444444444444,
              "#bd3786"
             ],
             [
              0.5555555555555556,
              "#d8576b"
             ],
             [
              0.6666666666666666,
              "#ed7953"
             ],
             [
              0.7777777777777778,
              "#fb9f3a"
             ],
             [
              0.8888888888888888,
              "#fdca26"
             ],
             [
              1,
              "#f0f921"
             ]
            ],
            "type": "contour"
           }
          ],
          "contourcarpet": [
           {
            "colorbar": {
             "outlinewidth": 0,
             "ticks": ""
            },
            "type": "contourcarpet"
           }
          ],
          "heatmap": [
           {
            "colorbar": {
             "outlinewidth": 0,
             "ticks": ""
            },
            "colorscale": [
             [
              0,
              "#0d0887"
             ],
             [
              0.1111111111111111,
              "#46039f"
             ],
             [
              0.2222222222222222,
              "#7201a8"
             ],
             [
              0.3333333333333333,
              "#9c179e"
             ],
             [
              0.4444444444444444,
              "#bd3786"
             ],
             [
              0.5555555555555556,
              "#d8576b"
             ],
             [
              0.6666666666666666,
              "#ed7953"
             ],
             [
              0.7777777777777778,
              "#fb9f3a"
             ],
             [
              0.8888888888888888,
              "#fdca26"
             ],
             [
              1,
              "#f0f921"
             ]
            ],
            "type": "heatmap"
           }
          ],
          "heatmapgl": [
           {
            "colorbar": {
             "outlinewidth": 0,
             "ticks": ""
            },
            "colorscale": [
             [
              0,
              "#0d0887"
             ],
             [
              0.1111111111111111,
              "#46039f"
             ],
             [
              0.2222222222222222,
              "#7201a8"
             ],
             [
              0.3333333333333333,
              "#9c179e"
             ],
             [
              0.4444444444444444,
              "#bd3786"
             ],
             [
              0.5555555555555556,
              "#d8576b"
             ],
             [
              0.6666666666666666,
              "#ed7953"
             ],
             [
              0.7777777777777778,
              "#fb9f3a"
             ],
             [
              0.8888888888888888,
              "#fdca26"
             ],
             [
              1,
              "#f0f921"
             ]
            ],
            "type": "heatmapgl"
           }
          ],
          "histogram": [
           {
            "marker": {
             "pattern": {
              "fillmode": "overlay",
              "size": 10,
              "solidity": 0.2
             }
            },
            "type": "histogram"
           }
          ],
          "histogram2d": [
           {
            "colorbar": {
             "outlinewidth": 0,
             "ticks": ""
            },
            "colorscale": [
             [
              0,
              "#0d0887"
             ],
             [
              0.1111111111111111,
              "#46039f"
             ],
             [
              0.2222222222222222,
              "#7201a8"
             ],
             [
              0.3333333333333333,
              "#9c179e"
             ],
             [
              0.4444444444444444,
              "#bd3786"
             ],
             [
              0.5555555555555556,
              "#d8576b"
             ],
             [
              0.6666666666666666,
              "#ed7953"
             ],
             [
              0.7777777777777778,
              "#fb9f3a"
             ],
             [
              0.8888888888888888,
              "#fdca26"
             ],
             [
              1,
              "#f0f921"
             ]
            ],
            "type": "histogram2d"
           }
          ],
          "histogram2dcontour": [
           {
            "colorbar": {
             "outlinewidth": 0,
             "ticks": ""
            },
            "colorscale": [
             [
              0,
              "#0d0887"
             ],
             [
              0.1111111111111111,
              "#46039f"
             ],
             [
              0.2222222222222222,
              "#7201a8"
             ],
             [
              0.3333333333333333,
              "#9c179e"
             ],
             [
              0.4444444444444444,
              "#bd3786"
             ],
             [
              0.5555555555555556,
              "#d8576b"
             ],
             [
              0.6666666666666666,
              "#ed7953"
             ],
             [
              0.7777777777777778,
              "#fb9f3a"
             ],
             [
              0.8888888888888888,
              "#fdca26"
             ],
             [
              1,
              "#f0f921"
             ]
            ],
            "type": "histogram2dcontour"
           }
          ],
          "mesh3d": [
           {
            "colorbar": {
             "outlinewidth": 0,
             "ticks": ""
            },
            "type": "mesh3d"
           }
          ],
          "parcoords": [
           {
            "line": {
             "colorbar": {
              "outlinewidth": 0,
              "ticks": ""
             }
            },
            "type": "parcoords"
           }
          ],
          "pie": [
           {
            "automargin": true,
            "type": "pie"
           }
          ],
          "scatter": [
           {
            "fillpattern": {
             "fillmode": "overlay",
             "size": 10,
             "solidity": 0.2
            },
            "type": "scatter"
           }
          ],
          "scatter3d": [
           {
            "line": {
             "colorbar": {
              "outlinewidth": 0,
              "ticks": ""
             }
            },
            "marker": {
             "colorbar": {
              "outlinewidth": 0,
              "ticks": ""
             }
            },
            "type": "scatter3d"
           }
          ],
          "scattercarpet": [
           {
            "marker": {
             "colorbar": {
              "outlinewidth": 0,
              "ticks": ""
             }
            },
            "type": "scattercarpet"
           }
          ],
          "scattergeo": [
           {
            "marker": {
             "colorbar": {
              "outlinewidth": 0,
              "ticks": ""
             }
            },
            "type": "scattergeo"
           }
          ],
          "scattergl": [
           {
            "marker": {
             "colorbar": {
              "outlinewidth": 0,
              "ticks": ""
             }
            },
            "type": "scattergl"
           }
          ],
          "scattermapbox": [
           {
            "marker": {
             "colorbar": {
              "outlinewidth": 0,
              "ticks": ""
             }
            },
            "type": "scattermapbox"
           }
          ],
          "scatterpolar": [
           {
            "marker": {
             "colorbar": {
              "outlinewidth": 0,
              "ticks": ""
             }
            },
            "type": "scatterpolar"
           }
          ],
          "scatterpolargl": [
           {
            "marker": {
             "colorbar": {
              "outlinewidth": 0,
              "ticks": ""
             }
            },
            "type": "scatterpolargl"
           }
          ],
          "scatterternary": [
           {
            "marker": {
             "colorbar": {
              "outlinewidth": 0,
              "ticks": ""
             }
            },
            "type": "scatterternary"
           }
          ],
          "surface": [
           {
            "colorbar": {
             "outlinewidth": 0,
             "ticks": ""
            },
            "colorscale": [
             [
              0,
              "#0d0887"
             ],
             [
              0.1111111111111111,
              "#46039f"
             ],
             [
              0.2222222222222222,
              "#7201a8"
             ],
             [
              0.3333333333333333,
              "#9c179e"
             ],
             [
              0.4444444444444444,
              "#bd3786"
             ],
             [
              0.5555555555555556,
              "#d8576b"
             ],
             [
              0.6666666666666666,
              "#ed7953"
             ],
             [
              0.7777777777777778,
              "#fb9f3a"
             ],
             [
              0.8888888888888888,
              "#fdca26"
             ],
             [
              1,
              "#f0f921"
             ]
            ],
            "type": "surface"
           }
          ],
          "table": [
           {
            "cells": {
             "fill": {
              "color": "#EBF0F8"
             },
             "line": {
              "color": "white"
             }
            },
            "header": {
             "fill": {
              "color": "#C8D4E3"
             },
             "line": {
              "color": "white"
             }
            },
            "type": "table"
           }
          ]
         },
         "layout": {
          "annotationdefaults": {
           "arrowcolor": "#2a3f5f",
           "arrowhead": 0,
           "arrowwidth": 1
          },
          "autotypenumbers": "strict",
          "coloraxis": {
           "colorbar": {
            "outlinewidth": 0,
            "ticks": ""
           }
          },
          "colorscale": {
           "diverging": [
            [
             0,
             "#8e0152"
            ],
            [
             0.1,
             "#c51b7d"
            ],
            [
             0.2,
             "#de77ae"
            ],
            [
             0.3,
             "#f1b6da"
            ],
            [
             0.4,
             "#fde0ef"
            ],
            [
             0.5,
             "#f7f7f7"
            ],
            [
             0.6,
             "#e6f5d0"
            ],
            [
             0.7,
             "#b8e186"
            ],
            [
             0.8,
             "#7fbc41"
            ],
            [
             0.9,
             "#4d9221"
            ],
            [
             1,
             "#276419"
            ]
           ],
           "sequential": [
            [
             0,
             "#0d0887"
            ],
            [
             0.1111111111111111,
             "#46039f"
            ],
            [
             0.2222222222222222,
             "#7201a8"
            ],
            [
             0.3333333333333333,
             "#9c179e"
            ],
            [
             0.4444444444444444,
             "#bd3786"
            ],
            [
             0.5555555555555556,
             "#d8576b"
            ],
            [
             0.6666666666666666,
             "#ed7953"
            ],
            [
             0.7777777777777778,
             "#fb9f3a"
            ],
            [
             0.8888888888888888,
             "#fdca26"
            ],
            [
             1,
             "#f0f921"
            ]
           ],
           "sequentialminus": [
            [
             0,
             "#0d0887"
            ],
            [
             0.1111111111111111,
             "#46039f"
            ],
            [
             0.2222222222222222,
             "#7201a8"
            ],
            [
             0.3333333333333333,
             "#9c179e"
            ],
            [
             0.4444444444444444,
             "#bd3786"
            ],
            [
             0.5555555555555556,
             "#d8576b"
            ],
            [
             0.6666666666666666,
             "#ed7953"
            ],
            [
             0.7777777777777778,
             "#fb9f3a"
            ],
            [
             0.8888888888888888,
             "#fdca26"
            ],
            [
             1,
             "#f0f921"
            ]
           ]
          },
          "colorway": [
           "#636efa",
           "#EF553B",
           "#00cc96",
           "#ab63fa",
           "#FFA15A",
           "#19d3f3",
           "#FF6692",
           "#B6E880",
           "#FF97FF",
           "#FECB52"
          ],
          "font": {
           "color": "#2a3f5f"
          },
          "geo": {
           "bgcolor": "white",
           "lakecolor": "white",
           "landcolor": "#E5ECF6",
           "showlakes": true,
           "showland": true,
           "subunitcolor": "white"
          },
          "hoverlabel": {
           "align": "left"
          },
          "hovermode": "closest",
          "mapbox": {
           "style": "light"
          },
          "paper_bgcolor": "white",
          "plot_bgcolor": "#E5ECF6",
          "polar": {
           "angularaxis": {
            "gridcolor": "white",
            "linecolor": "white",
            "ticks": ""
           },
           "bgcolor": "#E5ECF6",
           "radialaxis": {
            "gridcolor": "white",
            "linecolor": "white",
            "ticks": ""
           }
          },
          "scene": {
           "xaxis": {
            "backgroundcolor": "#E5ECF6",
            "gridcolor": "white",
            "gridwidth": 2,
            "linecolor": "white",
            "showbackground": true,
            "ticks": "",
            "zerolinecolor": "white"
           },
           "yaxis": {
            "backgroundcolor": "#E5ECF6",
            "gridcolor": "white",
            "gridwidth": 2,
            "linecolor": "white",
            "showbackground": true,
            "ticks": "",
            "zerolinecolor": "white"
           },
           "zaxis": {
            "backgroundcolor": "#E5ECF6",
            "gridcolor": "white",
            "gridwidth": 2,
            "linecolor": "white",
            "showbackground": true,
            "ticks": "",
            "zerolinecolor": "white"
           }
          },
          "shapedefaults": {
           "line": {
            "color": "#2a3f5f"
           }
          },
          "ternary": {
           "aaxis": {
            "gridcolor": "white",
            "linecolor": "white",
            "ticks": ""
           },
           "baxis": {
            "gridcolor": "white",
            "linecolor": "white",
            "ticks": ""
           },
           "bgcolor": "#E5ECF6",
           "caxis": {
            "gridcolor": "white",
            "linecolor": "white",
            "ticks": ""
           }
          },
          "title": {
           "x": 0.05
          },
          "xaxis": {
           "automargin": true,
           "gridcolor": "white",
           "linecolor": "white",
           "ticks": "",
           "title": {
            "standoff": 15
           },
           "zerolinecolor": "white",
           "zerolinewidth": 2
          },
          "yaxis": {
           "automargin": true,
           "gridcolor": "white",
           "linecolor": "white",
           "ticks": "",
           "title": {
            "standoff": 15
           },
           "zerolinecolor": "white",
           "zerolinewidth": 2
          }
         }
        },
        "xaxis": {
         "anchor": "y",
         "autorange": true,
         "domain": [
          0,
          0.98
         ],
         "range": [
          1990,
          2021
         ],
         "title": {
          "text": "Year"
         },
         "type": "linear"
        },
        "xaxis2": {
         "anchor": "y2",
         "autorange": true,
         "domain": [
          0,
          0.98
         ],
         "matches": "x",
         "range": [
          1990,
          2021
         ],
         "showticklabels": false,
         "type": "linear"
        },
        "yaxis": {
         "anchor": "x",
         "autorange": true,
         "domain": [
          0,
          0.485
         ],
         "range": [
          6.8376643113768045,
          8.874763136213085
         ],
         "title": {
          "text": "Emission"
         },
         "type": "log"
        },
        "yaxis2": {
         "anchor": "x2",
         "autorange": true,
         "domain": [
          0.515,
          1
         ],
         "matches": "y",
         "range": [
          6.8376643113768045,
          8.874763136213085
         ],
         "title": {
          "text": "Emission"
         },
         "type": "log"
        }
       }
      },
      "image/png": "[encoded data removed]",
      "text/html": [
       "<div>                            <div id=\"d8636d71-1b73-42a1-8504-2135b1435d96\" class=\"plotly-graph-div\" style=\"height:600px; width:100%;\"></div>            <script type=\"text/javascript\">                require([\"plotly\"], function(Plotly) {                    window.PLOTLYENV=window.PLOTLYENV || {};                                    if (document.getElementById(\"d8636d71-1b73-42a1-8504-2135b1435d96\")) {                    Plotly.newPlot(                        \"d8636d71-1b73-42a1-8504-2135b1435d96\",                        [{\"hovertemplate\":\"Emission Type=Carbon dioxide (CO2)<br>Sources=Road traffic, freight vehicles<br>Year=%{x}<br>Emission=%{y}<extra></extra>\",\"legendgroup\":\"Carbon dioxide (CO2)\",\"line\":{\"color\":\"#636efa\",\"dash\":\"solid\"},\"marker\":{\"symbol\":\"circle\"},\"mode\":\"lines\",\"name\":\"Carbon dioxide (CO2)\",\"orientation\":\"v\",\"showlegend\":true,\"x\":[1990,1991,1992,1993,1994,1995,1996,1997,1998,1999,2000,2001,2002,2003,2004,2005,2006,2007,2008,2009,2010,2011,2012,2013,2014,2015,2016,2017,2018,2019,2020,2021],\"xaxis\":\"x2\",\"y\":[7600000000.0,7900000000.0,8400000000.0,8500000000.0,8500000000.0,8600000000.0,8600000000.0,8800000000.0,9100000000.0,9800000000.0,9700000000.0,9800000000.0,9800000000.0,9900000000.0,10100000000.0,10200000000.0,10200000000.0,10300000000.0,10600000000.0,10400000000.0,10400000000.0,10100000000.0,9900000000.0,9500000000.0,9400000000.0,9800000000.0,10200000000.0,10400000000.0,10600000000.0,10700000000.0,10600000000.0,11000000000.0],\"yaxis\":\"y2\",\"type\":\"scatter\"},{\"hovertemplate\":\"Emission Type=Carbon dioxide (CO2)<br>Sources=Road traffic, passenger cars<br>Year=%{x}<br>Emission=%{y}<extra></extra>\",\"legendgroup\":\"Carbon dioxide (CO2)\",\"line\":{\"color\":\"#636efa\",\"dash\":\"solid\"},\"marker\":{\"symbol\":\"circle\"},\"mode\":\"lines\",\"name\":\"Carbon dioxide (CO2)\",\"orientation\":\"v\",\"showlegend\":false,\"x\":[1990,1991,1992,1993,1994,1995,1996,1997,1998,1999,2000,2001,2002,2003,2004,2005,2006,2007,2008,2009,2010,2011,2012,2013,2014,2015,2016,2017,2018,2019,2020,2021],\"xaxis\":\"x\",\"y\":[15500000000.0,15400000000.0,16100000000.0,15900000000.0,16300000000.0,16100000000.0,16300000000.0,16700000000.0,17000000000.0,17700000000.0,17800000000.0,18000000000.0,18400000000.0,18600000000.0,19100000000.0,18800000000.0,18800000000.0,18600000000.0,18300000000.0,18100000000.0,18000000000.0,17900000000.0,17600000000.0,17400000000.0,17200000000.0,17300000000.0,17600000000.0,17700000000.0,17800000000.0,17600000000.0,14600000000.0,14800000000.0],\"yaxis\":\"y\",\"type\":\"scatter\"},{\"hovertemplate\":\"Emission Type=Carbon monoxide (CO)<br>Sources=Road traffic, freight vehicles<br>Year=%{x}<br>Emission=%{y}<extra></extra>\",\"legendgroup\":\"Carbon monoxide (CO)\",\"line\":{\"color\":\"#EF553B\",\"dash\":\"solid\"},\"marker\":{\"symbol\":\"circle\"},\"mode\":\"lines\",\"name\":\"Carbon monoxide (CO)\",\"orientation\":\"v\",\"showlegend\":true,\"x\":[1990,1991,1992,1993,1994,1995,1996,1997,1998,1999,2000,2001,2002,2003,2004,2005,2006,2007,2008,2009,2010,2011,2012,2013,2014,2015,2016,2017,2018,2019,2020,2021],\"xaxis\":\"x2\",\"y\":[68600000.0,66200000.0,65000000.0,62300000.0,56500000.0,50700000.0,44700000.0,39800000.0,35800000.0,33200000.000000004,30100000.0,27700000.0,25500000.0,23700000.0,23100000.0,22000000.0,21400000.0,21500000.0,21600000.0,21100000.0,20300000.0,19400000.0,18300000.0,16600000.000000002,15400000.0,14300000.0,15000000.0,15400000.0,10900000.0,9700000.0,8700000.0,9100000.0],\"yaxis\":\"y2\",\"type\":\"scatter\"},{\"hovertemplate\":\"Emission Type=Carbon monoxide (CO)<br>Sources=Road traffic, passenger cars<br>Year=%{x}<br>Emission=%{y}<extra></extra>\",\"legendgroup\":\"Carbon monoxide (CO)\",\"line\":{\"color\":\"#EF553B\",\"dash\":\"solid\"},\"marker\":{\"symbol\":\"circle\"},\"mode\":\"lines\",\"name\":\"Carbon monoxide (CO)\",\"orientation\":\"v\",\"showlegend\":false,\"x\":[1990,1991,1992,1993,1994,1995,1996,1997,1998,1999,2000,2001,2002,2003,2004,2005,2006,2007,2008,2009,2010,2011,2012,2013,2014,2015,2016,2017,2018,2019,2020,2021],\"xaxis\":\"x\",\"y\":[592800000.0,502600000.0,475400000.0,427000000.0,398200000.0,379500000.0,364500000.0,342400000.0,323800000.0,316100000.0,303400000.0,304600000.0,309700000.0,313100000.0,314900000.0,307800000.0,305200000.0,308200000.0,300000000.0,294300000.0,289900000.0,283300000.0,271900000.0,262800000.0,249500000.0,246700000.0,236800000.0,237600000.0,221500000.0,206400000.0,166100000.0,159000000.0],\"yaxis\":\"y\",\"type\":\"scatter\"},{\"hovertemplate\":\"Emission Type=Nitrogen oxides (NOx)<br>Sources=Road traffic, freight vehicles<br>Year=%{x}<br>Emission=%{y}<extra></extra>\",\"legendgroup\":\"Nitrogen oxides (NOx)\",\"line\":{\"color\":\"#00cc96\",\"dash\":\"solid\"},\"marker\":{\"symbol\":\"circle\"},\"mode\":\"lines\",\"name\":\"Nitrogen oxides (NOx)\",\"orientation\":\"v\",\"showlegend\":true,\"x\":[1990,1991,1992,1993,1994,1995,1996,1997,1998,1999,2000,2001,2002,2003,2004,2005,2006,2007,2008,2009,2010,2011,2012,2013,2014,2015,2016,2017,2018,2019,2020,2021],\"xaxis\":\"x2\",\"y\":[104600000.0,108200000.0,110100000.0,105300000.0,98900000.0,95100000.0,89300000.0,86300000.0,84500000.0,87600000.0,86400000.0,85200000.0,83600000.0,82800000.0,83500000.0,84500000.0,84300000.0,85200000.0,84200000.0,79400000.0,75000000.0,71100000.0,66500000.0,60700000.0,56900000.0,55000000.0,53100000.0,50100000.0,46200000.0,42400000.0,38400000.0,37000000.0],\"yaxis\":\"y2\",\"type\":\"scatter\"},{\"hovertemplate\":\"Emission Type=Nitrogen oxides (NOx)<br>Sources=Road traffic, passenger cars<br>Year=%{x}<br>Emission=%{y}<extra></extra>\",\"legendgroup\":\"Nitrogen oxides (NOx)\",\"line\":{\"color\":\"#00cc96\",\"dash\":\"solid\"},\"marker\":{\"symbol\":\"circle\"},\"mode\":\"lines\",\"name\":\"Nitrogen oxides (NOx)\",\"orientation\":\"v\",\"showlegend\":false,\"x\":[1990,1991,1992,1993,1994,1995,1996,1997,1998,1999,2000,2001,2002,2003,2004,2005,2006,2007,2008,2009,2010,2011,2012,2013,2014,2015,2016,2017,2018,2019,2020,2021],\"xaxis\":\"x\",\"y\":[142700000.0,130400000.0,121900000.0,109300000.0,100600000.0,91200000.0,86200000.0,79500000.0,73800000.0,70100000.0,63000000.0,57500000.0,53100000.0,49500000.0,46900000.0,43300000.0,40900000.0,39100000.0,36700000.0,34400000.0,33299999.999999996,32900000.0,32100000.0,30900000.0,29700000.0,30200000.0,28900000.0,29200000.0,27600000.0,25700000.0,19600000.0,19100000.0],\"yaxis\":\"y\",\"type\":\"scatter\"},{\"hovertemplate\":\"Emission Type=PM10 (Particulate matter)<br>Sources=Road traffic, freight vehicles<br>Year=%{x}<br>Emission=%{y}<extra></extra>\",\"legendgroup\":\"PM10 (Particulate matter)\",\"line\":{\"color\":\"#ab63fa\",\"dash\":\"solid\"},\"marker\":{\"symbol\":\"circle\"},\"mode\":\"lines\",\"name\":\"PM10 (Particulate matter)\",\"orientation\":\"v\",\"showlegend\":true,\"x\":[1990,1991,1992,1993,1994,1995,1996,1997,1998,1999,2000,2001,2002,2003,2004,2005,2006,2007,2008,2009,2010,2011,2012,2013,2014,2015,2016,2017,2018,2019,2020,2021],\"xaxis\":\"x2\",\"y\":[8800000.0,8900000.0,8800000.0,8300000.000000001,7600000.0,7000000.0,6400000.0,5900000.0,5600000.0,5600000.0,5400000.0,5200000.0,4800000.0,4500000.0,4400000.0,4200000.0,3900000.0,3700000.0,3500000.0,3100000.0,2800000.0,2600000.0,2300000.0,2000000.0,1900000.0,1800000.0,1800000.0,1700000.0,1600000.0,1500000.0,1500000.0,1500000.0],\"yaxis\":\"y2\",\"type\":\"scatter\"},{\"hovertemplate\":\"Emission Type=PM10 (Particulate matter)<br>Sources=Road traffic, passenger cars<br>Year=%{x}<br>Emission=%{y}<extra></extra>\",\"legendgroup\":\"PM10 (Particulate matter)\",\"line\":{\"color\":\"#ab63fa\",\"dash\":\"solid\"},\"marker\":{\"symbol\":\"circle\"},\"mode\":\"lines\",\"name\":\"PM10 (Particulate matter)\",\"orientation\":\"v\",\"showlegend\":false,\"x\":[1990,1991,1992,1993,1994,1995,1996,1997,1998,1999,2000,2001,2002,2003,2004,2005,2006,2007,2008,2009,2010,2011,2012,2013,2014,2015,2016,2017,2018,2019,2020,2021],\"xaxis\":\"x\",\"y\":[6900000.0,6200000.0,6000000.0,5500000.0,5300000.0,5000000.0,4800000.0,4600000.0,4500000.0,4500000.0,4400000.0,4200000.0,4000000.0,3900000.0,3800000.0,3700000.0,3600000.0,3500000.0,3300000.0,3100000.0,3000000.0,2900000.0,2700000.0,2500000.0,2400000.0,2400000.0,2300000.0,2300000.0,2300000.0,2200000.0,1800000.0,1900000.0],\"yaxis\":\"y\",\"type\":\"scatter\"}],                        {\"template\":{\"data\":{\"histogram2dcontour\":[{\"type\":\"histogram2dcontour\",\"colorbar\":{\"outlinewidth\":0,\"ticks\":\"\"},\"colorscale\":[[0.0,\"#0d0887\"],[0.1111111111111111,\"#46039f\"],[0.2222222222222222,\"#7201a8\"],[0.3333333333333333,\"#9c179e\"],[0.4444444444444444,\"#bd3786\"],[0.5555555555555556,\"#d8576b\"],[0.6666666666666666,\"#ed7953\"],[0.7777777777777778,\"#fb9f3a\"],[0.8888888888888888,\"#fdca26\"],[1.0,\"#f0f921\"]]}],\"choropleth\":[{\"type\":\"choropleth\",\"colorbar\":{\"outlinewidth\":0,\"ticks\":\"\"}}],\"histogram2d\":[{\"type\":\"histogram2d\",\"colorbar\":{\"outlinewidth\":0,\"ticks\":\"\"},\"colorscale\":[[0.0,\"#0d0887\"],[0.1111111111111111,\"#46039f\"],[0.2222222222222222,\"#7201a8\"],[0.3333333333333333,\"#9c179e\"],[0.4444444444444444,\"#bd3786\"],[0.5555555555555556,\"#d8576b\"],[0.6666666666666666,\"#ed7953\"],[0.7777777777777778,\"#fb9f3a\"],[0.8888888888888888,\"#fdca26\"],[1.0,\"#f0f921\"]]}],\"heatmap\":[{\"type\":\"heatmap\",\"colorbar\":{\"outlinewidth\":0,\"ticks\":\"\"},\"colorscale\":[[0.0,\"#0d0887\"],[0.1111111111111111,\"#46039f\"],[0.2222222222222222,\"#7201a8\"],[0.3333333333333333,\"#9c179e\"],[0.4444444444444444,\"#bd3786\"],[0.5555555555555556,\"#d8576b\"],[0.6666666666666666,\"#ed7953\"],[0.7777777777777778,\"#fb9f3a\"],[0.8888888888888888,\"#fdca26\"],[1.0,\"#f0f921\"]]}],\"heatmapgl\":[{\"type\":\"heatmapgl\",\"colorbar\":{\"outlinewidth\":0,\"ticks\":\"\"},\"colorscale\":[[0.0,\"#0d0887\"],[0.1111111111111111,\"#46039f\"],[0.2222222222222222,\"#7201a8\"],[0.3333333333333333,\"#9c179e\"],[0.4444444444444444,\"#bd3786\"],[0.5555555555555556,\"#d8576b\"],[0.6666666666666666,\"#ed7953\"],[0.7777777777777778,\"#fb9f3a\"],[0.8888888888888888,\"#fdca26\"],[1.0,\"#f0f921\"]]}],\"contourcarpet\":[{\"type\":\"contourcarpet\",\"colorbar\":{\"outlinewidth\":0,\"ticks\":\"\"}}],\"contour\":[{\"type\":\"contour\",\"colorbar\":{\"outlinewidth\":0,\"ticks\":\"\"},\"colorscale\":[[0.0,\"#0d0887\"],[0.1111111111111111,\"#46039f\"],[0.2222222222222222,\"#7201a8\"],[0.3333333333333333,\"#9c179e\"],[0.4444444444444444,\"#bd3786\"],[0.5555555555555556,\"#d8576b\"],[0.6666666666666666,\"#ed7953\"],[0.7777777777777778,\"#fb9f3a\"],[0.8888888888888888,\"#fdca26\"],[1.0,\"#f0f921\"]]}],\"surface\":[{\"type\":\"surface\",\"colorbar\":{\"outlinewidth\":0,\"ticks\":\"\"},\"colorscale\":[[0.0,\"#0d0887\"],[0.1111111111111111,\"#46039f\"],[0.2222222222222222,\"#7201a8\"],[0.3333333333333333,\"#9c179e\"],[0.4444444444444444,\"#bd3786\"],[0.5555555555555556,\"#d8576b\"],[0.6666666666666666,\"#ed7953\"],[0.7777777777777778,\"#fb9f3a\"],[0.8888888888888888,\"#fdca26\"],[1.0,\"#f0f921\"]]}],\"mesh3d\":[{\"type\":\"mesh3d\",\"colorbar\":{\"outlinewidth\":0,\"ticks\":\"\"}}],\"scatter\":[{\"fillpattern\":{\"fillmode\":\"overlay\",\"size\":10,\"solidity\":0.2},\"type\":\"scatter\"}],\"parcoords\":[{\"type\":\"parcoords\",\"line\":{\"colorbar\":{\"outlinewidth\":0,\"ticks\":\"\"}}}],\"scatterpolargl\":[{\"type\":\"scatterpolargl\",\"marker\":{\"colorbar\":{\"outlinewidth\":0,\"ticks\":\"\"}}}],\"bar\":[{\"error_x\":{\"color\":\"#2a3f5f\"},\"error_y\":{\"color\":\"#2a3f5f\"},\"marker\":{\"line\":{\"color\":\"#E5ECF6\",\"width\":0.5},\"pattern\":{\"fillmode\":\"overlay\",\"size\":10,\"solidity\":0.2}},\"type\":\"bar\"}],\"scattergeo\":[{\"type\":\"scattergeo\",\"marker\":{\"colorbar\":{\"outlinewidth\":0,\"ticks\":\"\"}}}],\"scatterpolar\":[{\"type\":\"scatterpolar\",\"marker\":{\"colorbar\":{\"outlinewidth\":0,\"ticks\":\"\"}}}],\"histogram\":[{\"marker\":{\"pattern\":{\"fillmode\":\"overlay\",\"size\":10,\"solidity\":0.2}},\"type\":\"histogram\"}],\"scattergl\":[{\"type\":\"scattergl\",\"marker\":{\"colorbar\":{\"outlinewidth\":0,\"ticks\":\"\"}}}],\"scatter3d\":[{\"type\":\"scatter3d\",\"line\":{\"colorbar\":{\"outlinewidth\":0,\"ticks\":\"\"}},\"marker\":{\"colorbar\":{\"outlinewidth\":0,\"ticks\":\"\"}}}],\"scattermapbox\":[{\"type\":\"scattermapbox\",\"marker\":{\"colorbar\":{\"outlinewidth\":0,\"ticks\":\"\"}}}],\"scatterternary\":[{\"type\":\"scatterternary\",\"marker\":{\"colorbar\":{\"outlinewidth\":0,\"ticks\":\"\"}}}],\"scattercarpet\":[{\"type\":\"scattercarpet\",\"marker\":{\"colorbar\":{\"outlinewidth\":0,\"ticks\":\"\"}}}],\"carpet\":[{\"aaxis\":{\"endlinecolor\":\"#2a3f5f\",\"gridcolor\":\"white\",\"linecolor\":\"white\",\"minorgridcolor\":\"white\",\"startlinecolor\":\"#2a3f5f\"},\"baxis\":{\"endlinecolor\":\"#2a3f5f\",\"gridcolor\":\"white\",\"linecolor\":\"white\",\"minorgridcolor\":\"white\",\"startlinecolor\":\"#2a3f5f\"},\"type\":\"carpet\"}],\"table\":[{\"cells\":{\"fill\":{\"color\":\"#EBF0F8\"},\"line\":{\"color\":\"white\"}},\"header\":{\"fill\":{\"color\":\"#C8D4E3\"},\"line\":{\"color\":\"white\"}},\"type\":\"table\"}],\"barpolar\":[{\"marker\":{\"line\":{\"color\":\"#E5ECF6\",\"width\":0.5},\"pattern\":{\"fillmode\":\"overlay\",\"size\":10,\"solidity\":0.2}},\"type\":\"barpolar\"}],\"pie\":[{\"automargin\":true,\"type\":\"pie\"}]},\"layout\":{\"autotypenumbers\":\"strict\",\"colorway\":[\"#636efa\",\"#EF553B\",\"#00cc96\",\"#ab63fa\",\"#FFA15A\",\"#19d3f3\",\"#FF6692\",\"#B6E880\",\"#FF97FF\",\"#FECB52\"],\"font\":{\"color\":\"#2a3f5f\"},\"hovermode\":\"closest\",\"hoverlabel\":{\"align\":\"left\"},\"paper_bgcolor\":\"white\",\"plot_bgcolor\":\"#E5ECF6\",\"polar\":{\"bgcolor\":\"#E5ECF6\",\"angularaxis\":{\"gridcolor\":\"white\",\"linecolor\":\"white\",\"ticks\":\"\"},\"radialaxis\":{\"gridcolor\":\"white\",\"linecolor\":\"white\",\"ticks\":\"\"}},\"ternary\":{\"bgcolor\":\"#E5ECF6\",\"aaxis\":{\"gridcolor\":\"white\",\"linecolor\":\"white\",\"ticks\":\"\"},\"baxis\":{\"gridcolor\":\"white\",\"linecolor\":\"white\",\"ticks\":\"\"},\"caxis\":{\"gridcolor\":\"white\",\"linecolor\":\"white\",\"ticks\":\"\"}},\"coloraxis\":{\"colorbar\":{\"outlinewidth\":0,\"ticks\":\"\"}},\"colorscale\":{\"sequential\":[[0.0,\"#0d0887\"],[0.1111111111111111,\"#46039f\"],[0.2222222222222222,\"#7201a8\"],[0.3333333333333333,\"#9c179e\"],[0.4444444444444444,\"#bd3786\"],[0.5555555555555556,\"#d8576b\"],[0.6666666666666666,\"#ed7953\"],[0.7777777777777778,\"#fb9f3a\"],[0.8888888888888888,\"#fdca26\"],[1.0,\"#f0f921\"]],\"sequentialminus\":[[0.0,\"#0d0887\"],[0.1111111111111111,\"#46039f\"],[0.2222222222222222,\"#7201a8\"],[0.3333333333333333,\"#9c179e\"],[0.4444444444444444,\"#bd3786\"],[0.5555555555555556,\"#d8576b\"],[0.6666666666666666,\"#ed7953\"],[0.7777777777777778,\"#fb9f3a\"],[0.8888888888888888,\"#fdca26\"],[1.0,\"#f0f921\"]],\"diverging\":[[0,\"#8e0152\"],[0.1,\"#c51b7d\"],[0.2,\"#de77ae\"],[0.3,\"#f1b6da\"],[0.4,\"#fde0ef\"],[0.5,\"#f7f7f7\"],[0.6,\"#e6f5d0\"],[0.7,\"#b8e186\"],[0.8,\"#7fbc41\"],[0.9,\"#4d9221\"],[1,\"#276419\"]]},\"xaxis\":{\"gridcolor\":\"white\",\"linecolor\":\"white\",\"ticks\":\"\",\"title\":{\"standoff\":15},\"zerolinecolor\":\"white\",\"automargin\":true,\"zerolinewidth\":2},\"yaxis\":{\"gridcolor\":\"white\",\"linecolor\":\"white\",\"ticks\":\"\",\"title\":{\"standoff\":15},\"zerolinecolor\":\"white\",\"automargin\":true,\"zerolinewidth\":2},\"scene\":{\"xaxis\":{\"backgroundcolor\":\"#E5ECF6\",\"gridcolor\":\"white\",\"linecolor\":\"white\",\"showbackground\":true,\"ticks\":\"\",\"zerolinecolor\":\"white\",\"gridwidth\":2},\"yaxis\":{\"backgroundcolor\":\"#E5ECF6\",\"gridcolor\":\"white\",\"linecolor\":\"white\",\"showbackground\":true,\"ticks\":\"\",\"zerolinecolor\":\"white\",\"gridwidth\":2},\"zaxis\":{\"backgroundcolor\":\"#E5ECF6\",\"gridcolor\":\"white\",\"linecolor\":\"white\",\"showbackground\":true,\"ticks\":\"\",\"zerolinecolor\":\"white\",\"gridwidth\":2}},\"shapedefaults\":{\"line\":{\"color\":\"#2a3f5f\"}},\"annotationdefaults\":{\"arrowcolor\":\"#2a3f5f\",\"arrowhead\":0,\"arrowwidth\":1},\"geo\":{\"bgcolor\":\"white\",\"landcolor\":\"#E5ECF6\",\"subunitcolor\":\"white\",\"showland\":true,\"showlakes\":true,\"lakecolor\":\"white\"},\"title\":{\"x\":0.05},\"mapbox\":{\"style\":\"light\"}}},\"xaxis\":{\"anchor\":\"y\",\"domain\":[0.0,0.98],\"title\":{\"text\":\"Year\"}},\"yaxis\":{\"anchor\":\"x\",\"domain\":[0.0,0.485],\"title\":{\"text\":\"Emission\"},\"type\":\"log\"},\"xaxis2\":{\"anchor\":\"y2\",\"domain\":[0.0,0.98],\"matches\":\"x\",\"showticklabels\":false},\"yaxis2\":{\"anchor\":\"x2\",\"domain\":[0.515,1.0],\"matches\":\"y\",\"title\":{\"text\":\"Emission\"},\"type\":\"log\"},\"annotations\":[{\"font\":{},\"showarrow\":false,\"text\":\"Sources=Road traffic, passenger cars\",\"textangle\":90,\"x\":0.98,\"xanchor\":\"left\",\"xref\":\"paper\",\"y\":0.2425,\"yanchor\":\"middle\",\"yref\":\"paper\"},{\"font\":{},\"showarrow\":false,\"text\":\"Sources=Road traffic, freight vehicles\",\"textangle\":90,\"x\":0.98,\"xanchor\":\"left\",\"xref\":\"paper\",\"y\":0.7575000000000001,\"yanchor\":\"middle\",\"yref\":\"paper\"}],\"legend\":{\"title\":{\"text\":\"Emission Type\"},\"tracegroupgap\":0},\"margin\":{\"t\":60},\"height\":600},                        {\"responsive\": true}                    ).then(function(){\n",
       "                            \n",
       "var gd = document.getElementById('d8636d71-1b73-42a1-8504-2135b1435d96');\n",
       "var x = new MutationObserver(function (mutations, observer) {{\n",
       "        var display = window.getComputedStyle(gd).display;\n",
       "        if (!display || display === 'none') {{\n",
       "            console.log([gd, 'removed!']);\n",
       "            Plotly.purge(gd);\n",
       "            observer.disconnect();\n",
       "        }}\n",
       "}});\n",
       "\n",
       "// Listen for the removal of the full notebook cells\n",
       "var notebookContainer = gd.closest('#notebook-container');\n",
       "if (notebookContainer) {{\n",
       "    x.observe(notebookContainer, {childList: true});\n",
       "}}\n",
       "\n",
       "// Listen for the clearing of the current output cell\n",
       "var outputEl = gd.closest('.output');\n",
       "if (outputEl) {{\n",
       "    x.observe(outputEl, {childList: true});\n",
       "}}\n",
       "\n",
       "                        })                };                });            </script>        </div>"
      ]
     },
     "metadata": {},
     "output_type": "display_data"
    }
   ],
   "source": [
    "px.line(vehicle_data, x=\"Year\", y=\"Emission\", color=\"Emission Type\", facet_row=\"Sources\", log_y=True, height=600)"
   ]
  },
  {
   "cell_type": "code",
   "execution_count": 12,
   "metadata": {},
   "outputs": [
    {
     "data": {
      "application/vnd.plotly.v1+json": {
       "config": {
        "plotlyServerURL": "https://plot.ly"
       },
       "data": [
        {
         "hovertemplate": "Sources=Road traffic, freight vehicles<br>Year=%{x}<br>vhkm=%{y}<extra></extra>",
         "legendgroup": "Road traffic, freight vehicles",
         "line": {
          "color": "#636efa",
          "dash": "solid"
         },
         "marker": {
          "symbol": "circle"
         },
         "mode": "lines",
         "name": "Road traffic, freight vehicles",
         "orientation": "v",
         "showlegend": true,
         "type": "scatter",
         "x": [
          1990,
          1991,
          1992,
          1993,
          1994,
          1995,
          1996,
          1997,
          1998,
          1999,
          2000,
          2001,
          2002,
          2003,
          2004,
          2005,
          2006,
          2007,
          2008,
          2009,
          2010,
          2011,
          2012,
          2013,
          2014,
          2015,
          2016,
          2017,
          2018,
          2019,
          2020,
          2021,
          1990,
          1991,
          1992,
          1993,
          1994,
          1995,
          1996,
          1997,
          1998,
          1999,
          2000,
          2001,
          2002,
          2003,
          2004,
          2005,
          2006,
          2007,
          2008,
          2009,
          2010,
          2011,
          2012,
          2013,
          2014,
          2015,
          2016,
          2017,
          2018,
          2019,
          2020,
          2021,
          1990,
          1991,
          1992,
          1993,
          1994,
          1995,
          1996,
          1997,
          1998,
          1999,
          2000,
          2001,
          2002,
          2003,
          2004,
          2005,
          2006,
          2007,
          2008,
          2009,
          2010,
          2011,
          2012,
          2013,
          2014,
          2015,
          2016,
          2017,
          2018,
          2019,
          2020,
          2021,
          1990,
          1991,
          1992,
          1993,
          1994,
          1995,
          1996,
          1997,
          1998,
          1999,
          2000,
          2001,
          2002,
          2003,
          2004,
          2005,
          2006,
          2007,
          2008,
          2009,
          2010,
          2011,
          2012,
          2013,
          2014,
          2015,
          2016,
          2017,
          2018,
          2019,
          2020,
          2021
         ],
         "xaxis": "x",
         "y": [
          13542000000,
          14363000000,
          15650000000,
          16572000000,
          16647000000,
          16907000000,
          17210000000,
          18076000000,
          19190000000,
          20895000000,
          22116000000,
          22991000000,
          23214400000,
          23620200000,
          24405900000,
          24705900000,
          24199200000,
          24705600000,
          25173000000,
          24634600000,
          24480200000,
          24169200000,
          23656900000,
          22926500000,
          22915600000,
          23467700000,
          24475200000,
          25119300000,
          25686600000,
          26186800000,
          25544500000,
          null,
          13542000000,
          14363000000,
          15650000000,
          16572000000,
          16647000000,
          16907000000,
          17210000000,
          18076000000,
          19190000000,
          20895000000,
          22116000000,
          22991000000,
          23214400000,
          23620200000,
          24405900000,
          24705900000,
          24199200000,
          24705600000,
          25173000000,
          24634600000,
          24480200000,
          24169200000,
          23656900000,
          22926500000,
          22915600000,
          23467700000,
          24475200000,
          25119300000,
          25686600000,
          26186800000,
          25544500000,
          null,
          13542000000,
          14363000000,
          15650000000,
          16572000000,
          16647000000,
          16907000000,
          17210000000,
          18076000000,
          19190000000,
          20895000000,
          22116000000,
          22991000000,
          23214400000,
          23620200000,
          24405900000,
          24705900000,
          24199200000,
          24705600000,
          25173000000,
          24634600000,
          24480200000,
          24169200000,
          23656900000,
          22926500000,
          22915600000,
          23467700000,
          24475200000,
          25119300000,
          25686600000,
          26186800000,
          25544500000,
          null,
          13542000000,
          14363000000,
          15650000000,
          16572000000,
          16647000000,
          16907000000,
          17210000000,
          18076000000,
          19190000000,
          20895000000,
          22116000000,
          22991000000,
          23214400000,
          23620200000,
          24405900000,
          24705900000,
          24199200000,
          24705600000,
          25173000000,
          24634600000,
          24480200000,
          24169200000,
          23656900000,
          22926500000,
          22915600000,
          23467700000,
          24475200000,
          25119300000,
          25686600000,
          26186800000,
          25544500000,
          null
         ],
         "yaxis": "y"
        },
        {
         "hovertemplate": "Sources=Road traffic, passenger cars<br>Year=%{x}<br>vhkm=%{y}<extra></extra>",
         "legendgroup": "Road traffic, passenger cars",
         "line": {
          "color": "#EF553B",
          "dash": "solid"
         },
         "marker": {
          "symbol": "circle"
         },
         "mode": "lines",
         "name": "Road traffic, passenger cars",
         "orientation": "v",
         "showlegend": true,
         "type": "scatter",
         "x": [
          1990,
          1991,
          1992,
          1993,
          1994,
          1995,
          1996,
          1997,
          1998,
          1999,
          2000,
          2001,
          2002,
          2003,
          2004,
          2005,
          2006,
          2007,
          2008,
          2009,
          2010,
          2011,
          2012,
          2013,
          2014,
          2015,
          2016,
          2017,
          2018,
          2019,
          2020,
          2021,
          1990,
          1991,
          1992,
          1993,
          1994,
          1995,
          1996,
          1997,
          1998,
          1999,
          2000,
          2001,
          2002,
          2003,
          2004,
          2005,
          2006,
          2007,
          2008,
          2009,
          2010,
          2011,
          2012,
          2013,
          2014,
          2015,
          2016,
          2017,
          2018,
          2019,
          2020,
          2021,
          1990,
          1991,
          1992,
          1993,
          1994,
          1995,
          1996,
          1997,
          1998,
          1999,
          2000,
          2001,
          2002,
          2003,
          2004,
          2005,
          2006,
          2007,
          2008,
          2009,
          2010,
          2011,
          2012,
          2013,
          2014,
          2015,
          2016,
          2017,
          2018,
          2019,
          2020,
          2021,
          1990,
          1991,
          1992,
          1993,
          1994,
          1995,
          1996,
          1997,
          1998,
          1999,
          2000,
          2001,
          2002,
          2003,
          2004,
          2005,
          2006,
          2007,
          2008,
          2009,
          2010,
          2011,
          2012,
          2013,
          2014,
          2015,
          2016,
          2017,
          2018,
          2019,
          2020,
          2021
         ],
         "xaxis": "x",
         "y": [
          81871000000,
          81164000000,
          84626000000,
          83538000000,
          85226000000,
          84152000000,
          85453000000,
          87256000000,
          89210000000,
          92573000000,
          93198000000,
          94262800000,
          96254200000,
          97414300000,
          99939900000,
          99504500000,
          100468300000,
          102218400000,
          101250200000,
          101514000000,
          102307600000,
          102956400000,
          103122100000,
          103211200000,
          103699100000,
          105088900000,
          107708100000,
          108936100000,
          110355900000,
          110372800000,
          92654200000,
          null,
          81871000000,
          81164000000,
          84626000000,
          83538000000,
          85226000000,
          84152000000,
          85453000000,
          87256000000,
          89210000000,
          92573000000,
          93198000000,
          94262800000,
          96254200000,
          97414300000,
          99939900000,
          99504500000,
          100468300000,
          102218400000,
          101250200000,
          101514000000,
          102307600000,
          102956400000,
          103122100000,
          103211200000,
          103699100000,
          105088900000,
          107708100000,
          108936100000,
          110355900000,
          110372800000,
          92654200000,
          null,
          81871000000,
          81164000000,
          84626000000,
          83538000000,
          85226000000,
          84152000000,
          85453000000,
          87256000000,
          89210000000,
          92573000000,
          93198000000,
          94262800000,
          96254200000,
          97414300000,
          99939900000,
          99504500000,
          100468300000,
          102218400000,
          101250200000,
          101514000000,
          102307600000,
          102956400000,
          103122100000,
          103211200000,
          103699100000,
          105088900000,
          107708100000,
          108936100000,
          110355900000,
          110372800000,
          92654200000,
          null,
          81871000000,
          81164000000,
          84626000000,
          83538000000,
          85226000000,
          84152000000,
          85453000000,
          87256000000,
          89210000000,
          92573000000,
          93198000000,
          94262800000,
          96254200000,
          97414300000,
          99939900000,
          99504500000,
          100468300000,
          102218400000,
          101250200000,
          101514000000,
          102307600000,
          102956400000,
          103122100000,
          103211200000,
          103699100000,
          105088900000,
          107708100000,
          108936100000,
          110355900000,
          110372800000,
          92654200000,
          null
         ],
         "yaxis": "y"
        }
       ],
       "layout": {
        "autosize": true,
        "legend": {
         "title": {
          "text": "Sources"
         },
         "tracegroupgap": 0
        },
        "margin": {
         "t": 60
        },
        "template": {
         "data": {
          "bar": [
           {
            "error_x": {
             "color": "#2a3f5f"
            },
            "error_y": {
             "color": "#2a3f5f"
            },
            "marker": {
             "line": {
              "color": "#E5ECF6",
              "width": 0.5
             },
             "pattern": {
              "fillmode": "overlay",
              "size": 10,
              "solidity": 0.2
             }
            },
            "type": "bar"
           }
          ],
          "barpolar": [
           {
            "marker": {
             "line": {
              "color": "#E5ECF6",
              "width": 0.5
             },
             "pattern": {
              "fillmode": "overlay",
              "size": 10,
              "solidity": 0.2
             }
            },
            "type": "barpolar"
           }
          ],
          "carpet": [
           {
            "aaxis": {
             "endlinecolor": "#2a3f5f",
             "gridcolor": "white",
             "linecolor": "white",
             "minorgridcolor": "white",
             "startlinecolor": "#2a3f5f"
            },
            "baxis": {
             "endlinecolor": "#2a3f5f",
             "gridcolor": "white",
             "linecolor": "white",
             "minorgridcolor": "white",
             "startlinecolor": "#2a3f5f"
            },
            "type": "carpet"
           }
          ],
          "choropleth": [
           {
            "colorbar": {
             "outlinewidth": 0,
             "ticks": ""
            },
            "type": "choropleth"
           }
          ],
          "contour": [
           {
            "colorbar": {
             "outlinewidth": 0,
             "ticks": ""
            },
            "colorscale": [
             [
              0,
              "#0d0887"
             ],
             [
              0.1111111111111111,
              "#46039f"
             ],
             [
              0.2222222222222222,
              "#7201a8"
             ],
             [
              0.3333333333333333,
              "#9c179e"
             ],
             [
              0.4444444444444444,
              "#bd3786"
             ],
             [
              0.5555555555555556,
              "#d8576b"
             ],
             [
              0.6666666666666666,
              "#ed7953"
             ],
             [
              0.7777777777777778,
              "#fb9f3a"
             ],
             [
              0.8888888888888888,
              "#fdca26"
             ],
             [
              1,
              "#f0f921"
             ]
            ],
            "type": "contour"
           }
          ],
          "contourcarpet": [
           {
            "colorbar": {
             "outlinewidth": 0,
             "ticks": ""
            },
            "type": "contourcarpet"
           }
          ],
          "heatmap": [
           {
            "colorbar": {
             "outlinewidth": 0,
             "ticks": ""
            },
            "colorscale": [
             [
              0,
              "#0d0887"
             ],
             [
              0.1111111111111111,
              "#46039f"
             ],
             [
              0.2222222222222222,
              "#7201a8"
             ],
             [
              0.3333333333333333,
              "#9c179e"
             ],
             [
              0.4444444444444444,
              "#bd3786"
             ],
             [
              0.5555555555555556,
              "#d8576b"
             ],
             [
              0.6666666666666666,
              "#ed7953"
             ],
             [
              0.7777777777777778,
              "#fb9f3a"
             ],
             [
              0.8888888888888888,
              "#fdca26"
             ],
             [
              1,
              "#f0f921"
             ]
            ],
            "type": "heatmap"
           }
          ],
          "heatmapgl": [
           {
            "colorbar": {
             "outlinewidth": 0,
             "ticks": ""
            },
            "colorscale": [
             [
              0,
              "#0d0887"
             ],
             [
              0.1111111111111111,
              "#46039f"
             ],
             [
              0.2222222222222222,
              "#7201a8"
             ],
             [
              0.3333333333333333,
              "#9c179e"
             ],
             [
              0.4444444444444444,
              "#bd3786"
             ],
             [
              0.5555555555555556,
              "#d8576b"
             ],
             [
              0.6666666666666666,
              "#ed7953"
             ],
             [
              0.7777777777777778,
              "#fb9f3a"
             ],
             [
              0.8888888888888888,
              "#fdca26"
             ],
             [
              1,
              "#f0f921"
             ]
            ],
            "type": "heatmapgl"
           }
          ],
          "histogram": [
           {
            "marker": {
             "pattern": {
              "fillmode": "overlay",
              "size": 10,
              "solidity": 0.2
             }
            },
            "type": "histogram"
           }
          ],
          "histogram2d": [
           {
            "colorbar": {
             "outlinewidth": 0,
             "ticks": ""
            },
            "colorscale": [
             [
              0,
              "#0d0887"
             ],
             [
              0.1111111111111111,
              "#46039f"
             ],
             [
              0.2222222222222222,
              "#7201a8"
             ],
             [
              0.3333333333333333,
              "#9c179e"
             ],
             [
              0.4444444444444444,
              "#bd3786"
             ],
             [
              0.5555555555555556,
              "#d8576b"
             ],
             [
              0.6666666666666666,
              "#ed7953"
             ],
             [
              0.7777777777777778,
              "#fb9f3a"
             ],
             [
              0.8888888888888888,
              "#fdca26"
             ],
             [
              1,
              "#f0f921"
             ]
            ],
            "type": "histogram2d"
           }
          ],
          "histogram2dcontour": [
           {
            "colorbar": {
             "outlinewidth": 0,
             "ticks": ""
            },
            "colorscale": [
             [
              0,
              "#0d0887"
             ],
             [
              0.1111111111111111,
              "#46039f"
             ],
             [
              0.2222222222222222,
              "#7201a8"
             ],
             [
              0.3333333333333333,
              "#9c179e"
             ],
             [
              0.4444444444444444,
              "#bd3786"
             ],
             [
              0.5555555555555556,
              "#d8576b"
             ],
             [
              0.6666666666666666,
              "#ed7953"
             ],
             [
              0.7777777777777778,
              "#fb9f3a"
             ],
             [
              0.8888888888888888,
              "#fdca26"
             ],
             [
              1,
              "#f0f921"
             ]
            ],
            "type": "histogram2dcontour"
           }
          ],
          "mesh3d": [
           {
            "colorbar": {
             "outlinewidth": 0,
             "ticks": ""
            },
            "type": "mesh3d"
           }
          ],
          "parcoords": [
           {
            "line": {
             "colorbar": {
              "outlinewidth": 0,
              "ticks": ""
             }
            },
            "type": "parcoords"
           }
          ],
          "pie": [
           {
            "automargin": true,
            "type": "pie"
           }
          ],
          "scatter": [
           {
            "fillpattern": {
             "fillmode": "overlay",
             "size": 10,
             "solidity": 0.2
            },
            "type": "scatter"
           }
          ],
          "scatter3d": [
           {
            "line": {
             "colorbar": {
              "outlinewidth": 0,
              "ticks": ""
             }
            },
            "marker": {
             "colorbar": {
              "outlinewidth": 0,
              "ticks": ""
             }
            },
            "type": "scatter3d"
           }
          ],
          "scattercarpet": [
           {
            "marker": {
             "colorbar": {
              "outlinewidth": 0,
              "ticks": ""
             }
            },
            "type": "scattercarpet"
           }
          ],
          "scattergeo": [
           {
            "marker": {
             "colorbar": {
              "outlinewidth": 0,
              "ticks": ""
             }
            },
            "type": "scattergeo"
           }
          ],
          "scattergl": [
           {
            "marker": {
             "colorbar": {
              "outlinewidth": 0,
              "ticks": ""
             }
            },
            "type": "scattergl"
           }
          ],
          "scattermapbox": [
           {
            "marker": {
             "colorbar": {
              "outlinewidth": 0,
              "ticks": ""
             }
            },
            "type": "scattermapbox"
           }
          ],
          "scatterpolar": [
           {
            "marker": {
             "colorbar": {
              "outlinewidth": 0,
              "ticks": ""
             }
            },
            "type": "scatterpolar"
           }
          ],
          "scatterpolargl": [
           {
            "marker": {
             "colorbar": {
              "outlinewidth": 0,
              "ticks": ""
             }
            },
            "type": "scatterpolargl"
           }
          ],
          "scatterternary": [
           {
            "marker": {
             "colorbar": {
              "outlinewidth": 0,
              "ticks": ""
             }
            },
            "type": "scatterternary"
           }
          ],
          "surface": [
           {
            "colorbar": {
             "outlinewidth": 0,
             "ticks": ""
            },
            "colorscale": [
             [
              0,
              "#0d0887"
             ],
             [
              0.1111111111111111,
              "#46039f"
             ],
             [
              0.2222222222222222,
              "#7201a8"
             ],
             [
              0.3333333333333333,
              "#9c179e"
             ],
             [
              0.4444444444444444,
              "#bd3786"
             ],
             [
              0.5555555555555556,
              "#d8576b"
             ],
             [
              0.6666666666666666,
              "#ed7953"
             ],
             [
              0.7777777777777778,
              "#fb9f3a"
             ],
             [
              0.8888888888888888,
              "#fdca26"
             ],
             [
              1,
              "#f0f921"
             ]
            ],
            "type": "surface"
           }
          ],
          "table": [
           {
            "cells": {
             "fill": {
              "color": "#EBF0F8"
             },
             "line": {
              "color": "white"
             }
            },
            "header": {
             "fill": {
              "color": "#C8D4E3"
             },
             "line": {
              "color": "white"
             }
            },
            "type": "table"
           }
          ]
         },
         "layout": {
          "annotationdefaults": {
           "arrowcolor": "#2a3f5f",
           "arrowhead": 0,
           "arrowwidth": 1
          },
          "autotypenumbers": "strict",
          "coloraxis": {
           "colorbar": {
            "outlinewidth": 0,
            "ticks": ""
           }
          },
          "colorscale": {
           "diverging": [
            [
             0,
             "#8e0152"
            ],
            [
             0.1,
             "#c51b7d"
            ],
            [
             0.2,
             "#de77ae"
            ],
            [
             0.3,
             "#f1b6da"
            ],
            [
             0.4,
             "#fde0ef"
            ],
            [
             0.5,
             "#f7f7f7"
            ],
            [
             0.6,
             "#e6f5d0"
            ],
            [
             0.7,
             "#b8e186"
            ],
            [
             0.8,
             "#7fbc41"
            ],
            [
             0.9,
             "#4d9221"
            ],
            [
             1,
             "#276419"
            ]
           ],
           "sequential": [
            [
             0,
             "#0d0887"
            ],
            [
             0.1111111111111111,
             "#46039f"
            ],
            [
             0.2222222222222222,
             "#7201a8"
            ],
            [
             0.3333333333333333,
             "#9c179e"
            ],
            [
             0.4444444444444444,
             "#bd3786"
            ],
            [
             0.5555555555555556,
             "#d8576b"
            ],
            [
             0.6666666666666666,
             "#ed7953"
            ],
            [
             0.7777777777777778,
             "#fb9f3a"
            ],
            [
             0.8888888888888888,
             "#fdca26"
            ],
            [
             1,
             "#f0f921"
            ]
           ],
           "sequentialminus": [
            [
             0,
             "#0d0887"
            ],
            [
             0.1111111111111111,
             "#46039f"
            ],
            [
             0.2222222222222222,
             "#7201a8"
            ],
            [
             0.3333333333333333,
             "#9c179e"
            ],
            [
             0.4444444444444444,
             "#bd3786"
            ],
            [
             0.5555555555555556,
             "#d8576b"
            ],
            [
             0.6666666666666666,
             "#ed7953"
            ],
            [
             0.7777777777777778,
             "#fb9f3a"
            ],
            [
             0.8888888888888888,
             "#fdca26"
            ],
            [
             1,
             "#f0f921"
            ]
           ]
          },
          "colorway": [
           "#636efa",
           "#EF553B",
           "#00cc96",
           "#ab63fa",
           "#FFA15A",
           "#19d3f3",
           "#FF6692",
           "#B6E880",
           "#FF97FF",
           "#FECB52"
          ],
          "font": {
           "color": "#2a3f5f"
          },
          "geo": {
           "bgcolor": "white",
           "lakecolor": "white",
           "landcolor": "#E5ECF6",
           "showlakes": true,
           "showland": true,
           "subunitcolor": "white"
          },
          "hoverlabel": {
           "align": "left"
          },
          "hovermode": "closest",
          "mapbox": {
           "style": "light"
          },
          "paper_bgcolor": "white",
          "plot_bgcolor": "#E5ECF6",
          "polar": {
           "angularaxis": {
            "gridcolor": "white",
            "linecolor": "white",
            "ticks": ""
           },
           "bgcolor": "#E5ECF6",
           "radialaxis": {
            "gridcolor": "white",
            "linecolor": "white",
            "ticks": ""
           }
          },
          "scene": {
           "xaxis": {
            "backgroundcolor": "#E5ECF6",
            "gridcolor": "white",
            "gridwidth": 2,
            "linecolor": "white",
            "showbackground": true,
            "ticks": "",
            "zerolinecolor": "white"
           },
           "yaxis": {
            "backgroundcolor": "#E5ECF6",
            "gridcolor": "white",
            "gridwidth": 2,
            "linecolor": "white",
            "showbackground": true,
            "ticks": "",
            "zerolinecolor": "white"
           },
           "zaxis": {
            "backgroundcolor": "#E5ECF6",
            "gridcolor": "white",
            "gridwidth": 2,
            "linecolor": "white",
            "showbackground": true,
            "ticks": "",
            "zerolinecolor": "white"
           }
          },
          "shapedefaults": {
           "line": {
            "color": "#2a3f5f"
           }
          },
          "ternary": {
           "aaxis": {
            "gridcolor": "white",
            "linecolor": "white",
            "ticks": ""
           },
           "baxis": {
            "gridcolor": "white",
            "linecolor": "white",
            "ticks": ""
           },
           "bgcolor": "#E5ECF6",
           "caxis": {
            "gridcolor": "white",
            "linecolor": "white",
            "ticks": ""
           }
          },
          "title": {
           "x": 0.05
          },
          "xaxis": {
           "automargin": true,
           "gridcolor": "white",
           "linecolor": "white",
           "ticks": "",
           "title": {
            "standoff": 15
           },
           "zerolinecolor": "white",
           "zerolinewidth": 2
          },
          "yaxis": {
           "automargin": true,
           "gridcolor": "white",
           "linecolor": "white",
           "ticks": "",
           "title": {
            "standoff": 15
           },
           "zerolinecolor": "white",
           "zerolinewidth": 2
          }
         }
        },
        "xaxis": {
         "anchor": "y",
         "autorange": true,
         "domain": [
          0,
          1
         ],
         "range": [
          1990,
          2021
         ],
         "title": {
          "text": "Year"
         },
         "type": "linear"
        },
        "yaxis": {
         "anchor": "x",
         "autorange": true,
         "domain": [
          0,
          1
         ],
         "range": [
          8162511111.111112,
          115752288888.88889
         ],
         "title": {
          "text": "vhkm"
         },
         "type": "linear"
        }
       }
      },
      "image/png": "[encoded data removed]",
      "text/html": [
       "<div>                            <div id=\"3daef69f-6197-4f53-84b8-f06f9bfbbd25\" class=\"plotly-graph-div\" style=\"height:525px; width:100%;\"></div>            <script type=\"text/javascript\">                require([\"plotly\"], function(Plotly) {                    window.PLOTLYENV=window.PLOTLYENV || {};                                    if (document.getElementById(\"3daef69f-6197-4f53-84b8-f06f9bfbbd25\")) {                    Plotly.newPlot(                        \"3daef69f-6197-4f53-84b8-f06f9bfbbd25\",                        [{\"hovertemplate\":\"Sources=Road traffic, freight vehicles<br>Year=%{x}<br>vhkm=%{y}<extra></extra>\",\"legendgroup\":\"Road traffic, freight vehicles\",\"line\":{\"color\":\"#636efa\",\"dash\":\"solid\"},\"marker\":{\"symbol\":\"circle\"},\"mode\":\"lines\",\"name\":\"Road traffic, freight vehicles\",\"orientation\":\"v\",\"showlegend\":true,\"x\":[1990,1991,1992,1993,1994,1995,1996,1997,1998,1999,2000,2001,2002,2003,2004,2005,2006,2007,2008,2009,2010,2011,2012,2013,2014,2015,2016,2017,2018,2019,2020,2021,1990,1991,1992,1993,1994,1995,1996,1997,1998,1999,2000,2001,2002,2003,2004,2005,2006,2007,2008,2009,2010,2011,2012,2013,2014,2015,2016,2017,2018,2019,2020,2021,1990,1991,1992,1993,1994,1995,1996,1997,1998,1999,2000,2001,2002,2003,2004,2005,2006,2007,2008,2009,2010,2011,2012,2013,2014,2015,2016,2017,2018,2019,2020,2021,1990,1991,1992,1993,1994,1995,1996,1997,1998,1999,2000,2001,2002,2003,2004,2005,2006,2007,2008,2009,2010,2011,2012,2013,2014,2015,2016,2017,2018,2019,2020,2021],\"xaxis\":\"x\",\"y\":[13542000000.0,14363000000.0,15650000000.0,16572000000.0,16647000000.0,16907000000.0,17210000000.0,18076000000.0,19190000000.0,20895000000.0,22116000000.0,22991000000.0,23214400000.0,23620200000.0,24405900000.0,24705900000.0,24199200000.0,24705600000.0,25173000000.0,24634600000.0,24480200000.0,24169200000.0,23656900000.0,22926500000.0,22915600000.0,23467700000.0,24475200000.0,25119300000.0,25686600000.0,26186800000.0,25544500000.0,null,13542000000.0,14363000000.0,15650000000.0,16572000000.0,16647000000.0,16907000000.0,17210000000.0,18076000000.0,19190000000.0,20895000000.0,22116000000.0,22991000000.0,23214400000.0,23620200000.0,24405900000.0,24705900000.0,24199200000.0,24705600000.0,25173000000.0,24634600000.0,24480200000.0,24169200000.0,23656900000.0,22926500000.0,22915600000.0,23467700000.0,24475200000.0,25119300000.0,25686600000.0,26186800000.0,25544500000.0,null,13542000000.0,14363000000.0,15650000000.0,16572000000.0,16647000000.0,16907000000.0,17210000000.0,18076000000.0,19190000000.0,20895000000.0,22116000000.0,22991000000.0,23214400000.0,23620200000.0,24405900000.0,24705900000.0,24199200000.0,24705600000.0,25173000000.0,24634600000.0,24480200000.0,24169200000.0,23656900000.0,22926500000.0,22915600000.0,23467700000.0,24475200000.0,25119300000.0,25686600000.0,26186800000.0,25544500000.0,null,13542000000.0,14363000000.0,15650000000.0,16572000000.0,16647000000.0,16907000000.0,17210000000.0,18076000000.0,19190000000.0,20895000000.0,22116000000.0,22991000000.0,23214400000.0,23620200000.0,24405900000.0,24705900000.0,24199200000.0,24705600000.0,25173000000.0,24634600000.0,24480200000.0,24169200000.0,23656900000.0,22926500000.0,22915600000.0,23467700000.0,24475200000.0,25119300000.0,25686600000.0,26186800000.0,25544500000.0,null],\"yaxis\":\"y\",\"type\":\"scatter\"},{\"hovertemplate\":\"Sources=Road traffic, passenger cars<br>Year=%{x}<br>vhkm=%{y}<extra></extra>\",\"legendgroup\":\"Road traffic, passenger cars\",\"line\":{\"color\":\"#EF553B\",\"dash\":\"solid\"},\"marker\":{\"symbol\":\"circle\"},\"mode\":\"lines\",\"name\":\"Road traffic, passenger cars\",\"orientation\":\"v\",\"showlegend\":true,\"x\":[1990,1991,1992,1993,1994,1995,1996,1997,1998,1999,2000,2001,2002,2003,2004,2005,2006,2007,2008,2009,2010,2011,2012,2013,2014,2015,2016,2017,2018,2019,2020,2021,1990,1991,1992,1993,1994,1995,1996,1997,1998,1999,2000,2001,2002,2003,2004,2005,2006,2007,2008,2009,2010,2011,2012,2013,2014,2015,2016,2017,2018,2019,2020,2021,1990,1991,1992,1993,1994,1995,1996,1997,1998,1999,2000,2001,2002,2003,2004,2005,2006,2007,2008,2009,2010,2011,2012,2013,2014,2015,2016,2017,2018,2019,2020,2021,1990,1991,1992,1993,1994,1995,1996,1997,1998,1999,2000,2001,2002,2003,2004,2005,2006,2007,2008,2009,2010,2011,2012,2013,2014,2015,2016,2017,2018,2019,2020,2021],\"xaxis\":\"x\",\"y\":[81871000000.0,81164000000.0,84626000000.0,83538000000.0,85226000000.0,84152000000.0,85453000000.0,87256000000.0,89210000000.0,92573000000.0,93198000000.0,94262800000.0,96254200000.0,97414300000.0,99939900000.0,99504500000.0,100468300000.0,102218400000.0,101250200000.0,101514000000.0,102307600000.0,102956400000.0,103122100000.0,103211200000.0,103699100000.0,105088900000.0,107708100000.0,108936100000.0,110355900000.0,110372800000.0,92654200000.0,null,81871000000.0,81164000000.0,84626000000.0,83538000000.0,85226000000.0,84152000000.0,85453000000.0,87256000000.0,89210000000.0,92573000000.0,93198000000.0,94262800000.0,96254200000.0,97414300000.0,99939900000.0,99504500000.0,100468300000.0,102218400000.0,101250200000.0,101514000000.0,102307600000.0,102956400000.0,103122100000.0,103211200000.0,103699100000.0,105088900000.0,107708100000.0,108936100000.0,110355900000.0,110372800000.0,92654200000.0,null,81871000000.0,81164000000.0,84626000000.0,83538000000.0,85226000000.0,84152000000.0,85453000000.0,87256000000.0,89210000000.0,92573000000.0,93198000000.0,94262800000.0,96254200000.0,97414300000.0,99939900000.0,99504500000.0,100468300000.0,102218400000.0,101250200000.0,101514000000.0,102307600000.0,102956400000.0,103122100000.0,103211200000.0,103699100000.0,105088900000.0,107708100000.0,108936100000.0,110355900000.0,110372800000.0,92654200000.0,null,81871000000.0,81164000000.0,84626000000.0,83538000000.0,85226000000.0,84152000000.0,85453000000.0,87256000000.0,89210000000.0,92573000000.0,93198000000.0,94262800000.0,96254200000.0,97414300000.0,99939900000.0,99504500000.0,100468300000.0,102218400000.0,101250200000.0,101514000000.0,102307600000.0,102956400000.0,103122100000.0,103211200000.0,103699100000.0,105088900000.0,107708100000.0,108936100000.0,110355900000.0,110372800000.0,92654200000.0,null],\"yaxis\":\"y\",\"type\":\"scatter\"}],                        {\"template\":{\"data\":{\"histogram2dcontour\":[{\"type\":\"histogram2dcontour\",\"colorbar\":{\"outlinewidth\":0,\"ticks\":\"\"},\"colorscale\":[[0.0,\"#0d0887\"],[0.1111111111111111,\"#46039f\"],[0.2222222222222222,\"#7201a8\"],[0.3333333333333333,\"#9c179e\"],[0.4444444444444444,\"#bd3786\"],[0.5555555555555556,\"#d8576b\"],[0.6666666666666666,\"#ed7953\"],[0.7777777777777778,\"#fb9f3a\"],[0.8888888888888888,\"#fdca26\"],[1.0,\"#f0f921\"]]}],\"choropleth\":[{\"type\":\"choropleth\",\"colorbar\":{\"outlinewidth\":0,\"ticks\":\"\"}}],\"histogram2d\":[{\"type\":\"histogram2d\",\"colorbar\":{\"outlinewidth\":0,\"ticks\":\"\"},\"colorscale\":[[0.0,\"#0d0887\"],[0.1111111111111111,\"#46039f\"],[0.2222222222222222,\"#7201a8\"],[0.3333333333333333,\"#9c179e\"],[0.4444444444444444,\"#bd3786\"],[0.5555555555555556,\"#d8576b\"],[0.6666666666666666,\"#ed7953\"],[0.7777777777777778,\"#fb9f3a\"],[0.8888888888888888,\"#fdca26\"],[1.0,\"#f0f921\"]]}],\"heatmap\":[{\"type\":\"heatmap\",\"colorbar\":{\"outlinewidth\":0,\"ticks\":\"\"},\"colorscale\":[[0.0,\"#0d0887\"],[0.1111111111111111,\"#46039f\"],[0.2222222222222222,\"#7201a8\"],[0.3333333333333333,\"#9c179e\"],[0.4444444444444444,\"#bd3786\"],[0.5555555555555556,\"#d8576b\"],[0.6666666666666666,\"#ed7953\"],[0.7777777777777778,\"#fb9f3a\"],[0.8888888888888888,\"#fdca26\"],[1.0,\"#f0f921\"]]}],\"heatmapgl\":[{\"type\":\"heatmapgl\",\"colorbar\":{\"outlinewidth\":0,\"ticks\":\"\"},\"colorscale\":[[0.0,\"#0d0887\"],[0.1111111111111111,\"#46039f\"],[0.2222222222222222,\"#7201a8\"],[0.3333333333333333,\"#9c179e\"],[0.4444444444444444,\"#bd3786\"],[0.5555555555555556,\"#d8576b\"],[0.6666666666666666,\"#ed7953\"],[0.7777777777777778,\"#fb9f3a\"],[0.8888888888888888,\"#fdca26\"],[1.0,\"#f0f921\"]]}],\"contourcarpet\":[{\"type\":\"contourcarpet\",\"colorbar\":{\"outlinewidth\":0,\"ticks\":\"\"}}],\"contour\":[{\"type\":\"contour\",\"colorbar\":{\"outlinewidth\":0,\"ticks\":\"\"},\"colorscale\":[[0.0,\"#0d0887\"],[0.1111111111111111,\"#46039f\"],[0.2222222222222222,\"#7201a8\"],[0.3333333333333333,\"#9c179e\"],[0.4444444444444444,\"#bd3786\"],[0.5555555555555556,\"#d8576b\"],[0.6666666666666666,\"#ed7953\"],[0.7777777777777778,\"#fb9f3a\"],[0.8888888888888888,\"#fdca26\"],[1.0,\"#f0f921\"]]}],\"surface\":[{\"type\":\"surface\",\"colorbar\":{\"outlinewidth\":0,\"ticks\":\"\"},\"colorscale\":[[0.0,\"#0d0887\"],[0.1111111111111111,\"#46039f\"],[0.2222222222222222,\"#7201a8\"],[0.3333333333333333,\"#9c179e\"],[0.4444444444444444,\"#bd3786\"],[0.5555555555555556,\"#d8576b\"],[0.6666666666666666,\"#ed7953\"],[0.7777777777777778,\"#fb9f3a\"],[0.8888888888888888,\"#fdca26\"],[1.0,\"#f0f921\"]]}],\"mesh3d\":[{\"type\":\"mesh3d\",\"colorbar\":{\"outlinewidth\":0,\"ticks\":\"\"}}],\"scatter\":[{\"fillpattern\":{\"fillmode\":\"overlay\",\"size\":10,\"solidity\":0.2},\"type\":\"scatter\"}],\"parcoords\":[{\"type\":\"parcoords\",\"line\":{\"colorbar\":{\"outlinewidth\":0,\"ticks\":\"\"}}}],\"scatterpolargl\":[{\"type\":\"scatterpolargl\",\"marker\":{\"colorbar\":{\"outlinewidth\":0,\"ticks\":\"\"}}}],\"bar\":[{\"error_x\":{\"color\":\"#2a3f5f\"},\"error_y\":{\"color\":\"#2a3f5f\"},\"marker\":{\"line\":{\"color\":\"#E5ECF6\",\"width\":0.5},\"pattern\":{\"fillmode\":\"overlay\",\"size\":10,\"solidity\":0.2}},\"type\":\"bar\"}],\"scattergeo\":[{\"type\":\"scattergeo\",\"marker\":{\"colorbar\":{\"outlinewidth\":0,\"ticks\":\"\"}}}],\"scatterpolar\":[{\"type\":\"scatterpolar\",\"marker\":{\"colorbar\":{\"outlinewidth\":0,\"ticks\":\"\"}}}],\"histogram\":[{\"marker\":{\"pattern\":{\"fillmode\":\"overlay\",\"size\":10,\"solidity\":0.2}},\"type\":\"histogram\"}],\"scattergl\":[{\"type\":\"scattergl\",\"marker\":{\"colorbar\":{\"outlinewidth\":0,\"ticks\":\"\"}}}],\"scatter3d\":[{\"type\":\"scatter3d\",\"line\":{\"colorbar\":{\"outlinewidth\":0,\"ticks\":\"\"}},\"marker\":{\"colorbar\":{\"outlinewidth\":0,\"ticks\":\"\"}}}],\"scattermapbox\":[{\"type\":\"scattermapbox\",\"marker\":{\"colorbar\":{\"outlinewidth\":0,\"ticks\":\"\"}}}],\"scatterternary\":[{\"type\":\"scatterternary\",\"marker\":{\"colorbar\":{\"outlinewidth\":0,\"ticks\":\"\"}}}],\"scattercarpet\":[{\"type\":\"scattercarpet\",\"marker\":{\"colorbar\":{\"outlinewidth\":0,\"ticks\":\"\"}}}],\"carpet\":[{\"aaxis\":{\"endlinecolor\":\"#2a3f5f\",\"gridcolor\":\"white\",\"linecolor\":\"white\",\"minorgridcolor\":\"white\",\"startlinecolor\":\"#2a3f5f\"},\"baxis\":{\"endlinecolor\":\"#2a3f5f\",\"gridcolor\":\"white\",\"linecolor\":\"white\",\"minorgridcolor\":\"white\",\"startlinecolor\":\"#2a3f5f\"},\"type\":\"carpet\"}],\"table\":[{\"cells\":{\"fill\":{\"color\":\"#EBF0F8\"},\"line\":{\"color\":\"white\"}},\"header\":{\"fill\":{\"color\":\"#C8D4E3\"},\"line\":{\"color\":\"white\"}},\"type\":\"table\"}],\"barpolar\":[{\"marker\":{\"line\":{\"color\":\"#E5ECF6\",\"width\":0.5},\"pattern\":{\"fillmode\":\"overlay\",\"size\":10,\"solidity\":0.2}},\"type\":\"barpolar\"}],\"pie\":[{\"automargin\":true,\"type\":\"pie\"}]},\"layout\":{\"autotypenumbers\":\"strict\",\"colorway\":[\"#636efa\",\"#EF553B\",\"#00cc96\",\"#ab63fa\",\"#FFA15A\",\"#19d3f3\",\"#FF6692\",\"#B6E880\",\"#FF97FF\",\"#FECB52\"],\"font\":{\"color\":\"#2a3f5f\"},\"hovermode\":\"closest\",\"hoverlabel\":{\"align\":\"left\"},\"paper_bgcolor\":\"white\",\"plot_bgcolor\":\"#E5ECF6\",\"polar\":{\"bgcolor\":\"#E5ECF6\",\"angularaxis\":{\"gridcolor\":\"white\",\"linecolor\":\"white\",\"ticks\":\"\"},\"radialaxis\":{\"gridcolor\":\"white\",\"linecolor\":\"white\",\"ticks\":\"\"}},\"ternary\":{\"bgcolor\":\"#E5ECF6\",\"aaxis\":{\"gridcolor\":\"white\",\"linecolor\":\"white\",\"ticks\":\"\"},\"baxis\":{\"gridcolor\":\"white\",\"linecolor\":\"white\",\"ticks\":\"\"},\"caxis\":{\"gridcolor\":\"white\",\"linecolor\":\"white\",\"ticks\":\"\"}},\"coloraxis\":{\"colorbar\":{\"outlinewidth\":0,\"ticks\":\"\"}},\"colorscale\":{\"sequential\":[[0.0,\"#0d0887\"],[0.1111111111111111,\"#46039f\"],[0.2222222222222222,\"#7201a8\"],[0.3333333333333333,\"#9c179e\"],[0.4444444444444444,\"#bd3786\"],[0.5555555555555556,\"#d8576b\"],[0.6666666666666666,\"#ed7953\"],[0.7777777777777778,\"#fb9f3a\"],[0.8888888888888888,\"#fdca26\"],[1.0,\"#f0f921\"]],\"sequentialminus\":[[0.0,\"#0d0887\"],[0.1111111111111111,\"#46039f\"],[0.2222222222222222,\"#7201a8\"],[0.3333333333333333,\"#9c179e\"],[0.4444444444444444,\"#bd3786\"],[0.5555555555555556,\"#d8576b\"],[0.6666666666666666,\"#ed7953\"],[0.7777777777777778,\"#fb9f3a\"],[0.8888888888888888,\"#fdca26\"],[1.0,\"#f0f921\"]],\"diverging\":[[0,\"#8e0152\"],[0.1,\"#c51b7d\"],[0.2,\"#de77ae\"],[0.3,\"#f1b6da\"],[0.4,\"#fde0ef\"],[0.5,\"#f7f7f7\"],[0.6,\"#e6f5d0\"],[0.7,\"#b8e186\"],[0.8,\"#7fbc41\"],[0.9,\"#4d9221\"],[1,\"#276419\"]]},\"xaxis\":{\"gridcolor\":\"white\",\"linecolor\":\"white\",\"ticks\":\"\",\"title\":{\"standoff\":15},\"zerolinecolor\":\"white\",\"automargin\":true,\"zerolinewidth\":2},\"yaxis\":{\"gridcolor\":\"white\",\"linecolor\":\"white\",\"ticks\":\"\",\"title\":{\"standoff\":15},\"zerolinecolor\":\"white\",\"automargin\":true,\"zerolinewidth\":2},\"scene\":{\"xaxis\":{\"backgroundcolor\":\"#E5ECF6\",\"gridcolor\":\"white\",\"linecolor\":\"white\",\"showbackground\":true,\"ticks\":\"\",\"zerolinecolor\":\"white\",\"gridwidth\":2},\"yaxis\":{\"backgroundcolor\":\"#E5ECF6\",\"gridcolor\":\"white\",\"linecolor\":\"white\",\"showbackground\":true,\"ticks\":\"\",\"zerolinecolor\":\"white\",\"gridwidth\":2},\"zaxis\":{\"backgroundcolor\":\"#E5ECF6\",\"gridcolor\":\"white\",\"linecolor\":\"white\",\"showbackground\":true,\"ticks\":\"\",\"zerolinecolor\":\"white\",\"gridwidth\":2}},\"shapedefaults\":{\"line\":{\"color\":\"#2a3f5f\"}},\"annotationdefaults\":{\"arrowcolor\":\"#2a3f5f\",\"arrowhead\":0,\"arrowwidth\":1},\"geo\":{\"bgcolor\":\"white\",\"landcolor\":\"#E5ECF6\",\"subunitcolor\":\"white\",\"showland\":true,\"showlakes\":true,\"lakecolor\":\"white\"},\"title\":{\"x\":0.05},\"mapbox\":{\"style\":\"light\"}}},\"xaxis\":{\"anchor\":\"y\",\"domain\":[0.0,1.0],\"title\":{\"text\":\"Year\"}},\"yaxis\":{\"anchor\":\"x\",\"domain\":[0.0,1.0],\"title\":{\"text\":\"vhkm\"}},\"legend\":{\"title\":{\"text\":\"Sources\"},\"tracegroupgap\":0},\"margin\":{\"t\":60}},                        {\"responsive\": true}                    ).then(function(){\n",
       "                            \n",
       "var gd = document.getElementById('3daef69f-6197-4f53-84b8-f06f9bfbbd25');\n",
       "var x = new MutationObserver(function (mutations, observer) {{\n",
       "        var display = window.getComputedStyle(gd).display;\n",
       "        if (!display || display === 'none') {{\n",
       "            console.log([gd, 'removed!']);\n",
       "            Plotly.purge(gd);\n",
       "            observer.disconnect();\n",
       "        }}\n",
       "}});\n",
       "\n",
       "// Listen for the removal of the full notebook cells\n",
       "var notebookContainer = gd.closest('#notebook-container');\n",
       "if (notebookContainer) {{\n",
       "    x.observe(notebookContainer, {childList: true});\n",
       "}}\n",
       "\n",
       "// Listen for the clearing of the current output cell\n",
       "var outputEl = gd.closest('.output');\n",
       "if (outputEl) {{\n",
       "    x.observe(outputEl, {childList: true});\n",
       "}}\n",
       "\n",
       "                        })                };                });            </script>        </div>"
      ]
     },
     "metadata": {},
     "output_type": "display_data"
    }
   ],
   "source": [
    "px.line(vehicle_data, x=\"Year\", y=\"vhkm\", color=\"Sources\")"
   ]
  },
  {
   "cell_type": "code",
   "execution_count": 13,
   "metadata": {},
   "outputs": [
    {
     "data": {
      "application/vnd.plotly.v1+json": {
       "config": {
        "plotlyServerURL": "https://plot.ly"
       },
       "data": [
        {
         "hovertemplate": "Emission Type=Carbon dioxide (CO2)<br>Sources=Road traffic, freight vehicles<br>vhkm=%{x}<br>Emission=%{y}<br>Year=%{text}<extra></extra>",
         "legendgroup": "Carbon dioxide (CO2)",
         "marker": {
          "color": "#636efa",
          "symbol": "circle"
         },
         "mode": "markers+text",
         "name": "Carbon dioxide (CO2)",
         "orientation": "v",
         "showlegend": true,
         "text": [
          1990,
          1991,
          1992,
          1993,
          1994,
          1995,
          1996,
          1997,
          1998,
          1999,
          2000,
          2001,
          2002,
          2003,
          2004,
          2005,
          2006,
          2007,
          2008,
          2009,
          2010,
          2011,
          2012,
          2013,
          2014,
          2015,
          2016,
          2017,
          2018,
          2019,
          2020,
          2021
         ],
         "type": "scatter",
         "visible": "legendonly",
         "x": [
          13542000000,
          14363000000,
          15650000000,
          16572000000,
          16647000000,
          16907000000,
          17210000000,
          18076000000,
          19190000000,
          20895000000,
          22116000000,
          22991000000,
          23214400000,
          23620200000,
          24405900000,
          24705900000,
          24199200000,
          24705600000,
          25173000000,
          24634600000,
          24480200000,
          24169200000,
          23656900000,
          22926500000,
          22915600000,
          23467700000,
          24475200000,
          25119300000,
          25686600000,
          26186800000,
          25544500000,
          null
         ],
         "xaxis": "x2",
         "y": [
          7600000000,
          7900000000,
          8400000000,
          8500000000,
          8500000000,
          8600000000,
          8600000000,
          8800000000,
          9100000000,
          9800000000,
          9700000000,
          9800000000,
          9800000000,
          9900000000,
          10100000000,
          10200000000,
          10200000000,
          10300000000,
          10600000000,
          10400000000,
          10400000000,
          10100000000,
          9900000000,
          9500000000,
          9400000000,
          9800000000,
          10200000000,
          10400000000,
          10600000000,
          10700000000,
          10600000000,
          11000000000
         ],
         "yaxis": "y2"
        },
        {
         "hovertemplate": "Emission Type=Carbon dioxide (CO2)<br>Sources=Road traffic, passenger cars<br>vhkm=%{x}<br>Emission=%{y}<br>Year=%{text}<extra></extra>",
         "legendgroup": "Carbon dioxide (CO2)",
         "marker": {
          "color": "#636efa",
          "symbol": "circle"
         },
         "mode": "markers+text",
         "name": "Carbon dioxide (CO2)",
         "orientation": "v",
         "showlegend": false,
         "text": [
          1990,
          1991,
          1992,
          1993,
          1994,
          1995,
          1996,
          1997,
          1998,
          1999,
          2000,
          2001,
          2002,
          2003,
          2004,
          2005,
          2006,
          2007,
          2008,
          2009,
          2010,
          2011,
          2012,
          2013,
          2014,
          2015,
          2016,
          2017,
          2018,
          2019,
          2020,
          2021
         ],
         "type": "scatter",
         "visible": "legendonly",
         "x": [
          81871000000,
          81164000000,
          84626000000,
          83538000000,
          85226000000,
          84152000000,
          85453000000,
          87256000000,
          89210000000,
          92573000000,
          93198000000,
          94262800000,
          96254200000,
          97414300000,
          99939900000,
          99504500000,
          100468300000,
          102218400000,
          101250200000,
          101514000000,
          102307600000,
          102956400000,
          103122100000,
          103211200000,
          103699100000,
          105088900000,
          107708100000,
          108936100000,
          110355900000,
          110372800000,
          92654200000,
          null
         ],
         "xaxis": "x",
         "y": [
          15500000000,
          15400000000,
          16100000000,
          15900000000,
          16300000000,
          16100000000,
          16300000000,
          16700000000,
          17000000000,
          17700000000,
          17800000000,
          18000000000,
          18400000000,
          18600000000,
          19100000000,
          18800000000,
          18800000000,
          18600000000,
          18300000000,
          18100000000,
          18000000000,
          17900000000,
          17600000000,
          17400000000,
          17200000000,
          17300000000,
          17600000000,
          17700000000,
          17800000000,
          17600000000,
          14600000000,
          14800000000
         ],
         "yaxis": "y"
        },
        {
         "hovertemplate": "Emission Type=Carbon monoxide (CO)<br>Sources=Road traffic, freight vehicles<br>vhkm=%{x}<br>Emission=%{y}<br>Year=%{text}<extra></extra>",
         "legendgroup": "Carbon monoxide (CO)",
         "marker": {
          "color": "#EF553B",
          "symbol": "circle"
         },
         "mode": "markers+text",
         "name": "Carbon monoxide (CO)",
         "orientation": "v",
         "showlegend": true,
         "text": [
          1990,
          1991,
          1992,
          1993,
          1994,
          1995,
          1996,
          1997,
          1998,
          1999,
          2000,
          2001,
          2002,
          2003,
          2004,
          2005,
          2006,
          2007,
          2008,
          2009,
          2010,
          2011,
          2012,
          2013,
          2014,
          2015,
          2016,
          2017,
          2018,
          2019,
          2020,
          2021
         ],
         "type": "scatter",
         "visible": true,
         "x": [
          13542000000,
          14363000000,
          15650000000,
          16572000000,
          16647000000,
          16907000000,
          17210000000,
          18076000000,
          19190000000,
          20895000000,
          22116000000,
          22991000000,
          23214400000,
          23620200000,
          24405900000,
          24705900000,
          24199200000,
          24705600000,
          25173000000,
          24634600000,
          24480200000,
          24169200000,
          23656900000,
          22926500000,
          22915600000,
          23467700000,
          24475200000,
          25119300000,
          25686600000,
          26186800000,
          25544500000,
          null
         ],
         "xaxis": "x2",
         "y": [
          68600000,
          66200000,
          65000000,
          62300000,
          56500000,
          50700000,
          44700000,
          39800000,
          35800000,
          33200000.000000004,
          30100000,
          27700000,
          25500000,
          23700000,
          23100000,
          22000000,
          21400000,
          21500000,
          21600000,
          21100000,
          20300000,
          19400000,
          18300000,
          16600000.000000002,
          15400000,
          14300000,
          15000000,
          15400000,
          10900000,
          9700000,
          8700000,
          9100000
         ],
         "yaxis": "y2"
        },
        {
         "hovertemplate": "Emission Type=Carbon monoxide (CO)<br>Sources=Road traffic, passenger cars<br>vhkm=%{x}<br>Emission=%{y}<br>Year=%{text}<extra></extra>",
         "legendgroup": "Carbon monoxide (CO)",
         "marker": {
          "color": "#EF553B",
          "symbol": "circle"
         },
         "mode": "markers+text",
         "name": "Carbon monoxide (CO)",
         "orientation": "v",
         "showlegend": false,
         "text": [
          1990,
          1991,
          1992,
          1993,
          1994,
          1995,
          1996,
          1997,
          1998,
          1999,
          2000,
          2001,
          2002,
          2003,
          2004,
          2005,
          2006,
          2007,
          2008,
          2009,
          2010,
          2011,
          2012,
          2013,
          2014,
          2015,
          2016,
          2017,
          2018,
          2019,
          2020,
          2021
         ],
         "type": "scatter",
         "visible": true,
         "x": [
          81871000000,
          81164000000,
          84626000000,
          83538000000,
          85226000000,
          84152000000,
          85453000000,
          87256000000,
          89210000000,
          92573000000,
          93198000000,
          94262800000,
          96254200000,
          97414300000,
          99939900000,
          99504500000,
          100468300000,
          102218400000,
          101250200000,
          101514000000,
          102307600000,
          102956400000,
          103122100000,
          103211200000,
          103699100000,
          105088900000,
          107708100000,
          108936100000,
          110355900000,
          110372800000,
          92654200000,
          null
         ],
         "xaxis": "x",
         "y": [
          592800000,
          502600000,
          475400000,
          427000000,
          398200000,
          379500000,
          364500000,
          342400000,
          323800000,
          316100000,
          303400000,
          304600000,
          309700000,
          313100000,
          314900000,
          307800000,
          305200000,
          308200000,
          300000000,
          294300000,
          289900000,
          283300000,
          271900000,
          262800000,
          249500000,
          246700000,
          236800000,
          237600000,
          221500000,
          206400000,
          166100000,
          159000000
         ],
         "yaxis": "y"
        },
        {
         "hovertemplate": "Emission Type=Nitrogen oxides (NOx)<br>Sources=Road traffic, freight vehicles<br>vhkm=%{x}<br>Emission=%{y}<br>Year=%{text}<extra></extra>",
         "legendgroup": "Nitrogen oxides (NOx)",
         "marker": {
          "color": "#00cc96",
          "symbol": "circle"
         },
         "mode": "markers+text",
         "name": "Nitrogen oxides (NOx)",
         "orientation": "v",
         "showlegend": true,
         "text": [
          1990,
          1991,
          1992,
          1993,
          1994,
          1995,
          1996,
          1997,
          1998,
          1999,
          2000,
          2001,
          2002,
          2003,
          2004,
          2005,
          2006,
          2007,
          2008,
          2009,
          2010,
          2011,
          2012,
          2013,
          2014,
          2015,
          2016,
          2017,
          2018,
          2019,
          2020,
          2021
         ],
         "type": "scatter",
         "visible": "legendonly",
         "x": [
          13542000000,
          14363000000,
          15650000000,
          16572000000,
          16647000000,
          16907000000,
          17210000000,
          18076000000,
          19190000000,
          20895000000,
          22116000000,
          22991000000,
          23214400000,
          23620200000,
          24405900000,
          24705900000,
          24199200000,
          24705600000,
          25173000000,
          24634600000,
          24480200000,
          24169200000,
          23656900000,
          22926500000,
          22915600000,
          23467700000,
          24475200000,
          25119300000,
          25686600000,
          26186800000,
          25544500000,
          null
         ],
         "xaxis": "x2",
         "y": [
          104600000,
          108200000,
          110100000,
          105300000,
          98900000,
          95100000,
          89300000,
          86300000,
          84500000,
          87600000,
          86400000,
          85200000,
          83600000,
          82800000,
          83500000,
          84500000,
          84300000,
          85200000,
          84200000,
          79400000,
          75000000,
          71100000,
          66500000,
          60700000,
          56900000,
          55000000,
          53100000,
          50100000,
          46200000,
          42400000,
          38400000,
          37000000
         ],
         "yaxis": "y2"
        },
        {
         "hovertemplate": "Emission Type=Nitrogen oxides (NOx)<br>Sources=Road traffic, passenger cars<br>vhkm=%{x}<br>Emission=%{y}<br>Year=%{text}<extra></extra>",
         "legendgroup": "Nitrogen oxides (NOx)",
         "marker": {
          "color": "#00cc96",
          "symbol": "circle"
         },
         "mode": "markers+text",
         "name": "Nitrogen oxides (NOx)",
         "orientation": "v",
         "showlegend": false,
         "text": [
          1990,
          1991,
          1992,
          1993,
          1994,
          1995,
          1996,
          1997,
          1998,
          1999,
          2000,
          2001,
          2002,
          2003,
          2004,
          2005,
          2006,
          2007,
          2008,
          2009,
          2010,
          2011,
          2012,
          2013,
          2014,
          2015,
          2016,
          2017,
          2018,
          2019,
          2020,
          2021
         ],
         "type": "scatter",
         "visible": "legendonly",
         "x": [
          81871000000,
          81164000000,
          84626000000,
          83538000000,
          85226000000,
          84152000000,
          85453000000,
          87256000000,
          89210000000,
          92573000000,
          93198000000,
          94262800000,
          96254200000,
          97414300000,
          99939900000,
          99504500000,
          100468300000,
          102218400000,
          101250200000,
          101514000000,
          102307600000,
          102956400000,
          103122100000,
          103211200000,
          103699100000,
          105088900000,
          107708100000,
          108936100000,
          110355900000,
          110372800000,
          92654200000,
          null
         ],
         "xaxis": "x",
         "y": [
          142700000,
          130400000,
          121900000,
          109300000,
          100600000,
          91200000,
          86200000,
          79500000,
          73800000,
          70100000,
          63000000,
          57500000,
          53100000,
          49500000,
          46900000,
          43300000,
          40900000,
          39100000,
          36700000,
          34400000,
          33299999.999999996,
          32900000,
          32100000,
          30900000,
          29700000,
          30200000,
          28900000,
          29200000,
          27600000,
          25700000,
          19600000,
          19100000
         ],
         "yaxis": "y"
        },
        {
         "hovertemplate": "Emission Type=PM10 (Particulate matter)<br>Sources=Road traffic, freight vehicles<br>vhkm=%{x}<br>Emission=%{y}<br>Year=%{text}<extra></extra>",
         "legendgroup": "PM10 (Particulate matter)",
         "marker": {
          "color": "#ab63fa",
          "symbol": "circle"
         },
         "mode": "markers+text",
         "name": "PM10 (Particulate matter)",
         "orientation": "v",
         "showlegend": true,
         "text": [
          1990,
          1991,
          1992,
          1993,
          1994,
          1995,
          1996,
          1997,
          1998,
          1999,
          2000,
          2001,
          2002,
          2003,
          2004,
          2005,
          2006,
          2007,
          2008,
          2009,
          2010,
          2011,
          2012,
          2013,
          2014,
          2015,
          2016,
          2017,
          2018,
          2019,
          2020,
          2021
         ],
         "type": "scatter",
         "visible": "legendonly",
         "x": [
          13542000000,
          14363000000,
          15650000000,
          16572000000,
          16647000000,
          16907000000,
          17210000000,
          18076000000,
          19190000000,
          20895000000,
          22116000000,
          22991000000,
          23214400000,
          23620200000,
          24405900000,
          24705900000,
          24199200000,
          24705600000,
          25173000000,
          24634600000,
          24480200000,
          24169200000,
          23656900000,
          22926500000,
          22915600000,
          23467700000,
          24475200000,
          25119300000,
          25686600000,
          26186800000,
          25544500000,
          null
         ],
         "xaxis": "x2",
         "y": [
          8800000,
          8900000,
          8800000,
          8300000.000000001,
          7600000,
          7000000,
          6400000,
          5900000,
          5600000,
          5600000,
          5400000,
          5200000,
          4800000,
          4500000,
          4400000,
          4200000,
          3900000,
          3700000,
          3500000,
          3100000,
          2800000,
          2600000,
          2300000,
          2000000,
          1900000,
          1800000,
          1800000,
          1700000,
          1600000,
          1500000,
          1500000,
          1500000
         ],
         "yaxis": "y2"
        },
        {
         "hovertemplate": "Emission Type=PM10 (Particulate matter)<br>Sources=Road traffic, passenger cars<br>vhkm=%{x}<br>Emission=%{y}<br>Year=%{text}<extra></extra>",
         "legendgroup": "PM10 (Particulate matter)",
         "marker": {
          "color": "#ab63fa",
          "symbol": "circle"
         },
         "mode": "markers+text",
         "name": "PM10 (Particulate matter)",
         "orientation": "v",
         "showlegend": false,
         "text": [
          1990,
          1991,
          1992,
          1993,
          1994,
          1995,
          1996,
          1997,
          1998,
          1999,
          2000,
          2001,
          2002,
          2003,
          2004,
          2005,
          2006,
          2007,
          2008,
          2009,
          2010,
          2011,
          2012,
          2013,
          2014,
          2015,
          2016,
          2017,
          2018,
          2019,
          2020,
          2021
         ],
         "type": "scatter",
         "visible": "legendonly",
         "x": [
          81871000000,
          81164000000,
          84626000000,
          83538000000,
          85226000000,
          84152000000,
          85453000000,
          87256000000,
          89210000000,
          92573000000,
          93198000000,
          94262800000,
          96254200000,
          97414300000,
          99939900000,
          99504500000,
          100468300000,
          102218400000,
          101250200000,
          101514000000,
          102307600000,
          102956400000,
          103122100000,
          103211200000,
          103699100000,
          105088900000,
          107708100000,
          108936100000,
          110355900000,
          110372800000,
          92654200000,
          null
         ],
         "xaxis": "x",
         "y": [
          6900000,
          6200000,
          6000000,
          5500000,
          5300000,
          5000000,
          4800000,
          4600000,
          4500000,
          4500000,
          4400000,
          4200000,
          4000000,
          3900000,
          3800000,
          3700000,
          3600000,
          3500000,
          3300000,
          3100000,
          3000000,
          2900000,
          2700000,
          2500000,
          2400000,
          2400000,
          2300000,
          2300000,
          2300000,
          2200000,
          1800000,
          1900000
         ],
         "yaxis": "y"
        }
       ],
       "layout": {
        "annotations": [
         {
          "font": {},
          "showarrow": false,
          "text": "Sources=Road traffic, passenger cars",
          "textangle": 90,
          "x": 0.98,
          "xanchor": "left",
          "xref": "paper",
          "y": 0.2425,
          "yanchor": "middle",
          "yref": "paper"
         },
         {
          "font": {},
          "showarrow": false,
          "text": "Sources=Road traffic, freight vehicles",
          "textangle": 90,
          "x": 0.98,
          "xanchor": "left",
          "xref": "paper",
          "y": 0.7575000000000001,
          "yanchor": "middle",
          "yref": "paper"
         }
        ],
        "autosize": true,
        "legend": {
         "title": {
          "text": "Emission Type"
         },
         "tracegroupgap": 0
        },
        "margin": {
         "t": 60
        },
        "template": {
         "data": {
          "bar": [
           {
            "error_x": {
             "color": "#2a3f5f"
            },
            "error_y": {
             "color": "#2a3f5f"
            },
            "marker": {
             "line": {
              "color": "#E5ECF6",
              "width": 0.5
             },
             "pattern": {
              "fillmode": "overlay",
              "size": 10,
              "solidity": 0.2
             }
            },
            "type": "bar"
           }
          ],
          "barpolar": [
           {
            "marker": {
             "line": {
              "color": "#E5ECF6",
              "width": 0.5
             },
             "pattern": {
              "fillmode": "overlay",
              "size": 10,
              "solidity": 0.2
             }
            },
            "type": "barpolar"
           }
          ],
          "carpet": [
           {
            "aaxis": {
             "endlinecolor": "#2a3f5f",
             "gridcolor": "white",
             "linecolor": "white",
             "minorgridcolor": "white",
             "startlinecolor": "#2a3f5f"
            },
            "baxis": {
             "endlinecolor": "#2a3f5f",
             "gridcolor": "white",
             "linecolor": "white",
             "minorgridcolor": "white",
             "startlinecolor": "#2a3f5f"
            },
            "type": "carpet"
           }
          ],
          "choropleth": [
           {
            "colorbar": {
             "outlinewidth": 0,
             "ticks": ""
            },
            "type": "choropleth"
           }
          ],
          "contour": [
           {
            "colorbar": {
             "outlinewidth": 0,
             "ticks": ""
            },
            "colorscale": [
             [
              0,
              "#0d0887"
             ],
             [
              0.1111111111111111,
              "#46039f"
             ],
             [
              0.2222222222222222,
              "#7201a8"
             ],
             [
              0.3333333333333333,
              "#9c179e"
             ],
             [
              0.4444444444444444,
              "#bd3786"
             ],
             [
              0.5555555555555556,
              "#d8576b"
             ],
             [
              0.6666666666666666,
              "#ed7953"
             ],
             [
              0.7777777777777778,
              "#fb9f3a"
             ],
             [
              0.8888888888888888,
              "#fdca26"
             ],
             [
              1,
              "#f0f921"
             ]
            ],
            "type": "contour"
           }
          ],
          "contourcarpet": [
           {
            "colorbar": {
             "outlinewidth": 0,
             "ticks": ""
            },
            "type": "contourcarpet"
           }
          ],
          "heatmap": [
           {
            "colorbar": {
             "outlinewidth": 0,
             "ticks": ""
            },
            "colorscale": [
             [
              0,
              "#0d0887"
             ],
             [
              0.1111111111111111,
              "#46039f"
             ],
             [
              0.2222222222222222,
              "#7201a8"
             ],
             [
              0.3333333333333333,
              "#9c179e"
             ],
             [
              0.4444444444444444,
              "#bd3786"
             ],
             [
              0.5555555555555556,
              "#d8576b"
             ],
             [
              0.6666666666666666,
              "#ed7953"
             ],
             [
              0.7777777777777778,
              "#fb9f3a"
             ],
             [
              0.8888888888888888,
              "#fdca26"
             ],
             [
              1,
              "#f0f921"
             ]
            ],
            "type": "heatmap"
           }
          ],
          "heatmapgl": [
           {
            "colorbar": {
             "outlinewidth": 0,
             "ticks": ""
            },
            "colorscale": [
             [
              0,
              "#0d0887"
             ],
             [
              0.1111111111111111,
              "#46039f"
             ],
             [
              0.2222222222222222,
              "#7201a8"
             ],
             [
              0.3333333333333333,
              "#9c179e"
             ],
             [
              0.4444444444444444,
              "#bd3786"
             ],
             [
              0.5555555555555556,
              "#d8576b"
             ],
             [
              0.6666666666666666,
              "#ed7953"
             ],
             [
              0.7777777777777778,
              "#fb9f3a"
             ],
             [
              0.8888888888888888,
              "#fdca26"
             ],
             [
              1,
              "#f0f921"
             ]
            ],
            "type": "heatmapgl"
           }
          ],
          "histogram": [
           {
            "marker": {
             "pattern": {
              "fillmode": "overlay",
              "size": 10,
              "solidity": 0.2
             }
            },
            "type": "histogram"
           }
          ],
          "histogram2d": [
           {
            "colorbar": {
             "outlinewidth": 0,
             "ticks": ""
            },
            "colorscale": [
             [
              0,
              "#0d0887"
             ],
             [
              0.1111111111111111,
              "#46039f"
             ],
             [
              0.2222222222222222,
              "#7201a8"
             ],
             [
              0.3333333333333333,
              "#9c179e"
             ],
             [
              0.4444444444444444,
              "#bd3786"
             ],
             [
              0.5555555555555556,
              "#d8576b"
             ],
             [
              0.6666666666666666,
              "#ed7953"
             ],
             [
              0.7777777777777778,
              "#fb9f3a"
             ],
             [
              0.8888888888888888,
              "#fdca26"
             ],
             [
              1,
              "#f0f921"
             ]
            ],
            "type": "histogram2d"
           }
          ],
          "histogram2dcontour": [
           {
            "colorbar": {
             "outlinewidth": 0,
             "ticks": ""
            },
            "colorscale": [
             [
              0,
              "#0d0887"
             ],
             [
              0.1111111111111111,
              "#46039f"
             ],
             [
              0.2222222222222222,
              "#7201a8"
             ],
             [
              0.3333333333333333,
              "#9c179e"
             ],
             [
              0.4444444444444444,
              "#bd3786"
             ],
             [
              0.5555555555555556,
              "#d8576b"
             ],
             [
              0.6666666666666666,
              "#ed7953"
             ],
             [
              0.7777777777777778,
              "#fb9f3a"
             ],
             [
              0.8888888888888888,
              "#fdca26"
             ],
             [
              1,
              "#f0f921"
             ]
            ],
            "type": "histogram2dcontour"
           }
          ],
          "mesh3d": [
           {
            "colorbar": {
             "outlinewidth": 0,
             "ticks": ""
            },
            "type": "mesh3d"
           }
          ],
          "parcoords": [
           {
            "line": {
             "colorbar": {
              "outlinewidth": 0,
              "ticks": ""
             }
            },
            "type": "parcoords"
           }
          ],
          "pie": [
           {
            "automargin": true,
            "type": "pie"
           }
          ],
          "scatter": [
           {
            "fillpattern": {
             "fillmode": "overlay",
             "size": 10,
             "solidity": 0.2
            },
            "type": "scatter"
           }
          ],
          "scatter3d": [
           {
            "line": {
             "colorbar": {
              "outlinewidth": 0,
              "ticks": ""
             }
            },
            "marker": {
             "colorbar": {
              "outlinewidth": 0,
              "ticks": ""
             }
            },
            "type": "scatter3d"
           }
          ],
          "scattercarpet": [
           {
            "marker": {
             "colorbar": {
              "outlinewidth": 0,
              "ticks": ""
             }
            },
            "type": "scattercarpet"
           }
          ],
          "scattergeo": [
           {
            "marker": {
             "colorbar": {
              "outlinewidth": 0,
              "ticks": ""
             }
            },
            "type": "scattergeo"
           }
          ],
          "scattergl": [
           {
            "marker": {
             "colorbar": {
              "outlinewidth": 0,
              "ticks": ""
             }
            },
            "type": "scattergl"
           }
          ],
          "scattermapbox": [
           {
            "marker": {
             "colorbar": {
              "outlinewidth": 0,
              "ticks": ""
             }
            },
            "type": "scattermapbox"
           }
          ],
          "scatterpolar": [
           {
            "marker": {
             "colorbar": {
              "outlinewidth": 0,
              "ticks": ""
             }
            },
            "type": "scatterpolar"
           }
          ],
          "scatterpolargl": [
           {
            "marker": {
             "colorbar": {
              "outlinewidth": 0,
              "ticks": ""
             }
            },
            "type": "scatterpolargl"
           }
          ],
          "scatterternary": [
           {
            "marker": {
             "colorbar": {
              "outlinewidth": 0,
              "ticks": ""
             }
            },
            "type": "scatterternary"
           }
          ],
          "surface": [
           {
            "colorbar": {
             "outlinewidth": 0,
             "ticks": ""
            },
            "colorscale": [
             [
              0,
              "#0d0887"
             ],
             [
              0.1111111111111111,
              "#46039f"
             ],
             [
              0.2222222222222222,
              "#7201a8"
             ],
             [
              0.3333333333333333,
              "#9c179e"
             ],
             [
              0.4444444444444444,
              "#bd3786"
             ],
             [
              0.5555555555555556,
              "#d8576b"
             ],
             [
              0.6666666666666666,
              "#ed7953"
             ],
             [
              0.7777777777777778,
              "#fb9f3a"
             ],
             [
              0.8888888888888888,
              "#fdca26"
             ],
             [
              1,
              "#f0f921"
             ]
            ],
            "type": "surface"
           }
          ],
          "table": [
           {
            "cells": {
             "fill": {
              "color": "#EBF0F8"
             },
             "line": {
              "color": "white"
             }
            },
            "header": {
             "fill": {
              "color": "#C8D4E3"
             },
             "line": {
              "color": "white"
             }
            },
            "type": "table"
           }
          ]
         },
         "layout": {
          "annotationdefaults": {
           "arrowcolor": "#2a3f5f",
           "arrowhead": 0,
           "arrowwidth": 1
          },
          "autotypenumbers": "strict",
          "coloraxis": {
           "colorbar": {
            "outlinewidth": 0,
            "ticks": ""
           }
          },
          "colorscale": {
           "diverging": [
            [
             0,
             "#8e0152"
            ],
            [
             0.1,
             "#c51b7d"
            ],
            [
             0.2,
             "#de77ae"
            ],
            [
             0.3,
             "#f1b6da"
            ],
            [
             0.4,
             "#fde0ef"
            ],
            [
             0.5,
             "#f7f7f7"
            ],
            [
             0.6,
             "#e6f5d0"
            ],
            [
             0.7,
             "#b8e186"
            ],
            [
             0.8,
             "#7fbc41"
            ],
            [
             0.9,
             "#4d9221"
            ],
            [
             1,
             "#276419"
            ]
           ],
           "sequential": [
            [
             0,
             "#0d0887"
            ],
            [
             0.1111111111111111,
             "#46039f"
            ],
            [
             0.2222222222222222,
             "#7201a8"
            ],
            [
             0.3333333333333333,
             "#9c179e"
            ],
            [
             0.4444444444444444,
             "#bd3786"
            ],
            [
             0.5555555555555556,
             "#d8576b"
            ],
            [
             0.6666666666666666,
             "#ed7953"
            ],
            [
             0.7777777777777778,
             "#fb9f3a"
            ],
            [
             0.8888888888888888,
             "#fdca26"
            ],
            [
             1,
             "#f0f921"
            ]
           ],
           "sequentialminus": [
            [
             0,
             "#0d0887"
            ],
            [
             0.1111111111111111,
             "#46039f"
            ],
            [
             0.2222222222222222,
             "#7201a8"
            ],
            [
             0.3333333333333333,
             "#9c179e"
            ],
            [
             0.4444444444444444,
             "#bd3786"
            ],
            [
             0.5555555555555556,
             "#d8576b"
            ],
            [
             0.6666666666666666,
             "#ed7953"
            ],
            [
             0.7777777777777778,
             "#fb9f3a"
            ],
            [
             0.8888888888888888,
             "#fdca26"
            ],
            [
             1,
             "#f0f921"
            ]
           ]
          },
          "colorway": [
           "#636efa",
           "#EF553B",
           "#00cc96",
           "#ab63fa",
           "#FFA15A",
           "#19d3f3",
           "#FF6692",
           "#B6E880",
           "#FF97FF",
           "#FECB52"
          ],
          "font": {
           "color": "#2a3f5f"
          },
          "geo": {
           "bgcolor": "white",
           "lakecolor": "white",
           "landcolor": "#E5ECF6",
           "showlakes": true,
           "showland": true,
           "subunitcolor": "white"
          },
          "hoverlabel": {
           "align": "left"
          },
          "hovermode": "closest",
          "mapbox": {
           "style": "light"
          },
          "paper_bgcolor": "white",
          "plot_bgcolor": "#E5ECF6",
          "polar": {
           "angularaxis": {
            "gridcolor": "white",
            "linecolor": "white",
            "ticks": ""
           },
           "bgcolor": "#E5ECF6",
           "radialaxis": {
            "gridcolor": "white",
            "linecolor": "white",
            "ticks": ""
           }
          },
          "scene": {
           "xaxis": {
            "backgroundcolor": "#E5ECF6",
            "gridcolor": "white",
            "gridwidth": 2,
            "linecolor": "white",
            "showbackground": true,
            "ticks": "",
            "zerolinecolor": "white"
           },
           "yaxis": {
            "backgroundcolor": "#E5ECF6",
            "gridcolor": "white",
            "gridwidth": 2,
            "linecolor": "white",
            "showbackground": true,
            "ticks": "",
            "zerolinecolor": "white"
           },
           "zaxis": {
            "backgroundcolor": "#E5ECF6",
            "gridcolor": "white",
            "gridwidth": 2,
            "linecolor": "white",
            "showbackground": true,
            "ticks": "",
            "zerolinecolor": "white"
           }
          },
          "shapedefaults": {
           "line": {
            "color": "#2a3f5f"
           }
          },
          "ternary": {
           "aaxis": {
            "gridcolor": "white",
            "linecolor": "white",
            "ticks": ""
           },
           "baxis": {
            "gridcolor": "white",
            "linecolor": "white",
            "ticks": ""
           },
           "bgcolor": "#E5ECF6",
           "caxis": {
            "gridcolor": "white",
            "linecolor": "white",
            "ticks": ""
           }
          },
          "title": {
           "x": 0.05
          },
          "xaxis": {
           "automargin": true,
           "gridcolor": "white",
           "linecolor": "white",
           "ticks": "",
           "title": {
            "standoff": 15
           },
           "zerolinecolor": "white",
           "zerolinewidth": 2
          },
          "yaxis": {
           "automargin": true,
           "gridcolor": "white",
           "linecolor": "white",
           "ticks": "",
           "title": {
            "standoff": 15
           },
           "zerolinecolor": "white",
           "zerolinewidth": 2
          }
         }
        },
        "xaxis": {
         "anchor": "y",
         "autorange": false,
         "domain": [
          0,
          0.98
         ],
         "range": [
          76445274695.65897,
          115697437310.41013
         ],
         "title": {
          "text": "vhkm"
         },
         "type": "linear"
        },
        "xaxis2": {
         "anchor": "y2",
         "autorange": false,
         "domain": [
          0,
          0.98
         ],
         "matches": "x",
         "range": [
          76445274695.65897,
          115697437310.41013
         ],
         "showticklabels": false,
         "type": "linear"
        },
        "yaxis": {
         "anchor": "x",
         "autorange": false,
         "domain": [
          0,
          0.485
         ],
         "range": [
          93146554.40012416,
          555494839.3605464
         ],
         "title": {
          "text": "Emission"
         },
         "type": "linear"
        },
        "yaxis2": {
         "anchor": "x2",
         "autorange": false,
         "domain": [
          0.515,
          1
         ],
         "matches": "y",
         "range": [
          93146554.40012416,
          555494839.3605464
         ],
         "title": {
          "text": "Emission"
         },
         "type": "linear"
        }
       }
      },
      "image/png": "[encoded data removed]",
      "text/html": [
       "<div>                            <div id=\"557e9355-f201-480a-b1eb-5bd39f8383b5\" class=\"plotly-graph-div\" style=\"height:600px; width:100%;\"></div>            <script type=\"text/javascript\">                require([\"plotly\"], function(Plotly) {                    window.PLOTLYENV=window.PLOTLYENV || {};                                    if (document.getElementById(\"557e9355-f201-480a-b1eb-5bd39f8383b5\")) {                    Plotly.newPlot(                        \"557e9355-f201-480a-b1eb-5bd39f8383b5\",                        [{\"hovertemplate\":\"Emission Type=Carbon dioxide (CO2)<br>Sources=Road traffic, freight vehicles<br>vhkm=%{x}<br>Emission=%{y}<br>Year=%{text}<extra></extra>\",\"legendgroup\":\"Carbon dioxide (CO2)\",\"marker\":{\"color\":\"#636efa\",\"symbol\":\"circle\"},\"mode\":\"markers+text\",\"name\":\"Carbon dioxide (CO2)\",\"orientation\":\"v\",\"showlegend\":true,\"text\":[1990.0,1991.0,1992.0,1993.0,1994.0,1995.0,1996.0,1997.0,1998.0,1999.0,2000.0,2001.0,2002.0,2003.0,2004.0,2005.0,2006.0,2007.0,2008.0,2009.0,2010.0,2011.0,2012.0,2013.0,2014.0,2015.0,2016.0,2017.0,2018.0,2019.0,2020.0,2021.0],\"x\":[13542000000.0,14363000000.0,15650000000.0,16572000000.0,16647000000.0,16907000000.0,17210000000.0,18076000000.0,19190000000.0,20895000000.0,22116000000.0,22991000000.0,23214400000.0,23620200000.0,24405900000.0,24705900000.0,24199200000.0,24705600000.0,25173000000.0,24634600000.0,24480200000.0,24169200000.0,23656900000.0,22926500000.0,22915600000.0,23467700000.0,24475200000.0,25119300000.0,25686600000.0,26186800000.0,25544500000.0,null],\"xaxis\":\"x2\",\"y\":[7600000000.0,7900000000.0,8400000000.0,8500000000.0,8500000000.0,8600000000.0,8600000000.0,8800000000.0,9100000000.0,9800000000.0,9700000000.0,9800000000.0,9800000000.0,9900000000.0,10100000000.0,10200000000.0,10200000000.0,10300000000.0,10600000000.0,10400000000.0,10400000000.0,10100000000.0,9900000000.0,9500000000.0,9400000000.0,9800000000.0,10200000000.0,10400000000.0,10600000000.0,10700000000.0,10600000000.0,11000000000.0],\"yaxis\":\"y2\",\"type\":\"scatter\"},{\"hovertemplate\":\"Emission Type=Carbon dioxide (CO2)<br>Sources=Road traffic, passenger cars<br>vhkm=%{x}<br>Emission=%{y}<br>Year=%{text}<extra></extra>\",\"legendgroup\":\"Carbon dioxide (CO2)\",\"marker\":{\"color\":\"#636efa\",\"symbol\":\"circle\"},\"mode\":\"markers+text\",\"name\":\"Carbon dioxide (CO2)\",\"orientation\":\"v\",\"showlegend\":false,\"text\":[1990.0,1991.0,1992.0,1993.0,1994.0,1995.0,1996.0,1997.0,1998.0,1999.0,2000.0,2001.0,2002.0,2003.0,2004.0,2005.0,2006.0,2007.0,2008.0,2009.0,2010.0,2011.0,2012.0,2013.0,2014.0,2015.0,2016.0,2017.0,2018.0,2019.0,2020.0,2021.0],\"x\":[81871000000.0,81164000000.0,84626000000.0,83538000000.0,85226000000.0,84152000000.0,85453000000.0,87256000000.0,89210000000.0,92573000000.0,93198000000.0,94262800000.0,96254200000.0,97414300000.0,99939900000.0,99504500000.0,100468300000.0,102218400000.0,101250200000.0,101514000000.0,102307600000.0,102956400000.0,103122100000.0,103211200000.0,103699100000.0,105088900000.0,107708100000.0,108936100000.0,110355900000.0,110372800000.0,92654200000.0,null],\"xaxis\":\"x\",\"y\":[15500000000.0,15400000000.0,16100000000.0,15900000000.0,16300000000.0,16100000000.0,16300000000.0,16700000000.0,17000000000.0,17700000000.0,17800000000.0,18000000000.0,18400000000.0,18600000000.0,19100000000.0,18800000000.0,18800000000.0,18600000000.0,18300000000.0,18100000000.0,18000000000.0,17900000000.0,17600000000.0,17400000000.0,17200000000.0,17300000000.0,17600000000.0,17700000000.0,17800000000.0,17600000000.0,14600000000.0,14800000000.0],\"yaxis\":\"y\",\"type\":\"scatter\"},{\"hovertemplate\":\"Emission Type=Carbon monoxide (CO)<br>Sources=Road traffic, freight vehicles<br>vhkm=%{x}<br>Emission=%{y}<br>Year=%{text}<extra></extra>\",\"legendgroup\":\"Carbon monoxide (CO)\",\"marker\":{\"color\":\"#EF553B\",\"symbol\":\"circle\"},\"mode\":\"markers+text\",\"name\":\"Carbon monoxide (CO)\",\"orientation\":\"v\",\"showlegend\":true,\"text\":[1990.0,1991.0,1992.0,1993.0,1994.0,1995.0,1996.0,1997.0,1998.0,1999.0,2000.0,2001.0,2002.0,2003.0,2004.0,2005.0,2006.0,2007.0,2008.0,2009.0,2010.0,2011.0,2012.0,2013.0,2014.0,2015.0,2016.0,2017.0,2018.0,2019.0,2020.0,2021.0],\"x\":[13542000000.0,14363000000.0,15650000000.0,16572000000.0,16647000000.0,16907000000.0,17210000000.0,18076000000.0,19190000000.0,20895000000.0,22116000000.0,22991000000.0,23214400000.0,23620200000.0,24405900000.0,24705900000.0,24199200000.0,24705600000.0,25173000000.0,24634600000.0,24480200000.0,24169200000.0,23656900000.0,22926500000.0,22915600000.0,23467700000.0,24475200000.0,25119300000.0,25686600000.0,26186800000.0,25544500000.0,null],\"xaxis\":\"x2\",\"y\":[68600000.0,66200000.0,65000000.0,62300000.0,56500000.0,50700000.0,44700000.0,39800000.0,35800000.0,33200000.000000004,30100000.0,27700000.0,25500000.0,23700000.0,23100000.0,22000000.0,21400000.0,21500000.0,21600000.0,21100000.0,20300000.0,19400000.0,18300000.0,16600000.000000002,15400000.0,14300000.0,15000000.0,15400000.0,10900000.0,9700000.0,8700000.0,9100000.0],\"yaxis\":\"y2\",\"type\":\"scatter\"},{\"hovertemplate\":\"Emission Type=Carbon monoxide (CO)<br>Sources=Road traffic, passenger cars<br>vhkm=%{x}<br>Emission=%{y}<br>Year=%{text}<extra></extra>\",\"legendgroup\":\"Carbon monoxide (CO)\",\"marker\":{\"color\":\"#EF553B\",\"symbol\":\"circle\"},\"mode\":\"markers+text\",\"name\":\"Carbon monoxide (CO)\",\"orientation\":\"v\",\"showlegend\":false,\"text\":[1990.0,1991.0,1992.0,1993.0,1994.0,1995.0,1996.0,1997.0,1998.0,1999.0,2000.0,2001.0,2002.0,2003.0,2004.0,2005.0,2006.0,2007.0,2008.0,2009.0,2010.0,2011.0,2012.0,2013.0,2014.0,2015.0,2016.0,2017.0,2018.0,2019.0,2020.0,2021.0],\"x\":[81871000000.0,81164000000.0,84626000000.0,83538000000.0,85226000000.0,84152000000.0,85453000000.0,87256000000.0,89210000000.0,92573000000.0,93198000000.0,94262800000.0,96254200000.0,97414300000.0,99939900000.0,99504500000.0,100468300000.0,102218400000.0,101250200000.0,101514000000.0,102307600000.0,102956400000.0,103122100000.0,103211200000.0,103699100000.0,105088900000.0,107708100000.0,108936100000.0,110355900000.0,110372800000.0,92654200000.0,null],\"xaxis\":\"x\",\"y\":[592800000.0,502600000.0,475400000.0,427000000.0,398200000.0,379500000.0,364500000.0,342400000.0,323800000.0,316100000.0,303400000.0,304600000.0,309700000.0,313100000.0,314900000.0,307800000.0,305200000.0,308200000.0,300000000.0,294300000.0,289900000.0,283300000.0,271900000.0,262800000.0,249500000.0,246700000.0,236800000.0,237600000.0,221500000.0,206400000.0,166100000.0,159000000.0],\"yaxis\":\"y\",\"type\":\"scatter\"},{\"hovertemplate\":\"Emission Type=Nitrogen oxides (NOx)<br>Sources=Road traffic, freight vehicles<br>vhkm=%{x}<br>Emission=%{y}<br>Year=%{text}<extra></extra>\",\"legendgroup\":\"Nitrogen oxides (NOx)\",\"marker\":{\"color\":\"#00cc96\",\"symbol\":\"circle\"},\"mode\":\"markers+text\",\"name\":\"Nitrogen oxides (NOx)\",\"orientation\":\"v\",\"showlegend\":true,\"text\":[1990.0,1991.0,1992.0,1993.0,1994.0,1995.0,1996.0,1997.0,1998.0,1999.0,2000.0,2001.0,2002.0,2003.0,2004.0,2005.0,2006.0,2007.0,2008.0,2009.0,2010.0,2011.0,2012.0,2013.0,2014.0,2015.0,2016.0,2017.0,2018.0,2019.0,2020.0,2021.0],\"x\":[13542000000.0,14363000000.0,15650000000.0,16572000000.0,16647000000.0,16907000000.0,17210000000.0,18076000000.0,19190000000.0,20895000000.0,22116000000.0,22991000000.0,23214400000.0,23620200000.0,24405900000.0,24705900000.0,24199200000.0,24705600000.0,25173000000.0,24634600000.0,24480200000.0,24169200000.0,23656900000.0,22926500000.0,22915600000.0,23467700000.0,24475200000.0,25119300000.0,25686600000.0,26186800000.0,25544500000.0,null],\"xaxis\":\"x2\",\"y\":[104600000.0,108200000.0,110100000.0,105300000.0,98900000.0,95100000.0,89300000.0,86300000.0,84500000.0,87600000.0,86400000.0,85200000.0,83600000.0,82800000.0,83500000.0,84500000.0,84300000.0,85200000.0,84200000.0,79400000.0,75000000.0,71100000.0,66500000.0,60700000.0,56900000.0,55000000.0,53100000.0,50100000.0,46200000.0,42400000.0,38400000.0,37000000.0],\"yaxis\":\"y2\",\"type\":\"scatter\"},{\"hovertemplate\":\"Emission Type=Nitrogen oxides (NOx)<br>Sources=Road traffic, passenger cars<br>vhkm=%{x}<br>Emission=%{y}<br>Year=%{text}<extra></extra>\",\"legendgroup\":\"Nitrogen oxides (NOx)\",\"marker\":{\"color\":\"#00cc96\",\"symbol\":\"circle\"},\"mode\":\"markers+text\",\"name\":\"Nitrogen oxides (NOx)\",\"orientation\":\"v\",\"showlegend\":false,\"text\":[1990.0,1991.0,1992.0,1993.0,1994.0,1995.0,1996.0,1997.0,1998.0,1999.0,2000.0,2001.0,2002.0,2003.0,2004.0,2005.0,2006.0,2007.0,2008.0,2009.0,2010.0,2011.0,2012.0,2013.0,2014.0,2015.0,2016.0,2017.0,2018.0,2019.0,2020.0,2021.0],\"x\":[81871000000.0,81164000000.0,84626000000.0,83538000000.0,85226000000.0,84152000000.0,85453000000.0,87256000000.0,89210000000.0,92573000000.0,93198000000.0,94262800000.0,96254200000.0,97414300000.0,99939900000.0,99504500000.0,100468300000.0,102218400000.0,101250200000.0,101514000000.0,102307600000.0,102956400000.0,103122100000.0,103211200000.0,103699100000.0,105088900000.0,107708100000.0,108936100000.0,110355900000.0,110372800000.0,92654200000.0,null],\"xaxis\":\"x\",\"y\":[142700000.0,130400000.0,121900000.0,109300000.0,100600000.0,91200000.0,86200000.0,79500000.0,73800000.0,70100000.0,63000000.0,57500000.0,53100000.0,49500000.0,46900000.0,43300000.0,40900000.0,39100000.0,36700000.0,34400000.0,33299999.999999996,32900000.0,32100000.0,30900000.0,29700000.0,30200000.0,28900000.0,29200000.0,27600000.0,25700000.0,19600000.0,19100000.0],\"yaxis\":\"y\",\"type\":\"scatter\"},{\"hovertemplate\":\"Emission Type=PM10 (Particulate matter)<br>Sources=Road traffic, freight vehicles<br>vhkm=%{x}<br>Emission=%{y}<br>Year=%{text}<extra></extra>\",\"legendgroup\":\"PM10 (Particulate matter)\",\"marker\":{\"color\":\"#ab63fa\",\"symbol\":\"circle\"},\"mode\":\"markers+text\",\"name\":\"PM10 (Particulate matter)\",\"orientation\":\"v\",\"showlegend\":true,\"text\":[1990.0,1991.0,1992.0,1993.0,1994.0,1995.0,1996.0,1997.0,1998.0,1999.0,2000.0,2001.0,2002.0,2003.0,2004.0,2005.0,2006.0,2007.0,2008.0,2009.0,2010.0,2011.0,2012.0,2013.0,2014.0,2015.0,2016.0,2017.0,2018.0,2019.0,2020.0,2021.0],\"x\":[13542000000.0,14363000000.0,15650000000.0,16572000000.0,16647000000.0,16907000000.0,17210000000.0,18076000000.0,19190000000.0,20895000000.0,22116000000.0,22991000000.0,23214400000.0,23620200000.0,24405900000.0,24705900000.0,24199200000.0,24705600000.0,25173000000.0,24634600000.0,24480200000.0,24169200000.0,23656900000.0,22926500000.0,22915600000.0,23467700000.0,24475200000.0,25119300000.0,25686600000.0,26186800000.0,25544500000.0,null],\"xaxis\":\"x2\",\"y\":[8800000.0,8900000.0,8800000.0,8300000.000000001,7600000.0,7000000.0,6400000.0,5900000.0,5600000.0,5600000.0,5400000.0,5200000.0,4800000.0,4500000.0,4400000.0,4200000.0,3900000.0,3700000.0,3500000.0,3100000.0,2800000.0,2600000.0,2300000.0,2000000.0,1900000.0,1800000.0,1800000.0,1700000.0,1600000.0,1500000.0,1500000.0,1500000.0],\"yaxis\":\"y2\",\"type\":\"scatter\"},{\"hovertemplate\":\"Emission Type=PM10 (Particulate matter)<br>Sources=Road traffic, passenger cars<br>vhkm=%{x}<br>Emission=%{y}<br>Year=%{text}<extra></extra>\",\"legendgroup\":\"PM10 (Particulate matter)\",\"marker\":{\"color\":\"#ab63fa\",\"symbol\":\"circle\"},\"mode\":\"markers+text\",\"name\":\"PM10 (Particulate matter)\",\"orientation\":\"v\",\"showlegend\":false,\"text\":[1990.0,1991.0,1992.0,1993.0,1994.0,1995.0,1996.0,1997.0,1998.0,1999.0,2000.0,2001.0,2002.0,2003.0,2004.0,2005.0,2006.0,2007.0,2008.0,2009.0,2010.0,2011.0,2012.0,2013.0,2014.0,2015.0,2016.0,2017.0,2018.0,2019.0,2020.0,2021.0],\"x\":[81871000000.0,81164000000.0,84626000000.0,83538000000.0,85226000000.0,84152000000.0,85453000000.0,87256000000.0,89210000000.0,92573000000.0,93198000000.0,94262800000.0,96254200000.0,97414300000.0,99939900000.0,99504500000.0,100468300000.0,102218400000.0,101250200000.0,101514000000.0,102307600000.0,102956400000.0,103122100000.0,103211200000.0,103699100000.0,105088900000.0,107708100000.0,108936100000.0,110355900000.0,110372800000.0,92654200000.0,null],\"xaxis\":\"x\",\"y\":[6900000.0,6200000.0,6000000.0,5500000.0,5300000.0,5000000.0,4800000.0,4600000.0,4500000.0,4500000.0,4400000.0,4200000.0,4000000.0,3900000.0,3800000.0,3700000.0,3600000.0,3500000.0,3300000.0,3100000.0,3000000.0,2900000.0,2700000.0,2500000.0,2400000.0,2400000.0,2300000.0,2300000.0,2300000.0,2200000.0,1800000.0,1900000.0],\"yaxis\":\"y\",\"type\":\"scatter\"}],                        {\"template\":{\"data\":{\"histogram2dcontour\":[{\"type\":\"histogram2dcontour\",\"colorbar\":{\"outlinewidth\":0,\"ticks\":\"\"},\"colorscale\":[[0.0,\"#0d0887\"],[0.1111111111111111,\"#46039f\"],[0.2222222222222222,\"#7201a8\"],[0.3333333333333333,\"#9c179e\"],[0.4444444444444444,\"#bd3786\"],[0.5555555555555556,\"#d8576b\"],[0.6666666666666666,\"#ed7953\"],[0.7777777777777778,\"#fb9f3a\"],[0.8888888888888888,\"#fdca26\"],[1.0,\"#f0f921\"]]}],\"choropleth\":[{\"type\":\"choropleth\",\"colorbar\":{\"outlinewidth\":0,\"ticks\":\"\"}}],\"histogram2d\":[{\"type\":\"histogram2d\",\"colorbar\":{\"outlinewidth\":0,\"ticks\":\"\"},\"colorscale\":[[0.0,\"#0d0887\"],[0.1111111111111111,\"#46039f\"],[0.2222222222222222,\"#7201a8\"],[0.3333333333333333,\"#9c179e\"],[0.4444444444444444,\"#bd3786\"],[0.5555555555555556,\"#d8576b\"],[0.6666666666666666,\"#ed7953\"],[0.7777777777777778,\"#fb9f3a\"],[0.8888888888888888,\"#fdca26\"],[1.0,\"#f0f921\"]]}],\"heatmap\":[{\"type\":\"heatmap\",\"colorbar\":{\"outlinewidth\":0,\"ticks\":\"\"},\"colorscale\":[[0.0,\"#0d0887\"],[0.1111111111111111,\"#46039f\"],[0.2222222222222222,\"#7201a8\"],[0.3333333333333333,\"#9c179e\"],[0.4444444444444444,\"#bd3786\"],[0.5555555555555556,\"#d8576b\"],[0.6666666666666666,\"#ed7953\"],[0.7777777777777778,\"#fb9f3a\"],[0.8888888888888888,\"#fdca26\"],[1.0,\"#f0f921\"]]}],\"heatmapgl\":[{\"type\":\"heatmapgl\",\"colorbar\":{\"outlinewidth\":0,\"ticks\":\"\"},\"colorscale\":[[0.0,\"#0d0887\"],[0.1111111111111111,\"#46039f\"],[0.2222222222222222,\"#7201a8\"],[0.3333333333333333,\"#9c179e\"],[0.4444444444444444,\"#bd3786\"],[0.5555555555555556,\"#d8576b\"],[0.6666666666666666,\"#ed7953\"],[0.7777777777777778,\"#fb9f3a\"],[0.8888888888888888,\"#fdca26\"],[1.0,\"#f0f921\"]]}],\"contourcarpet\":[{\"type\":\"contourcarpet\",\"colorbar\":{\"outlinewidth\":0,\"ticks\":\"\"}}],\"contour\":[{\"type\":\"contour\",\"colorbar\":{\"outlinewidth\":0,\"ticks\":\"\"},\"colorscale\":[[0.0,\"#0d0887\"],[0.1111111111111111,\"#46039f\"],[0.2222222222222222,\"#7201a8\"],[0.3333333333333333,\"#9c179e\"],[0.4444444444444444,\"#bd3786\"],[0.5555555555555556,\"#d8576b\"],[0.6666666666666666,\"#ed7953\"],[0.7777777777777778,\"#fb9f3a\"],[0.8888888888888888,\"#fdca26\"],[1.0,\"#f0f921\"]]}],\"surface\":[{\"type\":\"surface\",\"colorbar\":{\"outlinewidth\":0,\"ticks\":\"\"},\"colorscale\":[[0.0,\"#0d0887\"],[0.1111111111111111,\"#46039f\"],[0.2222222222222222,\"#7201a8\"],[0.3333333333333333,\"#9c179e\"],[0.4444444444444444,\"#bd3786\"],[0.5555555555555556,\"#d8576b\"],[0.6666666666666666,\"#ed7953\"],[0.7777777777777778,\"#fb9f3a\"],[0.8888888888888888,\"#fdca26\"],[1.0,\"#f0f921\"]]}],\"mesh3d\":[{\"type\":\"mesh3d\",\"colorbar\":{\"outlinewidth\":0,\"ticks\":\"\"}}],\"scatter\":[{\"fillpattern\":{\"fillmode\":\"overlay\",\"size\":10,\"solidity\":0.2},\"type\":\"scatter\"}],\"parcoords\":[{\"type\":\"parcoords\",\"line\":{\"colorbar\":{\"outlinewidth\":0,\"ticks\":\"\"}}}],\"scatterpolargl\":[{\"type\":\"scatterpolargl\",\"marker\":{\"colorbar\":{\"outlinewidth\":0,\"ticks\":\"\"}}}],\"bar\":[{\"error_x\":{\"color\":\"#2a3f5f\"},\"error_y\":{\"color\":\"#2a3f5f\"},\"marker\":{\"line\":{\"color\":\"#E5ECF6\",\"width\":0.5},\"pattern\":{\"fillmode\":\"overlay\",\"size\":10,\"solidity\":0.2}},\"type\":\"bar\"}],\"scattergeo\":[{\"type\":\"scattergeo\",\"marker\":{\"colorbar\":{\"outlinewidth\":0,\"ticks\":\"\"}}}],\"scatterpolar\":[{\"type\":\"scatterpolar\",\"marker\":{\"colorbar\":{\"outlinewidth\":0,\"ticks\":\"\"}}}],\"histogram\":[{\"marker\":{\"pattern\":{\"fillmode\":\"overlay\",\"size\":10,\"solidity\":0.2}},\"type\":\"histogram\"}],\"scattergl\":[{\"type\":\"scattergl\",\"marker\":{\"colorbar\":{\"outlinewidth\":0,\"ticks\":\"\"}}}],\"scatter3d\":[{\"type\":\"scatter3d\",\"line\":{\"colorbar\":{\"outlinewidth\":0,\"ticks\":\"\"}},\"marker\":{\"colorbar\":{\"outlinewidth\":0,\"ticks\":\"\"}}}],\"scattermapbox\":[{\"type\":\"scattermapbox\",\"marker\":{\"colorbar\":{\"outlinewidth\":0,\"ticks\":\"\"}}}],\"scatterternary\":[{\"type\":\"scatterternary\",\"marker\":{\"colorbar\":{\"outlinewidth\":0,\"ticks\":\"\"}}}],\"scattercarpet\":[{\"type\":\"scattercarpet\",\"marker\":{\"colorbar\":{\"outlinewidth\":0,\"ticks\":\"\"}}}],\"carpet\":[{\"aaxis\":{\"endlinecolor\":\"#2a3f5f\",\"gridcolor\":\"white\",\"linecolor\":\"white\",\"minorgridcolor\":\"white\",\"startlinecolor\":\"#2a3f5f\"},\"baxis\":{\"endlinecolor\":\"#2a3f5f\",\"gridcolor\":\"white\",\"linecolor\":\"white\",\"minorgridcolor\":\"white\",\"startlinecolor\":\"#2a3f5f\"},\"type\":\"carpet\"}],\"table\":[{\"cells\":{\"fill\":{\"color\":\"#EBF0F8\"},\"line\":{\"color\":\"white\"}},\"header\":{\"fill\":{\"color\":\"#C8D4E3\"},\"line\":{\"color\":\"white\"}},\"type\":\"table\"}],\"barpolar\":[{\"marker\":{\"line\":{\"color\":\"#E5ECF6\",\"width\":0.5},\"pattern\":{\"fillmode\":\"overlay\",\"size\":10,\"solidity\":0.2}},\"type\":\"barpolar\"}],\"pie\":[{\"automargin\":true,\"type\":\"pie\"}]},\"layout\":{\"autotypenumbers\":\"strict\",\"colorway\":[\"#636efa\",\"#EF553B\",\"#00cc96\",\"#ab63fa\",\"#FFA15A\",\"#19d3f3\",\"#FF6692\",\"#B6E880\",\"#FF97FF\",\"#FECB52\"],\"font\":{\"color\":\"#2a3f5f\"},\"hovermode\":\"closest\",\"hoverlabel\":{\"align\":\"left\"},\"paper_bgcolor\":\"white\",\"plot_bgcolor\":\"#E5ECF6\",\"polar\":{\"bgcolor\":\"#E5ECF6\",\"angularaxis\":{\"gridcolor\":\"white\",\"linecolor\":\"white\",\"ticks\":\"\"},\"radialaxis\":{\"gridcolor\":\"white\",\"linecolor\":\"white\",\"ticks\":\"\"}},\"ternary\":{\"bgcolor\":\"#E5ECF6\",\"aaxis\":{\"gridcolor\":\"white\",\"linecolor\":\"white\",\"ticks\":\"\"},\"baxis\":{\"gridcolor\":\"white\",\"linecolor\":\"white\",\"ticks\":\"\"},\"caxis\":{\"gridcolor\":\"white\",\"linecolor\":\"white\",\"ticks\":\"\"}},\"coloraxis\":{\"colorbar\":{\"outlinewidth\":0,\"ticks\":\"\"}},\"colorscale\":{\"sequential\":[[0.0,\"#0d0887\"],[0.1111111111111111,\"#46039f\"],[0.2222222222222222,\"#7201a8\"],[0.3333333333333333,\"#9c179e\"],[0.4444444444444444,\"#bd3786\"],[0.5555555555555556,\"#d8576b\"],[0.6666666666666666,\"#ed7953\"],[0.7777777777777778,\"#fb9f3a\"],[0.8888888888888888,\"#fdca26\"],[1.0,\"#f0f921\"]],\"sequentialminus\":[[0.0,\"#0d0887\"],[0.1111111111111111,\"#46039f\"],[0.2222222222222222,\"#7201a8\"],[0.3333333333333333,\"#9c179e\"],[0.4444444444444444,\"#bd3786\"],[0.5555555555555556,\"#d8576b\"],[0.6666666666666666,\"#ed7953\"],[0.7777777777777778,\"#fb9f3a\"],[0.8888888888888888,\"#fdca26\"],[1.0,\"#f0f921\"]],\"diverging\":[[0,\"#8e0152\"],[0.1,\"#c51b7d\"],[0.2,\"#de77ae\"],[0.3,\"#f1b6da\"],[0.4,\"#fde0ef\"],[0.5,\"#f7f7f7\"],[0.6,\"#e6f5d0\"],[0.7,\"#b8e186\"],[0.8,\"#7fbc41\"],[0.9,\"#4d9221\"],[1,\"#276419\"]]},\"xaxis\":{\"gridcolor\":\"white\",\"linecolor\":\"white\",\"ticks\":\"\",\"title\":{\"standoff\":15},\"zerolinecolor\":\"white\",\"automargin\":true,\"zerolinewidth\":2},\"yaxis\":{\"gridcolor\":\"white\",\"linecolor\":\"white\",\"ticks\":\"\",\"title\":{\"standoff\":15},\"zerolinecolor\":\"white\",\"automargin\":true,\"zerolinewidth\":2},\"scene\":{\"xaxis\":{\"backgroundcolor\":\"#E5ECF6\",\"gridcolor\":\"white\",\"linecolor\":\"white\",\"showbackground\":true,\"ticks\":\"\",\"zerolinecolor\":\"white\",\"gridwidth\":2},\"yaxis\":{\"backgroundcolor\":\"#E5ECF6\",\"gridcolor\":\"white\",\"linecolor\":\"white\",\"showbackground\":true,\"ticks\":\"\",\"zerolinecolor\":\"white\",\"gridwidth\":2},\"zaxis\":{\"backgroundcolor\":\"#E5ECF6\",\"gridcolor\":\"white\",\"linecolor\":\"white\",\"showbackground\":true,\"ticks\":\"\",\"zerolinecolor\":\"white\",\"gridwidth\":2}},\"shapedefaults\":{\"line\":{\"color\":\"#2a3f5f\"}},\"annotationdefaults\":{\"arrowcolor\":\"#2a3f5f\",\"arrowhead\":0,\"arrowwidth\":1},\"geo\":{\"bgcolor\":\"white\",\"landcolor\":\"#E5ECF6\",\"subunitcolor\":\"white\",\"showland\":true,\"showlakes\":true,\"lakecolor\":\"white\"},\"title\":{\"x\":0.05},\"mapbox\":{\"style\":\"light\"}}},\"xaxis\":{\"anchor\":\"y\",\"domain\":[0.0,0.98],\"title\":{\"text\":\"vhkm\"}},\"yaxis\":{\"anchor\":\"x\",\"domain\":[0.0,0.485],\"title\":{\"text\":\"Emission\"}},\"xaxis2\":{\"anchor\":\"y2\",\"domain\":[0.0,0.98],\"matches\":\"x\",\"showticklabels\":false},\"yaxis2\":{\"anchor\":\"x2\",\"domain\":[0.515,1.0],\"matches\":\"y\",\"title\":{\"text\":\"Emission\"}},\"annotations\":[{\"font\":{},\"showarrow\":false,\"text\":\"Sources=Road traffic, passenger cars\",\"textangle\":90,\"x\":0.98,\"xanchor\":\"left\",\"xref\":\"paper\",\"y\":0.2425,\"yanchor\":\"middle\",\"yref\":\"paper\"},{\"font\":{},\"showarrow\":false,\"text\":\"Sources=Road traffic, freight vehicles\",\"textangle\":90,\"x\":0.98,\"xanchor\":\"left\",\"xref\":\"paper\",\"y\":0.7575000000000001,\"yanchor\":\"middle\",\"yref\":\"paper\"}],\"legend\":{\"title\":{\"text\":\"Emission Type\"},\"tracegroupgap\":0},\"margin\":{\"t\":60},\"height\":600},                        {\"responsive\": true}                    ).then(function(){\n",
       "                            \n",
       "var gd = document.getElementById('557e9355-f201-480a-b1eb-5bd39f8383b5');\n",
       "var x = new MutationObserver(function (mutations, observer) {{\n",
       "        var display = window.getComputedStyle(gd).display;\n",
       "        if (!display || display === 'none') {{\n",
       "            console.log([gd, 'removed!']);\n",
       "            Plotly.purge(gd);\n",
       "            observer.disconnect();\n",
       "        }}\n",
       "}});\n",
       "\n",
       "// Listen for the removal of the full notebook cells\n",
       "var notebookContainer = gd.closest('#notebook-container');\n",
       "if (notebookContainer) {{\n",
       "    x.observe(notebookContainer, {childList: true});\n",
       "}}\n",
       "\n",
       "// Listen for the clearing of the current output cell\n",
       "var outputEl = gd.closest('.output');\n",
       "if (outputEl) {{\n",
       "    x.observe(outputEl, {childList: true});\n",
       "}}\n",
       "\n",
       "                        })                };                });            </script>        </div>"
      ]
     },
     "metadata": {},
     "output_type": "display_data"
    }
   ],
   "source": [
    "px.scatter(vehicle_data, x=\"vhkm\", y=\"Emission\", text=\"Year\", color=\"Emission Type\", facet_row=\"Sources\", height=600)"
   ]
  },
  {
   "cell_type": "code",
   "execution_count": 16,
   "metadata": {},
   "outputs": [
    {
     "data": {
      "image/png": "[encoded data removed]",
      "text/plain": [
       "<Figure size 640x480 with 2 Axes>"
      ]
     },
     "metadata": {},
     "output_type": "display_data"
    }
   ],
   "source": [
    "corr_heatmap(\"car\", \"NOx\")"
   ]
  },
  {
   "cell_type": "markdown",
   "metadata": {
    "jp-MarkdownHeadingCollapsed": true,
    "tags": []
   },
   "source": [
    "# Python code/functions"
   ]
  },
  {
   "cell_type": "markdown",
   "metadata": {
    "tags": []
   },
   "source": [
    "#### Load Data functions"
   ]
  },
  {
   "cell_type": "code",
   "execution_count": 4,
   "metadata": {},
   "outputs": [],
   "source": [
    "def load_vk_data(data_path, meta_path):\n",
    "    vk_data = pd.read_csv(data_path, sep=\";\", index_col=\"ID\")\n",
    "    vk_meta = pd.read_csv(meta_path, sep=\";\", skiprows=1, index_col=\"Key\")\n",
    "\n",
    "    vehicle_type = vk_data[\"TypesOfVehicle\"].array.copy()\n",
    "    for i in range(len(vehicle_type)):\n",
    "        vehicle_type[i] = vk_meta.loc[vehicle_type[i], \"Title\"]\n",
    "\n",
    "    vk_data[\"TypesOfVehicle\"] = vehicle_type\n",
    "    vk_data[\"Periods\"] = vk_data[\"Periods\"].apply(lambda s: int(s[0:4]))\n",
    "    vk_data.drop(columns=vk_data.columns.to_list()[3:], inplace=True)\n",
    "    vk_data.rename(columns={\"TypesOfVehicle\":\"Vehicle Type\", \"Periods\":\"Year\", \"TotalKilometresInTheNetherlands_1\":\"vhkm\"}, inplace=True)\n",
    "    vk_data[\"vhkm\"] *= 1000000 # stored in milion km\n",
    "    return vk_data\n",
    "\n",
    "def load_ems_data(data_path, source_meta_path, emissions_meta_path):\n",
    "    ems_data = pd.read_csv(data_path, sep=\";\", index_col=\"ID\")\n",
    "    ems_source_meta = pd.read_csv(source_meta_path, sep=\";\", skiprows=1, index_col=\"Key\")\n",
    "    ems_emission_meta = pd.read_csv(emissions_meta_path, sep=\";\", skiprows=1, index_col=\"Key\")\n",
    "\n",
    "    sources = ems_data[\"Sources\"].array.copy()\n",
    "    emissions = ems_data[\"Emissions\"].array.copy()\n",
    "    for i in range(len(sources)):\n",
    "        sources[i] = ems_source_meta.loc[sources[i], \"Title\"]\n",
    "        emissions[i] = ems_emission_meta.loc[emissions[i], \"Title\"]\n",
    "\n",
    "    ems_data[\"Sources\"] = sources\n",
    "    ems_data[\"Emissions\"] = emissions\n",
    "    ems_data[\"Periods\"] = ems_data[\"Periods\"].apply(lambda s: int(s[0:4]))\n",
    "    ems_data.rename(columns={\"Emissions\":\"Emission Type\", \"Periods\":\"Year\", \"EmissionsDutchTerritory_1\":\"Emission\"}, inplace=True)\n",
    "    ems_data[\"Emission\"] *= 1000000 # stored in milion kg\n",
    "    return ems_data\n",
    "\n",
    "# print(vk_data[\"Vehicle Type\"].unique())\n",
    "# print()\n",
    "# print(ems_data[\"Sources\"].unique())\n",
    "# print()\n",
    "# print(ems_data[\"Emission Type\"].unique())"
   ]
  },
  {
   "cell_type": "markdown",
   "metadata": {},
   "source": [
    "#### Filter Data functions"
   ]
  },
  {
   "cell_type": "code",
   "execution_count": 5,
   "metadata": {},
   "outputs": [],
   "source": [
    "def getCategory(df, col_name, cat, sum_cat):\n",
    "    df = df.copy()\n",
    "    bools = np.zeros(len(df[col_name]), dtype=bool)\n",
    "    \n",
    "    for i in range(len(cat)):\n",
    "        bools = np.logical_or(bools, df[col_name] == cat[i])\n",
    "        \n",
    "    if sum_cat:\n",
    "        df = df[bools].groupby(\"Year\").sum()\n",
    "        df[\"Year\"] = df.index.array\n",
    "        df.index.names = [\"Not_Year\"]\n",
    "        return df\n",
    "    else:\n",
    "        return df[bools]"
   ]
  },
  {
   "cell_type": "markdown",
   "metadata": {},
   "source": [
    "#### Heatmaps"
   ]
  },
  {
   "cell_type": "code",
   "execution_count": 6,
   "metadata": {},
   "outputs": [],
   "source": [
    "def corr_heatmap(vehicle, emission, start_year=1990, end_year=2021):\n",
    "    vehicle_data_CO2 = vehicle_data[vehicle_data[\"Emission Type\"] == \"Carbon dioxide (CO2)\"]\n",
    "    vehicle_data_CO = vehicle_data[vehicle_data[\"Emission Type\"] == \"Carbon monoxide (CO)\"]\n",
    "    vehicle_data_NOx = vehicle_data[vehicle_data[\"Emission Type\"] == \"Nitrogen oxides (NOx)\"]\n",
    "    vehicle_data_PM10 = vehicle_data[vehicle_data[\"Emission Type\"] == \"PM10 (Particulate matter)\"]\n",
    "\n",
    "    vehicle_data_CO2 = vehicle_data_CO2[vehicle_data_CO2[\"Year\"] >= start_year]\n",
    "    vehicle_data_CO2 = vehicle_data_CO2[vehicle_data_CO2[\"Year\"] <= end_year]\n",
    "    vehicle_data_CO = vehicle_data_CO[vehicle_data_CO[\"Year\"] >= start_year]\n",
    "    vehicle_data_CO = vehicle_data_CO[vehicle_data_CO[\"Year\"] <= end_year]\n",
    "    vehicle_data_NOx = vehicle_data_NOx[vehicle_data_NOx[\"Year\"] >= start_year]\n",
    "    vehicle_data_NOx = vehicle_data_NOx[vehicle_data_NOx[\"Year\"] <= end_year]\n",
    "    vehicle_data_PM10 = vehicle_data_PM10[vehicle_data_PM10[\"Year\"] >= start_year]\n",
    "    vehicle_data_PM10 = vehicle_data_PM10[vehicle_data_PM10[\"Year\"] <= end_year]\n",
    "\n",
    "    car_data_CO2 = vehicle_data_CO2[vehicle_data_CO2[\"Sources\"] == \"Road traffic, passenger cars\"]\n",
    "    car_data_CO = vehicle_data_CO[vehicle_data_CO[\"Sources\"] == \"Road traffic, passenger cars\"]\n",
    "    car_data_NOx = vehicle_data_NOx[vehicle_data_NOx[\"Sources\"] == \"Road traffic, passenger cars\"]\n",
    "    car_data_PM10 = vehicle_data_PM10[vehicle_data_PM10[\"Sources\"] == \"Road traffic, passenger cars\"]\n",
    "    freight_data_CO2 = vehicle_data_CO2[vehicle_data_CO2[\"Sources\"] == \"Road traffic, freight vehicles\"]\n",
    "    freight_data_CO = vehicle_data_CO[vehicle_data_CO[\"Sources\"] == \"Road traffic, freight vehicles\"]\n",
    "    freight_data_NOx = vehicle_data_NOx[vehicle_data_NOx[\"Sources\"] == \"Road traffic, freight vehicles\"]\n",
    "    freight_data_PM10 = vehicle_data_PM10[vehicle_data_PM10[\"Sources\"] == \"Road traffic, freight vehicles\"]\n",
    "    \n",
    "    sns.heatmap(eval(f\"{vehicle}_data_{emission}\").corr(method=\"pearson\"), annot=True)"
   ]
  },
  {
   "cell_type": "code",
   "execution_count": null,
   "metadata": {},
   "outputs": [],
   "source": []
  }
 ],
 "metadata": {
  "kernelspec": {
   "display_name": "Python 3 (ipykernel)",
   "language": "python",
   "name": "python3"
  },
  "language_info": {
   "codemirror_mode": {
    "name": "ipython",
    "version": 3
   },
   "file_extension": ".py",
   "mimetype": "text/x-python",
   "name": "python",
   "nbconvert_exporter": "python",
   "pygments_lexer": "ipython3",
   "version": "3.10.4"
  },
  "vscode": {
   "interpreter": {
    "hash": "8c5e5348d276a12666bc302ea2435c07634e40b9ff0cb2dfa4682676d2a56088"
   }
  }
 },
 "nbformat": 4,
 "nbformat_minor": 4
}
