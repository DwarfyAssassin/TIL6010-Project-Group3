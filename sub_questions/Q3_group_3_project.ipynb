{
 "cells": [
  {
   "cell_type": "code",
   "execution_count": 5,
   "metadata": {},
   "outputs": [],
   "source": [
    "import pandas as pd\n",
    "import numpy as np\n",
    "import plotly.express as px\n",
    "import matplotlib.pyplot as plt\n",
    "import seaborn as sns"
   ]
  },
  {
   "cell_type": "markdown",
   "metadata": {
    "tags": []
   },
   "source": [
    "# Group & Topic info\n",
    "\n",
    "Group members:\n",
    "  - Florentin Dutruel 5011507\n",
    "  - Adinda Ramadani 5347734\n",
    "  - Watetu Mbugua 5721784\n",
    "  - Aristi Molocha 5864755\n",
    "  - Nguyen Thi Minh Hoa 5735041\n",
    "\n",
    "Project type: Application Project<br>\n",
    "Research Question: What is the correlation between vehicle kilometers and emissions?<br>\n",
    "Sub question:\n",
    "  - What are the trends of vehicle kilomiters over the years?\n",
    "  - What are the trends of emissions over the years?\n",
    "  - What are the correlations between e/vhkm and years?\n",
    "  - What are the correlations between emissions and vhkm?\n",
    "\n",
    "Scope:\n",
    "  - Time: 1990-2021\n",
    "  - Place: Netherlands\n",
    "  - Vehicle types: Passenger cars & Road freight\n",
    "  - Emission types: CO2, CO, NOx, PM10\n",
    "\n",
    "\n",
    "\n",
    "<br><br>\n",
    "Sources:\n",
    "  - Emissions per transport mode 1990-2021: https://opendata.cbs.nl/statline/portal.html?_la=en&_catalog=CBS&tableId=84735ENG&_theme=1157 \n",
    "  - Vehicle-kilometres for motor vehicles 1990-2020: https://opendata.cbs.nl/statline/portal.html?_la=en&_catalog=CBS&tableId=80302ENG\n",
    "\n",
    "\n",
    "Contributions: https://docs.google.com/spreadsheets/d/13XAgn709_jYkHUsW45FdbP5MM8wKJRv-gXowcEMF_7Q/edit#gid=0"
   ]
  },
  {
   "cell_type": "markdown",
   "metadata": {
    "tags": []
   },
   "source": [
    "# Report"
   ]
  },
  {
   "cell_type": "markdown",
   "metadata": {
    "jp-MarkdownHeadingCollapsed": true,
    "tags": []
   },
   "source": [
    "### Data import & filtering"
   ]
  },
  {
   "cell_type": "markdown",
   "metadata": {},
   "source": [
    "Load the data from the two different datasets and link the data to the meta files."
   ]
  },
  {
   "cell_type": "code",
   "execution_count": 6,
   "metadata": {},
   "outputs": [],
   "source": [
    "vk_data = load_vk_data(\"../data/vehicle-kilometres_data.csv\", \"../data/vehicle-kilometres_typ_meta.csv\")\n",
    "ems_data = load_ems_data(\"../data/emissions_data.csv\", \"../data/emissions_source_meta.csv\", \"../data/emissions_emission_meta.csv\")"
   ]
  },
  {
   "cell_type": "markdown",
   "metadata": {},
   "source": [
    "Filter and split the data sets into the used topics. "
   ]
  },
  {
   "cell_type": "code",
   "execution_count": 7,
   "metadata": {},
   "outputs": [],
   "source": [
    "vk_data_freight = getCategory(vk_data, \"Vehicle Type\", [\"Delivery van\", \"Lorry (road tractor not included)\", \"Road tractor\"], True)\n",
    "vk_data_car = getCategory(vk_data, \"Vehicle Type\", [\"Passenger car\"], True)\n",
    "\n",
    "ems_data = getCategory(ems_data, \"Emission Type\", [\"Carbon dioxide (CO2)\", \"Carbon monoxide (CO)\", \"PM10 (Particulate matter)\", \"Nitrogen oxides (NOx)\"], False)\n",
    "ems_data_freight = getCategory(ems_data, \"Sources\", [\"Road traffic, freight vehicles\"], False)\n",
    "ems_data_car = getCategory(ems_data, \"Sources\", [\"Road traffic, passenger cars\"], False)"
   ]
  },
  {
   "cell_type": "markdown",
   "metadata": {},
   "source": [
    "Merge data sets and calculate emissions per kilomiter"
   ]
  },
  {
   "cell_type": "code",
   "execution_count": 8,
   "metadata": {
    "tags": []
   },
   "outputs": [
    {
     "data": {
      "text/html": [
       "<div>\n",
       "<style scoped>\n",
       "    .dataframe tbody tr th:only-of-type {\n",
       "        vertical-align: middle;\n",
       "    }\n",
       "\n",
       "    .dataframe tbody tr th {\n",
       "        vertical-align: top;\n",
       "    }\n",
       "\n",
       "    .dataframe thead th {\n",
       "        text-align: right;\n",
       "    }\n",
       "</style>\n",
       "<table border=\"1\" class=\"dataframe\">\n",
       "  <thead>\n",
       "    <tr style=\"text-align: right;\">\n",
       "      <th></th>\n",
       "      <th>Sources</th>\n",
       "      <th>Emission Type</th>\n",
       "      <th>Year</th>\n",
       "      <th>Emission</th>\n",
       "      <th>vhkm</th>\n",
       "      <th>e/km</th>\n",
       "    </tr>\n",
       "  </thead>\n",
       "  <tbody>\n",
       "    <tr>\n",
       "      <th>0</th>\n",
       "      <td>Road traffic, freight vehicles</td>\n",
       "      <td>Carbon dioxide (CO2)</td>\n",
       "      <td>1990</td>\n",
       "      <td>7.600000e+09</td>\n",
       "      <td>1.354200e+10</td>\n",
       "      <td>0.561217</td>\n",
       "    </tr>\n",
       "    <tr>\n",
       "      <th>1</th>\n",
       "      <td>Road traffic, freight vehicles</td>\n",
       "      <td>Carbon dioxide (CO2)</td>\n",
       "      <td>1991</td>\n",
       "      <td>7.900000e+09</td>\n",
       "      <td>1.436300e+10</td>\n",
       "      <td>0.550024</td>\n",
       "    </tr>\n",
       "    <tr>\n",
       "      <th>2</th>\n",
       "      <td>Road traffic, freight vehicles</td>\n",
       "      <td>Carbon dioxide (CO2)</td>\n",
       "      <td>1992</td>\n",
       "      <td>8.400000e+09</td>\n",
       "      <td>1.565000e+10</td>\n",
       "      <td>0.536741</td>\n",
       "    </tr>\n",
       "    <tr>\n",
       "      <th>3</th>\n",
       "      <td>Road traffic, freight vehicles</td>\n",
       "      <td>Carbon dioxide (CO2)</td>\n",
       "      <td>1993</td>\n",
       "      <td>8.500000e+09</td>\n",
       "      <td>1.657200e+10</td>\n",
       "      <td>0.512913</td>\n",
       "    </tr>\n",
       "    <tr>\n",
       "      <th>4</th>\n",
       "      <td>Road traffic, freight vehicles</td>\n",
       "      <td>Carbon dioxide (CO2)</td>\n",
       "      <td>1994</td>\n",
       "      <td>8.500000e+09</td>\n",
       "      <td>1.664700e+10</td>\n",
       "      <td>0.510603</td>\n",
       "    </tr>\n",
       "    <tr>\n",
       "      <th>...</th>\n",
       "      <td>...</td>\n",
       "      <td>...</td>\n",
       "      <td>...</td>\n",
       "      <td>...</td>\n",
       "      <td>...</td>\n",
       "      <td>...</td>\n",
       "    </tr>\n",
       "    <tr>\n",
       "      <th>123</th>\n",
       "      <td>Road traffic, passenger cars</td>\n",
       "      <td>PM10 (Particulate matter)</td>\n",
       "      <td>2017</td>\n",
       "      <td>2.300000e+06</td>\n",
       "      <td>1.089361e+11</td>\n",
       "      <td>0.000021</td>\n",
       "    </tr>\n",
       "    <tr>\n",
       "      <th>124</th>\n",
       "      <td>Road traffic, passenger cars</td>\n",
       "      <td>PM10 (Particulate matter)</td>\n",
       "      <td>2018</td>\n",
       "      <td>2.300000e+06</td>\n",
       "      <td>1.103559e+11</td>\n",
       "      <td>0.000021</td>\n",
       "    </tr>\n",
       "    <tr>\n",
       "      <th>125</th>\n",
       "      <td>Road traffic, passenger cars</td>\n",
       "      <td>PM10 (Particulate matter)</td>\n",
       "      <td>2019</td>\n",
       "      <td>2.200000e+06</td>\n",
       "      <td>1.103728e+11</td>\n",
       "      <td>0.000020</td>\n",
       "    </tr>\n",
       "    <tr>\n",
       "      <th>126</th>\n",
       "      <td>Road traffic, passenger cars</td>\n",
       "      <td>PM10 (Particulate matter)</td>\n",
       "      <td>2020</td>\n",
       "      <td>1.800000e+06</td>\n",
       "      <td>9.265420e+10</td>\n",
       "      <td>0.000019</td>\n",
       "    </tr>\n",
       "    <tr>\n",
       "      <th>127</th>\n",
       "      <td>Road traffic, passenger cars</td>\n",
       "      <td>PM10 (Particulate matter)</td>\n",
       "      <td>2021</td>\n",
       "      <td>1.900000e+06</td>\n",
       "      <td>NaN</td>\n",
       "      <td>NaN</td>\n",
       "    </tr>\n",
       "  </tbody>\n",
       "</table>\n",
       "<p>256 rows × 6 columns</p>\n",
       "</div>"
      ],
      "text/plain": [
       "                            Sources              Emission Type  Year  \\\n",
       "0    Road traffic, freight vehicles       Carbon dioxide (CO2)  1990   \n",
       "1    Road traffic, freight vehicles       Carbon dioxide (CO2)  1991   \n",
       "2    Road traffic, freight vehicles       Carbon dioxide (CO2)  1992   \n",
       "3    Road traffic, freight vehicles       Carbon dioxide (CO2)  1993   \n",
       "4    Road traffic, freight vehicles       Carbon dioxide (CO2)  1994   \n",
       "..                              ...                        ...   ...   \n",
       "123    Road traffic, passenger cars  PM10 (Particulate matter)  2017   \n",
       "124    Road traffic, passenger cars  PM10 (Particulate matter)  2018   \n",
       "125    Road traffic, passenger cars  PM10 (Particulate matter)  2019   \n",
       "126    Road traffic, passenger cars  PM10 (Particulate matter)  2020   \n",
       "127    Road traffic, passenger cars  PM10 (Particulate matter)  2021   \n",
       "\n",
       "         Emission          vhkm      e/km  \n",
       "0    7.600000e+09  1.354200e+10  0.561217  \n",
       "1    7.900000e+09  1.436300e+10  0.550024  \n",
       "2    8.400000e+09  1.565000e+10  0.536741  \n",
       "3    8.500000e+09  1.657200e+10  0.512913  \n",
       "4    8.500000e+09  1.664700e+10  0.510603  \n",
       "..            ...           ...       ...  \n",
       "123  2.300000e+06  1.089361e+11  0.000021  \n",
       "124  2.300000e+06  1.103559e+11  0.000021  \n",
       "125  2.200000e+06  1.103728e+11  0.000020  \n",
       "126  1.800000e+06  9.265420e+10  0.000019  \n",
       "127  1.900000e+06           NaN       NaN  \n",
       "\n",
       "[256 rows x 6 columns]"
      ]
     },
     "metadata": {},
     "output_type": "display_data"
    }
   ],
   "source": [
    "freight_data = ems_data_freight.merge(right = vk_data_freight, how=\"left\", on=\"Year\")\n",
    "car_data = ems_data_car.merge(right = vk_data_car, how=\"left\", on=\"Year\")\n",
    "\n",
    "vehicle_data = pd.concat([freight_data, car_data])\n",
    "vehicle_data[\"e/km\"] = vehicle_data[\"Emission\"] / vehicle_data[\"vhkm\"]\n",
    "\n",
    "display(vehicle_data)"
   ]
  },
  {
   "cell_type": "markdown",
   "metadata": {},
   "source": [
    "### What are the trends of vehicle kilomiters over the years?"
   ]
  },
  {
   "cell_type": "markdown",
   "metadata": {},
   "source": [
    "### What are the trends of emissions over the years?"
   ]
  },
  {
   "cell_type": "markdown",
   "metadata": {},
   "source": [
    "### What are the correlations between e/vhkm and years?"
   ]
  },
  {
   "cell_type": "markdown",
   "metadata": {},
   "source": [
    "### What are the correlations between emissions and vhkm?"
   ]
  },
  {
   "cell_type": "markdown",
   "metadata": {},
   "source": [
    "### Conclusion & Discussion"
   ]
  },
  {
   "cell_type": "markdown",
   "metadata": {
    "tags": []
   },
   "source": [
    "# Graphs and stuff"
   ]
  },
  {
   "cell_type": "code",
   "execution_count": 9,
   "metadata": {},
   "outputs": [
    {
     "data": {
      "application/vnd.plotly.v1+json": {
       "config": {
        "plotlyServerURL": "https://plot.ly"
       },
       "data": [
        {
         "hovertemplate": "Emission Type=Carbon dioxide (CO2)<br>Sources=Road traffic, freight vehicles<br>Year=%{x}<br>e/km=%{y}<extra></extra>",
         "legendgroup": "Carbon dioxide (CO2)",
         "line": {
          "color": "#636efa",
          "dash": "solid"
         },
         "marker": {
          "symbol": "circle"
         },
         "mode": "lines",
         "name": "Carbon dioxide (CO2)",
         "orientation": "v",
         "showlegend": true,
         "type": "scatter",
         "x": [
          1990,
          1991,
          1992,
          1993,
          1994,
          1995,
          1996,
          1997,
          1998,
          1999,
          2000,
          2001,
          2002,
          2003,
          2004,
          2005,
          2006,
          2007,
          2008,
          2009,
          2010,
          2011,
          2012,
          2013,
          2014,
          2015,
          2016,
          2017,
          2018,
          2019,
          2020,
          2021
         ],
         "xaxis": "x2",
         "y": [
          0.5612169546595777,
          0.55002436816821,
          0.536741214057508,
          0.5129133478155926,
          0.5106025109629363,
          0.5086650499792985,
          0.4997094712376525,
          0.4868333702146493,
          0.47420531526836895,
          0.46901172529313234,
          0.43859649122807015,
          0.42625375146796574,
          0.42215176786821973,
          0.4191327761830975,
          0.41383435972449284,
          0.4128568479593943,
          0.4215015372409005,
          0.41690952658506575,
          0.42108608429666705,
          0.42217044319777874,
          0.42483313044828064,
          0.41788722837330156,
          0.4184825568861516,
          0.4143676531524655,
          0.41020091116968355,
          0.4175952479365255,
          0.41674838203569325,
          0.4140242761541922,
          0.41266652651577085,
          0.40860280752134664,
          0.41496212491925855,
          null
         ],
         "yaxis": "y2"
        },
        {
         "hovertemplate": "Emission Type=Carbon dioxide (CO2)<br>Sources=Road traffic, passenger cars<br>Year=%{x}<br>e/km=%{y}<extra></extra>",
         "legendgroup": "Carbon dioxide (CO2)",
         "line": {
          "color": "#636efa",
          "dash": "solid"
         },
         "marker": {
          "symbol": "circle"
         },
         "mode": "lines",
         "name": "Carbon dioxide (CO2)",
         "orientation": "v",
         "showlegend": false,
         "type": "scatter",
         "x": [
          1990,
          1991,
          1992,
          1993,
          1994,
          1995,
          1996,
          1997,
          1998,
          1999,
          2000,
          2001,
          2002,
          2003,
          2004,
          2005,
          2006,
          2007,
          2008,
          2009,
          2010,
          2011,
          2012,
          2013,
          2014,
          2015,
          2016,
          2017,
          2018,
          2019,
          2020,
          2021
         ],
         "xaxis": "x",
         "y": [
          0.18932222642938282,
          0.1897392932827362,
          0.1902488596885118,
          0.19033254327371973,
          0.19125618942576209,
          0.19132046772506892,
          0.19074813055129722,
          0.19139084991289998,
          0.1905615962336061,
          0.19120045801691637,
          0.19099122298761775,
          0.19095549888184946,
          0.1911604896201932,
          0.1909370595487521,
          0.19111486003087855,
          0.18893617876578447,
          0.18712369971423823,
          0.18196332558521752,
          0.18074038372269882,
          0.17830052997616092,
          0.17594000836692483,
          0.1738600028750034,
          0.17067146615516945,
          0.16858635496922814,
          0.1658645060564653,
          0.16462252435794836,
          0.16340460930979192,
          0.16248057347380712,
          0.16129631492289945,
          0.1594595769972312,
          0.15757515579434067,
          null
         ],
         "yaxis": "y"
        },
        {
         "hovertemplate": "Emission Type=Carbon monoxide (CO)<br>Sources=Road traffic, freight vehicles<br>Year=%{x}<br>e/km=%{y}<extra></extra>",
         "legendgroup": "Carbon monoxide (CO)",
         "line": {
          "color": "#EF553B",
          "dash": "solid"
         },
         "marker": {
          "symbol": "circle"
         },
         "mode": "lines",
         "name": "Carbon monoxide (CO)",
         "orientation": "v",
         "showlegend": true,
         "type": "scatter",
         "x": [
          1990,
          1991,
          1992,
          1993,
          1994,
          1995,
          1996,
          1997,
          1998,
          1999,
          2000,
          2001,
          2002,
          2003,
          2004,
          2005,
          2006,
          2007,
          2008,
          2009,
          2010,
          2011,
          2012,
          2013,
          2014,
          2015,
          2016,
          2017,
          2018,
          2019,
          2020,
          2021
         ],
         "xaxis": "x2",
         "y": [
          0.005065721459164082,
          0.004609064958574114,
          0.004153354632587859,
          0.003759353125754284,
          0.0033940049258124588,
          0.002998757910924469,
          0.0025973271353864034,
          0.0022018145607435274,
          0.0018655549765502866,
          0.001588896865278775,
          0.0013610056068005065,
          0.0012048192771084338,
          0.0010984561306775105,
          0.0010033784641959001,
          0.0009464924464985926,
          0.000890475554422223,
          0.000884326754603458,
          0.0008702480409299916,
          0.0008580622095101895,
          0.0008565188799493395,
          0.0008292415911634709,
          0.0008026744782615892,
          0.00077355866575925,
          0.0007240529518243082,
          0.0006720312800013964,
          0.0006093481679073791,
          0.0006128652676995489,
          0.0006130744089206308,
          0.00042434576783225493,
          0.0003704156292483236,
          0.0003405821213959952,
          null
         ],
         "yaxis": "y2"
        },
        {
         "hovertemplate": "Emission Type=Carbon monoxide (CO)<br>Sources=Road traffic, passenger cars<br>Year=%{x}<br>e/km=%{y}<extra></extra>",
         "legendgroup": "Carbon monoxide (CO)",
         "line": {
          "color": "#EF553B",
          "dash": "solid"
         },
         "marker": {
          "symbol": "circle"
         },
         "mode": "lines",
         "name": "Carbon monoxide (CO)",
         "orientation": "v",
         "showlegend": false,
         "type": "scatter",
         "x": [
          1990,
          1991,
          1992,
          1993,
          1994,
          1995,
          1996,
          1997,
          1998,
          1999,
          2000,
          2001,
          2002,
          2003,
          2004,
          2005,
          2006,
          2007,
          2008,
          2009,
          2010,
          2011,
          2012,
          2013,
          2014,
          2015,
          2016,
          2017,
          2018,
          2019,
          2020,
          2021
         ],
         "xaxis": "x",
         "y": [
          0.007240659085634718,
          0.006192400571682026,
          0.005617658875522889,
          0.0051114462879168765,
          0.004672283106094384,
          0.004509696739233768,
          0.00426550267398453,
          0.003924085449711194,
          0.003629637932967156,
          0.003414602529895326,
          0.0032554346659799567,
          0.0032313913866339637,
          0.0032175219367050994,
          0.00321410716907066,
          0.003150893687105951,
          0.0030933274374525775,
          0.0030377741038715694,
          0.003015112738998067,
          0.0029629571102081772,
          0.0028991075122643184,
          0.0028336115791984173,
          0.002751650213099914,
          0.0026366802072494643,
          0.0025462352922938597,
          0.002405999666342331,
          0.00234753622885005,
          0.002198534743440837,
          0.002181095155783987,
          0.0020071423458102376,
          0.001870025948422075,
          0.0017926872176328758,
          null
         ],
         "yaxis": "y"
        },
        {
         "hovertemplate": "Emission Type=Nitrogen oxides (NOx)<br>Sources=Road traffic, freight vehicles<br>Year=%{x}<br>e/km=%{y}<extra></extra>",
         "legendgroup": "Nitrogen oxides (NOx)",
         "line": {
          "color": "#00cc96",
          "dash": "solid"
         },
         "marker": {
          "symbol": "circle"
         },
         "mode": "lines",
         "name": "Nitrogen oxides (NOx)",
         "orientation": "v",
         "showlegend": true,
         "type": "scatter",
         "x": [
          1990,
          1991,
          1992,
          1993,
          1994,
          1995,
          1996,
          1997,
          1998,
          1999,
          2000,
          2001,
          2002,
          2003,
          2004,
          2005,
          2006,
          2007,
          2008,
          2009,
          2010,
          2011,
          2012,
          2013,
          2014,
          2015,
          2016,
          2017,
          2018,
          2019,
          2020,
          2021
         ],
         "xaxis": "x2",
         "y": [
          0.007724117560183134,
          0.007533245143772192,
          0.007035143769968051,
          0.006354091238233164,
          0.00594101039226287,
          0.005624889099189684,
          0.005188843695525857,
          0.004774286346536844,
          0.00440333507034914,
          0.0041923905240488155,
          0.003906673901247965,
          0.0037057979209255795,
          0.003601213040181956,
          0.003505474128076816,
          0.003421303865049025,
          0.003420235652212629,
          0.0034835862342556777,
          0.003448610841266757,
          0.0033448536129980534,
          0.003223108960567657,
          0.0030637004599635624,
          0.0029417605878556178,
          0.0028110191952453616,
          0.002647591215405753,
          0.002483024664420744,
          0.0023436467996437657,
          0.002169543047656403,
          0.0019944823303197144,
          0.0017986031627385485,
          0.0016191363587761774,
          0.0015032590185754273,
          null
         ],
         "yaxis": "y2"
        },
        {
         "hovertemplate": "Emission Type=Nitrogen oxides (NOx)<br>Sources=Road traffic, passenger cars<br>Year=%{x}<br>e/km=%{y}<extra></extra>",
         "legendgroup": "Nitrogen oxides (NOx)",
         "line": {
          "color": "#00cc96",
          "dash": "solid"
         },
         "marker": {
          "symbol": "circle"
         },
         "mode": "lines",
         "name": "Nitrogen oxides (NOx)",
         "orientation": "v",
         "showlegend": false,
         "type": "scatter",
         "x": [
          1990,
          1991,
          1992,
          1993,
          1994,
          1995,
          1996,
          1997,
          1998,
          1999,
          2000,
          2001,
          2002,
          2003,
          2004,
          2005,
          2006,
          2007,
          2008,
          2009,
          2010,
          2011,
          2012,
          2013,
          2014,
          2015,
          2016,
          2017,
          2018,
          2019,
          2020,
          2021
         ],
         "xaxis": "x",
         "y": [
          0.001742985916869221,
          0.0016066236262382337,
          0.0014404556519273036,
          0.0013083866025042495,
          0.0011803909605050103,
          0.0010837532084798935,
          0.0010087416474553264,
          0.0009111121298248831,
          0.0008272615177670665,
          0.0007572402320330982,
          0.0006759801712483101,
          0.0006099967325392413,
          0.0005516642390669705,
          0.0005081389487990983,
          0.0004692820385051416,
          0.0004351561989658759,
          0.0004070935807612949,
          0.00038251430270870996,
          0.000362468419815467,
          0.0003388695155348031,
          0.00032548901547881093,
          0.00031955274271439174,
          0.00031128148088528066,
          0.0002993861131350086,
          0.00028640557150447785,
          0.0002873757361624301,
          0.0002683177959689197,
          0.00026804704776469876,
          0.0002500999040377542,
          0.00023284722322891146,
          0.00021153925024445735,
          null
         ],
         "yaxis": "y"
        },
        {
         "hovertemplate": "Emission Type=PM10 (Particulate matter)<br>Sources=Road traffic, freight vehicles<br>Year=%{x}<br>e/km=%{y}<extra></extra>",
         "legendgroup": "PM10 (Particulate matter)",
         "line": {
          "color": "#ab63fa",
          "dash": "solid"
         },
         "marker": {
          "symbol": "circle"
         },
         "mode": "lines",
         "name": "PM10 (Particulate matter)",
         "orientation": "v",
         "showlegend": true,
         "type": "scatter",
         "x": [
          1990,
          1991,
          1992,
          1993,
          1994,
          1995,
          1996,
          1997,
          1998,
          1999,
          2000,
          2001,
          2002,
          2003,
          2004,
          2005,
          2006,
          2007,
          2008,
          2009,
          2010,
          2011,
          2012,
          2013,
          2014,
          2015,
          2016,
          2017,
          2018,
          2019,
          2020,
          2021
         ],
         "xaxis": "x2",
         "y": [
          0.0006498301580268793,
          0.0006196477059110213,
          0.0005623003194888178,
          0.0005008447984552257,
          0.00045653871568450774,
          0.00041402969184361506,
          0.00037187681580476466,
          0.0003263996459393671,
          0.0002918186555497655,
          0.0002680067001675042,
          0.00024416711882799784,
          0.00022617545996259406,
          0.00020676821283341373,
          0.00019051489826504432,
          0.00018028427552354144,
          0.0001699998785715153,
          0.00016116235247446196,
          0.00014976361634609156,
          0.00013903785802248442,
          0.0001258392667224148,
          0.00011437815050530633,
          0.00010757493007629545,
          9.722322028668169e-05,
          8.723529540051906e-05,
          8.291295013004241e-05,
          7.670116798834143e-05,
          7.354383212394588e-05,
          6.767704514058911e-05,
          6.228928702124843e-05,
          5.7280767409534574e-05,
          5.872105541310262e-05,
          null
         ],
         "yaxis": "y2"
        },
        {
         "hovertemplate": "Emission Type=PM10 (Particulate matter)<br>Sources=Road traffic, passenger cars<br>Year=%{x}<br>e/km=%{y}<extra></extra>",
         "legendgroup": "PM10 (Particulate matter)",
         "line": {
          "color": "#ab63fa",
          "dash": "solid"
         },
         "marker": {
          "symbol": "circle"
         },
         "mode": "lines",
         "name": "PM10 (Particulate matter)",
         "orientation": "v",
         "showlegend": false,
         "type": "scatter",
         "x": [
          1990,
          1991,
          1992,
          1993,
          1994,
          1995,
          1996,
          1997,
          1998,
          1999,
          2000,
          2001,
          2002,
          2003,
          2004,
          2005,
          2006,
          2007,
          2008,
          2009,
          2010,
          2011,
          2012,
          2013,
          2014,
          2015,
          2016,
          2017,
          2018,
          2019,
          2020,
          2021
         ],
         "xaxis": "x",
         "y": [
          8.427892660404783e-05,
          7.638854664629639e-05,
          7.090019615720937e-05,
          6.583830113241878e-05,
          6.2187595334757e-05,
          5.941629432455557e-05,
          5.617122862860286e-05,
          5.2718437700559275e-05,
          5.0442775473601616e-05,
          4.861028593650417e-05,
          4.721131354750102e-05,
          4.455628307243154e-05,
          4.1556628178302866e-05,
          4.0035189905383504e-05,
          3.802285173389207e-05,
          3.718424794858524e-05,
          3.5832197817620085e-05,
          3.424041072840115e-05,
          3.259252821228995e-05,
          3.053765983017121e-05,
          2.9323334727820806e-05,
          2.8167263035615075e-05,
          2.6182554466986225e-05,
          2.422217743810749e-05,
          2.3143884566018413e-05,
          2.2837806847345438e-05,
          2.1354011443893263e-05,
          2.1113294858178326e-05,
          2.084165866981285e-05,
          1.99324471246539e-05,
          1.9427074002042e-05,
          null
         ],
         "yaxis": "y"
        }
       ],
       "layout": {
        "annotations": [
         {
          "font": {},
          "showarrow": false,
          "text": "Sources=Road traffic, passenger cars",
          "textangle": 90,
          "x": 0.98,
          "xanchor": "left",
          "xref": "paper",
          "y": 0.2425,
          "yanchor": "middle",
          "yref": "paper"
         },
         {
          "font": {},
          "showarrow": false,
          "text": "Sources=Road traffic, freight vehicles",
          "textangle": 90,
          "x": 0.98,
          "xanchor": "left",
          "xref": "paper",
          "y": 0.7575000000000001,
          "yanchor": "middle",
          "yref": "paper"
         }
        ],
        "autosize": true,
        "legend": {
         "title": {
          "text": "Emission Type"
         },
         "tracegroupgap": 0
        },
        "margin": {
         "t": 60
        },
        "template": {
         "data": {
          "bar": [
           {
            "error_x": {
             "color": "#2a3f5f"
            },
            "error_y": {
             "color": "#2a3f5f"
            },
            "marker": {
             "line": {
              "color": "#E5ECF6",
              "width": 0.5
             },
             "pattern": {
              "fillmode": "overlay",
              "size": 10,
              "solidity": 0.2
             }
            },
            "type": "bar"
           }
          ],
          "barpolar": [
           {
            "marker": {
             "line": {
              "color": "#E5ECF6",
              "width": 0.5
             },
             "pattern": {
              "fillmode": "overlay",
              "size": 10,
              "solidity": 0.2
             }
            },
            "type": "barpolar"
           }
          ],
          "carpet": [
           {
            "aaxis": {
             "endlinecolor": "#2a3f5f",
             "gridcolor": "white",
             "linecolor": "white",
             "minorgridcolor": "white",
             "startlinecolor": "#2a3f5f"
            },
            "baxis": {
             "endlinecolor": "#2a3f5f",
             "gridcolor": "white",
             "linecolor": "white",
             "minorgridcolor": "white",
             "startlinecolor": "#2a3f5f"
            },
            "type": "carpet"
           }
          ],
          "choropleth": [
           {
            "colorbar": {
             "outlinewidth": 0,
             "ticks": ""
            },
            "type": "choropleth"
           }
          ],
          "contour": [
           {
            "colorbar": {
             "outlinewidth": 0,
             "ticks": ""
            },
            "colorscale": [
             [
              0,
              "#0d0887"
             ],
             [
              0.1111111111111111,
              "#46039f"
             ],
             [
              0.2222222222222222,
              "#7201a8"
             ],
             [
              0.3333333333333333,
              "#9c179e"
             ],
             [
              0.4444444444444444,
              "#bd3786"
             ],
             [
              0.5555555555555556,
              "#d8576b"
             ],
             [
              0.6666666666666666,
              "#ed7953"
             ],
             [
              0.7777777777777778,
              "#fb9f3a"
             ],
             [
              0.8888888888888888,
              "#fdca26"
             ],
             [
              1,
              "#f0f921"
             ]
            ],
            "type": "contour"
           }
          ],
          "contourcarpet": [
           {
            "colorbar": {
             "outlinewidth": 0,
             "ticks": ""
            },
            "type": "contourcarpet"
           }
          ],
          "heatmap": [
           {
            "colorbar": {
             "outlinewidth": 0,
             "ticks": ""
            },
            "colorscale": [
             [
              0,
              "#0d0887"
             ],
             [
              0.1111111111111111,
              "#46039f"
             ],
             [
              0.2222222222222222,
              "#7201a8"
             ],
             [
              0.3333333333333333,
              "#9c179e"
             ],
             [
              0.4444444444444444,
              "#bd3786"
             ],
             [
              0.5555555555555556,
              "#d8576b"
             ],
             [
              0.6666666666666666,
              "#ed7953"
             ],
             [
              0.7777777777777778,
              "#fb9f3a"
             ],
             [
              0.8888888888888888,
              "#fdca26"
             ],
             [
              1,
              "#f0f921"
             ]
            ],
            "type": "heatmap"
           }
          ],
          "heatmapgl": [
           {
            "colorbar": {
             "outlinewidth": 0,
             "ticks": ""
            },
            "colorscale": [
             [
              0,
              "#0d0887"
             ],
             [
              0.1111111111111111,
              "#46039f"
             ],
             [
              0.2222222222222222,
              "#7201a8"
             ],
             [
              0.3333333333333333,
              "#9c179e"
             ],
             [
              0.4444444444444444,
              "#bd3786"
             ],
             [
              0.5555555555555556,
              "#d8576b"
             ],
             [
              0.6666666666666666,
              "#ed7953"
             ],
             [
              0.7777777777777778,
              "#fb9f3a"
             ],
             [
              0.8888888888888888,
              "#fdca26"
             ],
             [
              1,
              "#f0f921"
             ]
            ],
            "type": "heatmapgl"
           }
          ],
          "histogram": [
           {
            "marker": {
             "pattern": {
              "fillmode": "overlay",
              "size": 10,
              "solidity": 0.2
             }
            },
            "type": "histogram"
           }
          ],
          "histogram2d": [
           {
            "colorbar": {
             "outlinewidth": 0,
             "ticks": ""
            },
            "colorscale": [
             [
              0,
              "#0d0887"
             ],
             [
              0.1111111111111111,
              "#46039f"
             ],
             [
              0.2222222222222222,
              "#7201a8"
             ],
             [
              0.3333333333333333,
              "#9c179e"
             ],
             [
              0.4444444444444444,
              "#bd3786"
             ],
             [
              0.5555555555555556,
              "#d8576b"
             ],
             [
              0.6666666666666666,
              "#ed7953"
             ],
             [
              0.7777777777777778,
              "#fb9f3a"
             ],
             [
              0.8888888888888888,
              "#fdca26"
             ],
             [
              1,
              "#f0f921"
             ]
            ],
            "type": "histogram2d"
           }
          ],
          "histogram2dcontour": [
           {
            "colorbar": {
             "outlinewidth": 0,
             "ticks": ""
            },
            "colorscale": [
             [
              0,
              "#0d0887"
             ],
             [
              0.1111111111111111,
              "#46039f"
             ],
             [
              0.2222222222222222,
              "#7201a8"
             ],
             [
              0.3333333333333333,
              "#9c179e"
             ],
             [
              0.4444444444444444,
              "#bd3786"
             ],
             [
              0.5555555555555556,
              "#d8576b"
             ],
             [
              0.6666666666666666,
              "#ed7953"
             ],
             [
              0.7777777777777778,
              "#fb9f3a"
             ],
             [
              0.8888888888888888,
              "#fdca26"
             ],
             [
              1,
              "#f0f921"
             ]
            ],
            "type": "histogram2dcontour"
           }
          ],
          "mesh3d": [
           {
            "colorbar": {
             "outlinewidth": 0,
             "ticks": ""
            },
            "type": "mesh3d"
           }
          ],
          "parcoords": [
           {
            "line": {
             "colorbar": {
              "outlinewidth": 0,
              "ticks": ""
             }
            },
            "type": "parcoords"
           }
          ],
          "pie": [
           {
            "automargin": true,
            "type": "pie"
           }
          ],
          "scatter": [
           {
            "marker": {
             "colorbar": {
              "outlinewidth": 0,
              "ticks": ""
             }
            },
            "type": "scatter"
           }
          ],
          "scatter3d": [
           {
            "line": {
             "colorbar": {
              "outlinewidth": 0,
              "ticks": ""
             }
            },
            "marker": {
             "colorbar": {
              "outlinewidth": 0,
              "ticks": ""
             }
            },
            "type": "scatter3d"
           }
          ],
          "scattercarpet": [
           {
            "marker": {
             "colorbar": {
              "outlinewidth": 0,
              "ticks": ""
             }
            },
            "type": "scattercarpet"
           }
          ],
          "scattergeo": [
           {
            "marker": {
             "colorbar": {
              "outlinewidth": 0,
              "ticks": ""
             }
            },
            "type": "scattergeo"
           }
          ],
          "scattergl": [
           {
            "marker": {
             "colorbar": {
              "outlinewidth": 0,
              "ticks": ""
             }
            },
            "type": "scattergl"
           }
          ],
          "scattermapbox": [
           {
            "marker": {
             "colorbar": {
              "outlinewidth": 0,
              "ticks": ""
             }
            },
            "type": "scattermapbox"
           }
          ],
          "scatterpolar": [
           {
            "marker": {
             "colorbar": {
              "outlinewidth": 0,
              "ticks": ""
             }
            },
            "type": "scatterpolar"
           }
          ],
          "scatterpolargl": [
           {
            "marker": {
             "colorbar": {
              "outlinewidth": 0,
              "ticks": ""
             }
            },
            "type": "scatterpolargl"
           }
          ],
          "scatterternary": [
           {
            "marker": {
             "colorbar": {
              "outlinewidth": 0,
              "ticks": ""
             }
            },
            "type": "scatterternary"
           }
          ],
          "surface": [
           {
            "colorbar": {
             "outlinewidth": 0,
             "ticks": ""
            },
            "colorscale": [
             [
              0,
              "#0d0887"
             ],
             [
              0.1111111111111111,
              "#46039f"
             ],
             [
              0.2222222222222222,
              "#7201a8"
             ],
             [
              0.3333333333333333,
              "#9c179e"
             ],
             [
              0.4444444444444444,
              "#bd3786"
             ],
             [
              0.5555555555555556,
              "#d8576b"
             ],
             [
              0.6666666666666666,
              "#ed7953"
             ],
             [
              0.7777777777777778,
              "#fb9f3a"
             ],
             [
              0.8888888888888888,
              "#fdca26"
             ],
             [
              1,
              "#f0f921"
             ]
            ],
            "type": "surface"
           }
          ],
          "table": [
           {
            "cells": {
             "fill": {
              "color": "#EBF0F8"
             },
             "line": {
              "color": "white"
             }
            },
            "header": {
             "fill": {
              "color": "#C8D4E3"
             },
             "line": {
              "color": "white"
             }
            },
            "type": "table"
           }
          ]
         },
         "layout": {
          "annotationdefaults": {
           "arrowcolor": "#2a3f5f",
           "arrowhead": 0,
           "arrowwidth": 1
          },
          "autotypenumbers": "strict",
          "coloraxis": {
           "colorbar": {
            "outlinewidth": 0,
            "ticks": ""
           }
          },
          "colorscale": {
           "diverging": [
            [
             0,
             "#8e0152"
            ],
            [
             0.1,
             "#c51b7d"
            ],
            [
             0.2,
             "#de77ae"
            ],
            [
             0.3,
             "#f1b6da"
            ],
            [
             0.4,
             "#fde0ef"
            ],
            [
             0.5,
             "#f7f7f7"
            ],
            [
             0.6,
             "#e6f5d0"
            ],
            [
             0.7,
             "#b8e186"
            ],
            [
             0.8,
             "#7fbc41"
            ],
            [
             0.9,
             "#4d9221"
            ],
            [
             1,
             "#276419"
            ]
           ],
           "sequential": [
            [
             0,
             "#0d0887"
            ],
            [
             0.1111111111111111,
             "#46039f"
            ],
            [
             0.2222222222222222,
             "#7201a8"
            ],
            [
             0.3333333333333333,
             "#9c179e"
            ],
            [
             0.4444444444444444,
             "#bd3786"
            ],
            [
             0.5555555555555556,
             "#d8576b"
            ],
            [
             0.6666666666666666,
             "#ed7953"
            ],
            [
             0.7777777777777778,
             "#fb9f3a"
            ],
            [
             0.8888888888888888,
             "#fdca26"
            ],
            [
             1,
             "#f0f921"
            ]
           ],
           "sequentialminus": [
            [
             0,
             "#0d0887"
            ],
            [
             0.1111111111111111,
             "#46039f"
            ],
            [
             0.2222222222222222,
             "#7201a8"
            ],
            [
             0.3333333333333333,
             "#9c179e"
            ],
            [
             0.4444444444444444,
             "#bd3786"
            ],
            [
             0.5555555555555556,
             "#d8576b"
            ],
            [
             0.6666666666666666,
             "#ed7953"
            ],
            [
             0.7777777777777778,
             "#fb9f3a"
            ],
            [
             0.8888888888888888,
             "#fdca26"
            ],
            [
             1,
             "#f0f921"
            ]
           ]
          },
          "colorway": [
           "#636efa",
           "#EF553B",
           "#00cc96",
           "#ab63fa",
           "#FFA15A",
           "#19d3f3",
           "#FF6692",
           "#B6E880",
           "#FF97FF",
           "#FECB52"
          ],
          "font": {
           "color": "#2a3f5f"
          },
          "geo": {
           "bgcolor": "white",
           "lakecolor": "white",
           "landcolor": "#E5ECF6",
           "showlakes": true,
           "showland": true,
           "subunitcolor": "white"
          },
          "hoverlabel": {
           "align": "left"
          },
          "hovermode": "closest",
          "mapbox": {
           "style": "light"
          },
          "paper_bgcolor": "white",
          "plot_bgcolor": "#E5ECF6",
          "polar": {
           "angularaxis": {
            "gridcolor": "white",
            "linecolor": "white",
            "ticks": ""
           },
           "bgcolor": "#E5ECF6",
           "radialaxis": {
            "gridcolor": "white",
            "linecolor": "white",
            "ticks": ""
           }
          },
          "scene": {
           "xaxis": {
            "backgroundcolor": "#E5ECF6",
            "gridcolor": "white",
            "gridwidth": 2,
            "linecolor": "white",
            "showbackground": true,
            "ticks": "",
            "zerolinecolor": "white"
           },
           "yaxis": {
            "backgroundcolor": "#E5ECF6",
            "gridcolor": "white",
            "gridwidth": 2,
            "linecolor": "white",
            "showbackground": true,
            "ticks": "",
            "zerolinecolor": "white"
           },
           "zaxis": {
            "backgroundcolor": "#E5ECF6",
            "gridcolor": "white",
            "gridwidth": 2,
            "linecolor": "white",
            "showbackground": true,
            "ticks": "",
            "zerolinecolor": "white"
           }
          },
          "shapedefaults": {
           "line": {
            "color": "#2a3f5f"
           }
          },
          "ternary": {
           "aaxis": {
            "gridcolor": "white",
            "linecolor": "white",
            "ticks": ""
           },
           "baxis": {
            "gridcolor": "white",
            "linecolor": "white",
            "ticks": ""
           },
           "bgcolor": "#E5ECF6",
           "caxis": {
            "gridcolor": "white",
            "linecolor": "white",
            "ticks": ""
           }
          },
          "title": {
           "x": 0.05
          },
          "xaxis": {
           "automargin": true,
           "gridcolor": "white",
           "linecolor": "white",
           "ticks": "",
           "title": {
            "standoff": 15
           },
           "zerolinecolor": "white",
           "zerolinewidth": 2
          },
          "yaxis": {
           "automargin": true,
           "gridcolor": "white",
           "linecolor": "white",
           "ticks": "",
           "title": {
            "standoff": 15
           },
           "zerolinecolor": "white",
           "zerolinewidth": 2
          }
         }
        },
        "xaxis": {
         "anchor": "y",
         "autorange": true,
         "domain": [
          0,
          0.98
         ],
         "range": [
          1990,
          2021
         ],
         "title": {
          "text": "Year"
         },
         "type": "linear"
        },
        "xaxis2": {
         "anchor": "y2",
         "autorange": true,
         "domain": [
          0,
          0.98
         ],
         "matches": "x",
         "range": [
          1990,
          2021
         ],
         "showticklabels": false,
         "type": "linear"
        },
        "yaxis": {
         "anchor": "x",
         "autorange": true,
         "domain": [
          0,
          0.485
         ],
         "range": [
          -4.9594105715144785,
          -0.0030512511630424177
         ],
         "title": {
          "text": "e/km"
         },
         "type": "log"
        },
        "yaxis2": {
         "anchor": "x2",
         "autorange": true,
         "domain": [
          0.515,
          1
         ],
         "matches": "y",
         "range": [
          -4.9594105715144785,
          -0.0030512511630424177
         ],
         "title": {
          "text": "e/km"
         },
         "type": "log"
        }
       }
      }
     },
     "metadata": {},
     "output_type": "display_data"
    }
   ],
   "source": [
    "px.line(vehicle_data, x=\"Year\", y=\"e/km\", color=\"Emission Type\", facet_row=\"Sources\", log_y=True, height=600)"
   ]
  },
  {
   "cell_type": "markdown",
   "metadata": {},
   "source": [
    "Two line graphs are plotted to illustrate the changes of emission per vehicle-kilometer during the 30-year period from 1990 to 2020. There are 4 types of emission considered,namely CO2, CO, NOx and PM10. These graphs are based on the figures of freight vehicles and passenger cars. \n",
    "\n",
    "In terms of CO2, the field of freight vehicles experienced a considerable decrease in the amount of CO2 released per kilometer from 1990 to 2005, then relatively stable amounts were recorded until 2020. This contrasts with the trend of passenger cars during the same period. Within the first 15 years, the emission of CO2 per passenger car kilometer remained nearly unchanged before it had a significant drop from 2005 to 2020. This fall may be a positive effect of the Kyoto Protocol, an international treaty adopted in Kyoto, Japan in 1997 with the aim to reduce the emissions of six greenhouse gases with CO2 as the most important one. Under the Kyoto Protocol, the European Union Emission Trading System started in 2005 and effectively led to a decrease in CO2 emission per kilometer in the Netherlands. Besides, Dutch effort in promoting electric transport since 2010 also contributed to this decrease.\n",
    "\n",
    "With regard to the remaining three types of emission which are CO, NOx, PM10, a gradual slight decrease in the amount of emission of each type per kilometer was recorded for both freight vehicles and passenger cars. Remarkably, while the emisison of NOx is higher than that of CO for freight vehicles, the data of CO surpassed the data of NOx for passenger cars over 30 years. "
   ]
  },
  {
   "cell_type": "code",
   "execution_count": 10,
   "metadata": {},
   "outputs": [
    {
     "data": {
      "application/vnd.plotly.v1+json": {
       "config": {
        "plotlyServerURL": "https://plot.ly"
       },
       "data": [
        {
         "hovertemplate": "Emission Type=Carbon dioxide (CO2)<br>Sources=Road traffic, freight vehicles<br>Year=%{x}<br>Emission=%{y}<extra></extra>",
         "legendgroup": "Carbon dioxide (CO2)",
         "line": {
          "color": "#636efa",
          "dash": "solid"
         },
         "marker": {
          "symbol": "circle"
         },
         "mode": "lines",
         "name": "Carbon dioxide (CO2)",
         "orientation": "v",
         "showlegend": true,
         "type": "scatter",
         "x": [
          1990,
          1991,
          1992,
          1993,
          1994,
          1995,
          1996,
          1997,
          1998,
          1999,
          2000,
          2001,
          2002,
          2003,
          2004,
          2005,
          2006,
          2007,
          2008,
          2009,
          2010,
          2011,
          2012,
          2013,
          2014,
          2015,
          2016,
          2017,
          2018,
          2019,
          2020,
          2021
         ],
         "xaxis": "x2",
         "y": [
          7600000000,
          7900000000,
          8400000000,
          8500000000,
          8500000000,
          8600000000,
          8600000000,
          8800000000,
          9100000000,
          9800000000,
          9700000000,
          9800000000,
          9800000000,
          9900000000,
          10100000000,
          10200000000,
          10200000000,
          10300000000,
          10600000000,
          10400000000,
          10400000000,
          10100000000,
          9900000000,
          9500000000,
          9400000000,
          9800000000,
          10200000000,
          10400000000,
          10600000000,
          10700000000,
          10600000000,
          11000000000
         ],
         "yaxis": "y2"
        },
        {
         "hovertemplate": "Emission Type=Carbon dioxide (CO2)<br>Sources=Road traffic, passenger cars<br>Year=%{x}<br>Emission=%{y}<extra></extra>",
         "legendgroup": "Carbon dioxide (CO2)",
         "line": {
          "color": "#636efa",
          "dash": "solid"
         },
         "marker": {
          "symbol": "circle"
         },
         "mode": "lines",
         "name": "Carbon dioxide (CO2)",
         "orientation": "v",
         "showlegend": false,
         "type": "scatter",
         "x": [
          1990,
          1991,
          1992,
          1993,
          1994,
          1995,
          1996,
          1997,
          1998,
          1999,
          2000,
          2001,
          2002,
          2003,
          2004,
          2005,
          2006,
          2007,
          2008,
          2009,
          2010,
          2011,
          2012,
          2013,
          2014,
          2015,
          2016,
          2017,
          2018,
          2019,
          2020,
          2021
         ],
         "xaxis": "x",
         "y": [
          15500000000,
          15400000000,
          16100000000,
          15900000000,
          16300000000,
          16100000000,
          16300000000,
          16700000000,
          17000000000,
          17700000000,
          17800000000,
          18000000000,
          18400000000,
          18600000000,
          19100000000,
          18800000000,
          18800000000,
          18600000000,
          18300000000,
          18100000000,
          18000000000,
          17900000000,
          17600000000,
          17400000000,
          17200000000,
          17300000000,
          17600000000,
          17700000000,
          17800000000,
          17600000000,
          14600000000,
          14800000000
         ],
         "yaxis": "y"
        },
        {
         "hovertemplate": "Emission Type=Carbon monoxide (CO)<br>Sources=Road traffic, freight vehicles<br>Year=%{x}<br>Emission=%{y}<extra></extra>",
         "legendgroup": "Carbon monoxide (CO)",
         "line": {
          "color": "#EF553B",
          "dash": "solid"
         },
         "marker": {
          "symbol": "circle"
         },
         "mode": "lines",
         "name": "Carbon monoxide (CO)",
         "orientation": "v",
         "showlegend": true,
         "type": "scatter",
         "x": [
          1990,
          1991,
          1992,
          1993,
          1994,
          1995,
          1996,
          1997,
          1998,
          1999,
          2000,
          2001,
          2002,
          2003,
          2004,
          2005,
          2006,
          2007,
          2008,
          2009,
          2010,
          2011,
          2012,
          2013,
          2014,
          2015,
          2016,
          2017,
          2018,
          2019,
          2020,
          2021
         ],
         "xaxis": "x2",
         "y": [
          68600000,
          66200000,
          65000000,
          62300000,
          56500000,
          50700000,
          44700000,
          39800000,
          35800000,
          33200000.000000004,
          30100000,
          27700000,
          25500000,
          23700000,
          23100000,
          22000000,
          21400000,
          21500000,
          21600000,
          21100000,
          20300000,
          19400000,
          18300000,
          16600000.000000002,
          15400000,
          14300000,
          15000000,
          15400000,
          10900000,
          9700000,
          8700000,
          9100000
         ],
         "yaxis": "y2"
        },
        {
         "hovertemplate": "Emission Type=Carbon monoxide (CO)<br>Sources=Road traffic, passenger cars<br>Year=%{x}<br>Emission=%{y}<extra></extra>",
         "legendgroup": "Carbon monoxide (CO)",
         "line": {
          "color": "#EF553B",
          "dash": "solid"
         },
         "marker": {
          "symbol": "circle"
         },
         "mode": "lines",
         "name": "Carbon monoxide (CO)",
         "orientation": "v",
         "showlegend": false,
         "type": "scatter",
         "x": [
          1990,
          1991,
          1992,
          1993,
          1994,
          1995,
          1996,
          1997,
          1998,
          1999,
          2000,
          2001,
          2002,
          2003,
          2004,
          2005,
          2006,
          2007,
          2008,
          2009,
          2010,
          2011,
          2012,
          2013,
          2014,
          2015,
          2016,
          2017,
          2018,
          2019,
          2020,
          2021
         ],
         "xaxis": "x",
         "y": [
          592800000,
          502600000,
          475400000,
          427000000,
          398200000,
          379500000,
          364500000,
          342400000,
          323800000,
          316100000,
          303400000,
          304600000,
          309700000,
          313100000,
          314900000,
          307800000,
          305200000,
          308200000,
          300000000,
          294300000,
          289900000,
          283300000,
          271900000,
          262800000,
          249500000,
          246700000,
          236800000,
          237600000,
          221500000,
          206400000,
          166100000,
          159000000
         ],
         "yaxis": "y"
        },
        {
         "hovertemplate": "Emission Type=Nitrogen oxides (NOx)<br>Sources=Road traffic, freight vehicles<br>Year=%{x}<br>Emission=%{y}<extra></extra>",
         "legendgroup": "Nitrogen oxides (NOx)",
         "line": {
          "color": "#00cc96",
          "dash": "solid"
         },
         "marker": {
          "symbol": "circle"
         },
         "mode": "lines",
         "name": "Nitrogen oxides (NOx)",
         "orientation": "v",
         "showlegend": true,
         "type": "scatter",
         "x": [
          1990,
          1991,
          1992,
          1993,
          1994,
          1995,
          1996,
          1997,
          1998,
          1999,
          2000,
          2001,
          2002,
          2003,
          2004,
          2005,
          2006,
          2007,
          2008,
          2009,
          2010,
          2011,
          2012,
          2013,
          2014,
          2015,
          2016,
          2017,
          2018,
          2019,
          2020,
          2021
         ],
         "xaxis": "x2",
         "y": [
          104600000,
          108200000,
          110100000,
          105300000,
          98900000,
          95100000,
          89300000,
          86300000,
          84500000,
          87600000,
          86400000,
          85200000,
          83600000,
          82800000,
          83500000,
          84500000,
          84300000,
          85200000,
          84200000,
          79400000,
          75000000,
          71100000,
          66500000,
          60700000,
          56900000,
          55000000,
          53100000,
          50100000,
          46200000,
          42400000,
          38400000,
          37000000
         ],
         "yaxis": "y2"
        },
        {
         "hovertemplate": "Emission Type=Nitrogen oxides (NOx)<br>Sources=Road traffic, passenger cars<br>Year=%{x}<br>Emission=%{y}<extra></extra>",
         "legendgroup": "Nitrogen oxides (NOx)",
         "line": {
          "color": "#00cc96",
          "dash": "solid"
         },
         "marker": {
          "symbol": "circle"
         },
         "mode": "lines",
         "name": "Nitrogen oxides (NOx)",
         "orientation": "v",
         "showlegend": false,
         "type": "scatter",
         "x": [
          1990,
          1991,
          1992,
          1993,
          1994,
          1995,
          1996,
          1997,
          1998,
          1999,
          2000,
          2001,
          2002,
          2003,
          2004,
          2005,
          2006,
          2007,
          2008,
          2009,
          2010,
          2011,
          2012,
          2013,
          2014,
          2015,
          2016,
          2017,
          2018,
          2019,
          2020,
          2021
         ],
         "xaxis": "x",
         "y": [
          142700000,
          130400000,
          121900000,
          109300000,
          100600000,
          91200000,
          86200000,
          79500000,
          73800000,
          70100000,
          63000000,
          57500000,
          53100000,
          49500000,
          46900000,
          43300000,
          40900000,
          39100000,
          36700000,
          34400000,
          33299999.999999996,
          32900000,
          32100000,
          30900000,
          29700000,
          30200000,
          28900000,
          29200000,
          27600000,
          25700000,
          19600000,
          19100000
         ],
         "yaxis": "y"
        },
        {
         "hovertemplate": "Emission Type=PM10 (Particulate matter)<br>Sources=Road traffic, freight vehicles<br>Year=%{x}<br>Emission=%{y}<extra></extra>",
         "legendgroup": "PM10 (Particulate matter)",
         "line": {
          "color": "#ab63fa",
          "dash": "solid"
         },
         "marker": {
          "symbol": "circle"
         },
         "mode": "lines",
         "name": "PM10 (Particulate matter)",
         "orientation": "v",
         "showlegend": true,
         "type": "scatter",
         "x": [
          1990,
          1991,
          1992,
          1993,
          1994,
          1995,
          1996,
          1997,
          1998,
          1999,
          2000,
          2001,
          2002,
          2003,
          2004,
          2005,
          2006,
          2007,
          2008,
          2009,
          2010,
          2011,
          2012,
          2013,
          2014,
          2015,
          2016,
          2017,
          2018,
          2019,
          2020,
          2021
         ],
         "xaxis": "x2",
         "y": [
          8800000,
          8900000,
          8800000,
          8300000.000000001,
          7600000,
          7000000,
          6400000,
          5900000,
          5600000,
          5600000,
          5400000,
          5200000,
          4800000,
          4500000,
          4400000,
          4200000,
          3900000,
          3700000,
          3500000,
          3100000,
          2800000,
          2600000,
          2300000,
          2000000,
          1900000,
          1800000,
          1800000,
          1700000,
          1600000,
          1500000,
          1500000,
          1500000
         ],
         "yaxis": "y2"
        },
        {
         "hovertemplate": "Emission Type=PM10 (Particulate matter)<br>Sources=Road traffic, passenger cars<br>Year=%{x}<br>Emission=%{y}<extra></extra>",
         "legendgroup": "PM10 (Particulate matter)",
         "line": {
          "color": "#ab63fa",
          "dash": "solid"
         },
         "marker": {
          "symbol": "circle"
         },
         "mode": "lines",
         "name": "PM10 (Particulate matter)",
         "orientation": "v",
         "showlegend": false,
         "type": "scatter",
         "x": [
          1990,
          1991,
          1992,
          1993,
          1994,
          1995,
          1996,
          1997,
          1998,
          1999,
          2000,
          2001,
          2002,
          2003,
          2004,
          2005,
          2006,
          2007,
          2008,
          2009,
          2010,
          2011,
          2012,
          2013,
          2014,
          2015,
          2016,
          2017,
          2018,
          2019,
          2020,
          2021
         ],
         "xaxis": "x",
         "y": [
          6900000,
          6200000,
          6000000,
          5500000,
          5300000,
          5000000,
          4800000,
          4600000,
          4500000,
          4500000,
          4400000,
          4200000,
          4000000,
          3900000,
          3800000,
          3700000,
          3600000,
          3500000,
          3300000,
          3100000,
          3000000,
          2900000,
          2700000,
          2500000,
          2400000,
          2400000,
          2300000,
          2300000,
          2300000,
          2200000,
          1800000,
          1900000
         ],
         "yaxis": "y"
        }
       ],
       "layout": {
        "annotations": [
         {
          "font": {},
          "showarrow": false,
          "text": "Sources=Road traffic, passenger cars",
          "textangle": 90,
          "x": 0.98,
          "xanchor": "left",
          "xref": "paper",
          "y": 0.2425,
          "yanchor": "middle",
          "yref": "paper"
         },
         {
          "font": {},
          "showarrow": false,
          "text": "Sources=Road traffic, freight vehicles",
          "textangle": 90,
          "x": 0.98,
          "xanchor": "left",
          "xref": "paper",
          "y": 0.7575000000000001,
          "yanchor": "middle",
          "yref": "paper"
         }
        ],
        "autosize": true,
        "legend": {
         "title": {
          "text": "Emission Type"
         },
         "tracegroupgap": 0
        },
        "margin": {
         "t": 60
        },
        "template": {
         "data": {
          "bar": [
           {
            "error_x": {
             "color": "#2a3f5f"
            },
            "error_y": {
             "color": "#2a3f5f"
            },
            "marker": {
             "line": {
              "color": "#E5ECF6",
              "width": 0.5
             },
             "pattern": {
              "fillmode": "overlay",
              "size": 10,
              "solidity": 0.2
             }
            },
            "type": "bar"
           }
          ],
          "barpolar": [
           {
            "marker": {
             "line": {
              "color": "#E5ECF6",
              "width": 0.5
             },
             "pattern": {
              "fillmode": "overlay",
              "size": 10,
              "solidity": 0.2
             }
            },
            "type": "barpolar"
           }
          ],
          "carpet": [
           {
            "aaxis": {
             "endlinecolor": "#2a3f5f",
             "gridcolor": "white",
             "linecolor": "white",
             "minorgridcolor": "white",
             "startlinecolor": "#2a3f5f"
            },
            "baxis": {
             "endlinecolor": "#2a3f5f",
             "gridcolor": "white",
             "linecolor": "white",
             "minorgridcolor": "white",
             "startlinecolor": "#2a3f5f"
            },
            "type": "carpet"
           }
          ],
          "choropleth": [
           {
            "colorbar": {
             "outlinewidth": 0,
             "ticks": ""
            },
            "type": "choropleth"
           }
          ],
          "contour": [
           {
            "colorbar": {
             "outlinewidth": 0,
             "ticks": ""
            },
            "colorscale": [
             [
              0,
              "#0d0887"
             ],
             [
              0.1111111111111111,
              "#46039f"
             ],
             [
              0.2222222222222222,
              "#7201a8"
             ],
             [
              0.3333333333333333,
              "#9c179e"
             ],
             [
              0.4444444444444444,
              "#bd3786"
             ],
             [
              0.5555555555555556,
              "#d8576b"
             ],
             [
              0.6666666666666666,
              "#ed7953"
             ],
             [
              0.7777777777777778,
              "#fb9f3a"
             ],
             [
              0.8888888888888888,
              "#fdca26"
             ],
             [
              1,
              "#f0f921"
             ]
            ],
            "type": "contour"
           }
          ],
          "contourcarpet": [
           {
            "colorbar": {
             "outlinewidth": 0,
             "ticks": ""
            },
            "type": "contourcarpet"
           }
          ],
          "heatmap": [
           {
            "colorbar": {
             "outlinewidth": 0,
             "ticks": ""
            },
            "colorscale": [
             [
              0,
              "#0d0887"
             ],
             [
              0.1111111111111111,
              "#46039f"
             ],
             [
              0.2222222222222222,
              "#7201a8"
             ],
             [
              0.3333333333333333,
              "#9c179e"
             ],
             [
              0.4444444444444444,
              "#bd3786"
             ],
             [
              0.5555555555555556,
              "#d8576b"
             ],
             [
              0.6666666666666666,
              "#ed7953"
             ],
             [
              0.7777777777777778,
              "#fb9f3a"
             ],
             [
              0.8888888888888888,
              "#fdca26"
             ],
             [
              1,
              "#f0f921"
             ]
            ],
            "type": "heatmap"
           }
          ],
          "heatmapgl": [
           {
            "colorbar": {
             "outlinewidth": 0,
             "ticks": ""
            },
            "colorscale": [
             [
              0,
              "#0d0887"
             ],
             [
              0.1111111111111111,
              "#46039f"
             ],
             [
              0.2222222222222222,
              "#7201a8"
             ],
             [
              0.3333333333333333,
              "#9c179e"
             ],
             [
              0.4444444444444444,
              "#bd3786"
             ],
             [
              0.5555555555555556,
              "#d8576b"
             ],
             [
              0.6666666666666666,
              "#ed7953"
             ],
             [
              0.7777777777777778,
              "#fb9f3a"
             ],
             [
              0.8888888888888888,
              "#fdca26"
             ],
             [
              1,
              "#f0f921"
             ]
            ],
            "type": "heatmapgl"
           }
          ],
          "histogram": [
           {
            "marker": {
             "pattern": {
              "fillmode": "overlay",
              "size": 10,
              "solidity": 0.2
             }
            },
            "type": "histogram"
           }
          ],
          "histogram2d": [
           {
            "colorbar": {
             "outlinewidth": 0,
             "ticks": ""
            },
            "colorscale": [
             [
              0,
              "#0d0887"
             ],
             [
              0.1111111111111111,
              "#46039f"
             ],
             [
              0.2222222222222222,
              "#7201a8"
             ],
             [
              0.3333333333333333,
              "#9c179e"
             ],
             [
              0.4444444444444444,
              "#bd3786"
             ],
             [
              0.5555555555555556,
              "#d8576b"
             ],
             [
              0.6666666666666666,
              "#ed7953"
             ],
             [
              0.7777777777777778,
              "#fb9f3a"
             ],
             [
              0.8888888888888888,
              "#fdca26"
             ],
             [
              1,
              "#f0f921"
             ]
            ],
            "type": "histogram2d"
           }
          ],
          "histogram2dcontour": [
           {
            "colorbar": {
             "outlinewidth": 0,
             "ticks": ""
            },
            "colorscale": [
             [
              0,
              "#0d0887"
             ],
             [
              0.1111111111111111,
              "#46039f"
             ],
             [
              0.2222222222222222,
              "#7201a8"
             ],
             [
              0.3333333333333333,
              "#9c179e"
             ],
             [
              0.4444444444444444,
              "#bd3786"
             ],
             [
              0.5555555555555556,
              "#d8576b"
             ],
             [
              0.6666666666666666,
              "#ed7953"
             ],
             [
              0.7777777777777778,
              "#fb9f3a"
             ],
             [
              0.8888888888888888,
              "#fdca26"
             ],
             [
              1,
              "#f0f921"
             ]
            ],
            "type": "histogram2dcontour"
           }
          ],
          "mesh3d": [
           {
            "colorbar": {
             "outlinewidth": 0,
             "ticks": ""
            },
            "type": "mesh3d"
           }
          ],
          "parcoords": [
           {
            "line": {
             "colorbar": {
              "outlinewidth": 0,
              "ticks": ""
             }
            },
            "type": "parcoords"
           }
          ],
          "pie": [
           {
            "automargin": true,
            "type": "pie"
           }
          ],
          "scatter": [
           {
            "marker": {
             "colorbar": {
              "outlinewidth": 0,
              "ticks": ""
             }
            },
            "type": "scatter"
           }
          ],
          "scatter3d": [
           {
            "line": {
             "colorbar": {
              "outlinewidth": 0,
              "ticks": ""
             }
            },
            "marker": {
             "colorbar": {
              "outlinewidth": 0,
              "ticks": ""
             }
            },
            "type": "scatter3d"
           }
          ],
          "scattercarpet": [
           {
            "marker": {
             "colorbar": {
              "outlinewidth": 0,
              "ticks": ""
             }
            },
            "type": "scattercarpet"
           }
          ],
          "scattergeo": [
           {
            "marker": {
             "colorbar": {
              "outlinewidth": 0,
              "ticks": ""
             }
            },
            "type": "scattergeo"
           }
          ],
          "scattergl": [
           {
            "marker": {
             "colorbar": {
              "outlinewidth": 0,
              "ticks": ""
             }
            },
            "type": "scattergl"
           }
          ],
          "scattermapbox": [
           {
            "marker": {
             "colorbar": {
              "outlinewidth": 0,
              "ticks": ""
             }
            },
            "type": "scattermapbox"
           }
          ],
          "scatterpolar": [
           {
            "marker": {
             "colorbar": {
              "outlinewidth": 0,
              "ticks": ""
             }
            },
            "type": "scatterpolar"
           }
          ],
          "scatterpolargl": [
           {
            "marker": {
             "colorbar": {
              "outlinewidth": 0,
              "ticks": ""
             }
            },
            "type": "scatterpolargl"
           }
          ],
          "scatterternary": [
           {
            "marker": {
             "colorbar": {
              "outlinewidth": 0,
              "ticks": ""
             }
            },
            "type": "scatterternary"
           }
          ],
          "surface": [
           {
            "colorbar": {
             "outlinewidth": 0,
             "ticks": ""
            },
            "colorscale": [
             [
              0,
              "#0d0887"
             ],
             [
              0.1111111111111111,
              "#46039f"
             ],
             [
              0.2222222222222222,
              "#7201a8"
             ],
             [
              0.3333333333333333,
              "#9c179e"
             ],
             [
              0.4444444444444444,
              "#bd3786"
             ],
             [
              0.5555555555555556,
              "#d8576b"
             ],
             [
              0.6666666666666666,
              "#ed7953"
             ],
             [
              0.7777777777777778,
              "#fb9f3a"
             ],
             [
              0.8888888888888888,
              "#fdca26"
             ],
             [
              1,
              "#f0f921"
             ]
            ],
            "type": "surface"
           }
          ],
          "table": [
           {
            "cells": {
             "fill": {
              "color": "#EBF0F8"
             },
             "line": {
              "color": "white"
             }
            },
            "header": {
             "fill": {
              "color": "#C8D4E3"
             },
             "line": {
              "color": "white"
             }
            },
            "type": "table"
           }
          ]
         },
         "layout": {
          "annotationdefaults": {
           "arrowcolor": "#2a3f5f",
           "arrowhead": 0,
           "arrowwidth": 1
          },
          "autotypenumbers": "strict",
          "coloraxis": {
           "colorbar": {
            "outlinewidth": 0,
            "ticks": ""
           }
          },
          "colorscale": {
           "diverging": [
            [
             0,
             "#8e0152"
            ],
            [
             0.1,
             "#c51b7d"
            ],
            [
             0.2,
             "#de77ae"
            ],
            [
             0.3,
             "#f1b6da"
            ],
            [
             0.4,
             "#fde0ef"
            ],
            [
             0.5,
             "#f7f7f7"
            ],
            [
             0.6,
             "#e6f5d0"
            ],
            [
             0.7,
             "#b8e186"
            ],
            [
             0.8,
             "#7fbc41"
            ],
            [
             0.9,
             "#4d9221"
            ],
            [
             1,
             "#276419"
            ]
           ],
           "sequential": [
            [
             0,
             "#0d0887"
            ],
            [
             0.1111111111111111,
             "#46039f"
            ],
            [
             0.2222222222222222,
             "#7201a8"
            ],
            [
             0.3333333333333333,
             "#9c179e"
            ],
            [
             0.4444444444444444,
             "#bd3786"
            ],
            [
             0.5555555555555556,
             "#d8576b"
            ],
            [
             0.6666666666666666,
             "#ed7953"
            ],
            [
             0.7777777777777778,
             "#fb9f3a"
            ],
            [
             0.8888888888888888,
             "#fdca26"
            ],
            [
             1,
             "#f0f921"
            ]
           ],
           "sequentialminus": [
            [
             0,
             "#0d0887"
            ],
            [
             0.1111111111111111,
             "#46039f"
            ],
            [
             0.2222222222222222,
             "#7201a8"
            ],
            [
             0.3333333333333333,
             "#9c179e"
            ],
            [
             0.4444444444444444,
             "#bd3786"
            ],
            [
             0.5555555555555556,
             "#d8576b"
            ],
            [
             0.6666666666666666,
             "#ed7953"
            ],
            [
             0.7777777777777778,
             "#fb9f3a"
            ],
            [
             0.8888888888888888,
             "#fdca26"
            ],
            [
             1,
             "#f0f921"
            ]
           ]
          },
          "colorway": [
           "#636efa",
           "#EF553B",
           "#00cc96",
           "#ab63fa",
           "#FFA15A",
           "#19d3f3",
           "#FF6692",
           "#B6E880",
           "#FF97FF",
           "#FECB52"
          ],
          "font": {
           "color": "#2a3f5f"
          },
          "geo": {
           "bgcolor": "white",
           "lakecolor": "white",
           "landcolor": "#E5ECF6",
           "showlakes": true,
           "showland": true,
           "subunitcolor": "white"
          },
          "hoverlabel": {
           "align": "left"
          },
          "hovermode": "closest",
          "mapbox": {
           "style": "light"
          },
          "paper_bgcolor": "white",
          "plot_bgcolor": "#E5ECF6",
          "polar": {
           "angularaxis": {
            "gridcolor": "white",
            "linecolor": "white",
            "ticks": ""
           },
           "bgcolor": "#E5ECF6",
           "radialaxis": {
            "gridcolor": "white",
            "linecolor": "white",
            "ticks": ""
           }
          },
          "scene": {
           "xaxis": {
            "backgroundcolor": "#E5ECF6",
            "gridcolor": "white",
            "gridwidth": 2,
            "linecolor": "white",
            "showbackground": true,
            "ticks": "",
            "zerolinecolor": "white"
           },
           "yaxis": {
            "backgroundcolor": "#E5ECF6",
            "gridcolor": "white",
            "gridwidth": 2,
            "linecolor": "white",
            "showbackground": true,
            "ticks": "",
            "zerolinecolor": "white"
           },
           "zaxis": {
            "backgroundcolor": "#E5ECF6",
            "gridcolor": "white",
            "gridwidth": 2,
            "linecolor": "white",
            "showbackground": true,
            "ticks": "",
            "zerolinecolor": "white"
           }
          },
          "shapedefaults": {
           "line": {
            "color": "#2a3f5f"
           }
          },
          "ternary": {
           "aaxis": {
            "gridcolor": "white",
            "linecolor": "white",
            "ticks": ""
           },
           "baxis": {
            "gridcolor": "white",
            "linecolor": "white",
            "ticks": ""
           },
           "bgcolor": "#E5ECF6",
           "caxis": {
            "gridcolor": "white",
            "linecolor": "white",
            "ticks": ""
           }
          },
          "title": {
           "x": 0.05
          },
          "xaxis": {
           "automargin": true,
           "gridcolor": "white",
           "linecolor": "white",
           "ticks": "",
           "title": {
            "standoff": 15
           },
           "zerolinecolor": "white",
           "zerolinewidth": 2
          },
          "yaxis": {
           "automargin": true,
           "gridcolor": "white",
           "linecolor": "white",
           "ticks": "",
           "title": {
            "standoff": 15
           },
           "zerolinecolor": "white",
           "zerolinewidth": 2
          }
         }
        },
        "xaxis": {
         "anchor": "y",
         "autorange": true,
         "domain": [
          0,
          0.98
         ],
         "range": [
          1990,
          2021
         ],
         "title": {
          "text": "Year"
         },
         "type": "linear"
        },
        "xaxis2": {
         "anchor": "y2",
         "autorange": true,
         "domain": [
          0,
          0.98
         ],
         "matches": "x",
         "range": [
          1990,
          2021
         ],
         "showticklabels": false,
         "type": "linear"
        },
        "yaxis": {
         "anchor": "x",
         "autorange": true,
         "domain": [
          0,
          0.485
         ],
         "range": [
          5.948038919711679,
          10.509085706591728
         ],
         "title": {
          "text": "Emission"
         },
         "type": "log"
        },
        "yaxis2": {
         "anchor": "x2",
         "autorange": true,
         "domain": [
          0.515,
          1
         ],
         "matches": "y",
         "range": [
          5.948038919711679,
          10.509085706591728
         ],
         "title": {
          "text": "Emission"
         },
         "type": "log"
        }
       }
      }
     },
     "metadata": {},
     "output_type": "display_data"
    }
   ],
   "source": [
    "px.line(vehicle_data, x=\"Year\", y=\"Emission\", color=\"Emission Type\", facet_row=\"Sources\", log_y=True, height=600)"
   ]
  },
  {
   "cell_type": "code",
   "execution_count": 11,
   "metadata": {},
   "outputs": [
    {
     "data": {
      "application/vnd.plotly.v1+json": {
       "config": {
        "plotlyServerURL": "https://plot.ly"
       },
       "data": [
        {
         "hovertemplate": "Sources=Road traffic, freight vehicles<br>Year=%{x}<br>vhkm=%{y}<extra></extra>",
         "legendgroup": "Road traffic, freight vehicles",
         "line": {
          "color": "#636efa",
          "dash": "solid"
         },
         "marker": {
          "symbol": "circle"
         },
         "mode": "lines",
         "name": "Road traffic, freight vehicles",
         "orientation": "v",
         "showlegend": true,
         "type": "scatter",
         "x": [
          1990,
          1991,
          1992,
          1993,
          1994,
          1995,
          1996,
          1997,
          1998,
          1999,
          2000,
          2001,
          2002,
          2003,
          2004,
          2005,
          2006,
          2007,
          2008,
          2009,
          2010,
          2011,
          2012,
          2013,
          2014,
          2015,
          2016,
          2017,
          2018,
          2019,
          2020,
          2021,
          1990,
          1991,
          1992,
          1993,
          1994,
          1995,
          1996,
          1997,
          1998,
          1999,
          2000,
          2001,
          2002,
          2003,
          2004,
          2005,
          2006,
          2007,
          2008,
          2009,
          2010,
          2011,
          2012,
          2013,
          2014,
          2015,
          2016,
          2017,
          2018,
          2019,
          2020,
          2021,
          1990,
          1991,
          1992,
          1993,
          1994,
          1995,
          1996,
          1997,
          1998,
          1999,
          2000,
          2001,
          2002,
          2003,
          2004,
          2005,
          2006,
          2007,
          2008,
          2009,
          2010,
          2011,
          2012,
          2013,
          2014,
          2015,
          2016,
          2017,
          2018,
          2019,
          2020,
          2021,
          1990,
          1991,
          1992,
          1993,
          1994,
          1995,
          1996,
          1997,
          1998,
          1999,
          2000,
          2001,
          2002,
          2003,
          2004,
          2005,
          2006,
          2007,
          2008,
          2009,
          2010,
          2011,
          2012,
          2013,
          2014,
          2015,
          2016,
          2017,
          2018,
          2019,
          2020,
          2021
         ],
         "xaxis": "x",
         "y": [
          13542000000,
          14363000000,
          15650000000,
          16572000000,
          16647000000,
          16907000000,
          17210000000,
          18076000000,
          19190000000,
          20895000000,
          22116000000,
          22991000000,
          23214400000,
          23620200000,
          24405900000,
          24705900000,
          24199200000,
          24705600000,
          25173000000,
          24634600000,
          24480200000,
          24169200000,
          23656900000,
          22926500000,
          22915600000,
          23467700000,
          24475200000,
          25119300000,
          25686600000,
          26186800000,
          25544500000,
          null,
          13542000000,
          14363000000,
          15650000000,
          16572000000,
          16647000000,
          16907000000,
          17210000000,
          18076000000,
          19190000000,
          20895000000,
          22116000000,
          22991000000,
          23214400000,
          23620200000,
          24405900000,
          24705900000,
          24199200000,
          24705600000,
          25173000000,
          24634600000,
          24480200000,
          24169200000,
          23656900000,
          22926500000,
          22915600000,
          23467700000,
          24475200000,
          25119300000,
          25686600000,
          26186800000,
          25544500000,
          null,
          13542000000,
          14363000000,
          15650000000,
          16572000000,
          16647000000,
          16907000000,
          17210000000,
          18076000000,
          19190000000,
          20895000000,
          22116000000,
          22991000000,
          23214400000,
          23620200000,
          24405900000,
          24705900000,
          24199200000,
          24705600000,
          25173000000,
          24634600000,
          24480200000,
          24169200000,
          23656900000,
          22926500000,
          22915600000,
          23467700000,
          24475200000,
          25119300000,
          25686600000,
          26186800000,
          25544500000,
          null,
          13542000000,
          14363000000,
          15650000000,
          16572000000,
          16647000000,
          16907000000,
          17210000000,
          18076000000,
          19190000000,
          20895000000,
          22116000000,
          22991000000,
          23214400000,
          23620200000,
          24405900000,
          24705900000,
          24199200000,
          24705600000,
          25173000000,
          24634600000,
          24480200000,
          24169200000,
          23656900000,
          22926500000,
          22915600000,
          23467700000,
          24475200000,
          25119300000,
          25686600000,
          26186800000,
          25544500000,
          null
         ],
         "yaxis": "y"
        },
        {
         "hovertemplate": "Sources=Road traffic, passenger cars<br>Year=%{x}<br>vhkm=%{y}<extra></extra>",
         "legendgroup": "Road traffic, passenger cars",
         "line": {
          "color": "#EF553B",
          "dash": "solid"
         },
         "marker": {
          "symbol": "circle"
         },
         "mode": "lines",
         "name": "Road traffic, passenger cars",
         "orientation": "v",
         "showlegend": true,
         "type": "scatter",
         "x": [
          1990,
          1991,
          1992,
          1993,
          1994,
          1995,
          1996,
          1997,
          1998,
          1999,
          2000,
          2001,
          2002,
          2003,
          2004,
          2005,
          2006,
          2007,
          2008,
          2009,
          2010,
          2011,
          2012,
          2013,
          2014,
          2015,
          2016,
          2017,
          2018,
          2019,
          2020,
          2021,
          1990,
          1991,
          1992,
          1993,
          1994,
          1995,
          1996,
          1997,
          1998,
          1999,
          2000,
          2001,
          2002,
          2003,
          2004,
          2005,
          2006,
          2007,
          2008,
          2009,
          2010,
          2011,
          2012,
          2013,
          2014,
          2015,
          2016,
          2017,
          2018,
          2019,
          2020,
          2021,
          1990,
          1991,
          1992,
          1993,
          1994,
          1995,
          1996,
          1997,
          1998,
          1999,
          2000,
          2001,
          2002,
          2003,
          2004,
          2005,
          2006,
          2007,
          2008,
          2009,
          2010,
          2011,
          2012,
          2013,
          2014,
          2015,
          2016,
          2017,
          2018,
          2019,
          2020,
          2021,
          1990,
          1991,
          1992,
          1993,
          1994,
          1995,
          1996,
          1997,
          1998,
          1999,
          2000,
          2001,
          2002,
          2003,
          2004,
          2005,
          2006,
          2007,
          2008,
          2009,
          2010,
          2011,
          2012,
          2013,
          2014,
          2015,
          2016,
          2017,
          2018,
          2019,
          2020,
          2021
         ],
         "xaxis": "x",
         "y": [
          81871000000,
          81164000000,
          84626000000,
          83538000000,
          85226000000,
          84152000000,
          85453000000,
          87256000000,
          89210000000,
          92573000000,
          93198000000,
          94262800000,
          96254200000,
          97414300000,
          99939900000,
          99504500000,
          100468300000,
          102218400000,
          101250200000,
          101514000000,
          102307600000,
          102956400000,
          103122100000,
          103211200000,
          103699100000,
          105088900000,
          107708100000,
          108936100000,
          110355900000,
          110372800000,
          92654200000,
          null,
          81871000000,
          81164000000,
          84626000000,
          83538000000,
          85226000000,
          84152000000,
          85453000000,
          87256000000,
          89210000000,
          92573000000,
          93198000000,
          94262800000,
          96254200000,
          97414300000,
          99939900000,
          99504500000,
          100468300000,
          102218400000,
          101250200000,
          101514000000,
          102307600000,
          102956400000,
          103122100000,
          103211200000,
          103699100000,
          105088900000,
          107708100000,
          108936100000,
          110355900000,
          110372800000,
          92654200000,
          null,
          81871000000,
          81164000000,
          84626000000,
          83538000000,
          85226000000,
          84152000000,
          85453000000,
          87256000000,
          89210000000,
          92573000000,
          93198000000,
          94262800000,
          96254200000,
          97414300000,
          99939900000,
          99504500000,
          100468300000,
          102218400000,
          101250200000,
          101514000000,
          102307600000,
          102956400000,
          103122100000,
          103211200000,
          103699100000,
          105088900000,
          107708100000,
          108936100000,
          110355900000,
          110372800000,
          92654200000,
          null,
          81871000000,
          81164000000,
          84626000000,
          83538000000,
          85226000000,
          84152000000,
          85453000000,
          87256000000,
          89210000000,
          92573000000,
          93198000000,
          94262800000,
          96254200000,
          97414300000,
          99939900000,
          99504500000,
          100468300000,
          102218400000,
          101250200000,
          101514000000,
          102307600000,
          102956400000,
          103122100000,
          103211200000,
          103699100000,
          105088900000,
          107708100000,
          108936100000,
          110355900000,
          110372800000,
          92654200000,
          null
         ],
         "yaxis": "y"
        }
       ],
       "layout": {
        "autosize": true,
        "legend": {
         "title": {
          "text": "Sources"
         },
         "tracegroupgap": 0
        },
        "margin": {
         "t": 60
        },
        "template": {
         "data": {
          "bar": [
           {
            "error_x": {
             "color": "#2a3f5f"
            },
            "error_y": {
             "color": "#2a3f5f"
            },
            "marker": {
             "line": {
              "color": "#E5ECF6",
              "width": 0.5
             },
             "pattern": {
              "fillmode": "overlay",
              "size": 10,
              "solidity": 0.2
             }
            },
            "type": "bar"
           }
          ],
          "barpolar": [
           {
            "marker": {
             "line": {
              "color": "#E5ECF6",
              "width": 0.5
             },
             "pattern": {
              "fillmode": "overlay",
              "size": 10,
              "solidity": 0.2
             }
            },
            "type": "barpolar"
           }
          ],
          "carpet": [
           {
            "aaxis": {
             "endlinecolor": "#2a3f5f",
             "gridcolor": "white",
             "linecolor": "white",
             "minorgridcolor": "white",
             "startlinecolor": "#2a3f5f"
            },
            "baxis": {
             "endlinecolor": "#2a3f5f",
             "gridcolor": "white",
             "linecolor": "white",
             "minorgridcolor": "white",
             "startlinecolor": "#2a3f5f"
            },
            "type": "carpet"
           }
          ],
          "choropleth": [
           {
            "colorbar": {
             "outlinewidth": 0,
             "ticks": ""
            },
            "type": "choropleth"
           }
          ],
          "contour": [
           {
            "colorbar": {
             "outlinewidth": 0,
             "ticks": ""
            },
            "colorscale": [
             [
              0,
              "#0d0887"
             ],
             [
              0.1111111111111111,
              "#46039f"
             ],
             [
              0.2222222222222222,
              "#7201a8"
             ],
             [
              0.3333333333333333,
              "#9c179e"
             ],
             [
              0.4444444444444444,
              "#bd3786"
             ],
             [
              0.5555555555555556,
              "#d8576b"
             ],
             [
              0.6666666666666666,
              "#ed7953"
             ],
             [
              0.7777777777777778,
              "#fb9f3a"
             ],
             [
              0.8888888888888888,
              "#fdca26"
             ],
             [
              1,
              "#f0f921"
             ]
            ],
            "type": "contour"
           }
          ],
          "contourcarpet": [
           {
            "colorbar": {
             "outlinewidth": 0,
             "ticks": ""
            },
            "type": "contourcarpet"
           }
          ],
          "heatmap": [
           {
            "colorbar": {
             "outlinewidth": 0,
             "ticks": ""
            },
            "colorscale": [
             [
              0,
              "#0d0887"
             ],
             [
              0.1111111111111111,
              "#46039f"
             ],
             [
              0.2222222222222222,
              "#7201a8"
             ],
             [
              0.3333333333333333,
              "#9c179e"
             ],
             [
              0.4444444444444444,
              "#bd3786"
             ],
             [
              0.5555555555555556,
              "#d8576b"
             ],
             [
              0.6666666666666666,
              "#ed7953"
             ],
             [
              0.7777777777777778,
              "#fb9f3a"
             ],
             [
              0.8888888888888888,
              "#fdca26"
             ],
             [
              1,
              "#f0f921"
             ]
            ],
            "type": "heatmap"
           }
          ],
          "heatmapgl": [
           {
            "colorbar": {
             "outlinewidth": 0,
             "ticks": ""
            },
            "colorscale": [
             [
              0,
              "#0d0887"
             ],
             [
              0.1111111111111111,
              "#46039f"
             ],
             [
              0.2222222222222222,
              "#7201a8"
             ],
             [
              0.3333333333333333,
              "#9c179e"
             ],
             [
              0.4444444444444444,
              "#bd3786"
             ],
             [
              0.5555555555555556,
              "#d8576b"
             ],
             [
              0.6666666666666666,
              "#ed7953"
             ],
             [
              0.7777777777777778,
              "#fb9f3a"
             ],
             [
              0.8888888888888888,
              "#fdca26"
             ],
             [
              1,
              "#f0f921"
             ]
            ],
            "type": "heatmapgl"
           }
          ],
          "histogram": [
           {
            "marker": {
             "pattern": {
              "fillmode": "overlay",
              "size": 10,
              "solidity": 0.2
             }
            },
            "type": "histogram"
           }
          ],
          "histogram2d": [
           {
            "colorbar": {
             "outlinewidth": 0,
             "ticks": ""
            },
            "colorscale": [
             [
              0,
              "#0d0887"
             ],
             [
              0.1111111111111111,
              "#46039f"
             ],
             [
              0.2222222222222222,
              "#7201a8"
             ],
             [
              0.3333333333333333,
              "#9c179e"
             ],
             [
              0.4444444444444444,
              "#bd3786"
             ],
             [
              0.5555555555555556,
              "#d8576b"
             ],
             [
              0.6666666666666666,
              "#ed7953"
             ],
             [
              0.7777777777777778,
              "#fb9f3a"
             ],
             [
              0.8888888888888888,
              "#fdca26"
             ],
             [
              1,
              "#f0f921"
             ]
            ],
            "type": "histogram2d"
           }
          ],
          "histogram2dcontour": [
           {
            "colorbar": {
             "outlinewidth": 0,
             "ticks": ""
            },
            "colorscale": [
             [
              0,
              "#0d0887"
             ],
             [
              0.1111111111111111,
              "#46039f"
             ],
             [
              0.2222222222222222,
              "#7201a8"
             ],
             [
              0.3333333333333333,
              "#9c179e"
             ],
             [
              0.4444444444444444,
              "#bd3786"
             ],
             [
              0.5555555555555556,
              "#d8576b"
             ],
             [
              0.6666666666666666,
              "#ed7953"
             ],
             [
              0.7777777777777778,
              "#fb9f3a"
             ],
             [
              0.8888888888888888,
              "#fdca26"
             ],
             [
              1,
              "#f0f921"
             ]
            ],
            "type": "histogram2dcontour"
           }
          ],
          "mesh3d": [
           {
            "colorbar": {
             "outlinewidth": 0,
             "ticks": ""
            },
            "type": "mesh3d"
           }
          ],
          "parcoords": [
           {
            "line": {
             "colorbar": {
              "outlinewidth": 0,
              "ticks": ""
             }
            },
            "type": "parcoords"
           }
          ],
          "pie": [
           {
            "automargin": true,
            "type": "pie"
           }
          ],
          "scatter": [
           {
            "marker": {
             "colorbar": {
              "outlinewidth": 0,
              "ticks": ""
             }
            },
            "type": "scatter"
           }
          ],
          "scatter3d": [
           {
            "line": {
             "colorbar": {
              "outlinewidth": 0,
              "ticks": ""
             }
            },
            "marker": {
             "colorbar": {
              "outlinewidth": 0,
              "ticks": ""
             }
            },
            "type": "scatter3d"
           }
          ],
          "scattercarpet": [
           {
            "marker": {
             "colorbar": {
              "outlinewidth": 0,
              "ticks": ""
             }
            },
            "type": "scattercarpet"
           }
          ],
          "scattergeo": [
           {
            "marker": {
             "colorbar": {
              "outlinewidth": 0,
              "ticks": ""
             }
            },
            "type": "scattergeo"
           }
          ],
          "scattergl": [
           {
            "marker": {
             "colorbar": {
              "outlinewidth": 0,
              "ticks": ""
             }
            },
            "type": "scattergl"
           }
          ],
          "scattermapbox": [
           {
            "marker": {
             "colorbar": {
              "outlinewidth": 0,
              "ticks": ""
             }
            },
            "type": "scattermapbox"
           }
          ],
          "scatterpolar": [
           {
            "marker": {
             "colorbar": {
              "outlinewidth": 0,
              "ticks": ""
             }
            },
            "type": "scatterpolar"
           }
          ],
          "scatterpolargl": [
           {
            "marker": {
             "colorbar": {
              "outlinewidth": 0,
              "ticks": ""
             }
            },
            "type": "scatterpolargl"
           }
          ],
          "scatterternary": [
           {
            "marker": {
             "colorbar": {
              "outlinewidth": 0,
              "ticks": ""
             }
            },
            "type": "scatterternary"
           }
          ],
          "surface": [
           {
            "colorbar": {
             "outlinewidth": 0,
             "ticks": ""
            },
            "colorscale": [
             [
              0,
              "#0d0887"
             ],
             [
              0.1111111111111111,
              "#46039f"
             ],
             [
              0.2222222222222222,
              "#7201a8"
             ],
             [
              0.3333333333333333,
              "#9c179e"
             ],
             [
              0.4444444444444444,
              "#bd3786"
             ],
             [
              0.5555555555555556,
              "#d8576b"
             ],
             [
              0.6666666666666666,
              "#ed7953"
             ],
             [
              0.7777777777777778,
              "#fb9f3a"
             ],
             [
              0.8888888888888888,
              "#fdca26"
             ],
             [
              1,
              "#f0f921"
             ]
            ],
            "type": "surface"
           }
          ],
          "table": [
           {
            "cells": {
             "fill": {
              "color": "#EBF0F8"
             },
             "line": {
              "color": "white"
             }
            },
            "header": {
             "fill": {
              "color": "#C8D4E3"
             },
             "line": {
              "color": "white"
             }
            },
            "type": "table"
           }
          ]
         },
         "layout": {
          "annotationdefaults": {
           "arrowcolor": "#2a3f5f",
           "arrowhead": 0,
           "arrowwidth": 1
          },
          "autotypenumbers": "strict",
          "coloraxis": {
           "colorbar": {
            "outlinewidth": 0,
            "ticks": ""
           }
          },
          "colorscale": {
           "diverging": [
            [
             0,
             "#8e0152"
            ],
            [
             0.1,
             "#c51b7d"
            ],
            [
             0.2,
             "#de77ae"
            ],
            [
             0.3,
             "#f1b6da"
            ],
            [
             0.4,
             "#fde0ef"
            ],
            [
             0.5,
             "#f7f7f7"
            ],
            [
             0.6,
             "#e6f5d0"
            ],
            [
             0.7,
             "#b8e186"
            ],
            [
             0.8,
             "#7fbc41"
            ],
            [
             0.9,
             "#4d9221"
            ],
            [
             1,
             "#276419"
            ]
           ],
           "sequential": [
            [
             0,
             "#0d0887"
            ],
            [
             0.1111111111111111,
             "#46039f"
            ],
            [
             0.2222222222222222,
             "#7201a8"
            ],
            [
             0.3333333333333333,
             "#9c179e"
            ],
            [
             0.4444444444444444,
             "#bd3786"
            ],
            [
             0.5555555555555556,
             "#d8576b"
            ],
            [
             0.6666666666666666,
             "#ed7953"
            ],
            [
             0.7777777777777778,
             "#fb9f3a"
            ],
            [
             0.8888888888888888,
             "#fdca26"
            ],
            [
             1,
             "#f0f921"
            ]
           ],
           "sequentialminus": [
            [
             0,
             "#0d0887"
            ],
            [
             0.1111111111111111,
             "#46039f"
            ],
            [
             0.2222222222222222,
             "#7201a8"
            ],
            [
             0.3333333333333333,
             "#9c179e"
            ],
            [
             0.4444444444444444,
             "#bd3786"
            ],
            [
             0.5555555555555556,
             "#d8576b"
            ],
            [
             0.6666666666666666,
             "#ed7953"
            ],
            [
             0.7777777777777778,
             "#fb9f3a"
            ],
            [
             0.8888888888888888,
             "#fdca26"
            ],
            [
             1,
             "#f0f921"
            ]
           ]
          },
          "colorway": [
           "#636efa",
           "#EF553B",
           "#00cc96",
           "#ab63fa",
           "#FFA15A",
           "#19d3f3",
           "#FF6692",
           "#B6E880",
           "#FF97FF",
           "#FECB52"
          ],
          "font": {
           "color": "#2a3f5f"
          },
          "geo": {
           "bgcolor": "white",
           "lakecolor": "white",
           "landcolor": "#E5ECF6",
           "showlakes": true,
           "showland": true,
           "subunitcolor": "white"
          },
          "hoverlabel": {
           "align": "left"
          },
          "hovermode": "closest",
          "mapbox": {
           "style": "light"
          },
          "paper_bgcolor": "white",
          "plot_bgcolor": "#E5ECF6",
          "polar": {
           "angularaxis": {
            "gridcolor": "white",
            "linecolor": "white",
            "ticks": ""
           },
           "bgcolor": "#E5ECF6",
           "radialaxis": {
            "gridcolor": "white",
            "linecolor": "white",
            "ticks": ""
           }
          },
          "scene": {
           "xaxis": {
            "backgroundcolor": "#E5ECF6",
            "gridcolor": "white",
            "gridwidth": 2,
            "linecolor": "white",
            "showbackground": true,
            "ticks": "",
            "zerolinecolor": "white"
           },
           "yaxis": {
            "backgroundcolor": "#E5ECF6",
            "gridcolor": "white",
            "gridwidth": 2,
            "linecolor": "white",
            "showbackground": true,
            "ticks": "",
            "zerolinecolor": "white"
           },
           "zaxis": {
            "backgroundcolor": "#E5ECF6",
            "gridcolor": "white",
            "gridwidth": 2,
            "linecolor": "white",
            "showbackground": true,
            "ticks": "",
            "zerolinecolor": "white"
           }
          },
          "shapedefaults": {
           "line": {
            "color": "#2a3f5f"
           }
          },
          "ternary": {
           "aaxis": {
            "gridcolor": "white",
            "linecolor": "white",
            "ticks": ""
           },
           "baxis": {
            "gridcolor": "white",
            "linecolor": "white",
            "ticks": ""
           },
           "bgcolor": "#E5ECF6",
           "caxis": {
            "gridcolor": "white",
            "linecolor": "white",
            "ticks": ""
           }
          },
          "title": {
           "x": 0.05
          },
          "xaxis": {
           "automargin": true,
           "gridcolor": "white",
           "linecolor": "white",
           "ticks": "",
           "title": {
            "standoff": 15
           },
           "zerolinecolor": "white",
           "zerolinewidth": 2
          },
          "yaxis": {
           "automargin": true,
           "gridcolor": "white",
           "linecolor": "white",
           "ticks": "",
           "title": {
            "standoff": 15
           },
           "zerolinecolor": "white",
           "zerolinewidth": 2
          }
         }
        },
        "xaxis": {
         "anchor": "y",
         "autorange": true,
         "domain": [
          0,
          1
         ],
         "range": [
          1990,
          2021
         ],
         "title": {
          "text": "Year"
         },
         "type": "linear"
        },
        "yaxis": {
         "anchor": "x",
         "autorange": true,
         "domain": [
          0,
          1
         ],
         "range": [
          8162511111.111111,
          115752288888.88889
         ],
         "title": {
          "text": "vhkm"
         },
         "type": "linear"
        }
       }
      }
     },
     "metadata": {},
     "output_type": "display_data"
    }
   ],
   "source": [
    "px.line(vehicle_data, x=\"Year\", y=\"vhkm\", color=\"Sources\")"
   ]
  },
  {
   "cell_type": "code",
   "execution_count": 12,
   "metadata": {},
   "outputs": [
    {
     "data": {
      "application/vnd.plotly.v1+json": {
       "config": {
        "plotlyServerURL": "https://plot.ly"
       },
       "data": [
        {
         "hovertemplate": "Emission Type=Carbon dioxide (CO2)<br>Sources=Road traffic, freight vehicles<br>vhkm=%{x}<br>Emission=%{y}<br>Year=%{text}<extra></extra>",
         "legendgroup": "Carbon dioxide (CO2)",
         "marker": {
          "color": "#636efa",
          "symbol": "circle"
         },
         "mode": "markers+text",
         "name": "Carbon dioxide (CO2)",
         "orientation": "v",
         "showlegend": true,
         "text": [
          1990,
          1991,
          1992,
          1993,
          1994,
          1995,
          1996,
          1997,
          1998,
          1999,
          2000,
          2001,
          2002,
          2003,
          2004,
          2005,
          2006,
          2007,
          2008,
          2009,
          2010,
          2011,
          2012,
          2013,
          2014,
          2015,
          2016,
          2017,
          2018,
          2019,
          2020,
          2021
         ],
         "type": "scatter",
         "x": [
          13542000000,
          14363000000,
          15650000000,
          16572000000,
          16647000000,
          16907000000,
          17210000000,
          18076000000,
          19190000000,
          20895000000,
          22116000000,
          22991000000,
          23214400000,
          23620200000,
          24405900000,
          24705900000,
          24199200000,
          24705600000,
          25173000000,
          24634600000,
          24480200000,
          24169200000,
          23656900000,
          22926500000,
          22915600000,
          23467700000,
          24475200000,
          25119300000,
          25686600000,
          26186800000,
          25544500000,
          null
         ],
         "xaxis": "x2",
         "y": [
          7600000000,
          7900000000,
          8400000000,
          8500000000,
          8500000000,
          8600000000,
          8600000000,
          8800000000,
          9100000000,
          9800000000,
          9700000000,
          9800000000,
          9800000000,
          9900000000,
          10100000000,
          10200000000,
          10200000000,
          10300000000,
          10600000000,
          10400000000,
          10400000000,
          10100000000,
          9900000000,
          9500000000,
          9400000000,
          9800000000,
          10200000000,
          10400000000,
          10600000000,
          10700000000,
          10600000000,
          11000000000
         ],
         "yaxis": "y2"
        },
        {
         "hovertemplate": "Emission Type=Carbon dioxide (CO2)<br>Sources=Road traffic, passenger cars<br>vhkm=%{x}<br>Emission=%{y}<br>Year=%{text}<extra></extra>",
         "legendgroup": "Carbon dioxide (CO2)",
         "marker": {
          "color": "#636efa",
          "symbol": "circle"
         },
         "mode": "markers+text",
         "name": "Carbon dioxide (CO2)",
         "orientation": "v",
         "showlegend": false,
         "text": [
          1990,
          1991,
          1992,
          1993,
          1994,
          1995,
          1996,
          1997,
          1998,
          1999,
          2000,
          2001,
          2002,
          2003,
          2004,
          2005,
          2006,
          2007,
          2008,
          2009,
          2010,
          2011,
          2012,
          2013,
          2014,
          2015,
          2016,
          2017,
          2018,
          2019,
          2020,
          2021
         ],
         "type": "scatter",
         "x": [
          81871000000,
          81164000000,
          84626000000,
          83538000000,
          85226000000,
          84152000000,
          85453000000,
          87256000000,
          89210000000,
          92573000000,
          93198000000,
          94262800000,
          96254200000,
          97414300000,
          99939900000,
          99504500000,
          100468300000,
          102218400000,
          101250200000,
          101514000000,
          102307600000,
          102956400000,
          103122100000,
          103211200000,
          103699100000,
          105088900000,
          107708100000,
          108936100000,
          110355900000,
          110372800000,
          92654200000,
          null
         ],
         "xaxis": "x",
         "y": [
          15500000000,
          15400000000,
          16100000000,
          15900000000,
          16300000000,
          16100000000,
          16300000000,
          16700000000,
          17000000000,
          17700000000,
          17800000000,
          18000000000,
          18400000000,
          18600000000,
          19100000000,
          18800000000,
          18800000000,
          18600000000,
          18300000000,
          18100000000,
          18000000000,
          17900000000,
          17600000000,
          17400000000,
          17200000000,
          17300000000,
          17600000000,
          17700000000,
          17800000000,
          17600000000,
          14600000000,
          14800000000
         ],
         "yaxis": "y"
        },
        {
         "hovertemplate": "Emission Type=Carbon monoxide (CO)<br>Sources=Road traffic, freight vehicles<br>vhkm=%{x}<br>Emission=%{y}<br>Year=%{text}<extra></extra>",
         "legendgroup": "Carbon monoxide (CO)",
         "marker": {
          "color": "#EF553B",
          "symbol": "circle"
         },
         "mode": "markers+text",
         "name": "Carbon monoxide (CO)",
         "orientation": "v",
         "showlegend": true,
         "text": [
          1990,
          1991,
          1992,
          1993,
          1994,
          1995,
          1996,
          1997,
          1998,
          1999,
          2000,
          2001,
          2002,
          2003,
          2004,
          2005,
          2006,
          2007,
          2008,
          2009,
          2010,
          2011,
          2012,
          2013,
          2014,
          2015,
          2016,
          2017,
          2018,
          2019,
          2020,
          2021
         ],
         "type": "scatter",
         "x": [
          13542000000,
          14363000000,
          15650000000,
          16572000000,
          16647000000,
          16907000000,
          17210000000,
          18076000000,
          19190000000,
          20895000000,
          22116000000,
          22991000000,
          23214400000,
          23620200000,
          24405900000,
          24705900000,
          24199200000,
          24705600000,
          25173000000,
          24634600000,
          24480200000,
          24169200000,
          23656900000,
          22926500000,
          22915600000,
          23467700000,
          24475200000,
          25119300000,
          25686600000,
          26186800000,
          25544500000,
          null
         ],
         "xaxis": "x2",
         "y": [
          68600000,
          66200000,
          65000000,
          62300000,
          56500000,
          50700000,
          44700000,
          39800000,
          35800000,
          33200000.000000004,
          30100000,
          27700000,
          25500000,
          23700000,
          23100000,
          22000000,
          21400000,
          21500000,
          21600000,
          21100000,
          20300000,
          19400000,
          18300000,
          16600000.000000002,
          15400000,
          14300000,
          15000000,
          15400000,
          10900000,
          9700000,
          8700000,
          9100000
         ],
         "yaxis": "y2"
        },
        {
         "hovertemplate": "Emission Type=Carbon monoxide (CO)<br>Sources=Road traffic, passenger cars<br>vhkm=%{x}<br>Emission=%{y}<br>Year=%{text}<extra></extra>",
         "legendgroup": "Carbon monoxide (CO)",
         "marker": {
          "color": "#EF553B",
          "symbol": "circle"
         },
         "mode": "markers+text",
         "name": "Carbon monoxide (CO)",
         "orientation": "v",
         "showlegend": false,
         "text": [
          1990,
          1991,
          1992,
          1993,
          1994,
          1995,
          1996,
          1997,
          1998,
          1999,
          2000,
          2001,
          2002,
          2003,
          2004,
          2005,
          2006,
          2007,
          2008,
          2009,
          2010,
          2011,
          2012,
          2013,
          2014,
          2015,
          2016,
          2017,
          2018,
          2019,
          2020,
          2021
         ],
         "type": "scatter",
         "x": [
          81871000000,
          81164000000,
          84626000000,
          83538000000,
          85226000000,
          84152000000,
          85453000000,
          87256000000,
          89210000000,
          92573000000,
          93198000000,
          94262800000,
          96254200000,
          97414300000,
          99939900000,
          99504500000,
          100468300000,
          102218400000,
          101250200000,
          101514000000,
          102307600000,
          102956400000,
          103122100000,
          103211200000,
          103699100000,
          105088900000,
          107708100000,
          108936100000,
          110355900000,
          110372800000,
          92654200000,
          null
         ],
         "xaxis": "x",
         "y": [
          592800000,
          502600000,
          475400000,
          427000000,
          398200000,
          379500000,
          364500000,
          342400000,
          323800000,
          316100000,
          303400000,
          304600000,
          309700000,
          313100000,
          314900000,
          307800000,
          305200000,
          308200000,
          300000000,
          294300000,
          289900000,
          283300000,
          271900000,
          262800000,
          249500000,
          246700000,
          236800000,
          237600000,
          221500000,
          206400000,
          166100000,
          159000000
         ],
         "yaxis": "y"
        },
        {
         "hovertemplate": "Emission Type=Nitrogen oxides (NOx)<br>Sources=Road traffic, freight vehicles<br>vhkm=%{x}<br>Emission=%{y}<br>Year=%{text}<extra></extra>",
         "legendgroup": "Nitrogen oxides (NOx)",
         "marker": {
          "color": "#00cc96",
          "symbol": "circle"
         },
         "mode": "markers+text",
         "name": "Nitrogen oxides (NOx)",
         "orientation": "v",
         "showlegend": true,
         "text": [
          1990,
          1991,
          1992,
          1993,
          1994,
          1995,
          1996,
          1997,
          1998,
          1999,
          2000,
          2001,
          2002,
          2003,
          2004,
          2005,
          2006,
          2007,
          2008,
          2009,
          2010,
          2011,
          2012,
          2013,
          2014,
          2015,
          2016,
          2017,
          2018,
          2019,
          2020,
          2021
         ],
         "type": "scatter",
         "x": [
          13542000000,
          14363000000,
          15650000000,
          16572000000,
          16647000000,
          16907000000,
          17210000000,
          18076000000,
          19190000000,
          20895000000,
          22116000000,
          22991000000,
          23214400000,
          23620200000,
          24405900000,
          24705900000,
          24199200000,
          24705600000,
          25173000000,
          24634600000,
          24480200000,
          24169200000,
          23656900000,
          22926500000,
          22915600000,
          23467700000,
          24475200000,
          25119300000,
          25686600000,
          26186800000,
          25544500000,
          null
         ],
         "xaxis": "x2",
         "y": [
          104600000,
          108200000,
          110100000,
          105300000,
          98900000,
          95100000,
          89300000,
          86300000,
          84500000,
          87600000,
          86400000,
          85200000,
          83600000,
          82800000,
          83500000,
          84500000,
          84300000,
          85200000,
          84200000,
          79400000,
          75000000,
          71100000,
          66500000,
          60700000,
          56900000,
          55000000,
          53100000,
          50100000,
          46200000,
          42400000,
          38400000,
          37000000
         ],
         "yaxis": "y2"
        },
        {
         "hovertemplate": "Emission Type=Nitrogen oxides (NOx)<br>Sources=Road traffic, passenger cars<br>vhkm=%{x}<br>Emission=%{y}<br>Year=%{text}<extra></extra>",
         "legendgroup": "Nitrogen oxides (NOx)",
         "marker": {
          "color": "#00cc96",
          "symbol": "circle"
         },
         "mode": "markers+text",
         "name": "Nitrogen oxides (NOx)",
         "orientation": "v",
         "showlegend": false,
         "text": [
          1990,
          1991,
          1992,
          1993,
          1994,
          1995,
          1996,
          1997,
          1998,
          1999,
          2000,
          2001,
          2002,
          2003,
          2004,
          2005,
          2006,
          2007,
          2008,
          2009,
          2010,
          2011,
          2012,
          2013,
          2014,
          2015,
          2016,
          2017,
          2018,
          2019,
          2020,
          2021
         ],
         "type": "scatter",
         "x": [
          81871000000,
          81164000000,
          84626000000,
          83538000000,
          85226000000,
          84152000000,
          85453000000,
          87256000000,
          89210000000,
          92573000000,
          93198000000,
          94262800000,
          96254200000,
          97414300000,
          99939900000,
          99504500000,
          100468300000,
          102218400000,
          101250200000,
          101514000000,
          102307600000,
          102956400000,
          103122100000,
          103211200000,
          103699100000,
          105088900000,
          107708100000,
          108936100000,
          110355900000,
          110372800000,
          92654200000,
          null
         ],
         "xaxis": "x",
         "y": [
          142700000,
          130400000,
          121900000,
          109300000,
          100600000,
          91200000,
          86200000,
          79500000,
          73800000,
          70100000,
          63000000,
          57500000,
          53100000,
          49500000,
          46900000,
          43300000,
          40900000,
          39100000,
          36700000,
          34400000,
          33299999.999999996,
          32900000,
          32100000,
          30900000,
          29700000,
          30200000,
          28900000,
          29200000,
          27600000,
          25700000,
          19600000,
          19100000
         ],
         "yaxis": "y"
        },
        {
         "hovertemplate": "Emission Type=PM10 (Particulate matter)<br>Sources=Road traffic, freight vehicles<br>vhkm=%{x}<br>Emission=%{y}<br>Year=%{text}<extra></extra>",
         "legendgroup": "PM10 (Particulate matter)",
         "marker": {
          "color": "#ab63fa",
          "symbol": "circle"
         },
         "mode": "markers+text",
         "name": "PM10 (Particulate matter)",
         "orientation": "v",
         "showlegend": true,
         "text": [
          1990,
          1991,
          1992,
          1993,
          1994,
          1995,
          1996,
          1997,
          1998,
          1999,
          2000,
          2001,
          2002,
          2003,
          2004,
          2005,
          2006,
          2007,
          2008,
          2009,
          2010,
          2011,
          2012,
          2013,
          2014,
          2015,
          2016,
          2017,
          2018,
          2019,
          2020,
          2021
         ],
         "type": "scatter",
         "x": [
          13542000000,
          14363000000,
          15650000000,
          16572000000,
          16647000000,
          16907000000,
          17210000000,
          18076000000,
          19190000000,
          20895000000,
          22116000000,
          22991000000,
          23214400000,
          23620200000,
          24405900000,
          24705900000,
          24199200000,
          24705600000,
          25173000000,
          24634600000,
          24480200000,
          24169200000,
          23656900000,
          22926500000,
          22915600000,
          23467700000,
          24475200000,
          25119300000,
          25686600000,
          26186800000,
          25544500000,
          null
         ],
         "xaxis": "x2",
         "y": [
          8800000,
          8900000,
          8800000,
          8300000.000000001,
          7600000,
          7000000,
          6400000,
          5900000,
          5600000,
          5600000,
          5400000,
          5200000,
          4800000,
          4500000,
          4400000,
          4200000,
          3900000,
          3700000,
          3500000,
          3100000,
          2800000,
          2600000,
          2300000,
          2000000,
          1900000,
          1800000,
          1800000,
          1700000,
          1600000,
          1500000,
          1500000,
          1500000
         ],
         "yaxis": "y2"
        },
        {
         "hovertemplate": "Emission Type=PM10 (Particulate matter)<br>Sources=Road traffic, passenger cars<br>vhkm=%{x}<br>Emission=%{y}<br>Year=%{text}<extra></extra>",
         "legendgroup": "PM10 (Particulate matter)",
         "marker": {
          "color": "#ab63fa",
          "symbol": "circle"
         },
         "mode": "markers+text",
         "name": "PM10 (Particulate matter)",
         "orientation": "v",
         "showlegend": false,
         "text": [
          1990,
          1991,
          1992,
          1993,
          1994,
          1995,
          1996,
          1997,
          1998,
          1999,
          2000,
          2001,
          2002,
          2003,
          2004,
          2005,
          2006,
          2007,
          2008,
          2009,
          2010,
          2011,
          2012,
          2013,
          2014,
          2015,
          2016,
          2017,
          2018,
          2019,
          2020,
          2021
         ],
         "type": "scatter",
         "x": [
          81871000000,
          81164000000,
          84626000000,
          83538000000,
          85226000000,
          84152000000,
          85453000000,
          87256000000,
          89210000000,
          92573000000,
          93198000000,
          94262800000,
          96254200000,
          97414300000,
          99939900000,
          99504500000,
          100468300000,
          102218400000,
          101250200000,
          101514000000,
          102307600000,
          102956400000,
          103122100000,
          103211200000,
          103699100000,
          105088900000,
          107708100000,
          108936100000,
          110355900000,
          110372800000,
          92654200000,
          null
         ],
         "xaxis": "x",
         "y": [
          6900000,
          6200000,
          6000000,
          5500000,
          5300000,
          5000000,
          4800000,
          4600000,
          4500000,
          4500000,
          4400000,
          4200000,
          4000000,
          3900000,
          3800000,
          3700000,
          3600000,
          3500000,
          3300000,
          3100000,
          3000000,
          2900000,
          2700000,
          2500000,
          2400000,
          2400000,
          2300000,
          2300000,
          2300000,
          2200000,
          1800000,
          1900000
         ],
         "yaxis": "y"
        }
       ],
       "layout": {
        "annotations": [
         {
          "font": {},
          "showarrow": false,
          "text": "Sources=Road traffic, passenger cars",
          "textangle": 90,
          "x": 0.98,
          "xanchor": "left",
          "xref": "paper",
          "y": 0.2425,
          "yanchor": "middle",
          "yref": "paper"
         },
         {
          "font": {},
          "showarrow": false,
          "text": "Sources=Road traffic, freight vehicles",
          "textangle": 90,
          "x": 0.98,
          "xanchor": "left",
          "xref": "paper",
          "y": 0.7575000000000001,
          "yanchor": "middle",
          "yref": "paper"
         }
        ],
        "autosize": true,
        "legend": {
         "title": {
          "text": "Emission Type"
         },
         "tracegroupgap": 0
        },
        "margin": {
         "t": 60
        },
        "template": {
         "data": {
          "bar": [
           {
            "error_x": {
             "color": "#2a3f5f"
            },
            "error_y": {
             "color": "#2a3f5f"
            },
            "marker": {
             "line": {
              "color": "#E5ECF6",
              "width": 0.5
             },
             "pattern": {
              "fillmode": "overlay",
              "size": 10,
              "solidity": 0.2
             }
            },
            "type": "bar"
           }
          ],
          "barpolar": [
           {
            "marker": {
             "line": {
              "color": "#E5ECF6",
              "width": 0.5
             },
             "pattern": {
              "fillmode": "overlay",
              "size": 10,
              "solidity": 0.2
             }
            },
            "type": "barpolar"
           }
          ],
          "carpet": [
           {
            "aaxis": {
             "endlinecolor": "#2a3f5f",
             "gridcolor": "white",
             "linecolor": "white",
             "minorgridcolor": "white",
             "startlinecolor": "#2a3f5f"
            },
            "baxis": {
             "endlinecolor": "#2a3f5f",
             "gridcolor": "white",
             "linecolor": "white",
             "minorgridcolor": "white",
             "startlinecolor": "#2a3f5f"
            },
            "type": "carpet"
           }
          ],
          "choropleth": [
           {
            "colorbar": {
             "outlinewidth": 0,
             "ticks": ""
            },
            "type": "choropleth"
           }
          ],
          "contour": [
           {
            "colorbar": {
             "outlinewidth": 0,
             "ticks": ""
            },
            "colorscale": [
             [
              0,
              "#0d0887"
             ],
             [
              0.1111111111111111,
              "#46039f"
             ],
             [
              0.2222222222222222,
              "#7201a8"
             ],
             [
              0.3333333333333333,
              "#9c179e"
             ],
             [
              0.4444444444444444,
              "#bd3786"
             ],
             [
              0.5555555555555556,
              "#d8576b"
             ],
             [
              0.6666666666666666,
              "#ed7953"
             ],
             [
              0.7777777777777778,
              "#fb9f3a"
             ],
             [
              0.8888888888888888,
              "#fdca26"
             ],
             [
              1,
              "#f0f921"
             ]
            ],
            "type": "contour"
           }
          ],
          "contourcarpet": [
           {
            "colorbar": {
             "outlinewidth": 0,
             "ticks": ""
            },
            "type": "contourcarpet"
           }
          ],
          "heatmap": [
           {
            "colorbar": {
             "outlinewidth": 0,
             "ticks": ""
            },
            "colorscale": [
             [
              0,
              "#0d0887"
             ],
             [
              0.1111111111111111,
              "#46039f"
             ],
             [
              0.2222222222222222,
              "#7201a8"
             ],
             [
              0.3333333333333333,
              "#9c179e"
             ],
             [
              0.4444444444444444,
              "#bd3786"
             ],
             [
              0.5555555555555556,
              "#d8576b"
             ],
             [
              0.6666666666666666,
              "#ed7953"
             ],
             [
              0.7777777777777778,
              "#fb9f3a"
             ],
             [
              0.8888888888888888,
              "#fdca26"
             ],
             [
              1,
              "#f0f921"
             ]
            ],
            "type": "heatmap"
           }
          ],
          "heatmapgl": [
           {
            "colorbar": {
             "outlinewidth": 0,
             "ticks": ""
            },
            "colorscale": [
             [
              0,
              "#0d0887"
             ],
             [
              0.1111111111111111,
              "#46039f"
             ],
             [
              0.2222222222222222,
              "#7201a8"
             ],
             [
              0.3333333333333333,
              "#9c179e"
             ],
             [
              0.4444444444444444,
              "#bd3786"
             ],
             [
              0.5555555555555556,
              "#d8576b"
             ],
             [
              0.6666666666666666,
              "#ed7953"
             ],
             [
              0.7777777777777778,
              "#fb9f3a"
             ],
             [
              0.8888888888888888,
              "#fdca26"
             ],
             [
              1,
              "#f0f921"
             ]
            ],
            "type": "heatmapgl"
           }
          ],
          "histogram": [
           {
            "marker": {
             "pattern": {
              "fillmode": "overlay",
              "size": 10,
              "solidity": 0.2
             }
            },
            "type": "histogram"
           }
          ],
          "histogram2d": [
           {
            "colorbar": {
             "outlinewidth": 0,
             "ticks": ""
            },
            "colorscale": [
             [
              0,
              "#0d0887"
             ],
             [
              0.1111111111111111,
              "#46039f"
             ],
             [
              0.2222222222222222,
              "#7201a8"
             ],
             [
              0.3333333333333333,
              "#9c179e"
             ],
             [
              0.4444444444444444,
              "#bd3786"
             ],
             [
              0.5555555555555556,
              "#d8576b"
             ],
             [
              0.6666666666666666,
              "#ed7953"
             ],
             [
              0.7777777777777778,
              "#fb9f3a"
             ],
             [
              0.8888888888888888,
              "#fdca26"
             ],
             [
              1,
              "#f0f921"
             ]
            ],
            "type": "histogram2d"
           }
          ],
          "histogram2dcontour": [
           {
            "colorbar": {
             "outlinewidth": 0,
             "ticks": ""
            },
            "colorscale": [
             [
              0,
              "#0d0887"
             ],
             [
              0.1111111111111111,
              "#46039f"
             ],
             [
              0.2222222222222222,
              "#7201a8"
             ],
             [
              0.3333333333333333,
              "#9c179e"
             ],
             [
              0.4444444444444444,
              "#bd3786"
             ],
             [
              0.5555555555555556,
              "#d8576b"
             ],
             [
              0.6666666666666666,
              "#ed7953"
             ],
             [
              0.7777777777777778,
              "#fb9f3a"
             ],
             [
              0.8888888888888888,
              "#fdca26"
             ],
             [
              1,
              "#f0f921"
             ]
            ],
            "type": "histogram2dcontour"
           }
          ],
          "mesh3d": [
           {
            "colorbar": {
             "outlinewidth": 0,
             "ticks": ""
            },
            "type": "mesh3d"
           }
          ],
          "parcoords": [
           {
            "line": {
             "colorbar": {
              "outlinewidth": 0,
              "ticks": ""
             }
            },
            "type": "parcoords"
           }
          ],
          "pie": [
           {
            "automargin": true,
            "type": "pie"
           }
          ],
          "scatter": [
           {
            "marker": {
             "colorbar": {
              "outlinewidth": 0,
              "ticks": ""
             }
            },
            "type": "scatter"
           }
          ],
          "scatter3d": [
           {
            "line": {
             "colorbar": {
              "outlinewidth": 0,
              "ticks": ""
             }
            },
            "marker": {
             "colorbar": {
              "outlinewidth": 0,
              "ticks": ""
             }
            },
            "type": "scatter3d"
           }
          ],
          "scattercarpet": [
           {
            "marker": {
             "colorbar": {
              "outlinewidth": 0,
              "ticks": ""
             }
            },
            "type": "scattercarpet"
           }
          ],
          "scattergeo": [
           {
            "marker": {
             "colorbar": {
              "outlinewidth": 0,
              "ticks": ""
             }
            },
            "type": "scattergeo"
           }
          ],
          "scattergl": [
           {
            "marker": {
             "colorbar": {
              "outlinewidth": 0,
              "ticks": ""
             }
            },
            "type": "scattergl"
           }
          ],
          "scattermapbox": [
           {
            "marker": {
             "colorbar": {
              "outlinewidth": 0,
              "ticks": ""
             }
            },
            "type": "scattermapbox"
           }
          ],
          "scatterpolar": [
           {
            "marker": {
             "colorbar": {
              "outlinewidth": 0,
              "ticks": ""
             }
            },
            "type": "scatterpolar"
           }
          ],
          "scatterpolargl": [
           {
            "marker": {
             "colorbar": {
              "outlinewidth": 0,
              "ticks": ""
             }
            },
            "type": "scatterpolargl"
           }
          ],
          "scatterternary": [
           {
            "marker": {
             "colorbar": {
              "outlinewidth": 0,
              "ticks": ""
             }
            },
            "type": "scatterternary"
           }
          ],
          "surface": [
           {
            "colorbar": {
             "outlinewidth": 0,
             "ticks": ""
            },
            "colorscale": [
             [
              0,
              "#0d0887"
             ],
             [
              0.1111111111111111,
              "#46039f"
             ],
             [
              0.2222222222222222,
              "#7201a8"
             ],
             [
              0.3333333333333333,
              "#9c179e"
             ],
             [
              0.4444444444444444,
              "#bd3786"
             ],
             [
              0.5555555555555556,
              "#d8576b"
             ],
             [
              0.6666666666666666,
              "#ed7953"
             ],
             [
              0.7777777777777778,
              "#fb9f3a"
             ],
             [
              0.8888888888888888,
              "#fdca26"
             ],
             [
              1,
              "#f0f921"
             ]
            ],
            "type": "surface"
           }
          ],
          "table": [
           {
            "cells": {
             "fill": {
              "color": "#EBF0F8"
             },
             "line": {
              "color": "white"
             }
            },
            "header": {
             "fill": {
              "color": "#C8D4E3"
             },
             "line": {
              "color": "white"
             }
            },
            "type": "table"
           }
          ]
         },
         "layout": {
          "annotationdefaults": {
           "arrowcolor": "#2a3f5f",
           "arrowhead": 0,
           "arrowwidth": 1
          },
          "autotypenumbers": "strict",
          "coloraxis": {
           "colorbar": {
            "outlinewidth": 0,
            "ticks": ""
           }
          },
          "colorscale": {
           "diverging": [
            [
             0,
             "#8e0152"
            ],
            [
             0.1,
             "#c51b7d"
            ],
            [
             0.2,
             "#de77ae"
            ],
            [
             0.3,
             "#f1b6da"
            ],
            [
             0.4,
             "#fde0ef"
            ],
            [
             0.5,
             "#f7f7f7"
            ],
            [
             0.6,
             "#e6f5d0"
            ],
            [
             0.7,
             "#b8e186"
            ],
            [
             0.8,
             "#7fbc41"
            ],
            [
             0.9,
             "#4d9221"
            ],
            [
             1,
             "#276419"
            ]
           ],
           "sequential": [
            [
             0,
             "#0d0887"
            ],
            [
             0.1111111111111111,
             "#46039f"
            ],
            [
             0.2222222222222222,
             "#7201a8"
            ],
            [
             0.3333333333333333,
             "#9c179e"
            ],
            [
             0.4444444444444444,
             "#bd3786"
            ],
            [
             0.5555555555555556,
             "#d8576b"
            ],
            [
             0.6666666666666666,
             "#ed7953"
            ],
            [
             0.7777777777777778,
             "#fb9f3a"
            ],
            [
             0.8888888888888888,
             "#fdca26"
            ],
            [
             1,
             "#f0f921"
            ]
           ],
           "sequentialminus": [
            [
             0,
             "#0d0887"
            ],
            [
             0.1111111111111111,
             "#46039f"
            ],
            [
             0.2222222222222222,
             "#7201a8"
            ],
            [
             0.3333333333333333,
             "#9c179e"
            ],
            [
             0.4444444444444444,
             "#bd3786"
            ],
            [
             0.5555555555555556,
             "#d8576b"
            ],
            [
             0.6666666666666666,
             "#ed7953"
            ],
            [
             0.7777777777777778,
             "#fb9f3a"
            ],
            [
             0.8888888888888888,
             "#fdca26"
            ],
            [
             1,
             "#f0f921"
            ]
           ]
          },
          "colorway": [
           "#636efa",
           "#EF553B",
           "#00cc96",
           "#ab63fa",
           "#FFA15A",
           "#19d3f3",
           "#FF6692",
           "#B6E880",
           "#FF97FF",
           "#FECB52"
          ],
          "font": {
           "color": "#2a3f5f"
          },
          "geo": {
           "bgcolor": "white",
           "lakecolor": "white",
           "landcolor": "#E5ECF6",
           "showlakes": true,
           "showland": true,
           "subunitcolor": "white"
          },
          "hoverlabel": {
           "align": "left"
          },
          "hovermode": "closest",
          "mapbox": {
           "style": "light"
          },
          "paper_bgcolor": "white",
          "plot_bgcolor": "#E5ECF6",
          "polar": {
           "angularaxis": {
            "gridcolor": "white",
            "linecolor": "white",
            "ticks": ""
           },
           "bgcolor": "#E5ECF6",
           "radialaxis": {
            "gridcolor": "white",
            "linecolor": "white",
            "ticks": ""
           }
          },
          "scene": {
           "xaxis": {
            "backgroundcolor": "#E5ECF6",
            "gridcolor": "white",
            "gridwidth": 2,
            "linecolor": "white",
            "showbackground": true,
            "ticks": "",
            "zerolinecolor": "white"
           },
           "yaxis": {
            "backgroundcolor": "#E5ECF6",
            "gridcolor": "white",
            "gridwidth": 2,
            "linecolor": "white",
            "showbackground": true,
            "ticks": "",
            "zerolinecolor": "white"
           },
           "zaxis": {
            "backgroundcolor": "#E5ECF6",
            "gridcolor": "white",
            "gridwidth": 2,
            "linecolor": "white",
            "showbackground": true,
            "ticks": "",
            "zerolinecolor": "white"
           }
          },
          "shapedefaults": {
           "line": {
            "color": "#2a3f5f"
           }
          },
          "ternary": {
           "aaxis": {
            "gridcolor": "white",
            "linecolor": "white",
            "ticks": ""
           },
           "baxis": {
            "gridcolor": "white",
            "linecolor": "white",
            "ticks": ""
           },
           "bgcolor": "#E5ECF6",
           "caxis": {
            "gridcolor": "white",
            "linecolor": "white",
            "ticks": ""
           }
          },
          "title": {
           "x": 0.05
          },
          "xaxis": {
           "automargin": true,
           "gridcolor": "white",
           "linecolor": "white",
           "ticks": "",
           "title": {
            "standoff": 15
           },
           "zerolinecolor": "white",
           "zerolinewidth": 2
          },
          "yaxis": {
           "automargin": true,
           "gridcolor": "white",
           "linecolor": "white",
           "ticks": "",
           "title": {
            "standoff": 15
           },
           "zerolinecolor": "white",
           "zerolinewidth": 2
          }
         }
        },
        "xaxis": {
         "anchor": "y",
         "autorange": true,
         "domain": [
          0,
          0.98
         ],
         "range": [
          7390456837.01314,
          116524343162.98686
         ],
         "title": {
          "text": "vhkm"
         },
         "type": "linear"
        },
        "xaxis2": {
         "anchor": "y2",
         "autorange": true,
         "domain": [
          0,
          0.98
         ],
         "matches": "x",
         "range": [
          7390456837.01314,
          116524343162.98686
         ],
         "showticklabels": false,
         "type": "linear"
        },
        "yaxis": {
         "anchor": "x",
         "autorange": true,
         "domain": [
          0,
          0.485
         ],
         "range": [
          -1275834508.9564817,
          20377334508.956482
         ],
         "title": {
          "text": "Emission"
         },
         "type": "linear"
        },
        "yaxis2": {
         "anchor": "x2",
         "autorange": true,
         "domain": [
          0.515,
          1
         ],
         "matches": "y",
         "range": [
          -1275834508.9564817,
          20377334508.956482
         ],
         "title": {
          "text": "Emission"
         },
         "type": "linear"
        }
       }
      }
     },
     "metadata": {},
     "output_type": "display_data"
    }
   ],
   "source": [
    "px.scatter(vehicle_data, x=\"vhkm\", y=\"Emission\", text=\"Year\", color=\"Emission Type\", facet_row=\"Sources\", height=1000)"
   ]
  },
  {
   "cell_type": "code",
   "execution_count": 13,
   "metadata": {},
   "outputs": [
    {
     "data": {
      "image/png": "[encoded data removed]",
      "text/plain": [
       "<Figure size 432x288 with 2 Axes>"
      ]
     },
     "metadata": {
      "needs_background": "light"
     },
     "output_type": "display_data"
    }
   ],
   "source": [
    "corr_heatmap(\"car\", \"CO2\", end_year=2018)"
   ]
  },
  {
   "cell_type": "markdown",
   "metadata": {
    "tags": []
   },
   "source": [
    "# Python code/functions"
   ]
  },
  {
   "cell_type": "markdown",
   "metadata": {
    "tags": []
   },
   "source": [
    "#### Load Data functions"
   ]
  },
  {
   "cell_type": "code",
   "execution_count": 14,
   "metadata": {},
   "outputs": [],
   "source": [
    "def load_vk_data(data_path, meta_path):\n",
    "    vk_data = pd.read_csv(data_path, sep=\";\", index_col=\"ID\")\n",
    "    vk_meta = pd.read_csv(meta_path, sep=\";\", skiprows=1, index_col=\"Key\")\n",
    "\n",
    "    vehicle_type = vk_data[\"TypesOfVehicle\"].array.copy()\n",
    "    for i in range(len(vehicle_type)):\n",
    "        vehicle_type[i] = vk_meta.loc[vehicle_type[i], \"Title\"]\n",
    "\n",
    "    vk_data[\"TypesOfVehicle\"] = vehicle_type\n",
    "    vk_data[\"Periods\"] = vk_data[\"Periods\"].apply(lambda s: int(s[0:4]))\n",
    "    vk_data.drop(columns=vk_data.columns.to_list()[3:], inplace=True)\n",
    "    vk_data.rename(columns={\"TypesOfVehicle\":\"Vehicle Type\", \"Periods\":\"Year\", \"TotalKilometresInTheNetherlands_1\":\"vhkm\"}, inplace=True)\n",
    "    vk_data[\"vhkm\"] *= 1000000 # stored in milion km\n",
    "    return vk_data\n",
    "\n",
    "def load_ems_data(data_path, source_meta_path, emissions_meta_path):\n",
    "    ems_data = pd.read_csv(data_path, sep=\";\", index_col=\"ID\")\n",
    "    ems_source_meta = pd.read_csv(source_meta_path, sep=\";\", skiprows=1, index_col=\"Key\")\n",
    "    ems_emission_meta = pd.read_csv(emissions_meta_path, sep=\";\", skiprows=1, index_col=\"Key\")\n",
    "\n",
    "    sources = ems_data[\"Sources\"].array.copy()\n",
    "    emissions = ems_data[\"Emissions\"].array.copy()\n",
    "    for i in range(len(sources)):\n",
    "        sources[i] = ems_source_meta.loc[sources[i], \"Title\"]\n",
    "        emissions[i] = ems_emission_meta.loc[emissions[i], \"Title\"]\n",
    "\n",
    "    ems_data[\"Sources\"] = sources\n",
    "    ems_data[\"Emissions\"] = emissions\n",
    "    ems_data[\"Periods\"] = ems_data[\"Periods\"].apply(lambda s: int(s[0:4]))\n",
    "    ems_data.rename(columns={\"Emissions\":\"Emission Type\", \"Periods\":\"Year\", \"EmissionsDutchTerritory_1\":\"Emission\"}, inplace=True)\n",
    "    ems_data[\"Emission\"] *= 1000000 # stored in milion kg\n",
    "    return ems_data\n",
    "\n",
    "# print(vk_data[\"Vehicle Type\"].unique())\n",
    "# print()\n",
    "# print(ems_data[\"Sources\"].unique())\n",
    "# print()\n",
    "# print(ems_data[\"Emission Type\"].unique())"
   ]
  },
  {
   "cell_type": "markdown",
   "metadata": {},
   "source": [
    "#### Filter Data functions"
   ]
  },
  {
   "cell_type": "code",
   "execution_count": 15,
   "metadata": {},
   "outputs": [],
   "source": [
    "def getCategory(df, col_name, cat, sum_cat):\n",
    "    df = df.copy()\n",
    "    bools = np.zeros(len(df[col_name]), dtype=bool)\n",
    "    \n",
    "    for i in range(len(cat)):\n",
    "        bools = np.logical_or(bools, df[col_name] == cat[i])\n",
    "        \n",
    "    if sum_cat:\n",
    "        df = df[bools].groupby(\"Year\").sum()\n",
    "        df[\"Year\"] = df.index.array\n",
    "        df.index.names = [\"Not_Year\"]\n",
    "        return df\n",
    "    else:\n",
    "        return df[bools]"
   ]
  },
  {
   "cell_type": "markdown",
   "metadata": {},
   "source": [
    "#### Heatmaps"
   ]
  },
  {
   "cell_type": "code",
   "execution_count": 16,
   "metadata": {},
   "outputs": [],
   "source": [
    "def corr_heatmap(vehicle, emission, start_year=1990, end_year=2021):\n",
    "    vehicle_data_CO2 = vehicle_data[vehicle_data[\"Emission Type\"] == \"Carbon dioxide (CO2)\"]\n",
    "    vehicle_data_CO = vehicle_data[vehicle_data[\"Emission Type\"] == \"Carbon monoxide (CO)\"]\n",
    "    vehicle_data_NOx = vehicle_data[vehicle_data[\"Emission Type\"] == \"Nitrogen oxides (NOx)\"]\n",
    "    vehicle_data_PM10 = vehicle_data[vehicle_data[\"Emission Type\"] == \"PM10 (Particulate matter)\"]\n",
    "\n",
    "    vehicle_data_CO2 = vehicle_data_CO2[vehicle_data_CO2[\"Year\"] >= start_year]\n",
    "    vehicle_data_CO2 = vehicle_data_CO2[vehicle_data_CO2[\"Year\"] <= end_year]\n",
    "    vehicle_data_CO = vehicle_data_CO[vehicle_data_CO[\"Year\"] >= start_year]\n",
    "    vehicle_data_CO = vehicle_data_CO[vehicle_data_CO[\"Year\"] <= end_year]\n",
    "    vehicle_data_NOx = vehicle_data_NOx[vehicle_data_NOx[\"Year\"] >= start_year]\n",
    "    vehicle_data_NOx = vehicle_data_NOx[vehicle_data_NOx[\"Year\"] <= end_year]\n",
    "    vehicle_data_PM10 = vehicle_data_PM10[vehicle_data_PM10[\"Year\"] >= start_year]\n",
    "    vehicle_data_PM10 = vehicle_data_PM10[vehicle_data_PM10[\"Year\"] <= end_year]\n",
    "\n",
    "    car_data_CO2 = vehicle_data_CO2[vehicle_data_CO2[\"Sources\"] == \"Road traffic, passenger cars\"]\n",
    "    car_data_CO = vehicle_data_CO[vehicle_data_CO[\"Sources\"] == \"Road traffic, passenger cars\"]\n",
    "    car_data_NOx = vehicle_data_NOx[vehicle_data_NOx[\"Sources\"] == \"Road traffic, passenger cars\"]\n",
    "    car_data_PM10 = vehicle_data_PM10[vehicle_data_PM10[\"Sources\"] == \"Road traffic, passenger cars\"]\n",
    "    freight_data_CO2 = vehicle_data_CO2[vehicle_data_CO2[\"Sources\"] == \"Road traffic, freight vehicles\"]\n",
    "    freight_data_CO = vehicle_data_CO[vehicle_data_CO[\"Sources\"] == \"Road traffic, freight vehicles\"]\n",
    "    freight_data_NOx = vehicle_data_NOx[vehicle_data_NOx[\"Sources\"] == \"Road traffic, freight vehicles\"]\n",
    "    freight_data_PM10 = vehicle_data_PM10[vehicle_data_PM10[\"Sources\"] == \"Road traffic, freight vehicles\"]\n",
    "    \n",
    "    sns.heatmap(eval(f\"{vehicle}_data_{emission}\").corr(method=\"pearson\"), annot=True)"
   ]
  },
  {
   "cell_type": "markdown",
   "metadata": {},
   "source": [
    "#### Animation"
   ]
  },
  {
   "cell_type": "markdown",
   "metadata": {},
   "source": [
    "In this part, animations are provided to vividly illustrate the changes of emission per vehicle-kilometer during the 1990-2020 period. Because the 4 types of emission have different ranges, we separate the animations for CO2, CO together with NOx, and PM10. "
   ]
  },
  {
   "cell_type": "markdown",
   "metadata": {},
   "source": [
    "##### Emission of CO2 per vehicle-kilometer during 1990-2020"
   ]
  },
  {
   "cell_type": "code",
   "execution_count": 51,
   "metadata": {},
   "outputs": [
    {
     "data": {
      "application/vnd.plotly.v1+json": {
       "config": {
        "plotlyServerURL": "https://plot.ly"
       },
       "data": [
        {
         "alignmentgroup": "True",
         "hovertemplate": "Sources=%{y}<br>Year=2021<br>e/km=%{x}<extra></extra>",
         "ids": [
          "Road traffic, freight vehicles"
         ],
         "legendgroup": "Road traffic, freight vehicles",
         "marker": {
          "color": "#636efa",
          "pattern": {
           "shape": ""
          }
         },
         "name": "Road traffic, freight vehicles",
         "offsetgroup": "Road traffic, freight vehicles",
         "orientation": "h",
         "showlegend": true,
         "textposition": "auto",
         "type": "bar",
         "x": [
          null
         ],
         "xaxis": "x",
         "y": [
          "Road traffic, freight vehicles"
         ],
         "yaxis": "y"
        },
        {
         "alignmentgroup": "True",
         "hovertemplate": "Sources=%{y}<br>Year=2021<br>e/km=%{x}<extra></extra>",
         "ids": [
          "Road traffic, passenger cars"
         ],
         "legendgroup": "Road traffic, passenger cars",
         "marker": {
          "color": "#EF553B",
          "pattern": {
           "shape": ""
          }
         },
         "name": "Road traffic, passenger cars",
         "offsetgroup": "Road traffic, passenger cars",
         "orientation": "h",
         "showlegend": true,
         "textposition": "auto",
         "type": "bar",
         "x": [
          null
         ],
         "xaxis": "x",
         "y": [
          "Road traffic, passenger cars"
         ],
         "yaxis": "y"
        }
       ],
       "frames": [
        {
         "data": [
          {
           "alignmentgroup": "True",
           "hovertemplate": "Sources=%{y}<br>Year=1990<br>e/km=%{x}<extra></extra>",
           "ids": [
            "Road traffic, freight vehicles"
           ],
           "legendgroup": "Road traffic, freight vehicles",
           "marker": {
            "color": "#636efa",
            "pattern": {
             "shape": ""
            }
           },
           "name": "Road traffic, freight vehicles",
           "offsetgroup": "Road traffic, freight vehicles",
           "orientation": "h",
           "showlegend": true,
           "textposition": "auto",
           "type": "bar",
           "x": [
            0.5612169546595777
           ],
           "xaxis": "x",
           "y": [
            "Road traffic, freight vehicles"
           ],
           "yaxis": "y"
          },
          {
           "alignmentgroup": "True",
           "hovertemplate": "Sources=%{y}<br>Year=1990<br>e/km=%{x}<extra></extra>",
           "ids": [
            "Road traffic, passenger cars"
           ],
           "legendgroup": "Road traffic, passenger cars",
           "marker": {
            "color": "#EF553B",
            "pattern": {
             "shape": ""
            }
           },
           "name": "Road traffic, passenger cars",
           "offsetgroup": "Road traffic, passenger cars",
           "orientation": "h",
           "showlegend": true,
           "textposition": "auto",
           "type": "bar",
           "x": [
            0.18932222642938282
           ],
           "xaxis": "x",
           "y": [
            "Road traffic, passenger cars"
           ],
           "yaxis": "y"
          }
         ],
         "name": "1990"
        },
        {
         "data": [
          {
           "alignmentgroup": "True",
           "hovertemplate": "Sources=%{y}<br>Year=1991<br>e/km=%{x}<extra></extra>",
           "ids": [
            "Road traffic, freight vehicles"
           ],
           "legendgroup": "Road traffic, freight vehicles",
           "marker": {
            "color": "#636efa",
            "pattern": {
             "shape": ""
            }
           },
           "name": "Road traffic, freight vehicles",
           "offsetgroup": "Road traffic, freight vehicles",
           "orientation": "h",
           "showlegend": true,
           "textposition": "auto",
           "type": "bar",
           "x": [
            0.55002436816821
           ],
           "xaxis": "x",
           "y": [
            "Road traffic, freight vehicles"
           ],
           "yaxis": "y"
          },
          {
           "alignmentgroup": "True",
           "hovertemplate": "Sources=%{y}<br>Year=1991<br>e/km=%{x}<extra></extra>",
           "ids": [
            "Road traffic, passenger cars"
           ],
           "legendgroup": "Road traffic, passenger cars",
           "marker": {
            "color": "#EF553B",
            "pattern": {
             "shape": ""
            }
           },
           "name": "Road traffic, passenger cars",
           "offsetgroup": "Road traffic, passenger cars",
           "orientation": "h",
           "showlegend": true,
           "textposition": "auto",
           "type": "bar",
           "x": [
            0.1897392932827362
           ],
           "xaxis": "x",
           "y": [
            "Road traffic, passenger cars"
           ],
           "yaxis": "y"
          }
         ],
         "name": "1991"
        },
        {
         "data": [
          {
           "alignmentgroup": "True",
           "hovertemplate": "Sources=%{y}<br>Year=1992<br>e/km=%{x}<extra></extra>",
           "ids": [
            "Road traffic, freight vehicles"
           ],
           "legendgroup": "Road traffic, freight vehicles",
           "marker": {
            "color": "#636efa",
            "pattern": {
             "shape": ""
            }
           },
           "name": "Road traffic, freight vehicles",
           "offsetgroup": "Road traffic, freight vehicles",
           "orientation": "h",
           "showlegend": true,
           "textposition": "auto",
           "type": "bar",
           "x": [
            0.536741214057508
           ],
           "xaxis": "x",
           "y": [
            "Road traffic, freight vehicles"
           ],
           "yaxis": "y"
          },
          {
           "alignmentgroup": "True",
           "hovertemplate": "Sources=%{y}<br>Year=1992<br>e/km=%{x}<extra></extra>",
           "ids": [
            "Road traffic, passenger cars"
           ],
           "legendgroup": "Road traffic, passenger cars",
           "marker": {
            "color": "#EF553B",
            "pattern": {
             "shape": ""
            }
           },
           "name": "Road traffic, passenger cars",
           "offsetgroup": "Road traffic, passenger cars",
           "orientation": "h",
           "showlegend": true,
           "textposition": "auto",
           "type": "bar",
           "x": [
            0.1902488596885118
           ],
           "xaxis": "x",
           "y": [
            "Road traffic, passenger cars"
           ],
           "yaxis": "y"
          }
         ],
         "name": "1992"
        },
        {
         "data": [
          {
           "alignmentgroup": "True",
           "hovertemplate": "Sources=%{y}<br>Year=1993<br>e/km=%{x}<extra></extra>",
           "ids": [
            "Road traffic, freight vehicles"
           ],
           "legendgroup": "Road traffic, freight vehicles",
           "marker": {
            "color": "#636efa",
            "pattern": {
             "shape": ""
            }
           },
           "name": "Road traffic, freight vehicles",
           "offsetgroup": "Road traffic, freight vehicles",
           "orientation": "h",
           "showlegend": true,
           "textposition": "auto",
           "type": "bar",
           "x": [
            0.5129133478155926
           ],
           "xaxis": "x",
           "y": [
            "Road traffic, freight vehicles"
           ],
           "yaxis": "y"
          },
          {
           "alignmentgroup": "True",
           "hovertemplate": "Sources=%{y}<br>Year=1993<br>e/km=%{x}<extra></extra>",
           "ids": [
            "Road traffic, passenger cars"
           ],
           "legendgroup": "Road traffic, passenger cars",
           "marker": {
            "color": "#EF553B",
            "pattern": {
             "shape": ""
            }
           },
           "name": "Road traffic, passenger cars",
           "offsetgroup": "Road traffic, passenger cars",
           "orientation": "h",
           "showlegend": true,
           "textposition": "auto",
           "type": "bar",
           "x": [
            0.19033254327371973
           ],
           "xaxis": "x",
           "y": [
            "Road traffic, passenger cars"
           ],
           "yaxis": "y"
          }
         ],
         "name": "1993"
        },
        {
         "data": [
          {
           "alignmentgroup": "True",
           "hovertemplate": "Sources=%{y}<br>Year=1994<br>e/km=%{x}<extra></extra>",
           "ids": [
            "Road traffic, freight vehicles"
           ],
           "legendgroup": "Road traffic, freight vehicles",
           "marker": {
            "color": "#636efa",
            "pattern": {
             "shape": ""
            }
           },
           "name": "Road traffic, freight vehicles",
           "offsetgroup": "Road traffic, freight vehicles",
           "orientation": "h",
           "showlegend": true,
           "textposition": "auto",
           "type": "bar",
           "x": [
            0.5106025109629363
           ],
           "xaxis": "x",
           "y": [
            "Road traffic, freight vehicles"
           ],
           "yaxis": "y"
          },
          {
           "alignmentgroup": "True",
           "hovertemplate": "Sources=%{y}<br>Year=1994<br>e/km=%{x}<extra></extra>",
           "ids": [
            "Road traffic, passenger cars"
           ],
           "legendgroup": "Road traffic, passenger cars",
           "marker": {
            "color": "#EF553B",
            "pattern": {
             "shape": ""
            }
           },
           "name": "Road traffic, passenger cars",
           "offsetgroup": "Road traffic, passenger cars",
           "orientation": "h",
           "showlegend": true,
           "textposition": "auto",
           "type": "bar",
           "x": [
            0.19125618942576209
           ],
           "xaxis": "x",
           "y": [
            "Road traffic, passenger cars"
           ],
           "yaxis": "y"
          }
         ],
         "name": "1994"
        },
        {
         "data": [
          {
           "alignmentgroup": "True",
           "hovertemplate": "Sources=%{y}<br>Year=1995<br>e/km=%{x}<extra></extra>",
           "ids": [
            "Road traffic, freight vehicles"
           ],
           "legendgroup": "Road traffic, freight vehicles",
           "marker": {
            "color": "#636efa",
            "pattern": {
             "shape": ""
            }
           },
           "name": "Road traffic, freight vehicles",
           "offsetgroup": "Road traffic, freight vehicles",
           "orientation": "h",
           "showlegend": true,
           "textposition": "auto",
           "type": "bar",
           "x": [
            0.5086650499792985
           ],
           "xaxis": "x",
           "y": [
            "Road traffic, freight vehicles"
           ],
           "yaxis": "y"
          },
          {
           "alignmentgroup": "True",
           "hovertemplate": "Sources=%{y}<br>Year=1995<br>e/km=%{x}<extra></extra>",
           "ids": [
            "Road traffic, passenger cars"
           ],
           "legendgroup": "Road traffic, passenger cars",
           "marker": {
            "color": "#EF553B",
            "pattern": {
             "shape": ""
            }
           },
           "name": "Road traffic, passenger cars",
           "offsetgroup": "Road traffic, passenger cars",
           "orientation": "h",
           "showlegend": true,
           "textposition": "auto",
           "type": "bar",
           "x": [
            0.19132046772506892
           ],
           "xaxis": "x",
           "y": [
            "Road traffic, passenger cars"
           ],
           "yaxis": "y"
          }
         ],
         "name": "1995"
        },
        {
         "data": [
          {
           "alignmentgroup": "True",
           "hovertemplate": "Sources=%{y}<br>Year=1996<br>e/km=%{x}<extra></extra>",
           "ids": [
            "Road traffic, freight vehicles"
           ],
           "legendgroup": "Road traffic, freight vehicles",
           "marker": {
            "color": "#636efa",
            "pattern": {
             "shape": ""
            }
           },
           "name": "Road traffic, freight vehicles",
           "offsetgroup": "Road traffic, freight vehicles",
           "orientation": "h",
           "showlegend": true,
           "textposition": "auto",
           "type": "bar",
           "x": [
            0.4997094712376525
           ],
           "xaxis": "x",
           "y": [
            "Road traffic, freight vehicles"
           ],
           "yaxis": "y"
          },
          {
           "alignmentgroup": "True",
           "hovertemplate": "Sources=%{y}<br>Year=1996<br>e/km=%{x}<extra></extra>",
           "ids": [
            "Road traffic, passenger cars"
           ],
           "legendgroup": "Road traffic, passenger cars",
           "marker": {
            "color": "#EF553B",
            "pattern": {
             "shape": ""
            }
           },
           "name": "Road traffic, passenger cars",
           "offsetgroup": "Road traffic, passenger cars",
           "orientation": "h",
           "showlegend": true,
           "textposition": "auto",
           "type": "bar",
           "x": [
            0.19074813055129722
           ],
           "xaxis": "x",
           "y": [
            "Road traffic, passenger cars"
           ],
           "yaxis": "y"
          }
         ],
         "name": "1996"
        },
        {
         "data": [
          {
           "alignmentgroup": "True",
           "hovertemplate": "Sources=%{y}<br>Year=1997<br>e/km=%{x}<extra></extra>",
           "ids": [
            "Road traffic, freight vehicles"
           ],
           "legendgroup": "Road traffic, freight vehicles",
           "marker": {
            "color": "#636efa",
            "pattern": {
             "shape": ""
            }
           },
           "name": "Road traffic, freight vehicles",
           "offsetgroup": "Road traffic, freight vehicles",
           "orientation": "h",
           "showlegend": true,
           "textposition": "auto",
           "type": "bar",
           "x": [
            0.4868333702146493
           ],
           "xaxis": "x",
           "y": [
            "Road traffic, freight vehicles"
           ],
           "yaxis": "y"
          },
          {
           "alignmentgroup": "True",
           "hovertemplate": "Sources=%{y}<br>Year=1997<br>e/km=%{x}<extra></extra>",
           "ids": [
            "Road traffic, passenger cars"
           ],
           "legendgroup": "Road traffic, passenger cars",
           "marker": {
            "color": "#EF553B",
            "pattern": {
             "shape": ""
            }
           },
           "name": "Road traffic, passenger cars",
           "offsetgroup": "Road traffic, passenger cars",
           "orientation": "h",
           "showlegend": true,
           "textposition": "auto",
           "type": "bar",
           "x": [
            0.19139084991289998
           ],
           "xaxis": "x",
           "y": [
            "Road traffic, passenger cars"
           ],
           "yaxis": "y"
          }
         ],
         "name": "1997"
        },
        {
         "data": [
          {
           "alignmentgroup": "True",
           "hovertemplate": "Sources=%{y}<br>Year=1998<br>e/km=%{x}<extra></extra>",
           "ids": [
            "Road traffic, freight vehicles"
           ],
           "legendgroup": "Road traffic, freight vehicles",
           "marker": {
            "color": "#636efa",
            "pattern": {
             "shape": ""
            }
           },
           "name": "Road traffic, freight vehicles",
           "offsetgroup": "Road traffic, freight vehicles",
           "orientation": "h",
           "showlegend": true,
           "textposition": "auto",
           "type": "bar",
           "x": [
            0.47420531526836895
           ],
           "xaxis": "x",
           "y": [
            "Road traffic, freight vehicles"
           ],
           "yaxis": "y"
          },
          {
           "alignmentgroup": "True",
           "hovertemplate": "Sources=%{y}<br>Year=1998<br>e/km=%{x}<extra></extra>",
           "ids": [
            "Road traffic, passenger cars"
           ],
           "legendgroup": "Road traffic, passenger cars",
           "marker": {
            "color": "#EF553B",
            "pattern": {
             "shape": ""
            }
           },
           "name": "Road traffic, passenger cars",
           "offsetgroup": "Road traffic, passenger cars",
           "orientation": "h",
           "showlegend": true,
           "textposition": "auto",
           "type": "bar",
           "x": [
            0.1905615962336061
           ],
           "xaxis": "x",
           "y": [
            "Road traffic, passenger cars"
           ],
           "yaxis": "y"
          }
         ],
         "name": "1998"
        },
        {
         "data": [
          {
           "alignmentgroup": "True",
           "hovertemplate": "Sources=%{y}<br>Year=1999<br>e/km=%{x}<extra></extra>",
           "ids": [
            "Road traffic, freight vehicles"
           ],
           "legendgroup": "Road traffic, freight vehicles",
           "marker": {
            "color": "#636efa",
            "pattern": {
             "shape": ""
            }
           },
           "name": "Road traffic, freight vehicles",
           "offsetgroup": "Road traffic, freight vehicles",
           "orientation": "h",
           "showlegend": true,
           "textposition": "auto",
           "type": "bar",
           "x": [
            0.46901172529313234
           ],
           "xaxis": "x",
           "y": [
            "Road traffic, freight vehicles"
           ],
           "yaxis": "y"
          },
          {
           "alignmentgroup": "True",
           "hovertemplate": "Sources=%{y}<br>Year=1999<br>e/km=%{x}<extra></extra>",
           "ids": [
            "Road traffic, passenger cars"
           ],
           "legendgroup": "Road traffic, passenger cars",
           "marker": {
            "color": "#EF553B",
            "pattern": {
             "shape": ""
            }
           },
           "name": "Road traffic, passenger cars",
           "offsetgroup": "Road traffic, passenger cars",
           "orientation": "h",
           "showlegend": true,
           "textposition": "auto",
           "type": "bar",
           "x": [
            0.19120045801691637
           ],
           "xaxis": "x",
           "y": [
            "Road traffic, passenger cars"
           ],
           "yaxis": "y"
          }
         ],
         "name": "1999"
        },
        {
         "data": [
          {
           "alignmentgroup": "True",
           "hovertemplate": "Sources=%{y}<br>Year=2000<br>e/km=%{x}<extra></extra>",
           "ids": [
            "Road traffic, freight vehicles"
           ],
           "legendgroup": "Road traffic, freight vehicles",
           "marker": {
            "color": "#636efa",
            "pattern": {
             "shape": ""
            }
           },
           "name": "Road traffic, freight vehicles",
           "offsetgroup": "Road traffic, freight vehicles",
           "orientation": "h",
           "showlegend": true,
           "textposition": "auto",
           "type": "bar",
           "x": [
            0.43859649122807015
           ],
           "xaxis": "x",
           "y": [
            "Road traffic, freight vehicles"
           ],
           "yaxis": "y"
          },
          {
           "alignmentgroup": "True",
           "hovertemplate": "Sources=%{y}<br>Year=2000<br>e/km=%{x}<extra></extra>",
           "ids": [
            "Road traffic, passenger cars"
           ],
           "legendgroup": "Road traffic, passenger cars",
           "marker": {
            "color": "#EF553B",
            "pattern": {
             "shape": ""
            }
           },
           "name": "Road traffic, passenger cars",
           "offsetgroup": "Road traffic, passenger cars",
           "orientation": "h",
           "showlegend": true,
           "textposition": "auto",
           "type": "bar",
           "x": [
            0.19099122298761775
           ],
           "xaxis": "x",
           "y": [
            "Road traffic, passenger cars"
           ],
           "yaxis": "y"
          }
         ],
         "name": "2000"
        },
        {
         "data": [
          {
           "alignmentgroup": "True",
           "hovertemplate": "Sources=%{y}<br>Year=2001<br>e/km=%{x}<extra></extra>",
           "ids": [
            "Road traffic, freight vehicles"
           ],
           "legendgroup": "Road traffic, freight vehicles",
           "marker": {
            "color": "#636efa",
            "pattern": {
             "shape": ""
            }
           },
           "name": "Road traffic, freight vehicles",
           "offsetgroup": "Road traffic, freight vehicles",
           "orientation": "h",
           "showlegend": true,
           "textposition": "auto",
           "type": "bar",
           "x": [
            0.42625375146796574
           ],
           "xaxis": "x",
           "y": [
            "Road traffic, freight vehicles"
           ],
           "yaxis": "y"
          },
          {
           "alignmentgroup": "True",
           "hovertemplate": "Sources=%{y}<br>Year=2001<br>e/km=%{x}<extra></extra>",
           "ids": [
            "Road traffic, passenger cars"
           ],
           "legendgroup": "Road traffic, passenger cars",
           "marker": {
            "color": "#EF553B",
            "pattern": {
             "shape": ""
            }
           },
           "name": "Road traffic, passenger cars",
           "offsetgroup": "Road traffic, passenger cars",
           "orientation": "h",
           "showlegend": true,
           "textposition": "auto",
           "type": "bar",
           "x": [
            0.19095549888184946
           ],
           "xaxis": "x",
           "y": [
            "Road traffic, passenger cars"
           ],
           "yaxis": "y"
          }
         ],
         "name": "2001"
        },
        {
         "data": [
          {
           "alignmentgroup": "True",
           "hovertemplate": "Sources=%{y}<br>Year=2002<br>e/km=%{x}<extra></extra>",
           "ids": [
            "Road traffic, freight vehicles"
           ],
           "legendgroup": "Road traffic, freight vehicles",
           "marker": {
            "color": "#636efa",
            "pattern": {
             "shape": ""
            }
           },
           "name": "Road traffic, freight vehicles",
           "offsetgroup": "Road traffic, freight vehicles",
           "orientation": "h",
           "showlegend": true,
           "textposition": "auto",
           "type": "bar",
           "x": [
            0.42215176786821973
           ],
           "xaxis": "x",
           "y": [
            "Road traffic, freight vehicles"
           ],
           "yaxis": "y"
          },
          {
           "alignmentgroup": "True",
           "hovertemplate": "Sources=%{y}<br>Year=2002<br>e/km=%{x}<extra></extra>",
           "ids": [
            "Road traffic, passenger cars"
           ],
           "legendgroup": "Road traffic, passenger cars",
           "marker": {
            "color": "#EF553B",
            "pattern": {
             "shape": ""
            }
           },
           "name": "Road traffic, passenger cars",
           "offsetgroup": "Road traffic, passenger cars",
           "orientation": "h",
           "showlegend": true,
           "textposition": "auto",
           "type": "bar",
           "x": [
            0.1911604896201932
           ],
           "xaxis": "x",
           "y": [
            "Road traffic, passenger cars"
           ],
           "yaxis": "y"
          }
         ],
         "name": "2002"
        },
        {
         "data": [
          {
           "alignmentgroup": "True",
           "hovertemplate": "Sources=%{y}<br>Year=2003<br>e/km=%{x}<extra></extra>",
           "ids": [
            "Road traffic, freight vehicles"
           ],
           "legendgroup": "Road traffic, freight vehicles",
           "marker": {
            "color": "#636efa",
            "pattern": {
             "shape": ""
            }
           },
           "name": "Road traffic, freight vehicles",
           "offsetgroup": "Road traffic, freight vehicles",
           "orientation": "h",
           "showlegend": true,
           "textposition": "auto",
           "type": "bar",
           "x": [
            0.4191327761830975
           ],
           "xaxis": "x",
           "y": [
            "Road traffic, freight vehicles"
           ],
           "yaxis": "y"
          },
          {
           "alignmentgroup": "True",
           "hovertemplate": "Sources=%{y}<br>Year=2003<br>e/km=%{x}<extra></extra>",
           "ids": [
            "Road traffic, passenger cars"
           ],
           "legendgroup": "Road traffic, passenger cars",
           "marker": {
            "color": "#EF553B",
            "pattern": {
             "shape": ""
            }
           },
           "name": "Road traffic, passenger cars",
           "offsetgroup": "Road traffic, passenger cars",
           "orientation": "h",
           "showlegend": true,
           "textposition": "auto",
           "type": "bar",
           "x": [
            0.1909370595487521
           ],
           "xaxis": "x",
           "y": [
            "Road traffic, passenger cars"
           ],
           "yaxis": "y"
          }
         ],
         "name": "2003"
        },
        {
         "data": [
          {
           "alignmentgroup": "True",
           "hovertemplate": "Sources=%{y}<br>Year=2004<br>e/km=%{x}<extra></extra>",
           "ids": [
            "Road traffic, freight vehicles"
           ],
           "legendgroup": "Road traffic, freight vehicles",
           "marker": {
            "color": "#636efa",
            "pattern": {
             "shape": ""
            }
           },
           "name": "Road traffic, freight vehicles",
           "offsetgroup": "Road traffic, freight vehicles",
           "orientation": "h",
           "showlegend": true,
           "textposition": "auto",
           "type": "bar",
           "x": [
            0.41383435972449284
           ],
           "xaxis": "x",
           "y": [
            "Road traffic, freight vehicles"
           ],
           "yaxis": "y"
          },
          {
           "alignmentgroup": "True",
           "hovertemplate": "Sources=%{y}<br>Year=2004<br>e/km=%{x}<extra></extra>",
           "ids": [
            "Road traffic, passenger cars"
           ],
           "legendgroup": "Road traffic, passenger cars",
           "marker": {
            "color": "#EF553B",
            "pattern": {
             "shape": ""
            }
           },
           "name": "Road traffic, passenger cars",
           "offsetgroup": "Road traffic, passenger cars",
           "orientation": "h",
           "showlegend": true,
           "textposition": "auto",
           "type": "bar",
           "x": [
            0.19111486003087855
           ],
           "xaxis": "x",
           "y": [
            "Road traffic, passenger cars"
           ],
           "yaxis": "y"
          }
         ],
         "name": "2004"
        },
        {
         "data": [
          {
           "alignmentgroup": "True",
           "hovertemplate": "Sources=%{y}<br>Year=2005<br>e/km=%{x}<extra></extra>",
           "ids": [
            "Road traffic, freight vehicles"
           ],
           "legendgroup": "Road traffic, freight vehicles",
           "marker": {
            "color": "#636efa",
            "pattern": {
             "shape": ""
            }
           },
           "name": "Road traffic, freight vehicles",
           "offsetgroup": "Road traffic, freight vehicles",
           "orientation": "h",
           "showlegend": true,
           "textposition": "auto",
           "type": "bar",
           "x": [
            0.4128568479593943
           ],
           "xaxis": "x",
           "y": [
            "Road traffic, freight vehicles"
           ],
           "yaxis": "y"
          },
          {
           "alignmentgroup": "True",
           "hovertemplate": "Sources=%{y}<br>Year=2005<br>e/km=%{x}<extra></extra>",
           "ids": [
            "Road traffic, passenger cars"
           ],
           "legendgroup": "Road traffic, passenger cars",
           "marker": {
            "color": "#EF553B",
            "pattern": {
             "shape": ""
            }
           },
           "name": "Road traffic, passenger cars",
           "offsetgroup": "Road traffic, passenger cars",
           "orientation": "h",
           "showlegend": true,
           "textposition": "auto",
           "type": "bar",
           "x": [
            0.18893617876578447
           ],
           "xaxis": "x",
           "y": [
            "Road traffic, passenger cars"
           ],
           "yaxis": "y"
          }
         ],
         "name": "2005"
        },
        {
         "data": [
          {
           "alignmentgroup": "True",
           "hovertemplate": "Sources=%{y}<br>Year=2006<br>e/km=%{x}<extra></extra>",
           "ids": [
            "Road traffic, freight vehicles"
           ],
           "legendgroup": "Road traffic, freight vehicles",
           "marker": {
            "color": "#636efa",
            "pattern": {
             "shape": ""
            }
           },
           "name": "Road traffic, freight vehicles",
           "offsetgroup": "Road traffic, freight vehicles",
           "orientation": "h",
           "showlegend": true,
           "textposition": "auto",
           "type": "bar",
           "x": [
            0.4215015372409005
           ],
           "xaxis": "x",
           "y": [
            "Road traffic, freight vehicles"
           ],
           "yaxis": "y"
          },
          {
           "alignmentgroup": "True",
           "hovertemplate": "Sources=%{y}<br>Year=2006<br>e/km=%{x}<extra></extra>",
           "ids": [
            "Road traffic, passenger cars"
           ],
           "legendgroup": "Road traffic, passenger cars",
           "marker": {
            "color": "#EF553B",
            "pattern": {
             "shape": ""
            }
           },
           "name": "Road traffic, passenger cars",
           "offsetgroup": "Road traffic, passenger cars",
           "orientation": "h",
           "showlegend": true,
           "textposition": "auto",
           "type": "bar",
           "x": [
            0.18712369971423823
           ],
           "xaxis": "x",
           "y": [
            "Road traffic, passenger cars"
           ],
           "yaxis": "y"
          }
         ],
         "name": "2006"
        },
        {
         "data": [
          {
           "alignmentgroup": "True",
           "hovertemplate": "Sources=%{y}<br>Year=2007<br>e/km=%{x}<extra></extra>",
           "ids": [
            "Road traffic, freight vehicles"
           ],
           "legendgroup": "Road traffic, freight vehicles",
           "marker": {
            "color": "#636efa",
            "pattern": {
             "shape": ""
            }
           },
           "name": "Road traffic, freight vehicles",
           "offsetgroup": "Road traffic, freight vehicles",
           "orientation": "h",
           "showlegend": true,
           "textposition": "auto",
           "type": "bar",
           "x": [
            0.41690952658506575
           ],
           "xaxis": "x",
           "y": [
            "Road traffic, freight vehicles"
           ],
           "yaxis": "y"
          },
          {
           "alignmentgroup": "True",
           "hovertemplate": "Sources=%{y}<br>Year=2007<br>e/km=%{x}<extra></extra>",
           "ids": [
            "Road traffic, passenger cars"
           ],
           "legendgroup": "Road traffic, passenger cars",
           "marker": {
            "color": "#EF553B",
            "pattern": {
             "shape": ""
            }
           },
           "name": "Road traffic, passenger cars",
           "offsetgroup": "Road traffic, passenger cars",
           "orientation": "h",
           "showlegend": true,
           "textposition": "auto",
           "type": "bar",
           "x": [
            0.18196332558521752
           ],
           "xaxis": "x",
           "y": [
            "Road traffic, passenger cars"
           ],
           "yaxis": "y"
          }
         ],
         "name": "2007"
        },
        {
         "data": [
          {
           "alignmentgroup": "True",
           "hovertemplate": "Sources=%{y}<br>Year=2008<br>e/km=%{x}<extra></extra>",
           "ids": [
            "Road traffic, freight vehicles"
           ],
           "legendgroup": "Road traffic, freight vehicles",
           "marker": {
            "color": "#636efa",
            "pattern": {
             "shape": ""
            }
           },
           "name": "Road traffic, freight vehicles",
           "offsetgroup": "Road traffic, freight vehicles",
           "orientation": "h",
           "showlegend": true,
           "textposition": "auto",
           "type": "bar",
           "x": [
            0.42108608429666705
           ],
           "xaxis": "x",
           "y": [
            "Road traffic, freight vehicles"
           ],
           "yaxis": "y"
          },
          {
           "alignmentgroup": "True",
           "hovertemplate": "Sources=%{y}<br>Year=2008<br>e/km=%{x}<extra></extra>",
           "ids": [
            "Road traffic, passenger cars"
           ],
           "legendgroup": "Road traffic, passenger cars",
           "marker": {
            "color": "#EF553B",
            "pattern": {
             "shape": ""
            }
           },
           "name": "Road traffic, passenger cars",
           "offsetgroup": "Road traffic, passenger cars",
           "orientation": "h",
           "showlegend": true,
           "textposition": "auto",
           "type": "bar",
           "x": [
            0.18074038372269882
           ],
           "xaxis": "x",
           "y": [
            "Road traffic, passenger cars"
           ],
           "yaxis": "y"
          }
         ],
         "name": "2008"
        },
        {
         "data": [
          {
           "alignmentgroup": "True",
           "hovertemplate": "Sources=%{y}<br>Year=2009<br>e/km=%{x}<extra></extra>",
           "ids": [
            "Road traffic, freight vehicles"
           ],
           "legendgroup": "Road traffic, freight vehicles",
           "marker": {
            "color": "#636efa",
            "pattern": {
             "shape": ""
            }
           },
           "name": "Road traffic, freight vehicles",
           "offsetgroup": "Road traffic, freight vehicles",
           "orientation": "h",
           "showlegend": true,
           "textposition": "auto",
           "type": "bar",
           "x": [
            0.42217044319777874
           ],
           "xaxis": "x",
           "y": [
            "Road traffic, freight vehicles"
           ],
           "yaxis": "y"
          },
          {
           "alignmentgroup": "True",
           "hovertemplate": "Sources=%{y}<br>Year=2009<br>e/km=%{x}<extra></extra>",
           "ids": [
            "Road traffic, passenger cars"
           ],
           "legendgroup": "Road traffic, passenger cars",
           "marker": {
            "color": "#EF553B",
            "pattern": {
             "shape": ""
            }
           },
           "name": "Road traffic, passenger cars",
           "offsetgroup": "Road traffic, passenger cars",
           "orientation": "h",
           "showlegend": true,
           "textposition": "auto",
           "type": "bar",
           "x": [
            0.17830052997616092
           ],
           "xaxis": "x",
           "y": [
            "Road traffic, passenger cars"
           ],
           "yaxis": "y"
          }
         ],
         "name": "2009"
        },
        {
         "data": [
          {
           "alignmentgroup": "True",
           "hovertemplate": "Sources=%{y}<br>Year=2010<br>e/km=%{x}<extra></extra>",
           "ids": [
            "Road traffic, freight vehicles"
           ],
           "legendgroup": "Road traffic, freight vehicles",
           "marker": {
            "color": "#636efa",
            "pattern": {
             "shape": ""
            }
           },
           "name": "Road traffic, freight vehicles",
           "offsetgroup": "Road traffic, freight vehicles",
           "orientation": "h",
           "showlegend": true,
           "textposition": "auto",
           "type": "bar",
           "x": [
            0.42483313044828064
           ],
           "xaxis": "x",
           "y": [
            "Road traffic, freight vehicles"
           ],
           "yaxis": "y"
          },
          {
           "alignmentgroup": "True",
           "hovertemplate": "Sources=%{y}<br>Year=2010<br>e/km=%{x}<extra></extra>",
           "ids": [
            "Road traffic, passenger cars"
           ],
           "legendgroup": "Road traffic, passenger cars",
           "marker": {
            "color": "#EF553B",
            "pattern": {
             "shape": ""
            }
           },
           "name": "Road traffic, passenger cars",
           "offsetgroup": "Road traffic, passenger cars",
           "orientation": "h",
           "showlegend": true,
           "textposition": "auto",
           "type": "bar",
           "x": [
            0.17594000836692483
           ],
           "xaxis": "x",
           "y": [
            "Road traffic, passenger cars"
           ],
           "yaxis": "y"
          }
         ],
         "name": "2010"
        },
        {
         "data": [
          {
           "alignmentgroup": "True",
           "hovertemplate": "Sources=%{y}<br>Year=2011<br>e/km=%{x}<extra></extra>",
           "ids": [
            "Road traffic, freight vehicles"
           ],
           "legendgroup": "Road traffic, freight vehicles",
           "marker": {
            "color": "#636efa",
            "pattern": {
             "shape": ""
            }
           },
           "name": "Road traffic, freight vehicles",
           "offsetgroup": "Road traffic, freight vehicles",
           "orientation": "h",
           "showlegend": true,
           "textposition": "auto",
           "type": "bar",
           "x": [
            0.41788722837330156
           ],
           "xaxis": "x",
           "y": [
            "Road traffic, freight vehicles"
           ],
           "yaxis": "y"
          },
          {
           "alignmentgroup": "True",
           "hovertemplate": "Sources=%{y}<br>Year=2011<br>e/km=%{x}<extra></extra>",
           "ids": [
            "Road traffic, passenger cars"
           ],
           "legendgroup": "Road traffic, passenger cars",
           "marker": {
            "color": "#EF553B",
            "pattern": {
             "shape": ""
            }
           },
           "name": "Road traffic, passenger cars",
           "offsetgroup": "Road traffic, passenger cars",
           "orientation": "h",
           "showlegend": true,
           "textposition": "auto",
           "type": "bar",
           "x": [
            0.1738600028750034
           ],
           "xaxis": "x",
           "y": [
            "Road traffic, passenger cars"
           ],
           "yaxis": "y"
          }
         ],
         "name": "2011"
        },
        {
         "data": [
          {
           "alignmentgroup": "True",
           "hovertemplate": "Sources=%{y}<br>Year=2012<br>e/km=%{x}<extra></extra>",
           "ids": [
            "Road traffic, freight vehicles"
           ],
           "legendgroup": "Road traffic, freight vehicles",
           "marker": {
            "color": "#636efa",
            "pattern": {
             "shape": ""
            }
           },
           "name": "Road traffic, freight vehicles",
           "offsetgroup": "Road traffic, freight vehicles",
           "orientation": "h",
           "showlegend": true,
           "textposition": "auto",
           "type": "bar",
           "x": [
            0.4184825568861516
           ],
           "xaxis": "x",
           "y": [
            "Road traffic, freight vehicles"
           ],
           "yaxis": "y"
          },
          {
           "alignmentgroup": "True",
           "hovertemplate": "Sources=%{y}<br>Year=2012<br>e/km=%{x}<extra></extra>",
           "ids": [
            "Road traffic, passenger cars"
           ],
           "legendgroup": "Road traffic, passenger cars",
           "marker": {
            "color": "#EF553B",
            "pattern": {
             "shape": ""
            }
           },
           "name": "Road traffic, passenger cars",
           "offsetgroup": "Road traffic, passenger cars",
           "orientation": "h",
           "showlegend": true,
           "textposition": "auto",
           "type": "bar",
           "x": [
            0.17067146615516945
           ],
           "xaxis": "x",
           "y": [
            "Road traffic, passenger cars"
           ],
           "yaxis": "y"
          }
         ],
         "name": "2012"
        },
        {
         "data": [
          {
           "alignmentgroup": "True",
           "hovertemplate": "Sources=%{y}<br>Year=2013<br>e/km=%{x}<extra></extra>",
           "ids": [
            "Road traffic, freight vehicles"
           ],
           "legendgroup": "Road traffic, freight vehicles",
           "marker": {
            "color": "#636efa",
            "pattern": {
             "shape": ""
            }
           },
           "name": "Road traffic, freight vehicles",
           "offsetgroup": "Road traffic, freight vehicles",
           "orientation": "h",
           "showlegend": true,
           "textposition": "auto",
           "type": "bar",
           "x": [
            0.4143676531524655
           ],
           "xaxis": "x",
           "y": [
            "Road traffic, freight vehicles"
           ],
           "yaxis": "y"
          },
          {
           "alignmentgroup": "True",
           "hovertemplate": "Sources=%{y}<br>Year=2013<br>e/km=%{x}<extra></extra>",
           "ids": [
            "Road traffic, passenger cars"
           ],
           "legendgroup": "Road traffic, passenger cars",
           "marker": {
            "color": "#EF553B",
            "pattern": {
             "shape": ""
            }
           },
           "name": "Road traffic, passenger cars",
           "offsetgroup": "Road traffic, passenger cars",
           "orientation": "h",
           "showlegend": true,
           "textposition": "auto",
           "type": "bar",
           "x": [
            0.16858635496922814
           ],
           "xaxis": "x",
           "y": [
            "Road traffic, passenger cars"
           ],
           "yaxis": "y"
          }
         ],
         "name": "2013"
        },
        {
         "data": [
          {
           "alignmentgroup": "True",
           "hovertemplate": "Sources=%{y}<br>Year=2014<br>e/km=%{x}<extra></extra>",
           "ids": [
            "Road traffic, freight vehicles"
           ],
           "legendgroup": "Road traffic, freight vehicles",
           "marker": {
            "color": "#636efa",
            "pattern": {
             "shape": ""
            }
           },
           "name": "Road traffic, freight vehicles",
           "offsetgroup": "Road traffic, freight vehicles",
           "orientation": "h",
           "showlegend": true,
           "textposition": "auto",
           "type": "bar",
           "x": [
            0.41020091116968355
           ],
           "xaxis": "x",
           "y": [
            "Road traffic, freight vehicles"
           ],
           "yaxis": "y"
          },
          {
           "alignmentgroup": "True",
           "hovertemplate": "Sources=%{y}<br>Year=2014<br>e/km=%{x}<extra></extra>",
           "ids": [
            "Road traffic, passenger cars"
           ],
           "legendgroup": "Road traffic, passenger cars",
           "marker": {
            "color": "#EF553B",
            "pattern": {
             "shape": ""
            }
           },
           "name": "Road traffic, passenger cars",
           "offsetgroup": "Road traffic, passenger cars",
           "orientation": "h",
           "showlegend": true,
           "textposition": "auto",
           "type": "bar",
           "x": [
            0.1658645060564653
           ],
           "xaxis": "x",
           "y": [
            "Road traffic, passenger cars"
           ],
           "yaxis": "y"
          }
         ],
         "name": "2014"
        },
        {
         "data": [
          {
           "alignmentgroup": "True",
           "hovertemplate": "Sources=%{y}<br>Year=2015<br>e/km=%{x}<extra></extra>",
           "ids": [
            "Road traffic, freight vehicles"
           ],
           "legendgroup": "Road traffic, freight vehicles",
           "marker": {
            "color": "#636efa",
            "pattern": {
             "shape": ""
            }
           },
           "name": "Road traffic, freight vehicles",
           "offsetgroup": "Road traffic, freight vehicles",
           "orientation": "h",
           "showlegend": true,
           "textposition": "auto",
           "type": "bar",
           "x": [
            0.4175952479365255
           ],
           "xaxis": "x",
           "y": [
            "Road traffic, freight vehicles"
           ],
           "yaxis": "y"
          },
          {
           "alignmentgroup": "True",
           "hovertemplate": "Sources=%{y}<br>Year=2015<br>e/km=%{x}<extra></extra>",
           "ids": [
            "Road traffic, passenger cars"
           ],
           "legendgroup": "Road traffic, passenger cars",
           "marker": {
            "color": "#EF553B",
            "pattern": {
             "shape": ""
            }
           },
           "name": "Road traffic, passenger cars",
           "offsetgroup": "Road traffic, passenger cars",
           "orientation": "h",
           "showlegend": true,
           "textposition": "auto",
           "type": "bar",
           "x": [
            0.16462252435794836
           ],
           "xaxis": "x",
           "y": [
            "Road traffic, passenger cars"
           ],
           "yaxis": "y"
          }
         ],
         "name": "2015"
        },
        {
         "data": [
          {
           "alignmentgroup": "True",
           "hovertemplate": "Sources=%{y}<br>Year=2016<br>e/km=%{x}<extra></extra>",
           "ids": [
            "Road traffic, freight vehicles"
           ],
           "legendgroup": "Road traffic, freight vehicles",
           "marker": {
            "color": "#636efa",
            "pattern": {
             "shape": ""
            }
           },
           "name": "Road traffic, freight vehicles",
           "offsetgroup": "Road traffic, freight vehicles",
           "orientation": "h",
           "showlegend": true,
           "textposition": "auto",
           "type": "bar",
           "x": [
            0.41674838203569325
           ],
           "xaxis": "x",
           "y": [
            "Road traffic, freight vehicles"
           ],
           "yaxis": "y"
          },
          {
           "alignmentgroup": "True",
           "hovertemplate": "Sources=%{y}<br>Year=2016<br>e/km=%{x}<extra></extra>",
           "ids": [
            "Road traffic, passenger cars"
           ],
           "legendgroup": "Road traffic, passenger cars",
           "marker": {
            "color": "#EF553B",
            "pattern": {
             "shape": ""
            }
           },
           "name": "Road traffic, passenger cars",
           "offsetgroup": "Road traffic, passenger cars",
           "orientation": "h",
           "showlegend": true,
           "textposition": "auto",
           "type": "bar",
           "x": [
            0.16340460930979192
           ],
           "xaxis": "x",
           "y": [
            "Road traffic, passenger cars"
           ],
           "yaxis": "y"
          }
         ],
         "name": "2016"
        },
        {
         "data": [
          {
           "alignmentgroup": "True",
           "hovertemplate": "Sources=%{y}<br>Year=2017<br>e/km=%{x}<extra></extra>",
           "ids": [
            "Road traffic, freight vehicles"
           ],
           "legendgroup": "Road traffic, freight vehicles",
           "marker": {
            "color": "#636efa",
            "pattern": {
             "shape": ""
            }
           },
           "name": "Road traffic, freight vehicles",
           "offsetgroup": "Road traffic, freight vehicles",
           "orientation": "h",
           "showlegend": true,
           "textposition": "auto",
           "type": "bar",
           "x": [
            0.4140242761541922
           ],
           "xaxis": "x",
           "y": [
            "Road traffic, freight vehicles"
           ],
           "yaxis": "y"
          },
          {
           "alignmentgroup": "True",
           "hovertemplate": "Sources=%{y}<br>Year=2017<br>e/km=%{x}<extra></extra>",
           "ids": [
            "Road traffic, passenger cars"
           ],
           "legendgroup": "Road traffic, passenger cars",
           "marker": {
            "color": "#EF553B",
            "pattern": {
             "shape": ""
            }
           },
           "name": "Road traffic, passenger cars",
           "offsetgroup": "Road traffic, passenger cars",
           "orientation": "h",
           "showlegend": true,
           "textposition": "auto",
           "type": "bar",
           "x": [
            0.16248057347380712
           ],
           "xaxis": "x",
           "y": [
            "Road traffic, passenger cars"
           ],
           "yaxis": "y"
          }
         ],
         "name": "2017"
        },
        {
         "data": [
          {
           "alignmentgroup": "True",
           "hovertemplate": "Sources=%{y}<br>Year=2018<br>e/km=%{x}<extra></extra>",
           "ids": [
            "Road traffic, freight vehicles"
           ],
           "legendgroup": "Road traffic, freight vehicles",
           "marker": {
            "color": "#636efa",
            "pattern": {
             "shape": ""
            }
           },
           "name": "Road traffic, freight vehicles",
           "offsetgroup": "Road traffic, freight vehicles",
           "orientation": "h",
           "showlegend": true,
           "textposition": "auto",
           "type": "bar",
           "x": [
            0.41266652651577085
           ],
           "xaxis": "x",
           "y": [
            "Road traffic, freight vehicles"
           ],
           "yaxis": "y"
          },
          {
           "alignmentgroup": "True",
           "hovertemplate": "Sources=%{y}<br>Year=2018<br>e/km=%{x}<extra></extra>",
           "ids": [
            "Road traffic, passenger cars"
           ],
           "legendgroup": "Road traffic, passenger cars",
           "marker": {
            "color": "#EF553B",
            "pattern": {
             "shape": ""
            }
           },
           "name": "Road traffic, passenger cars",
           "offsetgroup": "Road traffic, passenger cars",
           "orientation": "h",
           "showlegend": true,
           "textposition": "auto",
           "type": "bar",
           "x": [
            0.16129631492289945
           ],
           "xaxis": "x",
           "y": [
            "Road traffic, passenger cars"
           ],
           "yaxis": "y"
          }
         ],
         "name": "2018"
        },
        {
         "data": [
          {
           "alignmentgroup": "True",
           "hovertemplate": "Sources=%{y}<br>Year=2019<br>e/km=%{x}<extra></extra>",
           "ids": [
            "Road traffic, freight vehicles"
           ],
           "legendgroup": "Road traffic, freight vehicles",
           "marker": {
            "color": "#636efa",
            "pattern": {
             "shape": ""
            }
           },
           "name": "Road traffic, freight vehicles",
           "offsetgroup": "Road traffic, freight vehicles",
           "orientation": "h",
           "showlegend": true,
           "textposition": "auto",
           "type": "bar",
           "x": [
            0.40860280752134664
           ],
           "xaxis": "x",
           "y": [
            "Road traffic, freight vehicles"
           ],
           "yaxis": "y"
          },
          {
           "alignmentgroup": "True",
           "hovertemplate": "Sources=%{y}<br>Year=2019<br>e/km=%{x}<extra></extra>",
           "ids": [
            "Road traffic, passenger cars"
           ],
           "legendgroup": "Road traffic, passenger cars",
           "marker": {
            "color": "#EF553B",
            "pattern": {
             "shape": ""
            }
           },
           "name": "Road traffic, passenger cars",
           "offsetgroup": "Road traffic, passenger cars",
           "orientation": "h",
           "showlegend": true,
           "textposition": "auto",
           "type": "bar",
           "x": [
            0.1594595769972312
           ],
           "xaxis": "x",
           "y": [
            "Road traffic, passenger cars"
           ],
           "yaxis": "y"
          }
         ],
         "name": "2019"
        },
        {
         "data": [
          {
           "alignmentgroup": "True",
           "hovertemplate": "Sources=%{y}<br>Year=2020<br>e/km=%{x}<extra></extra>",
           "ids": [
            "Road traffic, freight vehicles"
           ],
           "legendgroup": "Road traffic, freight vehicles",
           "marker": {
            "color": "#636efa",
            "pattern": {
             "shape": ""
            }
           },
           "name": "Road traffic, freight vehicles",
           "offsetgroup": "Road traffic, freight vehicles",
           "orientation": "h",
           "showlegend": true,
           "textposition": "auto",
           "type": "bar",
           "x": [
            0.41496212491925855
           ],
           "xaxis": "x",
           "y": [
            "Road traffic, freight vehicles"
           ],
           "yaxis": "y"
          },
          {
           "alignmentgroup": "True",
           "hovertemplate": "Sources=%{y}<br>Year=2020<br>e/km=%{x}<extra></extra>",
           "ids": [
            "Road traffic, passenger cars"
           ],
           "legendgroup": "Road traffic, passenger cars",
           "marker": {
            "color": "#EF553B",
            "pattern": {
             "shape": ""
            }
           },
           "name": "Road traffic, passenger cars",
           "offsetgroup": "Road traffic, passenger cars",
           "orientation": "h",
           "showlegend": true,
           "textposition": "auto",
           "type": "bar",
           "x": [
            0.15757515579434067
           ],
           "xaxis": "x",
           "y": [
            "Road traffic, passenger cars"
           ],
           "yaxis": "y"
          }
         ],
         "name": "2020"
        },
        {
         "data": [
          {
           "alignmentgroup": "True",
           "hovertemplate": "Sources=%{y}<br>Year=2021<br>e/km=%{x}<extra></extra>",
           "ids": [
            "Road traffic, freight vehicles"
           ],
           "legendgroup": "Road traffic, freight vehicles",
           "marker": {
            "color": "#636efa",
            "pattern": {
             "shape": ""
            }
           },
           "name": "Road traffic, freight vehicles",
           "offsetgroup": "Road traffic, freight vehicles",
           "orientation": "h",
           "showlegend": true,
           "textposition": "auto",
           "type": "bar",
           "x": [
            null
           ],
           "xaxis": "x",
           "y": [
            "Road traffic, freight vehicles"
           ],
           "yaxis": "y"
          },
          {
           "alignmentgroup": "True",
           "hovertemplate": "Sources=%{y}<br>Year=2021<br>e/km=%{x}<extra></extra>",
           "ids": [
            "Road traffic, passenger cars"
           ],
           "legendgroup": "Road traffic, passenger cars",
           "marker": {
            "color": "#EF553B",
            "pattern": {
             "shape": ""
            }
           },
           "name": "Road traffic, passenger cars",
           "offsetgroup": "Road traffic, passenger cars",
           "orientation": "h",
           "showlegend": true,
           "textposition": "auto",
           "type": "bar",
           "x": [
            null
           ],
           "xaxis": "x",
           "y": [
            "Road traffic, passenger cars"
           ],
           "yaxis": "y"
          }
         ],
         "name": "2021"
        }
       ],
       "layout": {
        "autosize": true,
        "barmode": "relative",
        "legend": {
         "title": {
          "text": "Sources"
         },
         "tracegroupgap": 0
        },
        "margin": {
         "t": 60
        },
        "sliders": [
         {
          "active": 31,
          "currentvalue": {
           "prefix": "Year="
          },
          "len": 0.9,
          "pad": {
           "b": 10,
           "t": 60
          },
          "steps": [
           {
            "args": [
             [
              "1990"
             ],
             {
              "frame": {
               "duration": 0,
               "redraw": true
              },
              "fromcurrent": true,
              "mode": "immediate",
              "transition": {
               "duration": 0,
               "easing": "linear"
              }
             }
            ],
            "label": "1990",
            "method": "animate"
           },
           {
            "args": [
             [
              "1991"
             ],
             {
              "frame": {
               "duration": 0,
               "redraw": true
              },
              "fromcurrent": true,
              "mode": "immediate",
              "transition": {
               "duration": 0,
               "easing": "linear"
              }
             }
            ],
            "label": "1991",
            "method": "animate"
           },
           {
            "args": [
             [
              "1992"
             ],
             {
              "frame": {
               "duration": 0,
               "redraw": true
              },
              "fromcurrent": true,
              "mode": "immediate",
              "transition": {
               "duration": 0,
               "easing": "linear"
              }
             }
            ],
            "label": "1992",
            "method": "animate"
           },
           {
            "args": [
             [
              "1993"
             ],
             {
              "frame": {
               "duration": 0,
               "redraw": true
              },
              "fromcurrent": true,
              "mode": "immediate",
              "transition": {
               "duration": 0,
               "easing": "linear"
              }
             }
            ],
            "label": "1993",
            "method": "animate"
           },
           {
            "args": [
             [
              "1994"
             ],
             {
              "frame": {
               "duration": 0,
               "redraw": true
              },
              "fromcurrent": true,
              "mode": "immediate",
              "transition": {
               "duration": 0,
               "easing": "linear"
              }
             }
            ],
            "label": "1994",
            "method": "animate"
           },
           {
            "args": [
             [
              "1995"
             ],
             {
              "frame": {
               "duration": 0,
               "redraw": true
              },
              "fromcurrent": true,
              "mode": "immediate",
              "transition": {
               "duration": 0,
               "easing": "linear"
              }
             }
            ],
            "label": "1995",
            "method": "animate"
           },
           {
            "args": [
             [
              "1996"
             ],
             {
              "frame": {
               "duration": 0,
               "redraw": true
              },
              "fromcurrent": true,
              "mode": "immediate",
              "transition": {
               "duration": 0,
               "easing": "linear"
              }
             }
            ],
            "label": "1996",
            "method": "animate"
           },
           {
            "args": [
             [
              "1997"
             ],
             {
              "frame": {
               "duration": 0,
               "redraw": true
              },
              "fromcurrent": true,
              "mode": "immediate",
              "transition": {
               "duration": 0,
               "easing": "linear"
              }
             }
            ],
            "label": "1997",
            "method": "animate"
           },
           {
            "args": [
             [
              "1998"
             ],
             {
              "frame": {
               "duration": 0,
               "redraw": true
              },
              "fromcurrent": true,
              "mode": "immediate",
              "transition": {
               "duration": 0,
               "easing": "linear"
              }
             }
            ],
            "label": "1998",
            "method": "animate"
           },
           {
            "args": [
             [
              "1999"
             ],
             {
              "frame": {
               "duration": 0,
               "redraw": true
              },
              "fromcurrent": true,
              "mode": "immediate",
              "transition": {
               "duration": 0,
               "easing": "linear"
              }
             }
            ],
            "label": "1999",
            "method": "animate"
           },
           {
            "args": [
             [
              "2000"
             ],
             {
              "frame": {
               "duration": 0,
               "redraw": true
              },
              "fromcurrent": true,
              "mode": "immediate",
              "transition": {
               "duration": 0,
               "easing": "linear"
              }
             }
            ],
            "label": "2000",
            "method": "animate"
           },
           {
            "args": [
             [
              "2001"
             ],
             {
              "frame": {
               "duration": 0,
               "redraw": true
              },
              "fromcurrent": true,
              "mode": "immediate",
              "transition": {
               "duration": 0,
               "easing": "linear"
              }
             }
            ],
            "label": "2001",
            "method": "animate"
           },
           {
            "args": [
             [
              "2002"
             ],
             {
              "frame": {
               "duration": 0,
               "redraw": true
              },
              "fromcurrent": true,
              "mode": "immediate",
              "transition": {
               "duration": 0,
               "easing": "linear"
              }
             }
            ],
            "label": "2002",
            "method": "animate"
           },
           {
            "args": [
             [
              "2003"
             ],
             {
              "frame": {
               "duration": 0,
               "redraw": true
              },
              "fromcurrent": true,
              "mode": "immediate",
              "transition": {
               "duration": 0,
               "easing": "linear"
              }
             }
            ],
            "label": "2003",
            "method": "animate"
           },
           {
            "args": [
             [
              "2004"
             ],
             {
              "frame": {
               "duration": 0,
               "redraw": true
              },
              "fromcurrent": true,
              "mode": "immediate",
              "transition": {
               "duration": 0,
               "easing": "linear"
              }
             }
            ],
            "label": "2004",
            "method": "animate"
           },
           {
            "args": [
             [
              "2005"
             ],
             {
              "frame": {
               "duration": 0,
               "redraw": true
              },
              "fromcurrent": true,
              "mode": "immediate",
              "transition": {
               "duration": 0,
               "easing": "linear"
              }
             }
            ],
            "label": "2005",
            "method": "animate"
           },
           {
            "args": [
             [
              "2006"
             ],
             {
              "frame": {
               "duration": 0,
               "redraw": true
              },
              "fromcurrent": true,
              "mode": "immediate",
              "transition": {
               "duration": 0,
               "easing": "linear"
              }
             }
            ],
            "label": "2006",
            "method": "animate"
           },
           {
            "args": [
             [
              "2007"
             ],
             {
              "frame": {
               "duration": 0,
               "redraw": true
              },
              "fromcurrent": true,
              "mode": "immediate",
              "transition": {
               "duration": 0,
               "easing": "linear"
              }
             }
            ],
            "label": "2007",
            "method": "animate"
           },
           {
            "args": [
             [
              "2008"
             ],
             {
              "frame": {
               "duration": 0,
               "redraw": true
              },
              "fromcurrent": true,
              "mode": "immediate",
              "transition": {
               "duration": 0,
               "easing": "linear"
              }
             }
            ],
            "label": "2008",
            "method": "animate"
           },
           {
            "args": [
             [
              "2009"
             ],
             {
              "frame": {
               "duration": 0,
               "redraw": true
              },
              "fromcurrent": true,
              "mode": "immediate",
              "transition": {
               "duration": 0,
               "easing": "linear"
              }
             }
            ],
            "label": "2009",
            "method": "animate"
           },
           {
            "args": [
             [
              "2010"
             ],
             {
              "frame": {
               "duration": 0,
               "redraw": true
              },
              "fromcurrent": true,
              "mode": "immediate",
              "transition": {
               "duration": 0,
               "easing": "linear"
              }
             }
            ],
            "label": "2010",
            "method": "animate"
           },
           {
            "args": [
             [
              "2011"
             ],
             {
              "frame": {
               "duration": 0,
               "redraw": true
              },
              "fromcurrent": true,
              "mode": "immediate",
              "transition": {
               "duration": 0,
               "easing": "linear"
              }
             }
            ],
            "label": "2011",
            "method": "animate"
           },
           {
            "args": [
             [
              "2012"
             ],
             {
              "frame": {
               "duration": 0,
               "redraw": true
              },
              "fromcurrent": true,
              "mode": "immediate",
              "transition": {
               "duration": 0,
               "easing": "linear"
              }
             }
            ],
            "label": "2012",
            "method": "animate"
           },
           {
            "args": [
             [
              "2013"
             ],
             {
              "frame": {
               "duration": 0,
               "redraw": true
              },
              "fromcurrent": true,
              "mode": "immediate",
              "transition": {
               "duration": 0,
               "easing": "linear"
              }
             }
            ],
            "label": "2013",
            "method": "animate"
           },
           {
            "args": [
             [
              "2014"
             ],
             {
              "frame": {
               "duration": 0,
               "redraw": true
              },
              "fromcurrent": true,
              "mode": "immediate",
              "transition": {
               "duration": 0,
               "easing": "linear"
              }
             }
            ],
            "label": "2014",
            "method": "animate"
           },
           {
            "args": [
             [
              "2015"
             ],
             {
              "frame": {
               "duration": 0,
               "redraw": true
              },
              "fromcurrent": true,
              "mode": "immediate",
              "transition": {
               "duration": 0,
               "easing": "linear"
              }
             }
            ],
            "label": "2015",
            "method": "animate"
           },
           {
            "args": [
             [
              "2016"
             ],
             {
              "frame": {
               "duration": 0,
               "redraw": true
              },
              "fromcurrent": true,
              "mode": "immediate",
              "transition": {
               "duration": 0,
               "easing": "linear"
              }
             }
            ],
            "label": "2016",
            "method": "animate"
           },
           {
            "args": [
             [
              "2017"
             ],
             {
              "frame": {
               "duration": 0,
               "redraw": true
              },
              "fromcurrent": true,
              "mode": "immediate",
              "transition": {
               "duration": 0,
               "easing": "linear"
              }
             }
            ],
            "label": "2017",
            "method": "animate"
           },
           {
            "args": [
             [
              "2018"
             ],
             {
              "frame": {
               "duration": 0,
               "redraw": true
              },
              "fromcurrent": true,
              "mode": "immediate",
              "transition": {
               "duration": 0,
               "easing": "linear"
              }
             }
            ],
            "label": "2018",
            "method": "animate"
           },
           {
            "args": [
             [
              "2019"
             ],
             {
              "frame": {
               "duration": 0,
               "redraw": true
              },
              "fromcurrent": true,
              "mode": "immediate",
              "transition": {
               "duration": 0,
               "easing": "linear"
              }
             }
            ],
            "label": "2019",
            "method": "animate"
           },
           {
            "args": [
             [
              "2020"
             ],
             {
              "frame": {
               "duration": 0,
               "redraw": true
              },
              "fromcurrent": true,
              "mode": "immediate",
              "transition": {
               "duration": 0,
               "easing": "linear"
              }
             }
            ],
            "label": "2020",
            "method": "animate"
           },
           {
            "args": [
             [
              "2021"
             ],
             {
              "frame": {
               "duration": 0,
               "redraw": true
              },
              "fromcurrent": true,
              "mode": "immediate",
              "transition": {
               "duration": 0,
               "easing": "linear"
              }
             }
            ],
            "label": "2021",
            "method": "animate"
           }
          ],
          "x": 0.1,
          "xanchor": "left",
          "y": 0,
          "yanchor": "top"
         }
        ],
        "template": {
         "data": {
          "bar": [
           {
            "error_x": {
             "color": "#2a3f5f"
            },
            "error_y": {
             "color": "#2a3f5f"
            },
            "marker": {
             "line": {
              "color": "#E5ECF6",
              "width": 0.5
             },
             "pattern": {
              "fillmode": "overlay",
              "size": 10,
              "solidity": 0.2
             }
            },
            "type": "bar"
           }
          ],
          "barpolar": [
           {
            "marker": {
             "line": {
              "color": "#E5ECF6",
              "width": 0.5
             },
             "pattern": {
              "fillmode": "overlay",
              "size": 10,
              "solidity": 0.2
             }
            },
            "type": "barpolar"
           }
          ],
          "carpet": [
           {
            "aaxis": {
             "endlinecolor": "#2a3f5f",
             "gridcolor": "white",
             "linecolor": "white",
             "minorgridcolor": "white",
             "startlinecolor": "#2a3f5f"
            },
            "baxis": {
             "endlinecolor": "#2a3f5f",
             "gridcolor": "white",
             "linecolor": "white",
             "minorgridcolor": "white",
             "startlinecolor": "#2a3f5f"
            },
            "type": "carpet"
           }
          ],
          "choropleth": [
           {
            "colorbar": {
             "outlinewidth": 0,
             "ticks": ""
            },
            "type": "choropleth"
           }
          ],
          "contour": [
           {
            "colorbar": {
             "outlinewidth": 0,
             "ticks": ""
            },
            "colorscale": [
             [
              0,
              "#0d0887"
             ],
             [
              0.1111111111111111,
              "#46039f"
             ],
             [
              0.2222222222222222,
              "#7201a8"
             ],
             [
              0.3333333333333333,
              "#9c179e"
             ],
             [
              0.4444444444444444,
              "#bd3786"
             ],
             [
              0.5555555555555556,
              "#d8576b"
             ],
             [
              0.6666666666666666,
              "#ed7953"
             ],
             [
              0.7777777777777778,
              "#fb9f3a"
             ],
             [
              0.8888888888888888,
              "#fdca26"
             ],
             [
              1,
              "#f0f921"
             ]
            ],
            "type": "contour"
           }
          ],
          "contourcarpet": [
           {
            "colorbar": {
             "outlinewidth": 0,
             "ticks": ""
            },
            "type": "contourcarpet"
           }
          ],
          "heatmap": [
           {
            "colorbar": {
             "outlinewidth": 0,
             "ticks": ""
            },
            "colorscale": [
             [
              0,
              "#0d0887"
             ],
             [
              0.1111111111111111,
              "#46039f"
             ],
             [
              0.2222222222222222,
              "#7201a8"
             ],
             [
              0.3333333333333333,
              "#9c179e"
             ],
             [
              0.4444444444444444,
              "#bd3786"
             ],
             [
              0.5555555555555556,
              "#d8576b"
             ],
             [
              0.6666666666666666,
              "#ed7953"
             ],
             [
              0.7777777777777778,
              "#fb9f3a"
             ],
             [
              0.8888888888888888,
              "#fdca26"
             ],
             [
              1,
              "#f0f921"
             ]
            ],
            "type": "heatmap"
           }
          ],
          "heatmapgl": [
           {
            "colorbar": {
             "outlinewidth": 0,
             "ticks": ""
            },
            "colorscale": [
             [
              0,
              "#0d0887"
             ],
             [
              0.1111111111111111,
              "#46039f"
             ],
             [
              0.2222222222222222,
              "#7201a8"
             ],
             [
              0.3333333333333333,
              "#9c179e"
             ],
             [
              0.4444444444444444,
              "#bd3786"
             ],
             [
              0.5555555555555556,
              "#d8576b"
             ],
             [
              0.6666666666666666,
              "#ed7953"
             ],
             [
              0.7777777777777778,
              "#fb9f3a"
             ],
             [
              0.8888888888888888,
              "#fdca26"
             ],
             [
              1,
              "#f0f921"
             ]
            ],
            "type": "heatmapgl"
           }
          ],
          "histogram": [
           {
            "marker": {
             "pattern": {
              "fillmode": "overlay",
              "size": 10,
              "solidity": 0.2
             }
            },
            "type": "histogram"
           }
          ],
          "histogram2d": [
           {
            "colorbar": {
             "outlinewidth": 0,
             "ticks": ""
            },
            "colorscale": [
             [
              0,
              "#0d0887"
             ],
             [
              0.1111111111111111,
              "#46039f"
             ],
             [
              0.2222222222222222,
              "#7201a8"
             ],
             [
              0.3333333333333333,
              "#9c179e"
             ],
             [
              0.4444444444444444,
              "#bd3786"
             ],
             [
              0.5555555555555556,
              "#d8576b"
             ],
             [
              0.6666666666666666,
              "#ed7953"
             ],
             [
              0.7777777777777778,
              "#fb9f3a"
             ],
             [
              0.8888888888888888,
              "#fdca26"
             ],
             [
              1,
              "#f0f921"
             ]
            ],
            "type": "histogram2d"
           }
          ],
          "histogram2dcontour": [
           {
            "colorbar": {
             "outlinewidth": 0,
             "ticks": ""
            },
            "colorscale": [
             [
              0,
              "#0d0887"
             ],
             [
              0.1111111111111111,
              "#46039f"
             ],
             [
              0.2222222222222222,
              "#7201a8"
             ],
             [
              0.3333333333333333,
              "#9c179e"
             ],
             [
              0.4444444444444444,
              "#bd3786"
             ],
             [
              0.5555555555555556,
              "#d8576b"
             ],
             [
              0.6666666666666666,
              "#ed7953"
             ],
             [
              0.7777777777777778,
              "#fb9f3a"
             ],
             [
              0.8888888888888888,
              "#fdca26"
             ],
             [
              1,
              "#f0f921"
             ]
            ],
            "type": "histogram2dcontour"
           }
          ],
          "mesh3d": [
           {
            "colorbar": {
             "outlinewidth": 0,
             "ticks": ""
            },
            "type": "mesh3d"
           }
          ],
          "parcoords": [
           {
            "line": {
             "colorbar": {
              "outlinewidth": 0,
              "ticks": ""
             }
            },
            "type": "parcoords"
           }
          ],
          "pie": [
           {
            "automargin": true,
            "type": "pie"
           }
          ],
          "scatter": [
           {
            "marker": {
             "colorbar": {
              "outlinewidth": 0,
              "ticks": ""
             }
            },
            "type": "scatter"
           }
          ],
          "scatter3d": [
           {
            "line": {
             "colorbar": {
              "outlinewidth": 0,
              "ticks": ""
             }
            },
            "marker": {
             "colorbar": {
              "outlinewidth": 0,
              "ticks": ""
             }
            },
            "type": "scatter3d"
           }
          ],
          "scattercarpet": [
           {
            "marker": {
             "colorbar": {
              "outlinewidth": 0,
              "ticks": ""
             }
            },
            "type": "scattercarpet"
           }
          ],
          "scattergeo": [
           {
            "marker": {
             "colorbar": {
              "outlinewidth": 0,
              "ticks": ""
             }
            },
            "type": "scattergeo"
           }
          ],
          "scattergl": [
           {
            "marker": {
             "colorbar": {
              "outlinewidth": 0,
              "ticks": ""
             }
            },
            "type": "scattergl"
           }
          ],
          "scattermapbox": [
           {
            "marker": {
             "colorbar": {
              "outlinewidth": 0,
              "ticks": ""
             }
            },
            "type": "scattermapbox"
           }
          ],
          "scatterpolar": [
           {
            "marker": {
             "colorbar": {
              "outlinewidth": 0,
              "ticks": ""
             }
            },
            "type": "scatterpolar"
           }
          ],
          "scatterpolargl": [
           {
            "marker": {
             "colorbar": {
              "outlinewidth": 0,
              "ticks": ""
             }
            },
            "type": "scatterpolargl"
           }
          ],
          "scatterternary": [
           {
            "marker": {
             "colorbar": {
              "outlinewidth": 0,
              "ticks": ""
             }
            },
            "type": "scatterternary"
           }
          ],
          "surface": [
           {
            "colorbar": {
             "outlinewidth": 0,
             "ticks": ""
            },
            "colorscale": [
             [
              0,
              "#0d0887"
             ],
             [
              0.1111111111111111,
              "#46039f"
             ],
             [
              0.2222222222222222,
              "#7201a8"
             ],
             [
              0.3333333333333333,
              "#9c179e"
             ],
             [
              0.4444444444444444,
              "#bd3786"
             ],
             [
              0.5555555555555556,
              "#d8576b"
             ],
             [
              0.6666666666666666,
              "#ed7953"
             ],
             [
              0.7777777777777778,
              "#fb9f3a"
             ],
             [
              0.8888888888888888,
              "#fdca26"
             ],
             [
              1,
              "#f0f921"
             ]
            ],
            "type": "surface"
           }
          ],
          "table": [
           {
            "cells": {
             "fill": {
              "color": "#EBF0F8"
             },
             "line": {
              "color": "white"
             }
            },
            "header": {
             "fill": {
              "color": "#C8D4E3"
             },
             "line": {
              "color": "white"
             }
            },
            "type": "table"
           }
          ]
         },
         "layout": {
          "annotationdefaults": {
           "arrowcolor": "#2a3f5f",
           "arrowhead": 0,
           "arrowwidth": 1
          },
          "autotypenumbers": "strict",
          "coloraxis": {
           "colorbar": {
            "outlinewidth": 0,
            "ticks": ""
           }
          },
          "colorscale": {
           "diverging": [
            [
             0,
             "#8e0152"
            ],
            [
             0.1,
             "#c51b7d"
            ],
            [
             0.2,
             "#de77ae"
            ],
            [
             0.3,
             "#f1b6da"
            ],
            [
             0.4,
             "#fde0ef"
            ],
            [
             0.5,
             "#f7f7f7"
            ],
            [
             0.6,
             "#e6f5d0"
            ],
            [
             0.7,
             "#b8e186"
            ],
            [
             0.8,
             "#7fbc41"
            ],
            [
             0.9,
             "#4d9221"
            ],
            [
             1,
             "#276419"
            ]
           ],
           "sequential": [
            [
             0,
             "#0d0887"
            ],
            [
             0.1111111111111111,
             "#46039f"
            ],
            [
             0.2222222222222222,
             "#7201a8"
            ],
            [
             0.3333333333333333,
             "#9c179e"
            ],
            [
             0.4444444444444444,
             "#bd3786"
            ],
            [
             0.5555555555555556,
             "#d8576b"
            ],
            [
             0.6666666666666666,
             "#ed7953"
            ],
            [
             0.7777777777777778,
             "#fb9f3a"
            ],
            [
             0.8888888888888888,
             "#fdca26"
            ],
            [
             1,
             "#f0f921"
            ]
           ],
           "sequentialminus": [
            [
             0,
             "#0d0887"
            ],
            [
             0.1111111111111111,
             "#46039f"
            ],
            [
             0.2222222222222222,
             "#7201a8"
            ],
            [
             0.3333333333333333,
             "#9c179e"
            ],
            [
             0.4444444444444444,
             "#bd3786"
            ],
            [
             0.5555555555555556,
             "#d8576b"
            ],
            [
             0.6666666666666666,
             "#ed7953"
            ],
            [
             0.7777777777777778,
             "#fb9f3a"
            ],
            [
             0.8888888888888888,
             "#fdca26"
            ],
            [
             1,
             "#f0f921"
            ]
           ]
          },
          "colorway": [
           "#636efa",
           "#EF553B",
           "#00cc96",
           "#ab63fa",
           "#FFA15A",
           "#19d3f3",
           "#FF6692",
           "#B6E880",
           "#FF97FF",
           "#FECB52"
          ],
          "font": {
           "color": "#2a3f5f"
          },
          "geo": {
           "bgcolor": "white",
           "lakecolor": "white",
           "landcolor": "#E5ECF6",
           "showlakes": true,
           "showland": true,
           "subunitcolor": "white"
          },
          "hoverlabel": {
           "align": "left"
          },
          "hovermode": "closest",
          "mapbox": {
           "style": "light"
          },
          "paper_bgcolor": "white",
          "plot_bgcolor": "#E5ECF6",
          "polar": {
           "angularaxis": {
            "gridcolor": "white",
            "linecolor": "white",
            "ticks": ""
           },
           "bgcolor": "#E5ECF6",
           "radialaxis": {
            "gridcolor": "white",
            "linecolor": "white",
            "ticks": ""
           }
          },
          "scene": {
           "xaxis": {
            "backgroundcolor": "#E5ECF6",
            "gridcolor": "white",
            "gridwidth": 2,
            "linecolor": "white",
            "showbackground": true,
            "ticks": "",
            "zerolinecolor": "white"
           },
           "yaxis": {
            "backgroundcolor": "#E5ECF6",
            "gridcolor": "white",
            "gridwidth": 2,
            "linecolor": "white",
            "showbackground": true,
            "ticks": "",
            "zerolinecolor": "white"
           },
           "zaxis": {
            "backgroundcolor": "#E5ECF6",
            "gridcolor": "white",
            "gridwidth": 2,
            "linecolor": "white",
            "showbackground": true,
            "ticks": "",
            "zerolinecolor": "white"
           }
          },
          "shapedefaults": {
           "line": {
            "color": "#2a3f5f"
           }
          },
          "ternary": {
           "aaxis": {
            "gridcolor": "white",
            "linecolor": "white",
            "ticks": ""
           },
           "baxis": {
            "gridcolor": "white",
            "linecolor": "white",
            "ticks": ""
           },
           "bgcolor": "#E5ECF6",
           "caxis": {
            "gridcolor": "white",
            "linecolor": "white",
            "ticks": ""
           }
          },
          "title": {
           "x": 0.05
          },
          "xaxis": {
           "automargin": true,
           "gridcolor": "white",
           "linecolor": "white",
           "ticks": "",
           "title": {
            "standoff": 15
           },
           "zerolinecolor": "white",
           "zerolinewidth": 2
          },
          "yaxis": {
           "automargin": true,
           "gridcolor": "white",
           "linecolor": "white",
           "ticks": "",
           "title": {
            "standoff": 15
           },
           "zerolinecolor": "white",
           "zerolinewidth": 2
          }
         }
        },
        "updatemenus": [
         {
          "active": 0,
          "buttons": [
           {
            "args": [
             null,
             {
              "frame": {
               "duration": 500,
               "redraw": true
              },
              "fromcurrent": true,
              "mode": "immediate",
              "transition": {
               "duration": 500,
               "easing": "linear"
              }
             }
            ],
            "label": "&#9654;",
            "method": "animate"
           },
           {
            "args": [
             [
              null
             ],
             {
              "frame": {
               "duration": 0,
               "redraw": true
              },
              "fromcurrent": true,
              "mode": "immediate",
              "transition": {
               "duration": 0,
               "easing": "linear"
              }
             }
            ],
            "label": "&#9724;",
            "method": "animate"
           }
          ],
          "direction": "left",
          "pad": {
           "r": 10,
           "t": 70
          },
          "showactive": false,
          "type": "buttons",
          "x": 0.1,
          "xanchor": "right",
          "y": 0,
          "yanchor": "top"
         }
        ],
        "xaxis": {
         "anchor": "y",
         "domain": [
          0,
          1
         ],
         "range": [
          0,
          0.6
         ],
         "title": {
          "text": "e/km"
         },
         "type": "linear"
        },
        "yaxis": {
         "anchor": "x",
         "autorange": true,
         "categoryarray": [
          "Road traffic, passenger cars",
          "Road traffic, freight vehicles"
         ],
         "categoryorder": "array",
         "domain": [
          0,
          1
         ],
         "range": [
          -0.5,
          1.5
         ],
         "title": {
          "text": "Sources"
         },
         "type": "category"
        }
       }
      },
      "image/png": "[encoded data removed]"
     },
     "metadata": {},
     "output_type": "display_data"
    }
   ],
   "source": [
    "vehicle_data_ani1 = getCategory(vehicle_data, \"Emission Type\", [\"Carbon dioxide (CO2)\"], False)\n",
    "fig = px.bar(vehicle_data_ani1, x=\"e/km\", y=\"Sources\", orientation='h', animation_frame=\"Year\", animation_group=\"Sources\", \n",
    "             color=\"Sources\", range_x=[0,0.6])\n",
    "fig.update_traces(showlegend=False)\n",
    "fig.show()"
   ]
  },
  {
   "cell_type": "markdown",
   "metadata": {},
   "source": [
    "In general, the emission of CO2 recorded a downward trend for both freight vehicles and passenger cars. The interesting point here is that from 1990 to 2005, only the emission of CO2 per freight vehicle kilometer changed while the data for passenger cars remained stable. From 2005 to 2020, the former fluctuated around the figure of above 0.4, whereas the latter decreased gradually. "
   ]
  },
  {
   "cell_type": "markdown",
   "metadata": {},
   "source": [
    "##### Emission of CO & NOx per vehicle-kilometer during 1990-2020"
   ]
  },
  {
   "cell_type": "code",
   "execution_count": 52,
   "metadata": {},
   "outputs": [
    {
     "data": {
      "application/vnd.plotly.v1+json": {
       "config": {
        "plotlyServerURL": "https://plot.ly"
       },
       "data": [
        {
         "alignmentgroup": "True",
         "hovertemplate": "Emission Type=%{y}<br>Year=1990<br>Sources=Road traffic, freight vehicles<br>e/km=%{x}<extra></extra>",
         "ids": [
          "Carbon monoxide (CO)"
         ],
         "legendgroup": "Carbon monoxide (CO)",
         "marker": {
          "color": "#636efa",
          "pattern": {
           "shape": ""
          }
         },
         "name": "Carbon monoxide (CO)",
         "offsetgroup": "Carbon monoxide (CO)",
         "orientation": "h",
         "showlegend": false,
         "textposition": "auto",
         "type": "bar",
         "x": [
          0.005065721459164082
         ],
         "xaxis": "x2",
         "y": [
          "Carbon monoxide (CO)"
         ],
         "yaxis": "y2"
        },
        {
         "alignmentgroup": "True",
         "hovertemplate": "Emission Type=%{y}<br>Year=1990<br>Sources=Road traffic, passenger cars<br>e/km=%{x}<extra></extra>",
         "ids": [
          "Carbon monoxide (CO)"
         ],
         "legendgroup": "Carbon monoxide (CO)",
         "marker": {
          "color": "#636efa",
          "pattern": {
           "shape": ""
          }
         },
         "name": "Carbon monoxide (CO)",
         "offsetgroup": "Carbon monoxide (CO)",
         "orientation": "h",
         "showlegend": false,
         "textposition": "auto",
         "type": "bar",
         "x": [
          0.007240659085634718
         ],
         "xaxis": "x",
         "y": [
          "Carbon monoxide (CO)"
         ],
         "yaxis": "y"
        },
        {
         "alignmentgroup": "True",
         "hovertemplate": "Emission Type=%{y}<br>Year=1990<br>Sources=Road traffic, freight vehicles<br>e/km=%{x}<extra></extra>",
         "ids": [
          "Nitrogen oxides (NOx)"
         ],
         "legendgroup": "Nitrogen oxides (NOx)",
         "marker": {
          "color": "#EF553B",
          "pattern": {
           "shape": ""
          }
         },
         "name": "Nitrogen oxides (NOx)",
         "offsetgroup": "Nitrogen oxides (NOx)",
         "orientation": "h",
         "showlegend": false,
         "textposition": "auto",
         "type": "bar",
         "x": [
          0.007724117560183134
         ],
         "xaxis": "x2",
         "y": [
          "Nitrogen oxides (NOx)"
         ],
         "yaxis": "y2"
        },
        {
         "alignmentgroup": "True",
         "hovertemplate": "Emission Type=%{y}<br>Year=1990<br>Sources=Road traffic, passenger cars<br>e/km=%{x}<extra></extra>",
         "ids": [
          "Nitrogen oxides (NOx)"
         ],
         "legendgroup": "Nitrogen oxides (NOx)",
         "marker": {
          "color": "#EF553B",
          "pattern": {
           "shape": ""
          }
         },
         "name": "Nitrogen oxides (NOx)",
         "offsetgroup": "Nitrogen oxides (NOx)",
         "orientation": "h",
         "showlegend": false,
         "textposition": "auto",
         "type": "bar",
         "x": [
          0.001742985916869221
         ],
         "xaxis": "x",
         "y": [
          "Nitrogen oxides (NOx)"
         ],
         "yaxis": "y"
        }
       ],
       "frames": [
        {
         "data": [
          {
           "alignmentgroup": "True",
           "hovertemplate": "Emission Type=%{y}<br>Year=1990<br>Sources=Road traffic, freight vehicles<br>e/km=%{x}<extra></extra>",
           "ids": [
            "Carbon monoxide (CO)"
           ],
           "legendgroup": "Carbon monoxide (CO)",
           "marker": {
            "color": "#636efa",
            "pattern": {
             "shape": ""
            }
           },
           "name": "Carbon monoxide (CO)",
           "offsetgroup": "Carbon monoxide (CO)",
           "orientation": "h",
           "showlegend": true,
           "textposition": "auto",
           "type": "bar",
           "x": [
            0.005065721459164082
           ],
           "xaxis": "x2",
           "y": [
            "Carbon monoxide (CO)"
           ],
           "yaxis": "y2"
          },
          {
           "alignmentgroup": "True",
           "hovertemplate": "Emission Type=%{y}<br>Year=1990<br>Sources=Road traffic, passenger cars<br>e/km=%{x}<extra></extra>",
           "ids": [
            "Carbon monoxide (CO)"
           ],
           "legendgroup": "Carbon monoxide (CO)",
           "marker": {
            "color": "#636efa",
            "pattern": {
             "shape": ""
            }
           },
           "name": "Carbon monoxide (CO)",
           "offsetgroup": "Carbon monoxide (CO)",
           "orientation": "h",
           "showlegend": false,
           "textposition": "auto",
           "type": "bar",
           "x": [
            0.007240659085634718
           ],
           "xaxis": "x",
           "y": [
            "Carbon monoxide (CO)"
           ],
           "yaxis": "y"
          },
          {
           "alignmentgroup": "True",
           "hovertemplate": "Emission Type=%{y}<br>Year=1990<br>Sources=Road traffic, freight vehicles<br>e/km=%{x}<extra></extra>",
           "ids": [
            "Nitrogen oxides (NOx)"
           ],
           "legendgroup": "Nitrogen oxides (NOx)",
           "marker": {
            "color": "#EF553B",
            "pattern": {
             "shape": ""
            }
           },
           "name": "Nitrogen oxides (NOx)",
           "offsetgroup": "Nitrogen oxides (NOx)",
           "orientation": "h",
           "showlegend": true,
           "textposition": "auto",
           "type": "bar",
           "x": [
            0.007724117560183134
           ],
           "xaxis": "x2",
           "y": [
            "Nitrogen oxides (NOx)"
           ],
           "yaxis": "y2"
          },
          {
           "alignmentgroup": "True",
           "hovertemplate": "Emission Type=%{y}<br>Year=1990<br>Sources=Road traffic, passenger cars<br>e/km=%{x}<extra></extra>",
           "ids": [
            "Nitrogen oxides (NOx)"
           ],
           "legendgroup": "Nitrogen oxides (NOx)",
           "marker": {
            "color": "#EF553B",
            "pattern": {
             "shape": ""
            }
           },
           "name": "Nitrogen oxides (NOx)",
           "offsetgroup": "Nitrogen oxides (NOx)",
           "orientation": "h",
           "showlegend": false,
           "textposition": "auto",
           "type": "bar",
           "x": [
            0.001742985916869221
           ],
           "xaxis": "x",
           "y": [
            "Nitrogen oxides (NOx)"
           ],
           "yaxis": "y"
          }
         ],
         "name": "1990"
        },
        {
         "data": [
          {
           "alignmentgroup": "True",
           "hovertemplate": "Emission Type=%{y}<br>Year=1991<br>Sources=Road traffic, freight vehicles<br>e/km=%{x}<extra></extra>",
           "ids": [
            "Carbon monoxide (CO)"
           ],
           "legendgroup": "Carbon monoxide (CO)",
           "marker": {
            "color": "#636efa",
            "pattern": {
             "shape": ""
            }
           },
           "name": "Carbon monoxide (CO)",
           "offsetgroup": "Carbon monoxide (CO)",
           "orientation": "h",
           "showlegend": true,
           "textposition": "auto",
           "type": "bar",
           "x": [
            0.004609064958574114
           ],
           "xaxis": "x2",
           "y": [
            "Carbon monoxide (CO)"
           ],
           "yaxis": "y2"
          },
          {
           "alignmentgroup": "True",
           "hovertemplate": "Emission Type=%{y}<br>Year=1991<br>Sources=Road traffic, passenger cars<br>e/km=%{x}<extra></extra>",
           "ids": [
            "Carbon monoxide (CO)"
           ],
           "legendgroup": "Carbon monoxide (CO)",
           "marker": {
            "color": "#636efa",
            "pattern": {
             "shape": ""
            }
           },
           "name": "Carbon monoxide (CO)",
           "offsetgroup": "Carbon monoxide (CO)",
           "orientation": "h",
           "showlegend": false,
           "textposition": "auto",
           "type": "bar",
           "x": [
            0.006192400571682026
           ],
           "xaxis": "x",
           "y": [
            "Carbon monoxide (CO)"
           ],
           "yaxis": "y"
          },
          {
           "alignmentgroup": "True",
           "hovertemplate": "Emission Type=%{y}<br>Year=1991<br>Sources=Road traffic, freight vehicles<br>e/km=%{x}<extra></extra>",
           "ids": [
            "Nitrogen oxides (NOx)"
           ],
           "legendgroup": "Nitrogen oxides (NOx)",
           "marker": {
            "color": "#EF553B",
            "pattern": {
             "shape": ""
            }
           },
           "name": "Nitrogen oxides (NOx)",
           "offsetgroup": "Nitrogen oxides (NOx)",
           "orientation": "h",
           "showlegend": true,
           "textposition": "auto",
           "type": "bar",
           "x": [
            0.007533245143772192
           ],
           "xaxis": "x2",
           "y": [
            "Nitrogen oxides (NOx)"
           ],
           "yaxis": "y2"
          },
          {
           "alignmentgroup": "True",
           "hovertemplate": "Emission Type=%{y}<br>Year=1991<br>Sources=Road traffic, passenger cars<br>e/km=%{x}<extra></extra>",
           "ids": [
            "Nitrogen oxides (NOx)"
           ],
           "legendgroup": "Nitrogen oxides (NOx)",
           "marker": {
            "color": "#EF553B",
            "pattern": {
             "shape": ""
            }
           },
           "name": "Nitrogen oxides (NOx)",
           "offsetgroup": "Nitrogen oxides (NOx)",
           "orientation": "h",
           "showlegend": false,
           "textposition": "auto",
           "type": "bar",
           "x": [
            0.0016066236262382337
           ],
           "xaxis": "x",
           "y": [
            "Nitrogen oxides (NOx)"
           ],
           "yaxis": "y"
          }
         ],
         "name": "1991"
        },
        {
         "data": [
          {
           "alignmentgroup": "True",
           "hovertemplate": "Emission Type=%{y}<br>Year=1992<br>Sources=Road traffic, freight vehicles<br>e/km=%{x}<extra></extra>",
           "ids": [
            "Carbon monoxide (CO)"
           ],
           "legendgroup": "Carbon monoxide (CO)",
           "marker": {
            "color": "#636efa",
            "pattern": {
             "shape": ""
            }
           },
           "name": "Carbon monoxide (CO)",
           "offsetgroup": "Carbon monoxide (CO)",
           "orientation": "h",
           "showlegend": true,
           "textposition": "auto",
           "type": "bar",
           "x": [
            0.004153354632587859
           ],
           "xaxis": "x2",
           "y": [
            "Carbon monoxide (CO)"
           ],
           "yaxis": "y2"
          },
          {
           "alignmentgroup": "True",
           "hovertemplate": "Emission Type=%{y}<br>Year=1992<br>Sources=Road traffic, passenger cars<br>e/km=%{x}<extra></extra>",
           "ids": [
            "Carbon monoxide (CO)"
           ],
           "legendgroup": "Carbon monoxide (CO)",
           "marker": {
            "color": "#636efa",
            "pattern": {
             "shape": ""
            }
           },
           "name": "Carbon monoxide (CO)",
           "offsetgroup": "Carbon monoxide (CO)",
           "orientation": "h",
           "showlegend": false,
           "textposition": "auto",
           "type": "bar",
           "x": [
            0.005617658875522889
           ],
           "xaxis": "x",
           "y": [
            "Carbon monoxide (CO)"
           ],
           "yaxis": "y"
          },
          {
           "alignmentgroup": "True",
           "hovertemplate": "Emission Type=%{y}<br>Year=1992<br>Sources=Road traffic, freight vehicles<br>e/km=%{x}<extra></extra>",
           "ids": [
            "Nitrogen oxides (NOx)"
           ],
           "legendgroup": "Nitrogen oxides (NOx)",
           "marker": {
            "color": "#EF553B",
            "pattern": {
             "shape": ""
            }
           },
           "name": "Nitrogen oxides (NOx)",
           "offsetgroup": "Nitrogen oxides (NOx)",
           "orientation": "h",
           "showlegend": true,
           "textposition": "auto",
           "type": "bar",
           "x": [
            0.007035143769968051
           ],
           "xaxis": "x2",
           "y": [
            "Nitrogen oxides (NOx)"
           ],
           "yaxis": "y2"
          },
          {
           "alignmentgroup": "True",
           "hovertemplate": "Emission Type=%{y}<br>Year=1992<br>Sources=Road traffic, passenger cars<br>e/km=%{x}<extra></extra>",
           "ids": [
            "Nitrogen oxides (NOx)"
           ],
           "legendgroup": "Nitrogen oxides (NOx)",
           "marker": {
            "color": "#EF553B",
            "pattern": {
             "shape": ""
            }
           },
           "name": "Nitrogen oxides (NOx)",
           "offsetgroup": "Nitrogen oxides (NOx)",
           "orientation": "h",
           "showlegend": false,
           "textposition": "auto",
           "type": "bar",
           "x": [
            0.0014404556519273036
           ],
           "xaxis": "x",
           "y": [
            "Nitrogen oxides (NOx)"
           ],
           "yaxis": "y"
          }
         ],
         "name": "1992"
        },
        {
         "data": [
          {
           "alignmentgroup": "True",
           "hovertemplate": "Emission Type=%{y}<br>Year=1993<br>Sources=Road traffic, freight vehicles<br>e/km=%{x}<extra></extra>",
           "ids": [
            "Carbon monoxide (CO)"
           ],
           "legendgroup": "Carbon monoxide (CO)",
           "marker": {
            "color": "#636efa",
            "pattern": {
             "shape": ""
            }
           },
           "name": "Carbon monoxide (CO)",
           "offsetgroup": "Carbon monoxide (CO)",
           "orientation": "h",
           "showlegend": true,
           "textposition": "auto",
           "type": "bar",
           "x": [
            0.003759353125754284
           ],
           "xaxis": "x2",
           "y": [
            "Carbon monoxide (CO)"
           ],
           "yaxis": "y2"
          },
          {
           "alignmentgroup": "True",
           "hovertemplate": "Emission Type=%{y}<br>Year=1993<br>Sources=Road traffic, passenger cars<br>e/km=%{x}<extra></extra>",
           "ids": [
            "Carbon monoxide (CO)"
           ],
           "legendgroup": "Carbon monoxide (CO)",
           "marker": {
            "color": "#636efa",
            "pattern": {
             "shape": ""
            }
           },
           "name": "Carbon monoxide (CO)",
           "offsetgroup": "Carbon monoxide (CO)",
           "orientation": "h",
           "showlegend": false,
           "textposition": "auto",
           "type": "bar",
           "x": [
            0.0051114462879168765
           ],
           "xaxis": "x",
           "y": [
            "Carbon monoxide (CO)"
           ],
           "yaxis": "y"
          },
          {
           "alignmentgroup": "True",
           "hovertemplate": "Emission Type=%{y}<br>Year=1993<br>Sources=Road traffic, freight vehicles<br>e/km=%{x}<extra></extra>",
           "ids": [
            "Nitrogen oxides (NOx)"
           ],
           "legendgroup": "Nitrogen oxides (NOx)",
           "marker": {
            "color": "#EF553B",
            "pattern": {
             "shape": ""
            }
           },
           "name": "Nitrogen oxides (NOx)",
           "offsetgroup": "Nitrogen oxides (NOx)",
           "orientation": "h",
           "showlegend": true,
           "textposition": "auto",
           "type": "bar",
           "x": [
            0.006354091238233164
           ],
           "xaxis": "x2",
           "y": [
            "Nitrogen oxides (NOx)"
           ],
           "yaxis": "y2"
          },
          {
           "alignmentgroup": "True",
           "hovertemplate": "Emission Type=%{y}<br>Year=1993<br>Sources=Road traffic, passenger cars<br>e/km=%{x}<extra></extra>",
           "ids": [
            "Nitrogen oxides (NOx)"
           ],
           "legendgroup": "Nitrogen oxides (NOx)",
           "marker": {
            "color": "#EF553B",
            "pattern": {
             "shape": ""
            }
           },
           "name": "Nitrogen oxides (NOx)",
           "offsetgroup": "Nitrogen oxides (NOx)",
           "orientation": "h",
           "showlegend": false,
           "textposition": "auto",
           "type": "bar",
           "x": [
            0.0013083866025042495
           ],
           "xaxis": "x",
           "y": [
            "Nitrogen oxides (NOx)"
           ],
           "yaxis": "y"
          }
         ],
         "name": "1993"
        },
        {
         "data": [
          {
           "alignmentgroup": "True",
           "hovertemplate": "Emission Type=%{y}<br>Year=1994<br>Sources=Road traffic, freight vehicles<br>e/km=%{x}<extra></extra>",
           "ids": [
            "Carbon monoxide (CO)"
           ],
           "legendgroup": "Carbon monoxide (CO)",
           "marker": {
            "color": "#636efa",
            "pattern": {
             "shape": ""
            }
           },
           "name": "Carbon monoxide (CO)",
           "offsetgroup": "Carbon monoxide (CO)",
           "orientation": "h",
           "showlegend": true,
           "textposition": "auto",
           "type": "bar",
           "x": [
            0.0033940049258124588
           ],
           "xaxis": "x2",
           "y": [
            "Carbon monoxide (CO)"
           ],
           "yaxis": "y2"
          },
          {
           "alignmentgroup": "True",
           "hovertemplate": "Emission Type=%{y}<br>Year=1994<br>Sources=Road traffic, passenger cars<br>e/km=%{x}<extra></extra>",
           "ids": [
            "Carbon monoxide (CO)"
           ],
           "legendgroup": "Carbon monoxide (CO)",
           "marker": {
            "color": "#636efa",
            "pattern": {
             "shape": ""
            }
           },
           "name": "Carbon monoxide (CO)",
           "offsetgroup": "Carbon monoxide (CO)",
           "orientation": "h",
           "showlegend": false,
           "textposition": "auto",
           "type": "bar",
           "x": [
            0.004672283106094384
           ],
           "xaxis": "x",
           "y": [
            "Carbon monoxide (CO)"
           ],
           "yaxis": "y"
          },
          {
           "alignmentgroup": "True",
           "hovertemplate": "Emission Type=%{y}<br>Year=1994<br>Sources=Road traffic, freight vehicles<br>e/km=%{x}<extra></extra>",
           "ids": [
            "Nitrogen oxides (NOx)"
           ],
           "legendgroup": "Nitrogen oxides (NOx)",
           "marker": {
            "color": "#EF553B",
            "pattern": {
             "shape": ""
            }
           },
           "name": "Nitrogen oxides (NOx)",
           "offsetgroup": "Nitrogen oxides (NOx)",
           "orientation": "h",
           "showlegend": true,
           "textposition": "auto",
           "type": "bar",
           "x": [
            0.00594101039226287
           ],
           "xaxis": "x2",
           "y": [
            "Nitrogen oxides (NOx)"
           ],
           "yaxis": "y2"
          },
          {
           "alignmentgroup": "True",
           "hovertemplate": "Emission Type=%{y}<br>Year=1994<br>Sources=Road traffic, passenger cars<br>e/km=%{x}<extra></extra>",
           "ids": [
            "Nitrogen oxides (NOx)"
           ],
           "legendgroup": "Nitrogen oxides (NOx)",
           "marker": {
            "color": "#EF553B",
            "pattern": {
             "shape": ""
            }
           },
           "name": "Nitrogen oxides (NOx)",
           "offsetgroup": "Nitrogen oxides (NOx)",
           "orientation": "h",
           "showlegend": false,
           "textposition": "auto",
           "type": "bar",
           "x": [
            0.0011803909605050103
           ],
           "xaxis": "x",
           "y": [
            "Nitrogen oxides (NOx)"
           ],
           "yaxis": "y"
          }
         ],
         "name": "1994"
        },
        {
         "data": [
          {
           "alignmentgroup": "True",
           "hovertemplate": "Emission Type=%{y}<br>Year=1995<br>Sources=Road traffic, freight vehicles<br>e/km=%{x}<extra></extra>",
           "ids": [
            "Carbon monoxide (CO)"
           ],
           "legendgroup": "Carbon monoxide (CO)",
           "marker": {
            "color": "#636efa",
            "pattern": {
             "shape": ""
            }
           },
           "name": "Carbon monoxide (CO)",
           "offsetgroup": "Carbon monoxide (CO)",
           "orientation": "h",
           "showlegend": true,
           "textposition": "auto",
           "type": "bar",
           "x": [
            0.002998757910924469
           ],
           "xaxis": "x2",
           "y": [
            "Carbon monoxide (CO)"
           ],
           "yaxis": "y2"
          },
          {
           "alignmentgroup": "True",
           "hovertemplate": "Emission Type=%{y}<br>Year=1995<br>Sources=Road traffic, passenger cars<br>e/km=%{x}<extra></extra>",
           "ids": [
            "Carbon monoxide (CO)"
           ],
           "legendgroup": "Carbon monoxide (CO)",
           "marker": {
            "color": "#636efa",
            "pattern": {
             "shape": ""
            }
           },
           "name": "Carbon monoxide (CO)",
           "offsetgroup": "Carbon monoxide (CO)",
           "orientation": "h",
           "showlegend": false,
           "textposition": "auto",
           "type": "bar",
           "x": [
            0.004509696739233768
           ],
           "xaxis": "x",
           "y": [
            "Carbon monoxide (CO)"
           ],
           "yaxis": "y"
          },
          {
           "alignmentgroup": "True",
           "hovertemplate": "Emission Type=%{y}<br>Year=1995<br>Sources=Road traffic, freight vehicles<br>e/km=%{x}<extra></extra>",
           "ids": [
            "Nitrogen oxides (NOx)"
           ],
           "legendgroup": "Nitrogen oxides (NOx)",
           "marker": {
            "color": "#EF553B",
            "pattern": {
             "shape": ""
            }
           },
           "name": "Nitrogen oxides (NOx)",
           "offsetgroup": "Nitrogen oxides (NOx)",
           "orientation": "h",
           "showlegend": true,
           "textposition": "auto",
           "type": "bar",
           "x": [
            0.005624889099189684
           ],
           "xaxis": "x2",
           "y": [
            "Nitrogen oxides (NOx)"
           ],
           "yaxis": "y2"
          },
          {
           "alignmentgroup": "True",
           "hovertemplate": "Emission Type=%{y}<br>Year=1995<br>Sources=Road traffic, passenger cars<br>e/km=%{x}<extra></extra>",
           "ids": [
            "Nitrogen oxides (NOx)"
           ],
           "legendgroup": "Nitrogen oxides (NOx)",
           "marker": {
            "color": "#EF553B",
            "pattern": {
             "shape": ""
            }
           },
           "name": "Nitrogen oxides (NOx)",
           "offsetgroup": "Nitrogen oxides (NOx)",
           "orientation": "h",
           "showlegend": false,
           "textposition": "auto",
           "type": "bar",
           "x": [
            0.0010837532084798935
           ],
           "xaxis": "x",
           "y": [
            "Nitrogen oxides (NOx)"
           ],
           "yaxis": "y"
          }
         ],
         "name": "1995"
        },
        {
         "data": [
          {
           "alignmentgroup": "True",
           "hovertemplate": "Emission Type=%{y}<br>Year=1996<br>Sources=Road traffic, freight vehicles<br>e/km=%{x}<extra></extra>",
           "ids": [
            "Carbon monoxide (CO)"
           ],
           "legendgroup": "Carbon monoxide (CO)",
           "marker": {
            "color": "#636efa",
            "pattern": {
             "shape": ""
            }
           },
           "name": "Carbon monoxide (CO)",
           "offsetgroup": "Carbon monoxide (CO)",
           "orientation": "h",
           "showlegend": true,
           "textposition": "auto",
           "type": "bar",
           "x": [
            0.0025973271353864034
           ],
           "xaxis": "x2",
           "y": [
            "Carbon monoxide (CO)"
           ],
           "yaxis": "y2"
          },
          {
           "alignmentgroup": "True",
           "hovertemplate": "Emission Type=%{y}<br>Year=1996<br>Sources=Road traffic, passenger cars<br>e/km=%{x}<extra></extra>",
           "ids": [
            "Carbon monoxide (CO)"
           ],
           "legendgroup": "Carbon monoxide (CO)",
           "marker": {
            "color": "#636efa",
            "pattern": {
             "shape": ""
            }
           },
           "name": "Carbon monoxide (CO)",
           "offsetgroup": "Carbon monoxide (CO)",
           "orientation": "h",
           "showlegend": false,
           "textposition": "auto",
           "type": "bar",
           "x": [
            0.00426550267398453
           ],
           "xaxis": "x",
           "y": [
            "Carbon monoxide (CO)"
           ],
           "yaxis": "y"
          },
          {
           "alignmentgroup": "True",
           "hovertemplate": "Emission Type=%{y}<br>Year=1996<br>Sources=Road traffic, freight vehicles<br>e/km=%{x}<extra></extra>",
           "ids": [
            "Nitrogen oxides (NOx)"
           ],
           "legendgroup": "Nitrogen oxides (NOx)",
           "marker": {
            "color": "#EF553B",
            "pattern": {
             "shape": ""
            }
           },
           "name": "Nitrogen oxides (NOx)",
           "offsetgroup": "Nitrogen oxides (NOx)",
           "orientation": "h",
           "showlegend": true,
           "textposition": "auto",
           "type": "bar",
           "x": [
            0.005188843695525857
           ],
           "xaxis": "x2",
           "y": [
            "Nitrogen oxides (NOx)"
           ],
           "yaxis": "y2"
          },
          {
           "alignmentgroup": "True",
           "hovertemplate": "Emission Type=%{y}<br>Year=1996<br>Sources=Road traffic, passenger cars<br>e/km=%{x}<extra></extra>",
           "ids": [
            "Nitrogen oxides (NOx)"
           ],
           "legendgroup": "Nitrogen oxides (NOx)",
           "marker": {
            "color": "#EF553B",
            "pattern": {
             "shape": ""
            }
           },
           "name": "Nitrogen oxides (NOx)",
           "offsetgroup": "Nitrogen oxides (NOx)",
           "orientation": "h",
           "showlegend": false,
           "textposition": "auto",
           "type": "bar",
           "x": [
            0.0010087416474553264
           ],
           "xaxis": "x",
           "y": [
            "Nitrogen oxides (NOx)"
           ],
           "yaxis": "y"
          }
         ],
         "name": "1996"
        },
        {
         "data": [
          {
           "alignmentgroup": "True",
           "hovertemplate": "Emission Type=%{y}<br>Year=1997<br>Sources=Road traffic, freight vehicles<br>e/km=%{x}<extra></extra>",
           "ids": [
            "Carbon monoxide (CO)"
           ],
           "legendgroup": "Carbon monoxide (CO)",
           "marker": {
            "color": "#636efa",
            "pattern": {
             "shape": ""
            }
           },
           "name": "Carbon monoxide (CO)",
           "offsetgroup": "Carbon monoxide (CO)",
           "orientation": "h",
           "showlegend": true,
           "textposition": "auto",
           "type": "bar",
           "x": [
            0.0022018145607435274
           ],
           "xaxis": "x2",
           "y": [
            "Carbon monoxide (CO)"
           ],
           "yaxis": "y2"
          },
          {
           "alignmentgroup": "True",
           "hovertemplate": "Emission Type=%{y}<br>Year=1997<br>Sources=Road traffic, passenger cars<br>e/km=%{x}<extra></extra>",
           "ids": [
            "Carbon monoxide (CO)"
           ],
           "legendgroup": "Carbon monoxide (CO)",
           "marker": {
            "color": "#636efa",
            "pattern": {
             "shape": ""
            }
           },
           "name": "Carbon monoxide (CO)",
           "offsetgroup": "Carbon monoxide (CO)",
           "orientation": "h",
           "showlegend": false,
           "textposition": "auto",
           "type": "bar",
           "x": [
            0.003924085449711194
           ],
           "xaxis": "x",
           "y": [
            "Carbon monoxide (CO)"
           ],
           "yaxis": "y"
          },
          {
           "alignmentgroup": "True",
           "hovertemplate": "Emission Type=%{y}<br>Year=1997<br>Sources=Road traffic, freight vehicles<br>e/km=%{x}<extra></extra>",
           "ids": [
            "Nitrogen oxides (NOx)"
           ],
           "legendgroup": "Nitrogen oxides (NOx)",
           "marker": {
            "color": "#EF553B",
            "pattern": {
             "shape": ""
            }
           },
           "name": "Nitrogen oxides (NOx)",
           "offsetgroup": "Nitrogen oxides (NOx)",
           "orientation": "h",
           "showlegend": true,
           "textposition": "auto",
           "type": "bar",
           "x": [
            0.004774286346536844
           ],
           "xaxis": "x2",
           "y": [
            "Nitrogen oxides (NOx)"
           ],
           "yaxis": "y2"
          },
          {
           "alignmentgroup": "True",
           "hovertemplate": "Emission Type=%{y}<br>Year=1997<br>Sources=Road traffic, passenger cars<br>e/km=%{x}<extra></extra>",
           "ids": [
            "Nitrogen oxides (NOx)"
           ],
           "legendgroup": "Nitrogen oxides (NOx)",
           "marker": {
            "color": "#EF553B",
            "pattern": {
             "shape": ""
            }
           },
           "name": "Nitrogen oxides (NOx)",
           "offsetgroup": "Nitrogen oxides (NOx)",
           "orientation": "h",
           "showlegend": false,
           "textposition": "auto",
           "type": "bar",
           "x": [
            0.0009111121298248831
           ],
           "xaxis": "x",
           "y": [
            "Nitrogen oxides (NOx)"
           ],
           "yaxis": "y"
          }
         ],
         "name": "1997"
        },
        {
         "data": [
          {
           "alignmentgroup": "True",
           "hovertemplate": "Emission Type=%{y}<br>Year=1998<br>Sources=Road traffic, freight vehicles<br>e/km=%{x}<extra></extra>",
           "ids": [
            "Carbon monoxide (CO)"
           ],
           "legendgroup": "Carbon monoxide (CO)",
           "marker": {
            "color": "#636efa",
            "pattern": {
             "shape": ""
            }
           },
           "name": "Carbon monoxide (CO)",
           "offsetgroup": "Carbon monoxide (CO)",
           "orientation": "h",
           "showlegend": true,
           "textposition": "auto",
           "type": "bar",
           "x": [
            0.0018655549765502866
           ],
           "xaxis": "x2",
           "y": [
            "Carbon monoxide (CO)"
           ],
           "yaxis": "y2"
          },
          {
           "alignmentgroup": "True",
           "hovertemplate": "Emission Type=%{y}<br>Year=1998<br>Sources=Road traffic, passenger cars<br>e/km=%{x}<extra></extra>",
           "ids": [
            "Carbon monoxide (CO)"
           ],
           "legendgroup": "Carbon monoxide (CO)",
           "marker": {
            "color": "#636efa",
            "pattern": {
             "shape": ""
            }
           },
           "name": "Carbon monoxide (CO)",
           "offsetgroup": "Carbon monoxide (CO)",
           "orientation": "h",
           "showlegend": false,
           "textposition": "auto",
           "type": "bar",
           "x": [
            0.003629637932967156
           ],
           "xaxis": "x",
           "y": [
            "Carbon monoxide (CO)"
           ],
           "yaxis": "y"
          },
          {
           "alignmentgroup": "True",
           "hovertemplate": "Emission Type=%{y}<br>Year=1998<br>Sources=Road traffic, freight vehicles<br>e/km=%{x}<extra></extra>",
           "ids": [
            "Nitrogen oxides (NOx)"
           ],
           "legendgroup": "Nitrogen oxides (NOx)",
           "marker": {
            "color": "#EF553B",
            "pattern": {
             "shape": ""
            }
           },
           "name": "Nitrogen oxides (NOx)",
           "offsetgroup": "Nitrogen oxides (NOx)",
           "orientation": "h",
           "showlegend": true,
           "textposition": "auto",
           "type": "bar",
           "x": [
            0.00440333507034914
           ],
           "xaxis": "x2",
           "y": [
            "Nitrogen oxides (NOx)"
           ],
           "yaxis": "y2"
          },
          {
           "alignmentgroup": "True",
           "hovertemplate": "Emission Type=%{y}<br>Year=1998<br>Sources=Road traffic, passenger cars<br>e/km=%{x}<extra></extra>",
           "ids": [
            "Nitrogen oxides (NOx)"
           ],
           "legendgroup": "Nitrogen oxides (NOx)",
           "marker": {
            "color": "#EF553B",
            "pattern": {
             "shape": ""
            }
           },
           "name": "Nitrogen oxides (NOx)",
           "offsetgroup": "Nitrogen oxides (NOx)",
           "orientation": "h",
           "showlegend": false,
           "textposition": "auto",
           "type": "bar",
           "x": [
            0.0008272615177670665
           ],
           "xaxis": "x",
           "y": [
            "Nitrogen oxides (NOx)"
           ],
           "yaxis": "y"
          }
         ],
         "name": "1998"
        },
        {
         "data": [
          {
           "alignmentgroup": "True",
           "hovertemplate": "Emission Type=%{y}<br>Year=1999<br>Sources=Road traffic, freight vehicles<br>e/km=%{x}<extra></extra>",
           "ids": [
            "Carbon monoxide (CO)"
           ],
           "legendgroup": "Carbon monoxide (CO)",
           "marker": {
            "color": "#636efa",
            "pattern": {
             "shape": ""
            }
           },
           "name": "Carbon monoxide (CO)",
           "offsetgroup": "Carbon monoxide (CO)",
           "orientation": "h",
           "showlegend": true,
           "textposition": "auto",
           "type": "bar",
           "x": [
            0.001588896865278775
           ],
           "xaxis": "x2",
           "y": [
            "Carbon monoxide (CO)"
           ],
           "yaxis": "y2"
          },
          {
           "alignmentgroup": "True",
           "hovertemplate": "Emission Type=%{y}<br>Year=1999<br>Sources=Road traffic, passenger cars<br>e/km=%{x}<extra></extra>",
           "ids": [
            "Carbon monoxide (CO)"
           ],
           "legendgroup": "Carbon monoxide (CO)",
           "marker": {
            "color": "#636efa",
            "pattern": {
             "shape": ""
            }
           },
           "name": "Carbon monoxide (CO)",
           "offsetgroup": "Carbon monoxide (CO)",
           "orientation": "h",
           "showlegend": false,
           "textposition": "auto",
           "type": "bar",
           "x": [
            0.003414602529895326
           ],
           "xaxis": "x",
           "y": [
            "Carbon monoxide (CO)"
           ],
           "yaxis": "y"
          },
          {
           "alignmentgroup": "True",
           "hovertemplate": "Emission Type=%{y}<br>Year=1999<br>Sources=Road traffic, freight vehicles<br>e/km=%{x}<extra></extra>",
           "ids": [
            "Nitrogen oxides (NOx)"
           ],
           "legendgroup": "Nitrogen oxides (NOx)",
           "marker": {
            "color": "#EF553B",
            "pattern": {
             "shape": ""
            }
           },
           "name": "Nitrogen oxides (NOx)",
           "offsetgroup": "Nitrogen oxides (NOx)",
           "orientation": "h",
           "showlegend": true,
           "textposition": "auto",
           "type": "bar",
           "x": [
            0.0041923905240488155
           ],
           "xaxis": "x2",
           "y": [
            "Nitrogen oxides (NOx)"
           ],
           "yaxis": "y2"
          },
          {
           "alignmentgroup": "True",
           "hovertemplate": "Emission Type=%{y}<br>Year=1999<br>Sources=Road traffic, passenger cars<br>e/km=%{x}<extra></extra>",
           "ids": [
            "Nitrogen oxides (NOx)"
           ],
           "legendgroup": "Nitrogen oxides (NOx)",
           "marker": {
            "color": "#EF553B",
            "pattern": {
             "shape": ""
            }
           },
           "name": "Nitrogen oxides (NOx)",
           "offsetgroup": "Nitrogen oxides (NOx)",
           "orientation": "h",
           "showlegend": false,
           "textposition": "auto",
           "type": "bar",
           "x": [
            0.0007572402320330982
           ],
           "xaxis": "x",
           "y": [
            "Nitrogen oxides (NOx)"
           ],
           "yaxis": "y"
          }
         ],
         "name": "1999"
        },
        {
         "data": [
          {
           "alignmentgroup": "True",
           "hovertemplate": "Emission Type=%{y}<br>Year=2000<br>Sources=Road traffic, freight vehicles<br>e/km=%{x}<extra></extra>",
           "ids": [
            "Carbon monoxide (CO)"
           ],
           "legendgroup": "Carbon monoxide (CO)",
           "marker": {
            "color": "#636efa",
            "pattern": {
             "shape": ""
            }
           },
           "name": "Carbon monoxide (CO)",
           "offsetgroup": "Carbon monoxide (CO)",
           "orientation": "h",
           "showlegend": true,
           "textposition": "auto",
           "type": "bar",
           "x": [
            0.0013610056068005065
           ],
           "xaxis": "x2",
           "y": [
            "Carbon monoxide (CO)"
           ],
           "yaxis": "y2"
          },
          {
           "alignmentgroup": "True",
           "hovertemplate": "Emission Type=%{y}<br>Year=2000<br>Sources=Road traffic, passenger cars<br>e/km=%{x}<extra></extra>",
           "ids": [
            "Carbon monoxide (CO)"
           ],
           "legendgroup": "Carbon monoxide (CO)",
           "marker": {
            "color": "#636efa",
            "pattern": {
             "shape": ""
            }
           },
           "name": "Carbon monoxide (CO)",
           "offsetgroup": "Carbon monoxide (CO)",
           "orientation": "h",
           "showlegend": false,
           "textposition": "auto",
           "type": "bar",
           "x": [
            0.0032554346659799567
           ],
           "xaxis": "x",
           "y": [
            "Carbon monoxide (CO)"
           ],
           "yaxis": "y"
          },
          {
           "alignmentgroup": "True",
           "hovertemplate": "Emission Type=%{y}<br>Year=2000<br>Sources=Road traffic, freight vehicles<br>e/km=%{x}<extra></extra>",
           "ids": [
            "Nitrogen oxides (NOx)"
           ],
           "legendgroup": "Nitrogen oxides (NOx)",
           "marker": {
            "color": "#EF553B",
            "pattern": {
             "shape": ""
            }
           },
           "name": "Nitrogen oxides (NOx)",
           "offsetgroup": "Nitrogen oxides (NOx)",
           "orientation": "h",
           "showlegend": true,
           "textposition": "auto",
           "type": "bar",
           "x": [
            0.003906673901247965
           ],
           "xaxis": "x2",
           "y": [
            "Nitrogen oxides (NOx)"
           ],
           "yaxis": "y2"
          },
          {
           "alignmentgroup": "True",
           "hovertemplate": "Emission Type=%{y}<br>Year=2000<br>Sources=Road traffic, passenger cars<br>e/km=%{x}<extra></extra>",
           "ids": [
            "Nitrogen oxides (NOx)"
           ],
           "legendgroup": "Nitrogen oxides (NOx)",
           "marker": {
            "color": "#EF553B",
            "pattern": {
             "shape": ""
            }
           },
           "name": "Nitrogen oxides (NOx)",
           "offsetgroup": "Nitrogen oxides (NOx)",
           "orientation": "h",
           "showlegend": false,
           "textposition": "auto",
           "type": "bar",
           "x": [
            0.0006759801712483101
           ],
           "xaxis": "x",
           "y": [
            "Nitrogen oxides (NOx)"
           ],
           "yaxis": "y"
          }
         ],
         "name": "2000"
        },
        {
         "data": [
          {
           "alignmentgroup": "True",
           "hovertemplate": "Emission Type=%{y}<br>Year=2001<br>Sources=Road traffic, freight vehicles<br>e/km=%{x}<extra></extra>",
           "ids": [
            "Carbon monoxide (CO)"
           ],
           "legendgroup": "Carbon monoxide (CO)",
           "marker": {
            "color": "#636efa",
            "pattern": {
             "shape": ""
            }
           },
           "name": "Carbon monoxide (CO)",
           "offsetgroup": "Carbon monoxide (CO)",
           "orientation": "h",
           "showlegend": true,
           "textposition": "auto",
           "type": "bar",
           "x": [
            0.0012048192771084338
           ],
           "xaxis": "x2",
           "y": [
            "Carbon monoxide (CO)"
           ],
           "yaxis": "y2"
          },
          {
           "alignmentgroup": "True",
           "hovertemplate": "Emission Type=%{y}<br>Year=2001<br>Sources=Road traffic, passenger cars<br>e/km=%{x}<extra></extra>",
           "ids": [
            "Carbon monoxide (CO)"
           ],
           "legendgroup": "Carbon monoxide (CO)",
           "marker": {
            "color": "#636efa",
            "pattern": {
             "shape": ""
            }
           },
           "name": "Carbon monoxide (CO)",
           "offsetgroup": "Carbon monoxide (CO)",
           "orientation": "h",
           "showlegend": false,
           "textposition": "auto",
           "type": "bar",
           "x": [
            0.0032313913866339637
           ],
           "xaxis": "x",
           "y": [
            "Carbon monoxide (CO)"
           ],
           "yaxis": "y"
          },
          {
           "alignmentgroup": "True",
           "hovertemplate": "Emission Type=%{y}<br>Year=2001<br>Sources=Road traffic, freight vehicles<br>e/km=%{x}<extra></extra>",
           "ids": [
            "Nitrogen oxides (NOx)"
           ],
           "legendgroup": "Nitrogen oxides (NOx)",
           "marker": {
            "color": "#EF553B",
            "pattern": {
             "shape": ""
            }
           },
           "name": "Nitrogen oxides (NOx)",
           "offsetgroup": "Nitrogen oxides (NOx)",
           "orientation": "h",
           "showlegend": true,
           "textposition": "auto",
           "type": "bar",
           "x": [
            0.0037057979209255795
           ],
           "xaxis": "x2",
           "y": [
            "Nitrogen oxides (NOx)"
           ],
           "yaxis": "y2"
          },
          {
           "alignmentgroup": "True",
           "hovertemplate": "Emission Type=%{y}<br>Year=2001<br>Sources=Road traffic, passenger cars<br>e/km=%{x}<extra></extra>",
           "ids": [
            "Nitrogen oxides (NOx)"
           ],
           "legendgroup": "Nitrogen oxides (NOx)",
           "marker": {
            "color": "#EF553B",
            "pattern": {
             "shape": ""
            }
           },
           "name": "Nitrogen oxides (NOx)",
           "offsetgroup": "Nitrogen oxides (NOx)",
           "orientation": "h",
           "showlegend": false,
           "textposition": "auto",
           "type": "bar",
           "x": [
            0.0006099967325392413
           ],
           "xaxis": "x",
           "y": [
            "Nitrogen oxides (NOx)"
           ],
           "yaxis": "y"
          }
         ],
         "name": "2001"
        },
        {
         "data": [
          {
           "alignmentgroup": "True",
           "hovertemplate": "Emission Type=%{y}<br>Year=2002<br>Sources=Road traffic, freight vehicles<br>e/km=%{x}<extra></extra>",
           "ids": [
            "Carbon monoxide (CO)"
           ],
           "legendgroup": "Carbon monoxide (CO)",
           "marker": {
            "color": "#636efa",
            "pattern": {
             "shape": ""
            }
           },
           "name": "Carbon monoxide (CO)",
           "offsetgroup": "Carbon monoxide (CO)",
           "orientation": "h",
           "showlegend": true,
           "textposition": "auto",
           "type": "bar",
           "x": [
            0.0010984561306775105
           ],
           "xaxis": "x2",
           "y": [
            "Carbon monoxide (CO)"
           ],
           "yaxis": "y2"
          },
          {
           "alignmentgroup": "True",
           "hovertemplate": "Emission Type=%{y}<br>Year=2002<br>Sources=Road traffic, passenger cars<br>e/km=%{x}<extra></extra>",
           "ids": [
            "Carbon monoxide (CO)"
           ],
           "legendgroup": "Carbon monoxide (CO)",
           "marker": {
            "color": "#636efa",
            "pattern": {
             "shape": ""
            }
           },
           "name": "Carbon monoxide (CO)",
           "offsetgroup": "Carbon monoxide (CO)",
           "orientation": "h",
           "showlegend": false,
           "textposition": "auto",
           "type": "bar",
           "x": [
            0.0032175219367050994
           ],
           "xaxis": "x",
           "y": [
            "Carbon monoxide (CO)"
           ],
           "yaxis": "y"
          },
          {
           "alignmentgroup": "True",
           "hovertemplate": "Emission Type=%{y}<br>Year=2002<br>Sources=Road traffic, freight vehicles<br>e/km=%{x}<extra></extra>",
           "ids": [
            "Nitrogen oxides (NOx)"
           ],
           "legendgroup": "Nitrogen oxides (NOx)",
           "marker": {
            "color": "#EF553B",
            "pattern": {
             "shape": ""
            }
           },
           "name": "Nitrogen oxides (NOx)",
           "offsetgroup": "Nitrogen oxides (NOx)",
           "orientation": "h",
           "showlegend": true,
           "textposition": "auto",
           "type": "bar",
           "x": [
            0.003601213040181956
           ],
           "xaxis": "x2",
           "y": [
            "Nitrogen oxides (NOx)"
           ],
           "yaxis": "y2"
          },
          {
           "alignmentgroup": "True",
           "hovertemplate": "Emission Type=%{y}<br>Year=2002<br>Sources=Road traffic, passenger cars<br>e/km=%{x}<extra></extra>",
           "ids": [
            "Nitrogen oxides (NOx)"
           ],
           "legendgroup": "Nitrogen oxides (NOx)",
           "marker": {
            "color": "#EF553B",
            "pattern": {
             "shape": ""
            }
           },
           "name": "Nitrogen oxides (NOx)",
           "offsetgroup": "Nitrogen oxides (NOx)",
           "orientation": "h",
           "showlegend": false,
           "textposition": "auto",
           "type": "bar",
           "x": [
            0.0005516642390669705
           ],
           "xaxis": "x",
           "y": [
            "Nitrogen oxides (NOx)"
           ],
           "yaxis": "y"
          }
         ],
         "name": "2002"
        },
        {
         "data": [
          {
           "alignmentgroup": "True",
           "hovertemplate": "Emission Type=%{y}<br>Year=2003<br>Sources=Road traffic, freight vehicles<br>e/km=%{x}<extra></extra>",
           "ids": [
            "Carbon monoxide (CO)"
           ],
           "legendgroup": "Carbon monoxide (CO)",
           "marker": {
            "color": "#636efa",
            "pattern": {
             "shape": ""
            }
           },
           "name": "Carbon monoxide (CO)",
           "offsetgroup": "Carbon monoxide (CO)",
           "orientation": "h",
           "showlegend": true,
           "textposition": "auto",
           "type": "bar",
           "x": [
            0.0010033784641959001
           ],
           "xaxis": "x2",
           "y": [
            "Carbon monoxide (CO)"
           ],
           "yaxis": "y2"
          },
          {
           "alignmentgroup": "True",
           "hovertemplate": "Emission Type=%{y}<br>Year=2003<br>Sources=Road traffic, passenger cars<br>e/km=%{x}<extra></extra>",
           "ids": [
            "Carbon monoxide (CO)"
           ],
           "legendgroup": "Carbon monoxide (CO)",
           "marker": {
            "color": "#636efa",
            "pattern": {
             "shape": ""
            }
           },
           "name": "Carbon monoxide (CO)",
           "offsetgroup": "Carbon monoxide (CO)",
           "orientation": "h",
           "showlegend": false,
           "textposition": "auto",
           "type": "bar",
           "x": [
            0.00321410716907066
           ],
           "xaxis": "x",
           "y": [
            "Carbon monoxide (CO)"
           ],
           "yaxis": "y"
          },
          {
           "alignmentgroup": "True",
           "hovertemplate": "Emission Type=%{y}<br>Year=2003<br>Sources=Road traffic, freight vehicles<br>e/km=%{x}<extra></extra>",
           "ids": [
            "Nitrogen oxides (NOx)"
           ],
           "legendgroup": "Nitrogen oxides (NOx)",
           "marker": {
            "color": "#EF553B",
            "pattern": {
             "shape": ""
            }
           },
           "name": "Nitrogen oxides (NOx)",
           "offsetgroup": "Nitrogen oxides (NOx)",
           "orientation": "h",
           "showlegend": true,
           "textposition": "auto",
           "type": "bar",
           "x": [
            0.003505474128076816
           ],
           "xaxis": "x2",
           "y": [
            "Nitrogen oxides (NOx)"
           ],
           "yaxis": "y2"
          },
          {
           "alignmentgroup": "True",
           "hovertemplate": "Emission Type=%{y}<br>Year=2003<br>Sources=Road traffic, passenger cars<br>e/km=%{x}<extra></extra>",
           "ids": [
            "Nitrogen oxides (NOx)"
           ],
           "legendgroup": "Nitrogen oxides (NOx)",
           "marker": {
            "color": "#EF553B",
            "pattern": {
             "shape": ""
            }
           },
           "name": "Nitrogen oxides (NOx)",
           "offsetgroup": "Nitrogen oxides (NOx)",
           "orientation": "h",
           "showlegend": false,
           "textposition": "auto",
           "type": "bar",
           "x": [
            0.0005081389487990983
           ],
           "xaxis": "x",
           "y": [
            "Nitrogen oxides (NOx)"
           ],
           "yaxis": "y"
          }
         ],
         "name": "2003"
        },
        {
         "data": [
          {
           "alignmentgroup": "True",
           "hovertemplate": "Emission Type=%{y}<br>Year=2004<br>Sources=Road traffic, freight vehicles<br>e/km=%{x}<extra></extra>",
           "ids": [
            "Carbon monoxide (CO)"
           ],
           "legendgroup": "Carbon monoxide (CO)",
           "marker": {
            "color": "#636efa",
            "pattern": {
             "shape": ""
            }
           },
           "name": "Carbon monoxide (CO)",
           "offsetgroup": "Carbon monoxide (CO)",
           "orientation": "h",
           "showlegend": true,
           "textposition": "auto",
           "type": "bar",
           "x": [
            0.0009464924464985926
           ],
           "xaxis": "x2",
           "y": [
            "Carbon monoxide (CO)"
           ],
           "yaxis": "y2"
          },
          {
           "alignmentgroup": "True",
           "hovertemplate": "Emission Type=%{y}<br>Year=2004<br>Sources=Road traffic, passenger cars<br>e/km=%{x}<extra></extra>",
           "ids": [
            "Carbon monoxide (CO)"
           ],
           "legendgroup": "Carbon monoxide (CO)",
           "marker": {
            "color": "#636efa",
            "pattern": {
             "shape": ""
            }
           },
           "name": "Carbon monoxide (CO)",
           "offsetgroup": "Carbon monoxide (CO)",
           "orientation": "h",
           "showlegend": false,
           "textposition": "auto",
           "type": "bar",
           "x": [
            0.003150893687105951
           ],
           "xaxis": "x",
           "y": [
            "Carbon monoxide (CO)"
           ],
           "yaxis": "y"
          },
          {
           "alignmentgroup": "True",
           "hovertemplate": "Emission Type=%{y}<br>Year=2004<br>Sources=Road traffic, freight vehicles<br>e/km=%{x}<extra></extra>",
           "ids": [
            "Nitrogen oxides (NOx)"
           ],
           "legendgroup": "Nitrogen oxides (NOx)",
           "marker": {
            "color": "#EF553B",
            "pattern": {
             "shape": ""
            }
           },
           "name": "Nitrogen oxides (NOx)",
           "offsetgroup": "Nitrogen oxides (NOx)",
           "orientation": "h",
           "showlegend": true,
           "textposition": "auto",
           "type": "bar",
           "x": [
            0.003421303865049025
           ],
           "xaxis": "x2",
           "y": [
            "Nitrogen oxides (NOx)"
           ],
           "yaxis": "y2"
          },
          {
           "alignmentgroup": "True",
           "hovertemplate": "Emission Type=%{y}<br>Year=2004<br>Sources=Road traffic, passenger cars<br>e/km=%{x}<extra></extra>",
           "ids": [
            "Nitrogen oxides (NOx)"
           ],
           "legendgroup": "Nitrogen oxides (NOx)",
           "marker": {
            "color": "#EF553B",
            "pattern": {
             "shape": ""
            }
           },
           "name": "Nitrogen oxides (NOx)",
           "offsetgroup": "Nitrogen oxides (NOx)",
           "orientation": "h",
           "showlegend": false,
           "textposition": "auto",
           "type": "bar",
           "x": [
            0.0004692820385051416
           ],
           "xaxis": "x",
           "y": [
            "Nitrogen oxides (NOx)"
           ],
           "yaxis": "y"
          }
         ],
         "name": "2004"
        },
        {
         "data": [
          {
           "alignmentgroup": "True",
           "hovertemplate": "Emission Type=%{y}<br>Year=2005<br>Sources=Road traffic, freight vehicles<br>e/km=%{x}<extra></extra>",
           "ids": [
            "Carbon monoxide (CO)"
           ],
           "legendgroup": "Carbon monoxide (CO)",
           "marker": {
            "color": "#636efa",
            "pattern": {
             "shape": ""
            }
           },
           "name": "Carbon monoxide (CO)",
           "offsetgroup": "Carbon monoxide (CO)",
           "orientation": "h",
           "showlegend": true,
           "textposition": "auto",
           "type": "bar",
           "x": [
            0.000890475554422223
           ],
           "xaxis": "x2",
           "y": [
            "Carbon monoxide (CO)"
           ],
           "yaxis": "y2"
          },
          {
           "alignmentgroup": "True",
           "hovertemplate": "Emission Type=%{y}<br>Year=2005<br>Sources=Road traffic, passenger cars<br>e/km=%{x}<extra></extra>",
           "ids": [
            "Carbon monoxide (CO)"
           ],
           "legendgroup": "Carbon monoxide (CO)",
           "marker": {
            "color": "#636efa",
            "pattern": {
             "shape": ""
            }
           },
           "name": "Carbon monoxide (CO)",
           "offsetgroup": "Carbon monoxide (CO)",
           "orientation": "h",
           "showlegend": false,
           "textposition": "auto",
           "type": "bar",
           "x": [
            0.0030933274374525775
           ],
           "xaxis": "x",
           "y": [
            "Carbon monoxide (CO)"
           ],
           "yaxis": "y"
          },
          {
           "alignmentgroup": "True",
           "hovertemplate": "Emission Type=%{y}<br>Year=2005<br>Sources=Road traffic, freight vehicles<br>e/km=%{x}<extra></extra>",
           "ids": [
            "Nitrogen oxides (NOx)"
           ],
           "legendgroup": "Nitrogen oxides (NOx)",
           "marker": {
            "color": "#EF553B",
            "pattern": {
             "shape": ""
            }
           },
           "name": "Nitrogen oxides (NOx)",
           "offsetgroup": "Nitrogen oxides (NOx)",
           "orientation": "h",
           "showlegend": true,
           "textposition": "auto",
           "type": "bar",
           "x": [
            0.003420235652212629
           ],
           "xaxis": "x2",
           "y": [
            "Nitrogen oxides (NOx)"
           ],
           "yaxis": "y2"
          },
          {
           "alignmentgroup": "True",
           "hovertemplate": "Emission Type=%{y}<br>Year=2005<br>Sources=Road traffic, passenger cars<br>e/km=%{x}<extra></extra>",
           "ids": [
            "Nitrogen oxides (NOx)"
           ],
           "legendgroup": "Nitrogen oxides (NOx)",
           "marker": {
            "color": "#EF553B",
            "pattern": {
             "shape": ""
            }
           },
           "name": "Nitrogen oxides (NOx)",
           "offsetgroup": "Nitrogen oxides (NOx)",
           "orientation": "h",
           "showlegend": false,
           "textposition": "auto",
           "type": "bar",
           "x": [
            0.0004351561989658759
           ],
           "xaxis": "x",
           "y": [
            "Nitrogen oxides (NOx)"
           ],
           "yaxis": "y"
          }
         ],
         "name": "2005"
        },
        {
         "data": [
          {
           "alignmentgroup": "True",
           "hovertemplate": "Emission Type=%{y}<br>Year=2006<br>Sources=Road traffic, freight vehicles<br>e/km=%{x}<extra></extra>",
           "ids": [
            "Carbon monoxide (CO)"
           ],
           "legendgroup": "Carbon monoxide (CO)",
           "marker": {
            "color": "#636efa",
            "pattern": {
             "shape": ""
            }
           },
           "name": "Carbon monoxide (CO)",
           "offsetgroup": "Carbon monoxide (CO)",
           "orientation": "h",
           "showlegend": true,
           "textposition": "auto",
           "type": "bar",
           "x": [
            0.000884326754603458
           ],
           "xaxis": "x2",
           "y": [
            "Carbon monoxide (CO)"
           ],
           "yaxis": "y2"
          },
          {
           "alignmentgroup": "True",
           "hovertemplate": "Emission Type=%{y}<br>Year=2006<br>Sources=Road traffic, passenger cars<br>e/km=%{x}<extra></extra>",
           "ids": [
            "Carbon monoxide (CO)"
           ],
           "legendgroup": "Carbon monoxide (CO)",
           "marker": {
            "color": "#636efa",
            "pattern": {
             "shape": ""
            }
           },
           "name": "Carbon monoxide (CO)",
           "offsetgroup": "Carbon monoxide (CO)",
           "orientation": "h",
           "showlegend": false,
           "textposition": "auto",
           "type": "bar",
           "x": [
            0.0030377741038715694
           ],
           "xaxis": "x",
           "y": [
            "Carbon monoxide (CO)"
           ],
           "yaxis": "y"
          },
          {
           "alignmentgroup": "True",
           "hovertemplate": "Emission Type=%{y}<br>Year=2006<br>Sources=Road traffic, freight vehicles<br>e/km=%{x}<extra></extra>",
           "ids": [
            "Nitrogen oxides (NOx)"
           ],
           "legendgroup": "Nitrogen oxides (NOx)",
           "marker": {
            "color": "#EF553B",
            "pattern": {
             "shape": ""
            }
           },
           "name": "Nitrogen oxides (NOx)",
           "offsetgroup": "Nitrogen oxides (NOx)",
           "orientation": "h",
           "showlegend": true,
           "textposition": "auto",
           "type": "bar",
           "x": [
            0.0034835862342556777
           ],
           "xaxis": "x2",
           "y": [
            "Nitrogen oxides (NOx)"
           ],
           "yaxis": "y2"
          },
          {
           "alignmentgroup": "True",
           "hovertemplate": "Emission Type=%{y}<br>Year=2006<br>Sources=Road traffic, passenger cars<br>e/km=%{x}<extra></extra>",
           "ids": [
            "Nitrogen oxides (NOx)"
           ],
           "legendgroup": "Nitrogen oxides (NOx)",
           "marker": {
            "color": "#EF553B",
            "pattern": {
             "shape": ""
            }
           },
           "name": "Nitrogen oxides (NOx)",
           "offsetgroup": "Nitrogen oxides (NOx)",
           "orientation": "h",
           "showlegend": false,
           "textposition": "auto",
           "type": "bar",
           "x": [
            0.0004070935807612949
           ],
           "xaxis": "x",
           "y": [
            "Nitrogen oxides (NOx)"
           ],
           "yaxis": "y"
          }
         ],
         "name": "2006"
        },
        {
         "data": [
          {
           "alignmentgroup": "True",
           "hovertemplate": "Emission Type=%{y}<br>Year=2007<br>Sources=Road traffic, freight vehicles<br>e/km=%{x}<extra></extra>",
           "ids": [
            "Carbon monoxide (CO)"
           ],
           "legendgroup": "Carbon monoxide (CO)",
           "marker": {
            "color": "#636efa",
            "pattern": {
             "shape": ""
            }
           },
           "name": "Carbon monoxide (CO)",
           "offsetgroup": "Carbon monoxide (CO)",
           "orientation": "h",
           "showlegend": true,
           "textposition": "auto",
           "type": "bar",
           "x": [
            0.0008702480409299916
           ],
           "xaxis": "x2",
           "y": [
            "Carbon monoxide (CO)"
           ],
           "yaxis": "y2"
          },
          {
           "alignmentgroup": "True",
           "hovertemplate": "Emission Type=%{y}<br>Year=2007<br>Sources=Road traffic, passenger cars<br>e/km=%{x}<extra></extra>",
           "ids": [
            "Carbon monoxide (CO)"
           ],
           "legendgroup": "Carbon monoxide (CO)",
           "marker": {
            "color": "#636efa",
            "pattern": {
             "shape": ""
            }
           },
           "name": "Carbon monoxide (CO)",
           "offsetgroup": "Carbon monoxide (CO)",
           "orientation": "h",
           "showlegend": false,
           "textposition": "auto",
           "type": "bar",
           "x": [
            0.003015112738998067
           ],
           "xaxis": "x",
           "y": [
            "Carbon monoxide (CO)"
           ],
           "yaxis": "y"
          },
          {
           "alignmentgroup": "True",
           "hovertemplate": "Emission Type=%{y}<br>Year=2007<br>Sources=Road traffic, freight vehicles<br>e/km=%{x}<extra></extra>",
           "ids": [
            "Nitrogen oxides (NOx)"
           ],
           "legendgroup": "Nitrogen oxides (NOx)",
           "marker": {
            "color": "#EF553B",
            "pattern": {
             "shape": ""
            }
           },
           "name": "Nitrogen oxides (NOx)",
           "offsetgroup": "Nitrogen oxides (NOx)",
           "orientation": "h",
           "showlegend": true,
           "textposition": "auto",
           "type": "bar",
           "x": [
            0.003448610841266757
           ],
           "xaxis": "x2",
           "y": [
            "Nitrogen oxides (NOx)"
           ],
           "yaxis": "y2"
          },
          {
           "alignmentgroup": "True",
           "hovertemplate": "Emission Type=%{y}<br>Year=2007<br>Sources=Road traffic, passenger cars<br>e/km=%{x}<extra></extra>",
           "ids": [
            "Nitrogen oxides (NOx)"
           ],
           "legendgroup": "Nitrogen oxides (NOx)",
           "marker": {
            "color": "#EF553B",
            "pattern": {
             "shape": ""
            }
           },
           "name": "Nitrogen oxides (NOx)",
           "offsetgroup": "Nitrogen oxides (NOx)",
           "orientation": "h",
           "showlegend": false,
           "textposition": "auto",
           "type": "bar",
           "x": [
            0.00038251430270870996
           ],
           "xaxis": "x",
           "y": [
            "Nitrogen oxides (NOx)"
           ],
           "yaxis": "y"
          }
         ],
         "name": "2007"
        },
        {
         "data": [
          {
           "alignmentgroup": "True",
           "hovertemplate": "Emission Type=%{y}<br>Year=2008<br>Sources=Road traffic, freight vehicles<br>e/km=%{x}<extra></extra>",
           "ids": [
            "Carbon monoxide (CO)"
           ],
           "legendgroup": "Carbon monoxide (CO)",
           "marker": {
            "color": "#636efa",
            "pattern": {
             "shape": ""
            }
           },
           "name": "Carbon monoxide (CO)",
           "offsetgroup": "Carbon monoxide (CO)",
           "orientation": "h",
           "showlegend": true,
           "textposition": "auto",
           "type": "bar",
           "x": [
            0.0008580622095101895
           ],
           "xaxis": "x2",
           "y": [
            "Carbon monoxide (CO)"
           ],
           "yaxis": "y2"
          },
          {
           "alignmentgroup": "True",
           "hovertemplate": "Emission Type=%{y}<br>Year=2008<br>Sources=Road traffic, passenger cars<br>e/km=%{x}<extra></extra>",
           "ids": [
            "Carbon monoxide (CO)"
           ],
           "legendgroup": "Carbon monoxide (CO)",
           "marker": {
            "color": "#636efa",
            "pattern": {
             "shape": ""
            }
           },
           "name": "Carbon monoxide (CO)",
           "offsetgroup": "Carbon monoxide (CO)",
           "orientation": "h",
           "showlegend": false,
           "textposition": "auto",
           "type": "bar",
           "x": [
            0.0029629571102081772
           ],
           "xaxis": "x",
           "y": [
            "Carbon monoxide (CO)"
           ],
           "yaxis": "y"
          },
          {
           "alignmentgroup": "True",
           "hovertemplate": "Emission Type=%{y}<br>Year=2008<br>Sources=Road traffic, freight vehicles<br>e/km=%{x}<extra></extra>",
           "ids": [
            "Nitrogen oxides (NOx)"
           ],
           "legendgroup": "Nitrogen oxides (NOx)",
           "marker": {
            "color": "#EF553B",
            "pattern": {
             "shape": ""
            }
           },
           "name": "Nitrogen oxides (NOx)",
           "offsetgroup": "Nitrogen oxides (NOx)",
           "orientation": "h",
           "showlegend": true,
           "textposition": "auto",
           "type": "bar",
           "x": [
            0.0033448536129980534
           ],
           "xaxis": "x2",
           "y": [
            "Nitrogen oxides (NOx)"
           ],
           "yaxis": "y2"
          },
          {
           "alignmentgroup": "True",
           "hovertemplate": "Emission Type=%{y}<br>Year=2008<br>Sources=Road traffic, passenger cars<br>e/km=%{x}<extra></extra>",
           "ids": [
            "Nitrogen oxides (NOx)"
           ],
           "legendgroup": "Nitrogen oxides (NOx)",
           "marker": {
            "color": "#EF553B",
            "pattern": {
             "shape": ""
            }
           },
           "name": "Nitrogen oxides (NOx)",
           "offsetgroup": "Nitrogen oxides (NOx)",
           "orientation": "h",
           "showlegend": false,
           "textposition": "auto",
           "type": "bar",
           "x": [
            0.000362468419815467
           ],
           "xaxis": "x",
           "y": [
            "Nitrogen oxides (NOx)"
           ],
           "yaxis": "y"
          }
         ],
         "name": "2008"
        },
        {
         "data": [
          {
           "alignmentgroup": "True",
           "hovertemplate": "Emission Type=%{y}<br>Year=2009<br>Sources=Road traffic, freight vehicles<br>e/km=%{x}<extra></extra>",
           "ids": [
            "Carbon monoxide (CO)"
           ],
           "legendgroup": "Carbon monoxide (CO)",
           "marker": {
            "color": "#636efa",
            "pattern": {
             "shape": ""
            }
           },
           "name": "Carbon monoxide (CO)",
           "offsetgroup": "Carbon monoxide (CO)",
           "orientation": "h",
           "showlegend": true,
           "textposition": "auto",
           "type": "bar",
           "x": [
            0.0008565188799493395
           ],
           "xaxis": "x2",
           "y": [
            "Carbon monoxide (CO)"
           ],
           "yaxis": "y2"
          },
          {
           "alignmentgroup": "True",
           "hovertemplate": "Emission Type=%{y}<br>Year=2009<br>Sources=Road traffic, passenger cars<br>e/km=%{x}<extra></extra>",
           "ids": [
            "Carbon monoxide (CO)"
           ],
           "legendgroup": "Carbon monoxide (CO)",
           "marker": {
            "color": "#636efa",
            "pattern": {
             "shape": ""
            }
           },
           "name": "Carbon monoxide (CO)",
           "offsetgroup": "Carbon monoxide (CO)",
           "orientation": "h",
           "showlegend": false,
           "textposition": "auto",
           "type": "bar",
           "x": [
            0.0028991075122643184
           ],
           "xaxis": "x",
           "y": [
            "Carbon monoxide (CO)"
           ],
           "yaxis": "y"
          },
          {
           "alignmentgroup": "True",
           "hovertemplate": "Emission Type=%{y}<br>Year=2009<br>Sources=Road traffic, freight vehicles<br>e/km=%{x}<extra></extra>",
           "ids": [
            "Nitrogen oxides (NOx)"
           ],
           "legendgroup": "Nitrogen oxides (NOx)",
           "marker": {
            "color": "#EF553B",
            "pattern": {
             "shape": ""
            }
           },
           "name": "Nitrogen oxides (NOx)",
           "offsetgroup": "Nitrogen oxides (NOx)",
           "orientation": "h",
           "showlegend": true,
           "textposition": "auto",
           "type": "bar",
           "x": [
            0.003223108960567657
           ],
           "xaxis": "x2",
           "y": [
            "Nitrogen oxides (NOx)"
           ],
           "yaxis": "y2"
          },
          {
           "alignmentgroup": "True",
           "hovertemplate": "Emission Type=%{y}<br>Year=2009<br>Sources=Road traffic, passenger cars<br>e/km=%{x}<extra></extra>",
           "ids": [
            "Nitrogen oxides (NOx)"
           ],
           "legendgroup": "Nitrogen oxides (NOx)",
           "marker": {
            "color": "#EF553B",
            "pattern": {
             "shape": ""
            }
           },
           "name": "Nitrogen oxides (NOx)",
           "offsetgroup": "Nitrogen oxides (NOx)",
           "orientation": "h",
           "showlegend": false,
           "textposition": "auto",
           "type": "bar",
           "x": [
            0.0003388695155348031
           ],
           "xaxis": "x",
           "y": [
            "Nitrogen oxides (NOx)"
           ],
           "yaxis": "y"
          }
         ],
         "name": "2009"
        },
        {
         "data": [
          {
           "alignmentgroup": "True",
           "hovertemplate": "Emission Type=%{y}<br>Year=2010<br>Sources=Road traffic, freight vehicles<br>e/km=%{x}<extra></extra>",
           "ids": [
            "Carbon monoxide (CO)"
           ],
           "legendgroup": "Carbon monoxide (CO)",
           "marker": {
            "color": "#636efa",
            "pattern": {
             "shape": ""
            }
           },
           "name": "Carbon monoxide (CO)",
           "offsetgroup": "Carbon monoxide (CO)",
           "orientation": "h",
           "showlegend": true,
           "textposition": "auto",
           "type": "bar",
           "x": [
            0.0008292415911634709
           ],
           "xaxis": "x2",
           "y": [
            "Carbon monoxide (CO)"
           ],
           "yaxis": "y2"
          },
          {
           "alignmentgroup": "True",
           "hovertemplate": "Emission Type=%{y}<br>Year=2010<br>Sources=Road traffic, passenger cars<br>e/km=%{x}<extra></extra>",
           "ids": [
            "Carbon monoxide (CO)"
           ],
           "legendgroup": "Carbon monoxide (CO)",
           "marker": {
            "color": "#636efa",
            "pattern": {
             "shape": ""
            }
           },
           "name": "Carbon monoxide (CO)",
           "offsetgroup": "Carbon monoxide (CO)",
           "orientation": "h",
           "showlegend": false,
           "textposition": "auto",
           "type": "bar",
           "x": [
            0.0028336115791984173
           ],
           "xaxis": "x",
           "y": [
            "Carbon monoxide (CO)"
           ],
           "yaxis": "y"
          },
          {
           "alignmentgroup": "True",
           "hovertemplate": "Emission Type=%{y}<br>Year=2010<br>Sources=Road traffic, freight vehicles<br>e/km=%{x}<extra></extra>",
           "ids": [
            "Nitrogen oxides (NOx)"
           ],
           "legendgroup": "Nitrogen oxides (NOx)",
           "marker": {
            "color": "#EF553B",
            "pattern": {
             "shape": ""
            }
           },
           "name": "Nitrogen oxides (NOx)",
           "offsetgroup": "Nitrogen oxides (NOx)",
           "orientation": "h",
           "showlegend": true,
           "textposition": "auto",
           "type": "bar",
           "x": [
            0.0030637004599635624
           ],
           "xaxis": "x2",
           "y": [
            "Nitrogen oxides (NOx)"
           ],
           "yaxis": "y2"
          },
          {
           "alignmentgroup": "True",
           "hovertemplate": "Emission Type=%{y}<br>Year=2010<br>Sources=Road traffic, passenger cars<br>e/km=%{x}<extra></extra>",
           "ids": [
            "Nitrogen oxides (NOx)"
           ],
           "legendgroup": "Nitrogen oxides (NOx)",
           "marker": {
            "color": "#EF553B",
            "pattern": {
             "shape": ""
            }
           },
           "name": "Nitrogen oxides (NOx)",
           "offsetgroup": "Nitrogen oxides (NOx)",
           "orientation": "h",
           "showlegend": false,
           "textposition": "auto",
           "type": "bar",
           "x": [
            0.00032548901547881093
           ],
           "xaxis": "x",
           "y": [
            "Nitrogen oxides (NOx)"
           ],
           "yaxis": "y"
          }
         ],
         "name": "2010"
        },
        {
         "data": [
          {
           "alignmentgroup": "True",
           "hovertemplate": "Emission Type=%{y}<br>Year=2011<br>Sources=Road traffic, freight vehicles<br>e/km=%{x}<extra></extra>",
           "ids": [
            "Carbon monoxide (CO)"
           ],
           "legendgroup": "Carbon monoxide (CO)",
           "marker": {
            "color": "#636efa",
            "pattern": {
             "shape": ""
            }
           },
           "name": "Carbon monoxide (CO)",
           "offsetgroup": "Carbon monoxide (CO)",
           "orientation": "h",
           "showlegend": true,
           "textposition": "auto",
           "type": "bar",
           "x": [
            0.0008026744782615892
           ],
           "xaxis": "x2",
           "y": [
            "Carbon monoxide (CO)"
           ],
           "yaxis": "y2"
          },
          {
           "alignmentgroup": "True",
           "hovertemplate": "Emission Type=%{y}<br>Year=2011<br>Sources=Road traffic, passenger cars<br>e/km=%{x}<extra></extra>",
           "ids": [
            "Carbon monoxide (CO)"
           ],
           "legendgroup": "Carbon monoxide (CO)",
           "marker": {
            "color": "#636efa",
            "pattern": {
             "shape": ""
            }
           },
           "name": "Carbon monoxide (CO)",
           "offsetgroup": "Carbon monoxide (CO)",
           "orientation": "h",
           "showlegend": false,
           "textposition": "auto",
           "type": "bar",
           "x": [
            0.002751650213099914
           ],
           "xaxis": "x",
           "y": [
            "Carbon monoxide (CO)"
           ],
           "yaxis": "y"
          },
          {
           "alignmentgroup": "True",
           "hovertemplate": "Emission Type=%{y}<br>Year=2011<br>Sources=Road traffic, freight vehicles<br>e/km=%{x}<extra></extra>",
           "ids": [
            "Nitrogen oxides (NOx)"
           ],
           "legendgroup": "Nitrogen oxides (NOx)",
           "marker": {
            "color": "#EF553B",
            "pattern": {
             "shape": ""
            }
           },
           "name": "Nitrogen oxides (NOx)",
           "offsetgroup": "Nitrogen oxides (NOx)",
           "orientation": "h",
           "showlegend": true,
           "textposition": "auto",
           "type": "bar",
           "x": [
            0.0029417605878556178
           ],
           "xaxis": "x2",
           "y": [
            "Nitrogen oxides (NOx)"
           ],
           "yaxis": "y2"
          },
          {
           "alignmentgroup": "True",
           "hovertemplate": "Emission Type=%{y}<br>Year=2011<br>Sources=Road traffic, passenger cars<br>e/km=%{x}<extra></extra>",
           "ids": [
            "Nitrogen oxides (NOx)"
           ],
           "legendgroup": "Nitrogen oxides (NOx)",
           "marker": {
            "color": "#EF553B",
            "pattern": {
             "shape": ""
            }
           },
           "name": "Nitrogen oxides (NOx)",
           "offsetgroup": "Nitrogen oxides (NOx)",
           "orientation": "h",
           "showlegend": false,
           "textposition": "auto",
           "type": "bar",
           "x": [
            0.00031955274271439174
           ],
           "xaxis": "x",
           "y": [
            "Nitrogen oxides (NOx)"
           ],
           "yaxis": "y"
          }
         ],
         "name": "2011"
        },
        {
         "data": [
          {
           "alignmentgroup": "True",
           "hovertemplate": "Emission Type=%{y}<br>Year=2012<br>Sources=Road traffic, freight vehicles<br>e/km=%{x}<extra></extra>",
           "ids": [
            "Carbon monoxide (CO)"
           ],
           "legendgroup": "Carbon monoxide (CO)",
           "marker": {
            "color": "#636efa",
            "pattern": {
             "shape": ""
            }
           },
           "name": "Carbon monoxide (CO)",
           "offsetgroup": "Carbon monoxide (CO)",
           "orientation": "h",
           "showlegend": true,
           "textposition": "auto",
           "type": "bar",
           "x": [
            0.00077355866575925
           ],
           "xaxis": "x2",
           "y": [
            "Carbon monoxide (CO)"
           ],
           "yaxis": "y2"
          },
          {
           "alignmentgroup": "True",
           "hovertemplate": "Emission Type=%{y}<br>Year=2012<br>Sources=Road traffic, passenger cars<br>e/km=%{x}<extra></extra>",
           "ids": [
            "Carbon monoxide (CO)"
           ],
           "legendgroup": "Carbon monoxide (CO)",
           "marker": {
            "color": "#636efa",
            "pattern": {
             "shape": ""
            }
           },
           "name": "Carbon monoxide (CO)",
           "offsetgroup": "Carbon monoxide (CO)",
           "orientation": "h",
           "showlegend": false,
           "textposition": "auto",
           "type": "bar",
           "x": [
            0.0026366802072494643
           ],
           "xaxis": "x",
           "y": [
            "Carbon monoxide (CO)"
           ],
           "yaxis": "y"
          },
          {
           "alignmentgroup": "True",
           "hovertemplate": "Emission Type=%{y}<br>Year=2012<br>Sources=Road traffic, freight vehicles<br>e/km=%{x}<extra></extra>",
           "ids": [
            "Nitrogen oxides (NOx)"
           ],
           "legendgroup": "Nitrogen oxides (NOx)",
           "marker": {
            "color": "#EF553B",
            "pattern": {
             "shape": ""
            }
           },
           "name": "Nitrogen oxides (NOx)",
           "offsetgroup": "Nitrogen oxides (NOx)",
           "orientation": "h",
           "showlegend": true,
           "textposition": "auto",
           "type": "bar",
           "x": [
            0.0028110191952453616
           ],
           "xaxis": "x2",
           "y": [
            "Nitrogen oxides (NOx)"
           ],
           "yaxis": "y2"
          },
          {
           "alignmentgroup": "True",
           "hovertemplate": "Emission Type=%{y}<br>Year=2012<br>Sources=Road traffic, passenger cars<br>e/km=%{x}<extra></extra>",
           "ids": [
            "Nitrogen oxides (NOx)"
           ],
           "legendgroup": "Nitrogen oxides (NOx)",
           "marker": {
            "color": "#EF553B",
            "pattern": {
             "shape": ""
            }
           },
           "name": "Nitrogen oxides (NOx)",
           "offsetgroup": "Nitrogen oxides (NOx)",
           "orientation": "h",
           "showlegend": false,
           "textposition": "auto",
           "type": "bar",
           "x": [
            0.00031128148088528066
           ],
           "xaxis": "x",
           "y": [
            "Nitrogen oxides (NOx)"
           ],
           "yaxis": "y"
          }
         ],
         "name": "2012"
        },
        {
         "data": [
          {
           "alignmentgroup": "True",
           "hovertemplate": "Emission Type=%{y}<br>Year=2013<br>Sources=Road traffic, freight vehicles<br>e/km=%{x}<extra></extra>",
           "ids": [
            "Carbon monoxide (CO)"
           ],
           "legendgroup": "Carbon monoxide (CO)",
           "marker": {
            "color": "#636efa",
            "pattern": {
             "shape": ""
            }
           },
           "name": "Carbon monoxide (CO)",
           "offsetgroup": "Carbon monoxide (CO)",
           "orientation": "h",
           "showlegend": true,
           "textposition": "auto",
           "type": "bar",
           "x": [
            0.0007240529518243082
           ],
           "xaxis": "x2",
           "y": [
            "Carbon monoxide (CO)"
           ],
           "yaxis": "y2"
          },
          {
           "alignmentgroup": "True",
           "hovertemplate": "Emission Type=%{y}<br>Year=2013<br>Sources=Road traffic, passenger cars<br>e/km=%{x}<extra></extra>",
           "ids": [
            "Carbon monoxide (CO)"
           ],
           "legendgroup": "Carbon monoxide (CO)",
           "marker": {
            "color": "#636efa",
            "pattern": {
             "shape": ""
            }
           },
           "name": "Carbon monoxide (CO)",
           "offsetgroup": "Carbon monoxide (CO)",
           "orientation": "h",
           "showlegend": false,
           "textposition": "auto",
           "type": "bar",
           "x": [
            0.0025462352922938597
           ],
           "xaxis": "x",
           "y": [
            "Carbon monoxide (CO)"
           ],
           "yaxis": "y"
          },
          {
           "alignmentgroup": "True",
           "hovertemplate": "Emission Type=%{y}<br>Year=2013<br>Sources=Road traffic, freight vehicles<br>e/km=%{x}<extra></extra>",
           "ids": [
            "Nitrogen oxides (NOx)"
           ],
           "legendgroup": "Nitrogen oxides (NOx)",
           "marker": {
            "color": "#EF553B",
            "pattern": {
             "shape": ""
            }
           },
           "name": "Nitrogen oxides (NOx)",
           "offsetgroup": "Nitrogen oxides (NOx)",
           "orientation": "h",
           "showlegend": true,
           "textposition": "auto",
           "type": "bar",
           "x": [
            0.002647591215405753
           ],
           "xaxis": "x2",
           "y": [
            "Nitrogen oxides (NOx)"
           ],
           "yaxis": "y2"
          },
          {
           "alignmentgroup": "True",
           "hovertemplate": "Emission Type=%{y}<br>Year=2013<br>Sources=Road traffic, passenger cars<br>e/km=%{x}<extra></extra>",
           "ids": [
            "Nitrogen oxides (NOx)"
           ],
           "legendgroup": "Nitrogen oxides (NOx)",
           "marker": {
            "color": "#EF553B",
            "pattern": {
             "shape": ""
            }
           },
           "name": "Nitrogen oxides (NOx)",
           "offsetgroup": "Nitrogen oxides (NOx)",
           "orientation": "h",
           "showlegend": false,
           "textposition": "auto",
           "type": "bar",
           "x": [
            0.0002993861131350086
           ],
           "xaxis": "x",
           "y": [
            "Nitrogen oxides (NOx)"
           ],
           "yaxis": "y"
          }
         ],
         "name": "2013"
        },
        {
         "data": [
          {
           "alignmentgroup": "True",
           "hovertemplate": "Emission Type=%{y}<br>Year=2014<br>Sources=Road traffic, freight vehicles<br>e/km=%{x}<extra></extra>",
           "ids": [
            "Carbon monoxide (CO)"
           ],
           "legendgroup": "Carbon monoxide (CO)",
           "marker": {
            "color": "#636efa",
            "pattern": {
             "shape": ""
            }
           },
           "name": "Carbon monoxide (CO)",
           "offsetgroup": "Carbon monoxide (CO)",
           "orientation": "h",
           "showlegend": true,
           "textposition": "auto",
           "type": "bar",
           "x": [
            0.0006720312800013964
           ],
           "xaxis": "x2",
           "y": [
            "Carbon monoxide (CO)"
           ],
           "yaxis": "y2"
          },
          {
           "alignmentgroup": "True",
           "hovertemplate": "Emission Type=%{y}<br>Year=2014<br>Sources=Road traffic, passenger cars<br>e/km=%{x}<extra></extra>",
           "ids": [
            "Carbon monoxide (CO)"
           ],
           "legendgroup": "Carbon monoxide (CO)",
           "marker": {
            "color": "#636efa",
            "pattern": {
             "shape": ""
            }
           },
           "name": "Carbon monoxide (CO)",
           "offsetgroup": "Carbon monoxide (CO)",
           "orientation": "h",
           "showlegend": false,
           "textposition": "auto",
           "type": "bar",
           "x": [
            0.002405999666342331
           ],
           "xaxis": "x",
           "y": [
            "Carbon monoxide (CO)"
           ],
           "yaxis": "y"
          },
          {
           "alignmentgroup": "True",
           "hovertemplate": "Emission Type=%{y}<br>Year=2014<br>Sources=Road traffic, freight vehicles<br>e/km=%{x}<extra></extra>",
           "ids": [
            "Nitrogen oxides (NOx)"
           ],
           "legendgroup": "Nitrogen oxides (NOx)",
           "marker": {
            "color": "#EF553B",
            "pattern": {
             "shape": ""
            }
           },
           "name": "Nitrogen oxides (NOx)",
           "offsetgroup": "Nitrogen oxides (NOx)",
           "orientation": "h",
           "showlegend": true,
           "textposition": "auto",
           "type": "bar",
           "x": [
            0.002483024664420744
           ],
           "xaxis": "x2",
           "y": [
            "Nitrogen oxides (NOx)"
           ],
           "yaxis": "y2"
          },
          {
           "alignmentgroup": "True",
           "hovertemplate": "Emission Type=%{y}<br>Year=2014<br>Sources=Road traffic, passenger cars<br>e/km=%{x}<extra></extra>",
           "ids": [
            "Nitrogen oxides (NOx)"
           ],
           "legendgroup": "Nitrogen oxides (NOx)",
           "marker": {
            "color": "#EF553B",
            "pattern": {
             "shape": ""
            }
           },
           "name": "Nitrogen oxides (NOx)",
           "offsetgroup": "Nitrogen oxides (NOx)",
           "orientation": "h",
           "showlegend": false,
           "textposition": "auto",
           "type": "bar",
           "x": [
            0.00028640557150447785
           ],
           "xaxis": "x",
           "y": [
            "Nitrogen oxides (NOx)"
           ],
           "yaxis": "y"
          }
         ],
         "name": "2014"
        },
        {
         "data": [
          {
           "alignmentgroup": "True",
           "hovertemplate": "Emission Type=%{y}<br>Year=2015<br>Sources=Road traffic, freight vehicles<br>e/km=%{x}<extra></extra>",
           "ids": [
            "Carbon monoxide (CO)"
           ],
           "legendgroup": "Carbon monoxide (CO)",
           "marker": {
            "color": "#636efa",
            "pattern": {
             "shape": ""
            }
           },
           "name": "Carbon monoxide (CO)",
           "offsetgroup": "Carbon monoxide (CO)",
           "orientation": "h",
           "showlegend": true,
           "textposition": "auto",
           "type": "bar",
           "x": [
            0.0006093481679073791
           ],
           "xaxis": "x2",
           "y": [
            "Carbon monoxide (CO)"
           ],
           "yaxis": "y2"
          },
          {
           "alignmentgroup": "True",
           "hovertemplate": "Emission Type=%{y}<br>Year=2015<br>Sources=Road traffic, passenger cars<br>e/km=%{x}<extra></extra>",
           "ids": [
            "Carbon monoxide (CO)"
           ],
           "legendgroup": "Carbon monoxide (CO)",
           "marker": {
            "color": "#636efa",
            "pattern": {
             "shape": ""
            }
           },
           "name": "Carbon monoxide (CO)",
           "offsetgroup": "Carbon monoxide (CO)",
           "orientation": "h",
           "showlegend": false,
           "textposition": "auto",
           "type": "bar",
           "x": [
            0.00234753622885005
           ],
           "xaxis": "x",
           "y": [
            "Carbon monoxide (CO)"
           ],
           "yaxis": "y"
          },
          {
           "alignmentgroup": "True",
           "hovertemplate": "Emission Type=%{y}<br>Year=2015<br>Sources=Road traffic, freight vehicles<br>e/km=%{x}<extra></extra>",
           "ids": [
            "Nitrogen oxides (NOx)"
           ],
           "legendgroup": "Nitrogen oxides (NOx)",
           "marker": {
            "color": "#EF553B",
            "pattern": {
             "shape": ""
            }
           },
           "name": "Nitrogen oxides (NOx)",
           "offsetgroup": "Nitrogen oxides (NOx)",
           "orientation": "h",
           "showlegend": true,
           "textposition": "auto",
           "type": "bar",
           "x": [
            0.0023436467996437657
           ],
           "xaxis": "x2",
           "y": [
            "Nitrogen oxides (NOx)"
           ],
           "yaxis": "y2"
          },
          {
           "alignmentgroup": "True",
           "hovertemplate": "Emission Type=%{y}<br>Year=2015<br>Sources=Road traffic, passenger cars<br>e/km=%{x}<extra></extra>",
           "ids": [
            "Nitrogen oxides (NOx)"
           ],
           "legendgroup": "Nitrogen oxides (NOx)",
           "marker": {
            "color": "#EF553B",
            "pattern": {
             "shape": ""
            }
           },
           "name": "Nitrogen oxides (NOx)",
           "offsetgroup": "Nitrogen oxides (NOx)",
           "orientation": "h",
           "showlegend": false,
           "textposition": "auto",
           "type": "bar",
           "x": [
            0.0002873757361624301
           ],
           "xaxis": "x",
           "y": [
            "Nitrogen oxides (NOx)"
           ],
           "yaxis": "y"
          }
         ],
         "name": "2015"
        },
        {
         "data": [
          {
           "alignmentgroup": "True",
           "hovertemplate": "Emission Type=%{y}<br>Year=2016<br>Sources=Road traffic, freight vehicles<br>e/km=%{x}<extra></extra>",
           "ids": [
            "Carbon monoxide (CO)"
           ],
           "legendgroup": "Carbon monoxide (CO)",
           "marker": {
            "color": "#636efa",
            "pattern": {
             "shape": ""
            }
           },
           "name": "Carbon monoxide (CO)",
           "offsetgroup": "Carbon monoxide (CO)",
           "orientation": "h",
           "showlegend": true,
           "textposition": "auto",
           "type": "bar",
           "x": [
            0.0006128652676995489
           ],
           "xaxis": "x2",
           "y": [
            "Carbon monoxide (CO)"
           ],
           "yaxis": "y2"
          },
          {
           "alignmentgroup": "True",
           "hovertemplate": "Emission Type=%{y}<br>Year=2016<br>Sources=Road traffic, passenger cars<br>e/km=%{x}<extra></extra>",
           "ids": [
            "Carbon monoxide (CO)"
           ],
           "legendgroup": "Carbon monoxide (CO)",
           "marker": {
            "color": "#636efa",
            "pattern": {
             "shape": ""
            }
           },
           "name": "Carbon monoxide (CO)",
           "offsetgroup": "Carbon monoxide (CO)",
           "orientation": "h",
           "showlegend": false,
           "textposition": "auto",
           "type": "bar",
           "x": [
            0.002198534743440837
           ],
           "xaxis": "x",
           "y": [
            "Carbon monoxide (CO)"
           ],
           "yaxis": "y"
          },
          {
           "alignmentgroup": "True",
           "hovertemplate": "Emission Type=%{y}<br>Year=2016<br>Sources=Road traffic, freight vehicles<br>e/km=%{x}<extra></extra>",
           "ids": [
            "Nitrogen oxides (NOx)"
           ],
           "legendgroup": "Nitrogen oxides (NOx)",
           "marker": {
            "color": "#EF553B",
            "pattern": {
             "shape": ""
            }
           },
           "name": "Nitrogen oxides (NOx)",
           "offsetgroup": "Nitrogen oxides (NOx)",
           "orientation": "h",
           "showlegend": true,
           "textposition": "auto",
           "type": "bar",
           "x": [
            0.002169543047656403
           ],
           "xaxis": "x2",
           "y": [
            "Nitrogen oxides (NOx)"
           ],
           "yaxis": "y2"
          },
          {
           "alignmentgroup": "True",
           "hovertemplate": "Emission Type=%{y}<br>Year=2016<br>Sources=Road traffic, passenger cars<br>e/km=%{x}<extra></extra>",
           "ids": [
            "Nitrogen oxides (NOx)"
           ],
           "legendgroup": "Nitrogen oxides (NOx)",
           "marker": {
            "color": "#EF553B",
            "pattern": {
             "shape": ""
            }
           },
           "name": "Nitrogen oxides (NOx)",
           "offsetgroup": "Nitrogen oxides (NOx)",
           "orientation": "h",
           "showlegend": false,
           "textposition": "auto",
           "type": "bar",
           "x": [
            0.0002683177959689197
           ],
           "xaxis": "x",
           "y": [
            "Nitrogen oxides (NOx)"
           ],
           "yaxis": "y"
          }
         ],
         "name": "2016"
        },
        {
         "data": [
          {
           "alignmentgroup": "True",
           "hovertemplate": "Emission Type=%{y}<br>Year=2017<br>Sources=Road traffic, freight vehicles<br>e/km=%{x}<extra></extra>",
           "ids": [
            "Carbon monoxide (CO)"
           ],
           "legendgroup": "Carbon monoxide (CO)",
           "marker": {
            "color": "#636efa",
            "pattern": {
             "shape": ""
            }
           },
           "name": "Carbon monoxide (CO)",
           "offsetgroup": "Carbon monoxide (CO)",
           "orientation": "h",
           "showlegend": true,
           "textposition": "auto",
           "type": "bar",
           "x": [
            0.0006130744089206308
           ],
           "xaxis": "x2",
           "y": [
            "Carbon monoxide (CO)"
           ],
           "yaxis": "y2"
          },
          {
           "alignmentgroup": "True",
           "hovertemplate": "Emission Type=%{y}<br>Year=2017<br>Sources=Road traffic, passenger cars<br>e/km=%{x}<extra></extra>",
           "ids": [
            "Carbon monoxide (CO)"
           ],
           "legendgroup": "Carbon monoxide (CO)",
           "marker": {
            "color": "#636efa",
            "pattern": {
             "shape": ""
            }
           },
           "name": "Carbon monoxide (CO)",
           "offsetgroup": "Carbon monoxide (CO)",
           "orientation": "h",
           "showlegend": false,
           "textposition": "auto",
           "type": "bar",
           "x": [
            0.002181095155783987
           ],
           "xaxis": "x",
           "y": [
            "Carbon monoxide (CO)"
           ],
           "yaxis": "y"
          },
          {
           "alignmentgroup": "True",
           "hovertemplate": "Emission Type=%{y}<br>Year=2017<br>Sources=Road traffic, freight vehicles<br>e/km=%{x}<extra></extra>",
           "ids": [
            "Nitrogen oxides (NOx)"
           ],
           "legendgroup": "Nitrogen oxides (NOx)",
           "marker": {
            "color": "#EF553B",
            "pattern": {
             "shape": ""
            }
           },
           "name": "Nitrogen oxides (NOx)",
           "offsetgroup": "Nitrogen oxides (NOx)",
           "orientation": "h",
           "showlegend": true,
           "textposition": "auto",
           "type": "bar",
           "x": [
            0.0019944823303197144
           ],
           "xaxis": "x2",
           "y": [
            "Nitrogen oxides (NOx)"
           ],
           "yaxis": "y2"
          },
          {
           "alignmentgroup": "True",
           "hovertemplate": "Emission Type=%{y}<br>Year=2017<br>Sources=Road traffic, passenger cars<br>e/km=%{x}<extra></extra>",
           "ids": [
            "Nitrogen oxides (NOx)"
           ],
           "legendgroup": "Nitrogen oxides (NOx)",
           "marker": {
            "color": "#EF553B",
            "pattern": {
             "shape": ""
            }
           },
           "name": "Nitrogen oxides (NOx)",
           "offsetgroup": "Nitrogen oxides (NOx)",
           "orientation": "h",
           "showlegend": false,
           "textposition": "auto",
           "type": "bar",
           "x": [
            0.00026804704776469876
           ],
           "xaxis": "x",
           "y": [
            "Nitrogen oxides (NOx)"
           ],
           "yaxis": "y"
          }
         ],
         "name": "2017"
        },
        {
         "data": [
          {
           "alignmentgroup": "True",
           "hovertemplate": "Emission Type=%{y}<br>Year=2018<br>Sources=Road traffic, freight vehicles<br>e/km=%{x}<extra></extra>",
           "ids": [
            "Carbon monoxide (CO)"
           ],
           "legendgroup": "Carbon monoxide (CO)",
           "marker": {
            "color": "#636efa",
            "pattern": {
             "shape": ""
            }
           },
           "name": "Carbon monoxide (CO)",
           "offsetgroup": "Carbon monoxide (CO)",
           "orientation": "h",
           "showlegend": true,
           "textposition": "auto",
           "type": "bar",
           "x": [
            0.00042434576783225493
           ],
           "xaxis": "x2",
           "y": [
            "Carbon monoxide (CO)"
           ],
           "yaxis": "y2"
          },
          {
           "alignmentgroup": "True",
           "hovertemplate": "Emission Type=%{y}<br>Year=2018<br>Sources=Road traffic, passenger cars<br>e/km=%{x}<extra></extra>",
           "ids": [
            "Carbon monoxide (CO)"
           ],
           "legendgroup": "Carbon monoxide (CO)",
           "marker": {
            "color": "#636efa",
            "pattern": {
             "shape": ""
            }
           },
           "name": "Carbon monoxide (CO)",
           "offsetgroup": "Carbon monoxide (CO)",
           "orientation": "h",
           "showlegend": false,
           "textposition": "auto",
           "type": "bar",
           "x": [
            0.0020071423458102376
           ],
           "xaxis": "x",
           "y": [
            "Carbon monoxide (CO)"
           ],
           "yaxis": "y"
          },
          {
           "alignmentgroup": "True",
           "hovertemplate": "Emission Type=%{y}<br>Year=2018<br>Sources=Road traffic, freight vehicles<br>e/km=%{x}<extra></extra>",
           "ids": [
            "Nitrogen oxides (NOx)"
           ],
           "legendgroup": "Nitrogen oxides (NOx)",
           "marker": {
            "color": "#EF553B",
            "pattern": {
             "shape": ""
            }
           },
           "name": "Nitrogen oxides (NOx)",
           "offsetgroup": "Nitrogen oxides (NOx)",
           "orientation": "h",
           "showlegend": true,
           "textposition": "auto",
           "type": "bar",
           "x": [
            0.0017986031627385485
           ],
           "xaxis": "x2",
           "y": [
            "Nitrogen oxides (NOx)"
           ],
           "yaxis": "y2"
          },
          {
           "alignmentgroup": "True",
           "hovertemplate": "Emission Type=%{y}<br>Year=2018<br>Sources=Road traffic, passenger cars<br>e/km=%{x}<extra></extra>",
           "ids": [
            "Nitrogen oxides (NOx)"
           ],
           "legendgroup": "Nitrogen oxides (NOx)",
           "marker": {
            "color": "#EF553B",
            "pattern": {
             "shape": ""
            }
           },
           "name": "Nitrogen oxides (NOx)",
           "offsetgroup": "Nitrogen oxides (NOx)",
           "orientation": "h",
           "showlegend": false,
           "textposition": "auto",
           "type": "bar",
           "x": [
            0.0002500999040377542
           ],
           "xaxis": "x",
           "y": [
            "Nitrogen oxides (NOx)"
           ],
           "yaxis": "y"
          }
         ],
         "name": "2018"
        },
        {
         "data": [
          {
           "alignmentgroup": "True",
           "hovertemplate": "Emission Type=%{y}<br>Year=2019<br>Sources=Road traffic, freight vehicles<br>e/km=%{x}<extra></extra>",
           "ids": [
            "Carbon monoxide (CO)"
           ],
           "legendgroup": "Carbon monoxide (CO)",
           "marker": {
            "color": "#636efa",
            "pattern": {
             "shape": ""
            }
           },
           "name": "Carbon monoxide (CO)",
           "offsetgroup": "Carbon monoxide (CO)",
           "orientation": "h",
           "showlegend": true,
           "textposition": "auto",
           "type": "bar",
           "x": [
            0.0003704156292483236
           ],
           "xaxis": "x2",
           "y": [
            "Carbon monoxide (CO)"
           ],
           "yaxis": "y2"
          },
          {
           "alignmentgroup": "True",
           "hovertemplate": "Emission Type=%{y}<br>Year=2019<br>Sources=Road traffic, passenger cars<br>e/km=%{x}<extra></extra>",
           "ids": [
            "Carbon monoxide (CO)"
           ],
           "legendgroup": "Carbon monoxide (CO)",
           "marker": {
            "color": "#636efa",
            "pattern": {
             "shape": ""
            }
           },
           "name": "Carbon monoxide (CO)",
           "offsetgroup": "Carbon monoxide (CO)",
           "orientation": "h",
           "showlegend": false,
           "textposition": "auto",
           "type": "bar",
           "x": [
            0.001870025948422075
           ],
           "xaxis": "x",
           "y": [
            "Carbon monoxide (CO)"
           ],
           "yaxis": "y"
          },
          {
           "alignmentgroup": "True",
           "hovertemplate": "Emission Type=%{y}<br>Year=2019<br>Sources=Road traffic, freight vehicles<br>e/km=%{x}<extra></extra>",
           "ids": [
            "Nitrogen oxides (NOx)"
           ],
           "legendgroup": "Nitrogen oxides (NOx)",
           "marker": {
            "color": "#EF553B",
            "pattern": {
             "shape": ""
            }
           },
           "name": "Nitrogen oxides (NOx)",
           "offsetgroup": "Nitrogen oxides (NOx)",
           "orientation": "h",
           "showlegend": true,
           "textposition": "auto",
           "type": "bar",
           "x": [
            0.0016191363587761774
           ],
           "xaxis": "x2",
           "y": [
            "Nitrogen oxides (NOx)"
           ],
           "yaxis": "y2"
          },
          {
           "alignmentgroup": "True",
           "hovertemplate": "Emission Type=%{y}<br>Year=2019<br>Sources=Road traffic, passenger cars<br>e/km=%{x}<extra></extra>",
           "ids": [
            "Nitrogen oxides (NOx)"
           ],
           "legendgroup": "Nitrogen oxides (NOx)",
           "marker": {
            "color": "#EF553B",
            "pattern": {
             "shape": ""
            }
           },
           "name": "Nitrogen oxides (NOx)",
           "offsetgroup": "Nitrogen oxides (NOx)",
           "orientation": "h",
           "showlegend": false,
           "textposition": "auto",
           "type": "bar",
           "x": [
            0.00023284722322891146
           ],
           "xaxis": "x",
           "y": [
            "Nitrogen oxides (NOx)"
           ],
           "yaxis": "y"
          }
         ],
         "name": "2019"
        },
        {
         "data": [
          {
           "alignmentgroup": "True",
           "hovertemplate": "Emission Type=%{y}<br>Year=2020<br>Sources=Road traffic, freight vehicles<br>e/km=%{x}<extra></extra>",
           "ids": [
            "Carbon monoxide (CO)"
           ],
           "legendgroup": "Carbon monoxide (CO)",
           "marker": {
            "color": "#636efa",
            "pattern": {
             "shape": ""
            }
           },
           "name": "Carbon monoxide (CO)",
           "offsetgroup": "Carbon monoxide (CO)",
           "orientation": "h",
           "showlegend": true,
           "textposition": "auto",
           "type": "bar",
           "x": [
            0.0003405821213959952
           ],
           "xaxis": "x2",
           "y": [
            "Carbon monoxide (CO)"
           ],
           "yaxis": "y2"
          },
          {
           "alignmentgroup": "True",
           "hovertemplate": "Emission Type=%{y}<br>Year=2020<br>Sources=Road traffic, passenger cars<br>e/km=%{x}<extra></extra>",
           "ids": [
            "Carbon monoxide (CO)"
           ],
           "legendgroup": "Carbon monoxide (CO)",
           "marker": {
            "color": "#636efa",
            "pattern": {
             "shape": ""
            }
           },
           "name": "Carbon monoxide (CO)",
           "offsetgroup": "Carbon monoxide (CO)",
           "orientation": "h",
           "showlegend": false,
           "textposition": "auto",
           "type": "bar",
           "x": [
            0.0017926872176328758
           ],
           "xaxis": "x",
           "y": [
            "Carbon monoxide (CO)"
           ],
           "yaxis": "y"
          },
          {
           "alignmentgroup": "True",
           "hovertemplate": "Emission Type=%{y}<br>Year=2020<br>Sources=Road traffic, freight vehicles<br>e/km=%{x}<extra></extra>",
           "ids": [
            "Nitrogen oxides (NOx)"
           ],
           "legendgroup": "Nitrogen oxides (NOx)",
           "marker": {
            "color": "#EF553B",
            "pattern": {
             "shape": ""
            }
           },
           "name": "Nitrogen oxides (NOx)",
           "offsetgroup": "Nitrogen oxides (NOx)",
           "orientation": "h",
           "showlegend": true,
           "textposition": "auto",
           "type": "bar",
           "x": [
            0.0015032590185754273
           ],
           "xaxis": "x2",
           "y": [
            "Nitrogen oxides (NOx)"
           ],
           "yaxis": "y2"
          },
          {
           "alignmentgroup": "True",
           "hovertemplate": "Emission Type=%{y}<br>Year=2020<br>Sources=Road traffic, passenger cars<br>e/km=%{x}<extra></extra>",
           "ids": [
            "Nitrogen oxides (NOx)"
           ],
           "legendgroup": "Nitrogen oxides (NOx)",
           "marker": {
            "color": "#EF553B",
            "pattern": {
             "shape": ""
            }
           },
           "name": "Nitrogen oxides (NOx)",
           "offsetgroup": "Nitrogen oxides (NOx)",
           "orientation": "h",
           "showlegend": false,
           "textposition": "auto",
           "type": "bar",
           "x": [
            0.00021153925024445735
           ],
           "xaxis": "x",
           "y": [
            "Nitrogen oxides (NOx)"
           ],
           "yaxis": "y"
          }
         ],
         "name": "2020"
        },
        {
         "data": [
          {
           "alignmentgroup": "True",
           "hovertemplate": "Emission Type=%{y}<br>Year=2021<br>Sources=Road traffic, freight vehicles<br>e/km=%{x}<extra></extra>",
           "ids": [
            "Carbon monoxide (CO)"
           ],
           "legendgroup": "Carbon monoxide (CO)",
           "marker": {
            "color": "#636efa",
            "pattern": {
             "shape": ""
            }
           },
           "name": "Carbon monoxide (CO)",
           "offsetgroup": "Carbon monoxide (CO)",
           "orientation": "h",
           "showlegend": true,
           "textposition": "auto",
           "type": "bar",
           "x": [
            null
           ],
           "xaxis": "x2",
           "y": [
            "Carbon monoxide (CO)"
           ],
           "yaxis": "y2"
          },
          {
           "alignmentgroup": "True",
           "hovertemplate": "Emission Type=%{y}<br>Year=2021<br>Sources=Road traffic, passenger cars<br>e/km=%{x}<extra></extra>",
           "ids": [
            "Carbon monoxide (CO)"
           ],
           "legendgroup": "Carbon monoxide (CO)",
           "marker": {
            "color": "#636efa",
            "pattern": {
             "shape": ""
            }
           },
           "name": "Carbon monoxide (CO)",
           "offsetgroup": "Carbon monoxide (CO)",
           "orientation": "h",
           "showlegend": false,
           "textposition": "auto",
           "type": "bar",
           "x": [
            null
           ],
           "xaxis": "x",
           "y": [
            "Carbon monoxide (CO)"
           ],
           "yaxis": "y"
          },
          {
           "alignmentgroup": "True",
           "hovertemplate": "Emission Type=%{y}<br>Year=2021<br>Sources=Road traffic, freight vehicles<br>e/km=%{x}<extra></extra>",
           "ids": [
            "Nitrogen oxides (NOx)"
           ],
           "legendgroup": "Nitrogen oxides (NOx)",
           "marker": {
            "color": "#EF553B",
            "pattern": {
             "shape": ""
            }
           },
           "name": "Nitrogen oxides (NOx)",
           "offsetgroup": "Nitrogen oxides (NOx)",
           "orientation": "h",
           "showlegend": true,
           "textposition": "auto",
           "type": "bar",
           "x": [
            null
           ],
           "xaxis": "x2",
           "y": [
            "Nitrogen oxides (NOx)"
           ],
           "yaxis": "y2"
          },
          {
           "alignmentgroup": "True",
           "hovertemplate": "Emission Type=%{y}<br>Year=2021<br>Sources=Road traffic, passenger cars<br>e/km=%{x}<extra></extra>",
           "ids": [
            "Nitrogen oxides (NOx)"
           ],
           "legendgroup": "Nitrogen oxides (NOx)",
           "marker": {
            "color": "#EF553B",
            "pattern": {
             "shape": ""
            }
           },
           "name": "Nitrogen oxides (NOx)",
           "offsetgroup": "Nitrogen oxides (NOx)",
           "orientation": "h",
           "showlegend": false,
           "textposition": "auto",
           "type": "bar",
           "x": [
            null
           ],
           "xaxis": "x",
           "y": [
            "Nitrogen oxides (NOx)"
           ],
           "yaxis": "y"
          }
         ],
         "name": "2021"
        }
       ],
       "layout": {
        "annotations": [
         {
          "font": {},
          "showarrow": false,
          "text": "Sources=Road traffic, passenger cars",
          "textangle": 90,
          "x": 0.98,
          "xanchor": "left",
          "xref": "paper",
          "y": 0.2425,
          "yanchor": "middle",
          "yref": "paper"
         },
         {
          "font": {},
          "showarrow": false,
          "text": "Sources=Road traffic, freight vehicles",
          "textangle": 90,
          "x": 0.98,
          "xanchor": "left",
          "xref": "paper",
          "y": 0.7575000000000001,
          "yanchor": "middle",
          "yref": "paper"
         }
        ],
        "autosize": true,
        "barmode": "relative",
        "legend": {
         "title": {
          "text": "Emission Type"
         },
         "tracegroupgap": 0
        },
        "margin": {
         "t": 60
        },
        "sliders": [
         {
          "active": 0,
          "currentvalue": {
           "prefix": "Year="
          },
          "len": 0.9,
          "pad": {
           "b": 10,
           "t": 60
          },
          "steps": [
           {
            "args": [
             [
              "1990"
             ],
             {
              "frame": {
               "duration": 0,
               "redraw": true
              },
              "fromcurrent": true,
              "mode": "immediate",
              "transition": {
               "duration": 0,
               "easing": "linear"
              }
             }
            ],
            "label": "1990",
            "method": "animate"
           },
           {
            "args": [
             [
              "1991"
             ],
             {
              "frame": {
               "duration": 0,
               "redraw": true
              },
              "fromcurrent": true,
              "mode": "immediate",
              "transition": {
               "duration": 0,
               "easing": "linear"
              }
             }
            ],
            "label": "1991",
            "method": "animate"
           },
           {
            "args": [
             [
              "1992"
             ],
             {
              "frame": {
               "duration": 0,
               "redraw": true
              },
              "fromcurrent": true,
              "mode": "immediate",
              "transition": {
               "duration": 0,
               "easing": "linear"
              }
             }
            ],
            "label": "1992",
            "method": "animate"
           },
           {
            "args": [
             [
              "1993"
             ],
             {
              "frame": {
               "duration": 0,
               "redraw": true
              },
              "fromcurrent": true,
              "mode": "immediate",
              "transition": {
               "duration": 0,
               "easing": "linear"
              }
             }
            ],
            "label": "1993",
            "method": "animate"
           },
           {
            "args": [
             [
              "1994"
             ],
             {
              "frame": {
               "duration": 0,
               "redraw": true
              },
              "fromcurrent": true,
              "mode": "immediate",
              "transition": {
               "duration": 0,
               "easing": "linear"
              }
             }
            ],
            "label": "1994",
            "method": "animate"
           },
           {
            "args": [
             [
              "1995"
             ],
             {
              "frame": {
               "duration": 0,
               "redraw": true
              },
              "fromcurrent": true,
              "mode": "immediate",
              "transition": {
               "duration": 0,
               "easing": "linear"
              }
             }
            ],
            "label": "1995",
            "method": "animate"
           },
           {
            "args": [
             [
              "1996"
             ],
             {
              "frame": {
               "duration": 0,
               "redraw": true
              },
              "fromcurrent": true,
              "mode": "immediate",
              "transition": {
               "duration": 0,
               "easing": "linear"
              }
             }
            ],
            "label": "1996",
            "method": "animate"
           },
           {
            "args": [
             [
              "1997"
             ],
             {
              "frame": {
               "duration": 0,
               "redraw": true
              },
              "fromcurrent": true,
              "mode": "immediate",
              "transition": {
               "duration": 0,
               "easing": "linear"
              }
             }
            ],
            "label": "1997",
            "method": "animate"
           },
           {
            "args": [
             [
              "1998"
             ],
             {
              "frame": {
               "duration": 0,
               "redraw": true
              },
              "fromcurrent": true,
              "mode": "immediate",
              "transition": {
               "duration": 0,
               "easing": "linear"
              }
             }
            ],
            "label": "1998",
            "method": "animate"
           },
           {
            "args": [
             [
              "1999"
             ],
             {
              "frame": {
               "duration": 0,
               "redraw": true
              },
              "fromcurrent": true,
              "mode": "immediate",
              "transition": {
               "duration": 0,
               "easing": "linear"
              }
             }
            ],
            "label": "1999",
            "method": "animate"
           },
           {
            "args": [
             [
              "2000"
             ],
             {
              "frame": {
               "duration": 0,
               "redraw": true
              },
              "fromcurrent": true,
              "mode": "immediate",
              "transition": {
               "duration": 0,
               "easing": "linear"
              }
             }
            ],
            "label": "2000",
            "method": "animate"
           },
           {
            "args": [
             [
              "2001"
             ],
             {
              "frame": {
               "duration": 0,
               "redraw": true
              },
              "fromcurrent": true,
              "mode": "immediate",
              "transition": {
               "duration": 0,
               "easing": "linear"
              }
             }
            ],
            "label": "2001",
            "method": "animate"
           },
           {
            "args": [
             [
              "2002"
             ],
             {
              "frame": {
               "duration": 0,
               "redraw": true
              },
              "fromcurrent": true,
              "mode": "immediate",
              "transition": {
               "duration": 0,
               "easing": "linear"
              }
             }
            ],
            "label": "2002",
            "method": "animate"
           },
           {
            "args": [
             [
              "2003"
             ],
             {
              "frame": {
               "duration": 0,
               "redraw": true
              },
              "fromcurrent": true,
              "mode": "immediate",
              "transition": {
               "duration": 0,
               "easing": "linear"
              }
             }
            ],
            "label": "2003",
            "method": "animate"
           },
           {
            "args": [
             [
              "2004"
             ],
             {
              "frame": {
               "duration": 0,
               "redraw": true
              },
              "fromcurrent": true,
              "mode": "immediate",
              "transition": {
               "duration": 0,
               "easing": "linear"
              }
             }
            ],
            "label": "2004",
            "method": "animate"
           },
           {
            "args": [
             [
              "2005"
             ],
             {
              "frame": {
               "duration": 0,
               "redraw": true
              },
              "fromcurrent": true,
              "mode": "immediate",
              "transition": {
               "duration": 0,
               "easing": "linear"
              }
             }
            ],
            "label": "2005",
            "method": "animate"
           },
           {
            "args": [
             [
              "2006"
             ],
             {
              "frame": {
               "duration": 0,
               "redraw": true
              },
              "fromcurrent": true,
              "mode": "immediate",
              "transition": {
               "duration": 0,
               "easing": "linear"
              }
             }
            ],
            "label": "2006",
            "method": "animate"
           },
           {
            "args": [
             [
              "2007"
             ],
             {
              "frame": {
               "duration": 0,
               "redraw": true
              },
              "fromcurrent": true,
              "mode": "immediate",
              "transition": {
               "duration": 0,
               "easing": "linear"
              }
             }
            ],
            "label": "2007",
            "method": "animate"
           },
           {
            "args": [
             [
              "2008"
             ],
             {
              "frame": {
               "duration": 0,
               "redraw": true
              },
              "fromcurrent": true,
              "mode": "immediate",
              "transition": {
               "duration": 0,
               "easing": "linear"
              }
             }
            ],
            "label": "2008",
            "method": "animate"
           },
           {
            "args": [
             [
              "2009"
             ],
             {
              "frame": {
               "duration": 0,
               "redraw": true
              },
              "fromcurrent": true,
              "mode": "immediate",
              "transition": {
               "duration": 0,
               "easing": "linear"
              }
             }
            ],
            "label": "2009",
            "method": "animate"
           },
           {
            "args": [
             [
              "2010"
             ],
             {
              "frame": {
               "duration": 0,
               "redraw": true
              },
              "fromcurrent": true,
              "mode": "immediate",
              "transition": {
               "duration": 0,
               "easing": "linear"
              }
             }
            ],
            "label": "2010",
            "method": "animate"
           },
           {
            "args": [
             [
              "2011"
             ],
             {
              "frame": {
               "duration": 0,
               "redraw": true
              },
              "fromcurrent": true,
              "mode": "immediate",
              "transition": {
               "duration": 0,
               "easing": "linear"
              }
             }
            ],
            "label": "2011",
            "method": "animate"
           },
           {
            "args": [
             [
              "2012"
             ],
             {
              "frame": {
               "duration": 0,
               "redraw": true
              },
              "fromcurrent": true,
              "mode": "immediate",
              "transition": {
               "duration": 0,
               "easing": "linear"
              }
             }
            ],
            "label": "2012",
            "method": "animate"
           },
           {
            "args": [
             [
              "2013"
             ],
             {
              "frame": {
               "duration": 0,
               "redraw": true
              },
              "fromcurrent": true,
              "mode": "immediate",
              "transition": {
               "duration": 0,
               "easing": "linear"
              }
             }
            ],
            "label": "2013",
            "method": "animate"
           },
           {
            "args": [
             [
              "2014"
             ],
             {
              "frame": {
               "duration": 0,
               "redraw": true
              },
              "fromcurrent": true,
              "mode": "immediate",
              "transition": {
               "duration": 0,
               "easing": "linear"
              }
             }
            ],
            "label": "2014",
            "method": "animate"
           },
           {
            "args": [
             [
              "2015"
             ],
             {
              "frame": {
               "duration": 0,
               "redraw": true
              },
              "fromcurrent": true,
              "mode": "immediate",
              "transition": {
               "duration": 0,
               "easing": "linear"
              }
             }
            ],
            "label": "2015",
            "method": "animate"
           },
           {
            "args": [
             [
              "2016"
             ],
             {
              "frame": {
               "duration": 0,
               "redraw": true
              },
              "fromcurrent": true,
              "mode": "immediate",
              "transition": {
               "duration": 0,
               "easing": "linear"
              }
             }
            ],
            "label": "2016",
            "method": "animate"
           },
           {
            "args": [
             [
              "2017"
             ],
             {
              "frame": {
               "duration": 0,
               "redraw": true
              },
              "fromcurrent": true,
              "mode": "immediate",
              "transition": {
               "duration": 0,
               "easing": "linear"
              }
             }
            ],
            "label": "2017",
            "method": "animate"
           },
           {
            "args": [
             [
              "2018"
             ],
             {
              "frame": {
               "duration": 0,
               "redraw": true
              },
              "fromcurrent": true,
              "mode": "immediate",
              "transition": {
               "duration": 0,
               "easing": "linear"
              }
             }
            ],
            "label": "2018",
            "method": "animate"
           },
           {
            "args": [
             [
              "2019"
             ],
             {
              "frame": {
               "duration": 0,
               "redraw": true
              },
              "fromcurrent": true,
              "mode": "immediate",
              "transition": {
               "duration": 0,
               "easing": "linear"
              }
             }
            ],
            "label": "2019",
            "method": "animate"
           },
           {
            "args": [
             [
              "2020"
             ],
             {
              "frame": {
               "duration": 0,
               "redraw": true
              },
              "fromcurrent": true,
              "mode": "immediate",
              "transition": {
               "duration": 0,
               "easing": "linear"
              }
             }
            ],
            "label": "2020",
            "method": "animate"
           },
           {
            "args": [
             [
              "2021"
             ],
             {
              "frame": {
               "duration": 0,
               "redraw": true
              },
              "fromcurrent": true,
              "mode": "immediate",
              "transition": {
               "duration": 0,
               "easing": "linear"
              }
             }
            ],
            "label": "2021",
            "method": "animate"
           }
          ],
          "x": 0.1,
          "xanchor": "left",
          "y": 0,
          "yanchor": "top"
         }
        ],
        "template": {
         "data": {
          "bar": [
           {
            "error_x": {
             "color": "#2a3f5f"
            },
            "error_y": {
             "color": "#2a3f5f"
            },
            "marker": {
             "line": {
              "color": "#E5ECF6",
              "width": 0.5
             },
             "pattern": {
              "fillmode": "overlay",
              "size": 10,
              "solidity": 0.2
             }
            },
            "type": "bar"
           }
          ],
          "barpolar": [
           {
            "marker": {
             "line": {
              "color": "#E5ECF6",
              "width": 0.5
             },
             "pattern": {
              "fillmode": "overlay",
              "size": 10,
              "solidity": 0.2
             }
            },
            "type": "barpolar"
           }
          ],
          "carpet": [
           {
            "aaxis": {
             "endlinecolor": "#2a3f5f",
             "gridcolor": "white",
             "linecolor": "white",
             "minorgridcolor": "white",
             "startlinecolor": "#2a3f5f"
            },
            "baxis": {
             "endlinecolor": "#2a3f5f",
             "gridcolor": "white",
             "linecolor": "white",
             "minorgridcolor": "white",
             "startlinecolor": "#2a3f5f"
            },
            "type": "carpet"
           }
          ],
          "choropleth": [
           {
            "colorbar": {
             "outlinewidth": 0,
             "ticks": ""
            },
            "type": "choropleth"
           }
          ],
          "contour": [
           {
            "colorbar": {
             "outlinewidth": 0,
             "ticks": ""
            },
            "colorscale": [
             [
              0,
              "#0d0887"
             ],
             [
              0.1111111111111111,
              "#46039f"
             ],
             [
              0.2222222222222222,
              "#7201a8"
             ],
             [
              0.3333333333333333,
              "#9c179e"
             ],
             [
              0.4444444444444444,
              "#bd3786"
             ],
             [
              0.5555555555555556,
              "#d8576b"
             ],
             [
              0.6666666666666666,
              "#ed7953"
             ],
             [
              0.7777777777777778,
              "#fb9f3a"
             ],
             [
              0.8888888888888888,
              "#fdca26"
             ],
             [
              1,
              "#f0f921"
             ]
            ],
            "type": "contour"
           }
          ],
          "contourcarpet": [
           {
            "colorbar": {
             "outlinewidth": 0,
             "ticks": ""
            },
            "type": "contourcarpet"
           }
          ],
          "heatmap": [
           {
            "colorbar": {
             "outlinewidth": 0,
             "ticks": ""
            },
            "colorscale": [
             [
              0,
              "#0d0887"
             ],
             [
              0.1111111111111111,
              "#46039f"
             ],
             [
              0.2222222222222222,
              "#7201a8"
             ],
             [
              0.3333333333333333,
              "#9c179e"
             ],
             [
              0.4444444444444444,
              "#bd3786"
             ],
             [
              0.5555555555555556,
              "#d8576b"
             ],
             [
              0.6666666666666666,
              "#ed7953"
             ],
             [
              0.7777777777777778,
              "#fb9f3a"
             ],
             [
              0.8888888888888888,
              "#fdca26"
             ],
             [
              1,
              "#f0f921"
             ]
            ],
            "type": "heatmap"
           }
          ],
          "heatmapgl": [
           {
            "colorbar": {
             "outlinewidth": 0,
             "ticks": ""
            },
            "colorscale": [
             [
              0,
              "#0d0887"
             ],
             [
              0.1111111111111111,
              "#46039f"
             ],
             [
              0.2222222222222222,
              "#7201a8"
             ],
             [
              0.3333333333333333,
              "#9c179e"
             ],
             [
              0.4444444444444444,
              "#bd3786"
             ],
             [
              0.5555555555555556,
              "#d8576b"
             ],
             [
              0.6666666666666666,
              "#ed7953"
             ],
             [
              0.7777777777777778,
              "#fb9f3a"
             ],
             [
              0.8888888888888888,
              "#fdca26"
             ],
             [
              1,
              "#f0f921"
             ]
            ],
            "type": "heatmapgl"
           }
          ],
          "histogram": [
           {
            "marker": {
             "pattern": {
              "fillmode": "overlay",
              "size": 10,
              "solidity": 0.2
             }
            },
            "type": "histogram"
           }
          ],
          "histogram2d": [
           {
            "colorbar": {
             "outlinewidth": 0,
             "ticks": ""
            },
            "colorscale": [
             [
              0,
              "#0d0887"
             ],
             [
              0.1111111111111111,
              "#46039f"
             ],
             [
              0.2222222222222222,
              "#7201a8"
             ],
             [
              0.3333333333333333,
              "#9c179e"
             ],
             [
              0.4444444444444444,
              "#bd3786"
             ],
             [
              0.5555555555555556,
              "#d8576b"
             ],
             [
              0.6666666666666666,
              "#ed7953"
             ],
             [
              0.7777777777777778,
              "#fb9f3a"
             ],
             [
              0.8888888888888888,
              "#fdca26"
             ],
             [
              1,
              "#f0f921"
             ]
            ],
            "type": "histogram2d"
           }
          ],
          "histogram2dcontour": [
           {
            "colorbar": {
             "outlinewidth": 0,
             "ticks": ""
            },
            "colorscale": [
             [
              0,
              "#0d0887"
             ],
             [
              0.1111111111111111,
              "#46039f"
             ],
             [
              0.2222222222222222,
              "#7201a8"
             ],
             [
              0.3333333333333333,
              "#9c179e"
             ],
             [
              0.4444444444444444,
              "#bd3786"
             ],
             [
              0.5555555555555556,
              "#d8576b"
             ],
             [
              0.6666666666666666,
              "#ed7953"
             ],
             [
              0.7777777777777778,
              "#fb9f3a"
             ],
             [
              0.8888888888888888,
              "#fdca26"
             ],
             [
              1,
              "#f0f921"
             ]
            ],
            "type": "histogram2dcontour"
           }
          ],
          "mesh3d": [
           {
            "colorbar": {
             "outlinewidth": 0,
             "ticks": ""
            },
            "type": "mesh3d"
           }
          ],
          "parcoords": [
           {
            "line": {
             "colorbar": {
              "outlinewidth": 0,
              "ticks": ""
             }
            },
            "type": "parcoords"
           }
          ],
          "pie": [
           {
            "automargin": true,
            "type": "pie"
           }
          ],
          "scatter": [
           {
            "marker": {
             "colorbar": {
              "outlinewidth": 0,
              "ticks": ""
             }
            },
            "type": "scatter"
           }
          ],
          "scatter3d": [
           {
            "line": {
             "colorbar": {
              "outlinewidth": 0,
              "ticks": ""
             }
            },
            "marker": {
             "colorbar": {
              "outlinewidth": 0,
              "ticks": ""
             }
            },
            "type": "scatter3d"
           }
          ],
          "scattercarpet": [
           {
            "marker": {
             "colorbar": {
              "outlinewidth": 0,
              "ticks": ""
             }
            },
            "type": "scattercarpet"
           }
          ],
          "scattergeo": [
           {
            "marker": {
             "colorbar": {
              "outlinewidth": 0,
              "ticks": ""
             }
            },
            "type": "scattergeo"
           }
          ],
          "scattergl": [
           {
            "marker": {
             "colorbar": {
              "outlinewidth": 0,
              "ticks": ""
             }
            },
            "type": "scattergl"
           }
          ],
          "scattermapbox": [
           {
            "marker": {
             "colorbar": {
              "outlinewidth": 0,
              "ticks": ""
             }
            },
            "type": "scattermapbox"
           }
          ],
          "scatterpolar": [
           {
            "marker": {
             "colorbar": {
              "outlinewidth": 0,
              "ticks": ""
             }
            },
            "type": "scatterpolar"
           }
          ],
          "scatterpolargl": [
           {
            "marker": {
             "colorbar": {
              "outlinewidth": 0,
              "ticks": ""
             }
            },
            "type": "scatterpolargl"
           }
          ],
          "scatterternary": [
           {
            "marker": {
             "colorbar": {
              "outlinewidth": 0,
              "ticks": ""
             }
            },
            "type": "scatterternary"
           }
          ],
          "surface": [
           {
            "colorbar": {
             "outlinewidth": 0,
             "ticks": ""
            },
            "colorscale": [
             [
              0,
              "#0d0887"
             ],
             [
              0.1111111111111111,
              "#46039f"
             ],
             [
              0.2222222222222222,
              "#7201a8"
             ],
             [
              0.3333333333333333,
              "#9c179e"
             ],
             [
              0.4444444444444444,
              "#bd3786"
             ],
             [
              0.5555555555555556,
              "#d8576b"
             ],
             [
              0.6666666666666666,
              "#ed7953"
             ],
             [
              0.7777777777777778,
              "#fb9f3a"
             ],
             [
              0.8888888888888888,
              "#fdca26"
             ],
             [
              1,
              "#f0f921"
             ]
            ],
            "type": "surface"
           }
          ],
          "table": [
           {
            "cells": {
             "fill": {
              "color": "#EBF0F8"
             },
             "line": {
              "color": "white"
             }
            },
            "header": {
             "fill": {
              "color": "#C8D4E3"
             },
             "line": {
              "color": "white"
             }
            },
            "type": "table"
           }
          ]
         },
         "layout": {
          "annotationdefaults": {
           "arrowcolor": "#2a3f5f",
           "arrowhead": 0,
           "arrowwidth": 1
          },
          "autotypenumbers": "strict",
          "coloraxis": {
           "colorbar": {
            "outlinewidth": 0,
            "ticks": ""
           }
          },
          "colorscale": {
           "diverging": [
            [
             0,
             "#8e0152"
            ],
            [
             0.1,
             "#c51b7d"
            ],
            [
             0.2,
             "#de77ae"
            ],
            [
             0.3,
             "#f1b6da"
            ],
            [
             0.4,
             "#fde0ef"
            ],
            [
             0.5,
             "#f7f7f7"
            ],
            [
             0.6,
             "#e6f5d0"
            ],
            [
             0.7,
             "#b8e186"
            ],
            [
             0.8,
             "#7fbc41"
            ],
            [
             0.9,
             "#4d9221"
            ],
            [
             1,
             "#276419"
            ]
           ],
           "sequential": [
            [
             0,
             "#0d0887"
            ],
            [
             0.1111111111111111,
             "#46039f"
            ],
            [
             0.2222222222222222,
             "#7201a8"
            ],
            [
             0.3333333333333333,
             "#9c179e"
            ],
            [
             0.4444444444444444,
             "#bd3786"
            ],
            [
             0.5555555555555556,
             "#d8576b"
            ],
            [
             0.6666666666666666,
             "#ed7953"
            ],
            [
             0.7777777777777778,
             "#fb9f3a"
            ],
            [
             0.8888888888888888,
             "#fdca26"
            ],
            [
             1,
             "#f0f921"
            ]
           ],
           "sequentialminus": [
            [
             0,
             "#0d0887"
            ],
            [
             0.1111111111111111,
             "#46039f"
            ],
            [
             0.2222222222222222,
             "#7201a8"
            ],
            [
             0.3333333333333333,
             "#9c179e"
            ],
            [
             0.4444444444444444,
             "#bd3786"
            ],
            [
             0.5555555555555556,
             "#d8576b"
            ],
            [
             0.6666666666666666,
             "#ed7953"
            ],
            [
             0.7777777777777778,
             "#fb9f3a"
            ],
            [
             0.8888888888888888,
             "#fdca26"
            ],
            [
             1,
             "#f0f921"
            ]
           ]
          },
          "colorway": [
           "#636efa",
           "#EF553B",
           "#00cc96",
           "#ab63fa",
           "#FFA15A",
           "#19d3f3",
           "#FF6692",
           "#B6E880",
           "#FF97FF",
           "#FECB52"
          ],
          "font": {
           "color": "#2a3f5f"
          },
          "geo": {
           "bgcolor": "white",
           "lakecolor": "white",
           "landcolor": "#E5ECF6",
           "showlakes": true,
           "showland": true,
           "subunitcolor": "white"
          },
          "hoverlabel": {
           "align": "left"
          },
          "hovermode": "closest",
          "mapbox": {
           "style": "light"
          },
          "paper_bgcolor": "white",
          "plot_bgcolor": "#E5ECF6",
          "polar": {
           "angularaxis": {
            "gridcolor": "white",
            "linecolor": "white",
            "ticks": ""
           },
           "bgcolor": "#E5ECF6",
           "radialaxis": {
            "gridcolor": "white",
            "linecolor": "white",
            "ticks": ""
           }
          },
          "scene": {
           "xaxis": {
            "backgroundcolor": "#E5ECF6",
            "gridcolor": "white",
            "gridwidth": 2,
            "linecolor": "white",
            "showbackground": true,
            "ticks": "",
            "zerolinecolor": "white"
           },
           "yaxis": {
            "backgroundcolor": "#E5ECF6",
            "gridcolor": "white",
            "gridwidth": 2,
            "linecolor": "white",
            "showbackground": true,
            "ticks": "",
            "zerolinecolor": "white"
           },
           "zaxis": {
            "backgroundcolor": "#E5ECF6",
            "gridcolor": "white",
            "gridwidth": 2,
            "linecolor": "white",
            "showbackground": true,
            "ticks": "",
            "zerolinecolor": "white"
           }
          },
          "shapedefaults": {
           "line": {
            "color": "#2a3f5f"
           }
          },
          "ternary": {
           "aaxis": {
            "gridcolor": "white",
            "linecolor": "white",
            "ticks": ""
           },
           "baxis": {
            "gridcolor": "white",
            "linecolor": "white",
            "ticks": ""
           },
           "bgcolor": "#E5ECF6",
           "caxis": {
            "gridcolor": "white",
            "linecolor": "white",
            "ticks": ""
           }
          },
          "title": {
           "x": 0.05
          },
          "xaxis": {
           "automargin": true,
           "gridcolor": "white",
           "linecolor": "white",
           "ticks": "",
           "title": {
            "standoff": 15
           },
           "zerolinecolor": "white",
           "zerolinewidth": 2
          },
          "yaxis": {
           "automargin": true,
           "gridcolor": "white",
           "linecolor": "white",
           "ticks": "",
           "title": {
            "standoff": 15
           },
           "zerolinecolor": "white",
           "zerolinewidth": 2
          }
         }
        },
        "updatemenus": [
         {
          "buttons": [
           {
            "args": [
             null,
             {
              "frame": {
               "duration": 500,
               "redraw": true
              },
              "fromcurrent": true,
              "mode": "immediate",
              "transition": {
               "duration": 500,
               "easing": "linear"
              }
             }
            ],
            "label": "&#9654;",
            "method": "animate"
           },
           {
            "args": [
             [
              null
             ],
             {
              "frame": {
               "duration": 0,
               "redraw": true
              },
              "fromcurrent": true,
              "mode": "immediate",
              "transition": {
               "duration": 0,
               "easing": "linear"
              }
             }
            ],
            "label": "&#9724;",
            "method": "animate"
           }
          ],
          "direction": "left",
          "pad": {
           "r": 10,
           "t": 70
          },
          "showactive": false,
          "type": "buttons",
          "x": 0.1,
          "xanchor": "right",
          "y": 0,
          "yanchor": "top"
         }
        ],
        "xaxis": {
         "anchor": "y",
         "domain": [
          0,
          0.98
         ],
         "range": [
          0,
          0.01
         ],
         "title": {
          "text": "e/km"
         },
         "type": "linear"
        },
        "xaxis2": {
         "anchor": "y2",
         "domain": [
          0,
          0.98
         ],
         "matches": "x",
         "showticklabels": false,
         "type": "linear"
        },
        "yaxis": {
         "anchor": "x",
         "categoryarray": [
          "Nitrogen oxides (NOx)",
          "Carbon monoxide (CO)"
         ],
         "categoryorder": "array",
         "domain": [
          0,
          0.485
         ],
         "title": {
          "text": "Emission Type"
         },
         "type": "category"
        },
        "yaxis2": {
         "anchor": "x2",
         "categoryarray": [
          "Nitrogen oxides (NOx)",
          "Carbon monoxide (CO)"
         ],
         "categoryorder": "array",
         "domain": [
          0.515,
          1
         ],
         "matches": "y",
         "title": {
          "text": "Emission Type"
         },
         "type": "category"
        }
       }
      },
      "image/png": "[encoded data removed]"
     },
     "metadata": {},
     "output_type": "display_data"
    }
   ],
   "source": [
    "vehicle_data_ani2 = getCategory(vehicle_data, \"Emission Type\", [\"Carbon monoxide (CO)\", \"Nitrogen oxides (NOx)\"], False)\n",
    "fig = px.bar(vehicle_data_ani2, x=\"e/km\", y=\"Emission Type\", orientation='h', animation_frame=\"Year\", animation_group=\"Emission Type\", \n",
    "             color=\"Emission Type\", facet_row=\"Sources\", range_x=[0,0.01], height=700)\n",
    "fig.update_traces(showlegend=False)\n",
    "fig.show()"
   ]
  },
  {
   "cell_type": "markdown",
   "metadata": {},
   "source": [
    "In general, the emission of CO and NOx recorded a significant downward trend for both freight vehicles and passenger cars. What should be noticed here about CO is that this emission per freight vehicle kilometer reached a plateau from 2005 to 2010 while the data for passenger cars stopped decreasing during 2002 and 2005. When it comes to NOx, the period from 2006 to 2008 saw a slight increase of the mission of NOx per freight vehicle kilometer, whereas this emission of passenger cars continues to decrease over the whole surveyed period."
   ]
  },
  {
   "cell_type": "markdown",
   "metadata": {},
   "source": [
    "##### Emission of PM10 per vehicle-kilometer during 1990-2020"
   ]
  },
  {
   "cell_type": "code",
   "execution_count": 53,
   "metadata": {},
   "outputs": [
    {
     "data": {
      "application/vnd.plotly.v1+json": {
       "config": {
        "plotlyServerURL": "https://plot.ly"
       },
       "data": [
        {
         "alignmentgroup": "True",
         "hovertemplate": "Sources=%{y}<br>Year=1990<br>e/km=%{x}<extra></extra>",
         "ids": [
          "Road traffic, freight vehicles"
         ],
         "legendgroup": "Road traffic, freight vehicles",
         "marker": {
          "color": "#636efa",
          "pattern": {
           "shape": ""
          }
         },
         "name": "Road traffic, freight vehicles",
         "offsetgroup": "Road traffic, freight vehicles",
         "orientation": "h",
         "showlegend": false,
         "textposition": "auto",
         "type": "bar",
         "x": [
          0.0006498301580268793
         ],
         "xaxis": "x",
         "y": [
          "Road traffic, freight vehicles"
         ],
         "yaxis": "y"
        },
        {
         "alignmentgroup": "True",
         "hovertemplate": "Sources=%{y}<br>Year=1990<br>e/km=%{x}<extra></extra>",
         "ids": [
          "Road traffic, passenger cars"
         ],
         "legendgroup": "Road traffic, passenger cars",
         "marker": {
          "color": "#EF553B",
          "pattern": {
           "shape": ""
          }
         },
         "name": "Road traffic, passenger cars",
         "offsetgroup": "Road traffic, passenger cars",
         "orientation": "h",
         "showlegend": false,
         "textposition": "auto",
         "type": "bar",
         "x": [
          8.427892660404783e-05
         ],
         "xaxis": "x",
         "y": [
          "Road traffic, passenger cars"
         ],
         "yaxis": "y"
        }
       ],
       "frames": [
        {
         "data": [
          {
           "alignmentgroup": "True",
           "hovertemplate": "Sources=%{y}<br>Year=1990<br>e/km=%{x}<extra></extra>",
           "ids": [
            "Road traffic, freight vehicles"
           ],
           "legendgroup": "Road traffic, freight vehicles",
           "marker": {
            "color": "#636efa",
            "pattern": {
             "shape": ""
            }
           },
           "name": "Road traffic, freight vehicles",
           "offsetgroup": "Road traffic, freight vehicles",
           "orientation": "h",
           "showlegend": true,
           "textposition": "auto",
           "type": "bar",
           "x": [
            0.0006498301580268793
           ],
           "xaxis": "x",
           "y": [
            "Road traffic, freight vehicles"
           ],
           "yaxis": "y"
          },
          {
           "alignmentgroup": "True",
           "hovertemplate": "Sources=%{y}<br>Year=1990<br>e/km=%{x}<extra></extra>",
           "ids": [
            "Road traffic, passenger cars"
           ],
           "legendgroup": "Road traffic, passenger cars",
           "marker": {
            "color": "#EF553B",
            "pattern": {
             "shape": ""
            }
           },
           "name": "Road traffic, passenger cars",
           "offsetgroup": "Road traffic, passenger cars",
           "orientation": "h",
           "showlegend": true,
           "textposition": "auto",
           "type": "bar",
           "x": [
            8.427892660404783e-05
           ],
           "xaxis": "x",
           "y": [
            "Road traffic, passenger cars"
           ],
           "yaxis": "y"
          }
         ],
         "name": "1990"
        },
        {
         "data": [
          {
           "alignmentgroup": "True",
           "hovertemplate": "Sources=%{y}<br>Year=1991<br>e/km=%{x}<extra></extra>",
           "ids": [
            "Road traffic, freight vehicles"
           ],
           "legendgroup": "Road traffic, freight vehicles",
           "marker": {
            "color": "#636efa",
            "pattern": {
             "shape": ""
            }
           },
           "name": "Road traffic, freight vehicles",
           "offsetgroup": "Road traffic, freight vehicles",
           "orientation": "h",
           "showlegend": true,
           "textposition": "auto",
           "type": "bar",
           "x": [
            0.0006196477059110213
           ],
           "xaxis": "x",
           "y": [
            "Road traffic, freight vehicles"
           ],
           "yaxis": "y"
          },
          {
           "alignmentgroup": "True",
           "hovertemplate": "Sources=%{y}<br>Year=1991<br>e/km=%{x}<extra></extra>",
           "ids": [
            "Road traffic, passenger cars"
           ],
           "legendgroup": "Road traffic, passenger cars",
           "marker": {
            "color": "#EF553B",
            "pattern": {
             "shape": ""
            }
           },
           "name": "Road traffic, passenger cars",
           "offsetgroup": "Road traffic, passenger cars",
           "orientation": "h",
           "showlegend": true,
           "textposition": "auto",
           "type": "bar",
           "x": [
            7.638854664629639e-05
           ],
           "xaxis": "x",
           "y": [
            "Road traffic, passenger cars"
           ],
           "yaxis": "y"
          }
         ],
         "name": "1991"
        },
        {
         "data": [
          {
           "alignmentgroup": "True",
           "hovertemplate": "Sources=%{y}<br>Year=1992<br>e/km=%{x}<extra></extra>",
           "ids": [
            "Road traffic, freight vehicles"
           ],
           "legendgroup": "Road traffic, freight vehicles",
           "marker": {
            "color": "#636efa",
            "pattern": {
             "shape": ""
            }
           },
           "name": "Road traffic, freight vehicles",
           "offsetgroup": "Road traffic, freight vehicles",
           "orientation": "h",
           "showlegend": true,
           "textposition": "auto",
           "type": "bar",
           "x": [
            0.0005623003194888178
           ],
           "xaxis": "x",
           "y": [
            "Road traffic, freight vehicles"
           ],
           "yaxis": "y"
          },
          {
           "alignmentgroup": "True",
           "hovertemplate": "Sources=%{y}<br>Year=1992<br>e/km=%{x}<extra></extra>",
           "ids": [
            "Road traffic, passenger cars"
           ],
           "legendgroup": "Road traffic, passenger cars",
           "marker": {
            "color": "#EF553B",
            "pattern": {
             "shape": ""
            }
           },
           "name": "Road traffic, passenger cars",
           "offsetgroup": "Road traffic, passenger cars",
           "orientation": "h",
           "showlegend": true,
           "textposition": "auto",
           "type": "bar",
           "x": [
            7.090019615720937e-05
           ],
           "xaxis": "x",
           "y": [
            "Road traffic, passenger cars"
           ],
           "yaxis": "y"
          }
         ],
         "name": "1992"
        },
        {
         "data": [
          {
           "alignmentgroup": "True",
           "hovertemplate": "Sources=%{y}<br>Year=1993<br>e/km=%{x}<extra></extra>",
           "ids": [
            "Road traffic, freight vehicles"
           ],
           "legendgroup": "Road traffic, freight vehicles",
           "marker": {
            "color": "#636efa",
            "pattern": {
             "shape": ""
            }
           },
           "name": "Road traffic, freight vehicles",
           "offsetgroup": "Road traffic, freight vehicles",
           "orientation": "h",
           "showlegend": true,
           "textposition": "auto",
           "type": "bar",
           "x": [
            0.0005008447984552257
           ],
           "xaxis": "x",
           "y": [
            "Road traffic, freight vehicles"
           ],
           "yaxis": "y"
          },
          {
           "alignmentgroup": "True",
           "hovertemplate": "Sources=%{y}<br>Year=1993<br>e/km=%{x}<extra></extra>",
           "ids": [
            "Road traffic, passenger cars"
           ],
           "legendgroup": "Road traffic, passenger cars",
           "marker": {
            "color": "#EF553B",
            "pattern": {
             "shape": ""
            }
           },
           "name": "Road traffic, passenger cars",
           "offsetgroup": "Road traffic, passenger cars",
           "orientation": "h",
           "showlegend": true,
           "textposition": "auto",
           "type": "bar",
           "x": [
            6.583830113241878e-05
           ],
           "xaxis": "x",
           "y": [
            "Road traffic, passenger cars"
           ],
           "yaxis": "y"
          }
         ],
         "name": "1993"
        },
        {
         "data": [
          {
           "alignmentgroup": "True",
           "hovertemplate": "Sources=%{y}<br>Year=1994<br>e/km=%{x}<extra></extra>",
           "ids": [
            "Road traffic, freight vehicles"
           ],
           "legendgroup": "Road traffic, freight vehicles",
           "marker": {
            "color": "#636efa",
            "pattern": {
             "shape": ""
            }
           },
           "name": "Road traffic, freight vehicles",
           "offsetgroup": "Road traffic, freight vehicles",
           "orientation": "h",
           "showlegend": true,
           "textposition": "auto",
           "type": "bar",
           "x": [
            0.00045653871568450774
           ],
           "xaxis": "x",
           "y": [
            "Road traffic, freight vehicles"
           ],
           "yaxis": "y"
          },
          {
           "alignmentgroup": "True",
           "hovertemplate": "Sources=%{y}<br>Year=1994<br>e/km=%{x}<extra></extra>",
           "ids": [
            "Road traffic, passenger cars"
           ],
           "legendgroup": "Road traffic, passenger cars",
           "marker": {
            "color": "#EF553B",
            "pattern": {
             "shape": ""
            }
           },
           "name": "Road traffic, passenger cars",
           "offsetgroup": "Road traffic, passenger cars",
           "orientation": "h",
           "showlegend": true,
           "textposition": "auto",
           "type": "bar",
           "x": [
            6.2187595334757e-05
           ],
           "xaxis": "x",
           "y": [
            "Road traffic, passenger cars"
           ],
           "yaxis": "y"
          }
         ],
         "name": "1994"
        },
        {
         "data": [
          {
           "alignmentgroup": "True",
           "hovertemplate": "Sources=%{y}<br>Year=1995<br>e/km=%{x}<extra></extra>",
           "ids": [
            "Road traffic, freight vehicles"
           ],
           "legendgroup": "Road traffic, freight vehicles",
           "marker": {
            "color": "#636efa",
            "pattern": {
             "shape": ""
            }
           },
           "name": "Road traffic, freight vehicles",
           "offsetgroup": "Road traffic, freight vehicles",
           "orientation": "h",
           "showlegend": true,
           "textposition": "auto",
           "type": "bar",
           "x": [
            0.00041402969184361506
           ],
           "xaxis": "x",
           "y": [
            "Road traffic, freight vehicles"
           ],
           "yaxis": "y"
          },
          {
           "alignmentgroup": "True",
           "hovertemplate": "Sources=%{y}<br>Year=1995<br>e/km=%{x}<extra></extra>",
           "ids": [
            "Road traffic, passenger cars"
           ],
           "legendgroup": "Road traffic, passenger cars",
           "marker": {
            "color": "#EF553B",
            "pattern": {
             "shape": ""
            }
           },
           "name": "Road traffic, passenger cars",
           "offsetgroup": "Road traffic, passenger cars",
           "orientation": "h",
           "showlegend": true,
           "textposition": "auto",
           "type": "bar",
           "x": [
            5.941629432455557e-05
           ],
           "xaxis": "x",
           "y": [
            "Road traffic, passenger cars"
           ],
           "yaxis": "y"
          }
         ],
         "name": "1995"
        },
        {
         "data": [
          {
           "alignmentgroup": "True",
           "hovertemplate": "Sources=%{y}<br>Year=1996<br>e/km=%{x}<extra></extra>",
           "ids": [
            "Road traffic, freight vehicles"
           ],
           "legendgroup": "Road traffic, freight vehicles",
           "marker": {
            "color": "#636efa",
            "pattern": {
             "shape": ""
            }
           },
           "name": "Road traffic, freight vehicles",
           "offsetgroup": "Road traffic, freight vehicles",
           "orientation": "h",
           "showlegend": true,
           "textposition": "auto",
           "type": "bar",
           "x": [
            0.00037187681580476466
           ],
           "xaxis": "x",
           "y": [
            "Road traffic, freight vehicles"
           ],
           "yaxis": "y"
          },
          {
           "alignmentgroup": "True",
           "hovertemplate": "Sources=%{y}<br>Year=1996<br>e/km=%{x}<extra></extra>",
           "ids": [
            "Road traffic, passenger cars"
           ],
           "legendgroup": "Road traffic, passenger cars",
           "marker": {
            "color": "#EF553B",
            "pattern": {
             "shape": ""
            }
           },
           "name": "Road traffic, passenger cars",
           "offsetgroup": "Road traffic, passenger cars",
           "orientation": "h",
           "showlegend": true,
           "textposition": "auto",
           "type": "bar",
           "x": [
            5.617122862860286e-05
           ],
           "xaxis": "x",
           "y": [
            "Road traffic, passenger cars"
           ],
           "yaxis": "y"
          }
         ],
         "name": "1996"
        },
        {
         "data": [
          {
           "alignmentgroup": "True",
           "hovertemplate": "Sources=%{y}<br>Year=1997<br>e/km=%{x}<extra></extra>",
           "ids": [
            "Road traffic, freight vehicles"
           ],
           "legendgroup": "Road traffic, freight vehicles",
           "marker": {
            "color": "#636efa",
            "pattern": {
             "shape": ""
            }
           },
           "name": "Road traffic, freight vehicles",
           "offsetgroup": "Road traffic, freight vehicles",
           "orientation": "h",
           "showlegend": true,
           "textposition": "auto",
           "type": "bar",
           "x": [
            0.0003263996459393671
           ],
           "xaxis": "x",
           "y": [
            "Road traffic, freight vehicles"
           ],
           "yaxis": "y"
          },
          {
           "alignmentgroup": "True",
           "hovertemplate": "Sources=%{y}<br>Year=1997<br>e/km=%{x}<extra></extra>",
           "ids": [
            "Road traffic, passenger cars"
           ],
           "legendgroup": "Road traffic, passenger cars",
           "marker": {
            "color": "#EF553B",
            "pattern": {
             "shape": ""
            }
           },
           "name": "Road traffic, passenger cars",
           "offsetgroup": "Road traffic, passenger cars",
           "orientation": "h",
           "showlegend": true,
           "textposition": "auto",
           "type": "bar",
           "x": [
            5.2718437700559275e-05
           ],
           "xaxis": "x",
           "y": [
            "Road traffic, passenger cars"
           ],
           "yaxis": "y"
          }
         ],
         "name": "1997"
        },
        {
         "data": [
          {
           "alignmentgroup": "True",
           "hovertemplate": "Sources=%{y}<br>Year=1998<br>e/km=%{x}<extra></extra>",
           "ids": [
            "Road traffic, freight vehicles"
           ],
           "legendgroup": "Road traffic, freight vehicles",
           "marker": {
            "color": "#636efa",
            "pattern": {
             "shape": ""
            }
           },
           "name": "Road traffic, freight vehicles",
           "offsetgroup": "Road traffic, freight vehicles",
           "orientation": "h",
           "showlegend": true,
           "textposition": "auto",
           "type": "bar",
           "x": [
            0.0002918186555497655
           ],
           "xaxis": "x",
           "y": [
            "Road traffic, freight vehicles"
           ],
           "yaxis": "y"
          },
          {
           "alignmentgroup": "True",
           "hovertemplate": "Sources=%{y}<br>Year=1998<br>e/km=%{x}<extra></extra>",
           "ids": [
            "Road traffic, passenger cars"
           ],
           "legendgroup": "Road traffic, passenger cars",
           "marker": {
            "color": "#EF553B",
            "pattern": {
             "shape": ""
            }
           },
           "name": "Road traffic, passenger cars",
           "offsetgroup": "Road traffic, passenger cars",
           "orientation": "h",
           "showlegend": true,
           "textposition": "auto",
           "type": "bar",
           "x": [
            5.0442775473601616e-05
           ],
           "xaxis": "x",
           "y": [
            "Road traffic, passenger cars"
           ],
           "yaxis": "y"
          }
         ],
         "name": "1998"
        },
        {
         "data": [
          {
           "alignmentgroup": "True",
           "hovertemplate": "Sources=%{y}<br>Year=1999<br>e/km=%{x}<extra></extra>",
           "ids": [
            "Road traffic, freight vehicles"
           ],
           "legendgroup": "Road traffic, freight vehicles",
           "marker": {
            "color": "#636efa",
            "pattern": {
             "shape": ""
            }
           },
           "name": "Road traffic, freight vehicles",
           "offsetgroup": "Road traffic, freight vehicles",
           "orientation": "h",
           "showlegend": true,
           "textposition": "auto",
           "type": "bar",
           "x": [
            0.0002680067001675042
           ],
           "xaxis": "x",
           "y": [
            "Road traffic, freight vehicles"
           ],
           "yaxis": "y"
          },
          {
           "alignmentgroup": "True",
           "hovertemplate": "Sources=%{y}<br>Year=1999<br>e/km=%{x}<extra></extra>",
           "ids": [
            "Road traffic, passenger cars"
           ],
           "legendgroup": "Road traffic, passenger cars",
           "marker": {
            "color": "#EF553B",
            "pattern": {
             "shape": ""
            }
           },
           "name": "Road traffic, passenger cars",
           "offsetgroup": "Road traffic, passenger cars",
           "orientation": "h",
           "showlegend": true,
           "textposition": "auto",
           "type": "bar",
           "x": [
            4.861028593650417e-05
           ],
           "xaxis": "x",
           "y": [
            "Road traffic, passenger cars"
           ],
           "yaxis": "y"
          }
         ],
         "name": "1999"
        },
        {
         "data": [
          {
           "alignmentgroup": "True",
           "hovertemplate": "Sources=%{y}<br>Year=2000<br>e/km=%{x}<extra></extra>",
           "ids": [
            "Road traffic, freight vehicles"
           ],
           "legendgroup": "Road traffic, freight vehicles",
           "marker": {
            "color": "#636efa",
            "pattern": {
             "shape": ""
            }
           },
           "name": "Road traffic, freight vehicles",
           "offsetgroup": "Road traffic, freight vehicles",
           "orientation": "h",
           "showlegend": true,
           "textposition": "auto",
           "type": "bar",
           "x": [
            0.00024416711882799784
           ],
           "xaxis": "x",
           "y": [
            "Road traffic, freight vehicles"
           ],
           "yaxis": "y"
          },
          {
           "alignmentgroup": "True",
           "hovertemplate": "Sources=%{y}<br>Year=2000<br>e/km=%{x}<extra></extra>",
           "ids": [
            "Road traffic, passenger cars"
           ],
           "legendgroup": "Road traffic, passenger cars",
           "marker": {
            "color": "#EF553B",
            "pattern": {
             "shape": ""
            }
           },
           "name": "Road traffic, passenger cars",
           "offsetgroup": "Road traffic, passenger cars",
           "orientation": "h",
           "showlegend": true,
           "textposition": "auto",
           "type": "bar",
           "x": [
            4.721131354750102e-05
           ],
           "xaxis": "x",
           "y": [
            "Road traffic, passenger cars"
           ],
           "yaxis": "y"
          }
         ],
         "name": "2000"
        },
        {
         "data": [
          {
           "alignmentgroup": "True",
           "hovertemplate": "Sources=%{y}<br>Year=2001<br>e/km=%{x}<extra></extra>",
           "ids": [
            "Road traffic, freight vehicles"
           ],
           "legendgroup": "Road traffic, freight vehicles",
           "marker": {
            "color": "#636efa",
            "pattern": {
             "shape": ""
            }
           },
           "name": "Road traffic, freight vehicles",
           "offsetgroup": "Road traffic, freight vehicles",
           "orientation": "h",
           "showlegend": true,
           "textposition": "auto",
           "type": "bar",
           "x": [
            0.00022617545996259406
           ],
           "xaxis": "x",
           "y": [
            "Road traffic, freight vehicles"
           ],
           "yaxis": "y"
          },
          {
           "alignmentgroup": "True",
           "hovertemplate": "Sources=%{y}<br>Year=2001<br>e/km=%{x}<extra></extra>",
           "ids": [
            "Road traffic, passenger cars"
           ],
           "legendgroup": "Road traffic, passenger cars",
           "marker": {
            "color": "#EF553B",
            "pattern": {
             "shape": ""
            }
           },
           "name": "Road traffic, passenger cars",
           "offsetgroup": "Road traffic, passenger cars",
           "orientation": "h",
           "showlegend": true,
           "textposition": "auto",
           "type": "bar",
           "x": [
            4.455628307243154e-05
           ],
           "xaxis": "x",
           "y": [
            "Road traffic, passenger cars"
           ],
           "yaxis": "y"
          }
         ],
         "name": "2001"
        },
        {
         "data": [
          {
           "alignmentgroup": "True",
           "hovertemplate": "Sources=%{y}<br>Year=2002<br>e/km=%{x}<extra></extra>",
           "ids": [
            "Road traffic, freight vehicles"
           ],
           "legendgroup": "Road traffic, freight vehicles",
           "marker": {
            "color": "#636efa",
            "pattern": {
             "shape": ""
            }
           },
           "name": "Road traffic, freight vehicles",
           "offsetgroup": "Road traffic, freight vehicles",
           "orientation": "h",
           "showlegend": true,
           "textposition": "auto",
           "type": "bar",
           "x": [
            0.00020676821283341373
           ],
           "xaxis": "x",
           "y": [
            "Road traffic, freight vehicles"
           ],
           "yaxis": "y"
          },
          {
           "alignmentgroup": "True",
           "hovertemplate": "Sources=%{y}<br>Year=2002<br>e/km=%{x}<extra></extra>",
           "ids": [
            "Road traffic, passenger cars"
           ],
           "legendgroup": "Road traffic, passenger cars",
           "marker": {
            "color": "#EF553B",
            "pattern": {
             "shape": ""
            }
           },
           "name": "Road traffic, passenger cars",
           "offsetgroup": "Road traffic, passenger cars",
           "orientation": "h",
           "showlegend": true,
           "textposition": "auto",
           "type": "bar",
           "x": [
            4.1556628178302866e-05
           ],
           "xaxis": "x",
           "y": [
            "Road traffic, passenger cars"
           ],
           "yaxis": "y"
          }
         ],
         "name": "2002"
        },
        {
         "data": [
          {
           "alignmentgroup": "True",
           "hovertemplate": "Sources=%{y}<br>Year=2003<br>e/km=%{x}<extra></extra>",
           "ids": [
            "Road traffic, freight vehicles"
           ],
           "legendgroup": "Road traffic, freight vehicles",
           "marker": {
            "color": "#636efa",
            "pattern": {
             "shape": ""
            }
           },
           "name": "Road traffic, freight vehicles",
           "offsetgroup": "Road traffic, freight vehicles",
           "orientation": "h",
           "showlegend": true,
           "textposition": "auto",
           "type": "bar",
           "x": [
            0.00019051489826504432
           ],
           "xaxis": "x",
           "y": [
            "Road traffic, freight vehicles"
           ],
           "yaxis": "y"
          },
          {
           "alignmentgroup": "True",
           "hovertemplate": "Sources=%{y}<br>Year=2003<br>e/km=%{x}<extra></extra>",
           "ids": [
            "Road traffic, passenger cars"
           ],
           "legendgroup": "Road traffic, passenger cars",
           "marker": {
            "color": "#EF553B",
            "pattern": {
             "shape": ""
            }
           },
           "name": "Road traffic, passenger cars",
           "offsetgroup": "Road traffic, passenger cars",
           "orientation": "h",
           "showlegend": true,
           "textposition": "auto",
           "type": "bar",
           "x": [
            4.0035189905383504e-05
           ],
           "xaxis": "x",
           "y": [
            "Road traffic, passenger cars"
           ],
           "yaxis": "y"
          }
         ],
         "name": "2003"
        },
        {
         "data": [
          {
           "alignmentgroup": "True",
           "hovertemplate": "Sources=%{y}<br>Year=2004<br>e/km=%{x}<extra></extra>",
           "ids": [
            "Road traffic, freight vehicles"
           ],
           "legendgroup": "Road traffic, freight vehicles",
           "marker": {
            "color": "#636efa",
            "pattern": {
             "shape": ""
            }
           },
           "name": "Road traffic, freight vehicles",
           "offsetgroup": "Road traffic, freight vehicles",
           "orientation": "h",
           "showlegend": true,
           "textposition": "auto",
           "type": "bar",
           "x": [
            0.00018028427552354144
           ],
           "xaxis": "x",
           "y": [
            "Road traffic, freight vehicles"
           ],
           "yaxis": "y"
          },
          {
           "alignmentgroup": "True",
           "hovertemplate": "Sources=%{y}<br>Year=2004<br>e/km=%{x}<extra></extra>",
           "ids": [
            "Road traffic, passenger cars"
           ],
           "legendgroup": "Road traffic, passenger cars",
           "marker": {
            "color": "#EF553B",
            "pattern": {
             "shape": ""
            }
           },
           "name": "Road traffic, passenger cars",
           "offsetgroup": "Road traffic, passenger cars",
           "orientation": "h",
           "showlegend": true,
           "textposition": "auto",
           "type": "bar",
           "x": [
            3.802285173389207e-05
           ],
           "xaxis": "x",
           "y": [
            "Road traffic, passenger cars"
           ],
           "yaxis": "y"
          }
         ],
         "name": "2004"
        },
        {
         "data": [
          {
           "alignmentgroup": "True",
           "hovertemplate": "Sources=%{y}<br>Year=2005<br>e/km=%{x}<extra></extra>",
           "ids": [
            "Road traffic, freight vehicles"
           ],
           "legendgroup": "Road traffic, freight vehicles",
           "marker": {
            "color": "#636efa",
            "pattern": {
             "shape": ""
            }
           },
           "name": "Road traffic, freight vehicles",
           "offsetgroup": "Road traffic, freight vehicles",
           "orientation": "h",
           "showlegend": true,
           "textposition": "auto",
           "type": "bar",
           "x": [
            0.0001699998785715153
           ],
           "xaxis": "x",
           "y": [
            "Road traffic, freight vehicles"
           ],
           "yaxis": "y"
          },
          {
           "alignmentgroup": "True",
           "hovertemplate": "Sources=%{y}<br>Year=2005<br>e/km=%{x}<extra></extra>",
           "ids": [
            "Road traffic, passenger cars"
           ],
           "legendgroup": "Road traffic, passenger cars",
           "marker": {
            "color": "#EF553B",
            "pattern": {
             "shape": ""
            }
           },
           "name": "Road traffic, passenger cars",
           "offsetgroup": "Road traffic, passenger cars",
           "orientation": "h",
           "showlegend": true,
           "textposition": "auto",
           "type": "bar",
           "x": [
            3.718424794858524e-05
           ],
           "xaxis": "x",
           "y": [
            "Road traffic, passenger cars"
           ],
           "yaxis": "y"
          }
         ],
         "name": "2005"
        },
        {
         "data": [
          {
           "alignmentgroup": "True",
           "hovertemplate": "Sources=%{y}<br>Year=2006<br>e/km=%{x}<extra></extra>",
           "ids": [
            "Road traffic, freight vehicles"
           ],
           "legendgroup": "Road traffic, freight vehicles",
           "marker": {
            "color": "#636efa",
            "pattern": {
             "shape": ""
            }
           },
           "name": "Road traffic, freight vehicles",
           "offsetgroup": "Road traffic, freight vehicles",
           "orientation": "h",
           "showlegend": true,
           "textposition": "auto",
           "type": "bar",
           "x": [
            0.00016116235247446196
           ],
           "xaxis": "x",
           "y": [
            "Road traffic, freight vehicles"
           ],
           "yaxis": "y"
          },
          {
           "alignmentgroup": "True",
           "hovertemplate": "Sources=%{y}<br>Year=2006<br>e/km=%{x}<extra></extra>",
           "ids": [
            "Road traffic, passenger cars"
           ],
           "legendgroup": "Road traffic, passenger cars",
           "marker": {
            "color": "#EF553B",
            "pattern": {
             "shape": ""
            }
           },
           "name": "Road traffic, passenger cars",
           "offsetgroup": "Road traffic, passenger cars",
           "orientation": "h",
           "showlegend": true,
           "textposition": "auto",
           "type": "bar",
           "x": [
            3.5832197817620085e-05
           ],
           "xaxis": "x",
           "y": [
            "Road traffic, passenger cars"
           ],
           "yaxis": "y"
          }
         ],
         "name": "2006"
        },
        {
         "data": [
          {
           "alignmentgroup": "True",
           "hovertemplate": "Sources=%{y}<br>Year=2007<br>e/km=%{x}<extra></extra>",
           "ids": [
            "Road traffic, freight vehicles"
           ],
           "legendgroup": "Road traffic, freight vehicles",
           "marker": {
            "color": "#636efa",
            "pattern": {
             "shape": ""
            }
           },
           "name": "Road traffic, freight vehicles",
           "offsetgroup": "Road traffic, freight vehicles",
           "orientation": "h",
           "showlegend": true,
           "textposition": "auto",
           "type": "bar",
           "x": [
            0.00014976361634609156
           ],
           "xaxis": "x",
           "y": [
            "Road traffic, freight vehicles"
           ],
           "yaxis": "y"
          },
          {
           "alignmentgroup": "True",
           "hovertemplate": "Sources=%{y}<br>Year=2007<br>e/km=%{x}<extra></extra>",
           "ids": [
            "Road traffic, passenger cars"
           ],
           "legendgroup": "Road traffic, passenger cars",
           "marker": {
            "color": "#EF553B",
            "pattern": {
             "shape": ""
            }
           },
           "name": "Road traffic, passenger cars",
           "offsetgroup": "Road traffic, passenger cars",
           "orientation": "h",
           "showlegend": true,
           "textposition": "auto",
           "type": "bar",
           "x": [
            3.424041072840115e-05
           ],
           "xaxis": "x",
           "y": [
            "Road traffic, passenger cars"
           ],
           "yaxis": "y"
          }
         ],
         "name": "2007"
        },
        {
         "data": [
          {
           "alignmentgroup": "True",
           "hovertemplate": "Sources=%{y}<br>Year=2008<br>e/km=%{x}<extra></extra>",
           "ids": [
            "Road traffic, freight vehicles"
           ],
           "legendgroup": "Road traffic, freight vehicles",
           "marker": {
            "color": "#636efa",
            "pattern": {
             "shape": ""
            }
           },
           "name": "Road traffic, freight vehicles",
           "offsetgroup": "Road traffic, freight vehicles",
           "orientation": "h",
           "showlegend": true,
           "textposition": "auto",
           "type": "bar",
           "x": [
            0.00013903785802248442
           ],
           "xaxis": "x",
           "y": [
            "Road traffic, freight vehicles"
           ],
           "yaxis": "y"
          },
          {
           "alignmentgroup": "True",
           "hovertemplate": "Sources=%{y}<br>Year=2008<br>e/km=%{x}<extra></extra>",
           "ids": [
            "Road traffic, passenger cars"
           ],
           "legendgroup": "Road traffic, passenger cars",
           "marker": {
            "color": "#EF553B",
            "pattern": {
             "shape": ""
            }
           },
           "name": "Road traffic, passenger cars",
           "offsetgroup": "Road traffic, passenger cars",
           "orientation": "h",
           "showlegend": true,
           "textposition": "auto",
           "type": "bar",
           "x": [
            3.259252821228995e-05
           ],
           "xaxis": "x",
           "y": [
            "Road traffic, passenger cars"
           ],
           "yaxis": "y"
          }
         ],
         "name": "2008"
        },
        {
         "data": [
          {
           "alignmentgroup": "True",
           "hovertemplate": "Sources=%{y}<br>Year=2009<br>e/km=%{x}<extra></extra>",
           "ids": [
            "Road traffic, freight vehicles"
           ],
           "legendgroup": "Road traffic, freight vehicles",
           "marker": {
            "color": "#636efa",
            "pattern": {
             "shape": ""
            }
           },
           "name": "Road traffic, freight vehicles",
           "offsetgroup": "Road traffic, freight vehicles",
           "orientation": "h",
           "showlegend": true,
           "textposition": "auto",
           "type": "bar",
           "x": [
            0.0001258392667224148
           ],
           "xaxis": "x",
           "y": [
            "Road traffic, freight vehicles"
           ],
           "yaxis": "y"
          },
          {
           "alignmentgroup": "True",
           "hovertemplate": "Sources=%{y}<br>Year=2009<br>e/km=%{x}<extra></extra>",
           "ids": [
            "Road traffic, passenger cars"
           ],
           "legendgroup": "Road traffic, passenger cars",
           "marker": {
            "color": "#EF553B",
            "pattern": {
             "shape": ""
            }
           },
           "name": "Road traffic, passenger cars",
           "offsetgroup": "Road traffic, passenger cars",
           "orientation": "h",
           "showlegend": true,
           "textposition": "auto",
           "type": "bar",
           "x": [
            3.053765983017121e-05
           ],
           "xaxis": "x",
           "y": [
            "Road traffic, passenger cars"
           ],
           "yaxis": "y"
          }
         ],
         "name": "2009"
        },
        {
         "data": [
          {
           "alignmentgroup": "True",
           "hovertemplate": "Sources=%{y}<br>Year=2010<br>e/km=%{x}<extra></extra>",
           "ids": [
            "Road traffic, freight vehicles"
           ],
           "legendgroup": "Road traffic, freight vehicles",
           "marker": {
            "color": "#636efa",
            "pattern": {
             "shape": ""
            }
           },
           "name": "Road traffic, freight vehicles",
           "offsetgroup": "Road traffic, freight vehicles",
           "orientation": "h",
           "showlegend": true,
           "textposition": "auto",
           "type": "bar",
           "x": [
            0.00011437815050530633
           ],
           "xaxis": "x",
           "y": [
            "Road traffic, freight vehicles"
           ],
           "yaxis": "y"
          },
          {
           "alignmentgroup": "True",
           "hovertemplate": "Sources=%{y}<br>Year=2010<br>e/km=%{x}<extra></extra>",
           "ids": [
            "Road traffic, passenger cars"
           ],
           "legendgroup": "Road traffic, passenger cars",
           "marker": {
            "color": "#EF553B",
            "pattern": {
             "shape": ""
            }
           },
           "name": "Road traffic, passenger cars",
           "offsetgroup": "Road traffic, passenger cars",
           "orientation": "h",
           "showlegend": true,
           "textposition": "auto",
           "type": "bar",
           "x": [
            2.9323334727820806e-05
           ],
           "xaxis": "x",
           "y": [
            "Road traffic, passenger cars"
           ],
           "yaxis": "y"
          }
         ],
         "name": "2010"
        },
        {
         "data": [
          {
           "alignmentgroup": "True",
           "hovertemplate": "Sources=%{y}<br>Year=2011<br>e/km=%{x}<extra></extra>",
           "ids": [
            "Road traffic, freight vehicles"
           ],
           "legendgroup": "Road traffic, freight vehicles",
           "marker": {
            "color": "#636efa",
            "pattern": {
             "shape": ""
            }
           },
           "name": "Road traffic, freight vehicles",
           "offsetgroup": "Road traffic, freight vehicles",
           "orientation": "h",
           "showlegend": true,
           "textposition": "auto",
           "type": "bar",
           "x": [
            0.00010757493007629545
           ],
           "xaxis": "x",
           "y": [
            "Road traffic, freight vehicles"
           ],
           "yaxis": "y"
          },
          {
           "alignmentgroup": "True",
           "hovertemplate": "Sources=%{y}<br>Year=2011<br>e/km=%{x}<extra></extra>",
           "ids": [
            "Road traffic, passenger cars"
           ],
           "legendgroup": "Road traffic, passenger cars",
           "marker": {
            "color": "#EF553B",
            "pattern": {
             "shape": ""
            }
           },
           "name": "Road traffic, passenger cars",
           "offsetgroup": "Road traffic, passenger cars",
           "orientation": "h",
           "showlegend": true,
           "textposition": "auto",
           "type": "bar",
           "x": [
            2.8167263035615075e-05
           ],
           "xaxis": "x",
           "y": [
            "Road traffic, passenger cars"
           ],
           "yaxis": "y"
          }
         ],
         "name": "2011"
        },
        {
         "data": [
          {
           "alignmentgroup": "True",
           "hovertemplate": "Sources=%{y}<br>Year=2012<br>e/km=%{x}<extra></extra>",
           "ids": [
            "Road traffic, freight vehicles"
           ],
           "legendgroup": "Road traffic, freight vehicles",
           "marker": {
            "color": "#636efa",
            "pattern": {
             "shape": ""
            }
           },
           "name": "Road traffic, freight vehicles",
           "offsetgroup": "Road traffic, freight vehicles",
           "orientation": "h",
           "showlegend": true,
           "textposition": "auto",
           "type": "bar",
           "x": [
            9.722322028668169e-05
           ],
           "xaxis": "x",
           "y": [
            "Road traffic, freight vehicles"
           ],
           "yaxis": "y"
          },
          {
           "alignmentgroup": "True",
           "hovertemplate": "Sources=%{y}<br>Year=2012<br>e/km=%{x}<extra></extra>",
           "ids": [
            "Road traffic, passenger cars"
           ],
           "legendgroup": "Road traffic, passenger cars",
           "marker": {
            "color": "#EF553B",
            "pattern": {
             "shape": ""
            }
           },
           "name": "Road traffic, passenger cars",
           "offsetgroup": "Road traffic, passenger cars",
           "orientation": "h",
           "showlegend": true,
           "textposition": "auto",
           "type": "bar",
           "x": [
            2.6182554466986225e-05
           ],
           "xaxis": "x",
           "y": [
            "Road traffic, passenger cars"
           ],
           "yaxis": "y"
          }
         ],
         "name": "2012"
        },
        {
         "data": [
          {
           "alignmentgroup": "True",
           "hovertemplate": "Sources=%{y}<br>Year=2013<br>e/km=%{x}<extra></extra>",
           "ids": [
            "Road traffic, freight vehicles"
           ],
           "legendgroup": "Road traffic, freight vehicles",
           "marker": {
            "color": "#636efa",
            "pattern": {
             "shape": ""
            }
           },
           "name": "Road traffic, freight vehicles",
           "offsetgroup": "Road traffic, freight vehicles",
           "orientation": "h",
           "showlegend": true,
           "textposition": "auto",
           "type": "bar",
           "x": [
            8.723529540051906e-05
           ],
           "xaxis": "x",
           "y": [
            "Road traffic, freight vehicles"
           ],
           "yaxis": "y"
          },
          {
           "alignmentgroup": "True",
           "hovertemplate": "Sources=%{y}<br>Year=2013<br>e/km=%{x}<extra></extra>",
           "ids": [
            "Road traffic, passenger cars"
           ],
           "legendgroup": "Road traffic, passenger cars",
           "marker": {
            "color": "#EF553B",
            "pattern": {
             "shape": ""
            }
           },
           "name": "Road traffic, passenger cars",
           "offsetgroup": "Road traffic, passenger cars",
           "orientation": "h",
           "showlegend": true,
           "textposition": "auto",
           "type": "bar",
           "x": [
            2.422217743810749e-05
           ],
           "xaxis": "x",
           "y": [
            "Road traffic, passenger cars"
           ],
           "yaxis": "y"
          }
         ],
         "name": "2013"
        },
        {
         "data": [
          {
           "alignmentgroup": "True",
           "hovertemplate": "Sources=%{y}<br>Year=2014<br>e/km=%{x}<extra></extra>",
           "ids": [
            "Road traffic, freight vehicles"
           ],
           "legendgroup": "Road traffic, freight vehicles",
           "marker": {
            "color": "#636efa",
            "pattern": {
             "shape": ""
            }
           },
           "name": "Road traffic, freight vehicles",
           "offsetgroup": "Road traffic, freight vehicles",
           "orientation": "h",
           "showlegend": true,
           "textposition": "auto",
           "type": "bar",
           "x": [
            8.291295013004241e-05
           ],
           "xaxis": "x",
           "y": [
            "Road traffic, freight vehicles"
           ],
           "yaxis": "y"
          },
          {
           "alignmentgroup": "True",
           "hovertemplate": "Sources=%{y}<br>Year=2014<br>e/km=%{x}<extra></extra>",
           "ids": [
            "Road traffic, passenger cars"
           ],
           "legendgroup": "Road traffic, passenger cars",
           "marker": {
            "color": "#EF553B",
            "pattern": {
             "shape": ""
            }
           },
           "name": "Road traffic, passenger cars",
           "offsetgroup": "Road traffic, passenger cars",
           "orientation": "h",
           "showlegend": true,
           "textposition": "auto",
           "type": "bar",
           "x": [
            2.3143884566018413e-05
           ],
           "xaxis": "x",
           "y": [
            "Road traffic, passenger cars"
           ],
           "yaxis": "y"
          }
         ],
         "name": "2014"
        },
        {
         "data": [
          {
           "alignmentgroup": "True",
           "hovertemplate": "Sources=%{y}<br>Year=2015<br>e/km=%{x}<extra></extra>",
           "ids": [
            "Road traffic, freight vehicles"
           ],
           "legendgroup": "Road traffic, freight vehicles",
           "marker": {
            "color": "#636efa",
            "pattern": {
             "shape": ""
            }
           },
           "name": "Road traffic, freight vehicles",
           "offsetgroup": "Road traffic, freight vehicles",
           "orientation": "h",
           "showlegend": true,
           "textposition": "auto",
           "type": "bar",
           "x": [
            7.670116798834143e-05
           ],
           "xaxis": "x",
           "y": [
            "Road traffic, freight vehicles"
           ],
           "yaxis": "y"
          },
          {
           "alignmentgroup": "True",
           "hovertemplate": "Sources=%{y}<br>Year=2015<br>e/km=%{x}<extra></extra>",
           "ids": [
            "Road traffic, passenger cars"
           ],
           "legendgroup": "Road traffic, passenger cars",
           "marker": {
            "color": "#EF553B",
            "pattern": {
             "shape": ""
            }
           },
           "name": "Road traffic, passenger cars",
           "offsetgroup": "Road traffic, passenger cars",
           "orientation": "h",
           "showlegend": true,
           "textposition": "auto",
           "type": "bar",
           "x": [
            2.2837806847345438e-05
           ],
           "xaxis": "x",
           "y": [
            "Road traffic, passenger cars"
           ],
           "yaxis": "y"
          }
         ],
         "name": "2015"
        },
        {
         "data": [
          {
           "alignmentgroup": "True",
           "hovertemplate": "Sources=%{y}<br>Year=2016<br>e/km=%{x}<extra></extra>",
           "ids": [
            "Road traffic, freight vehicles"
           ],
           "legendgroup": "Road traffic, freight vehicles",
           "marker": {
            "color": "#636efa",
            "pattern": {
             "shape": ""
            }
           },
           "name": "Road traffic, freight vehicles",
           "offsetgroup": "Road traffic, freight vehicles",
           "orientation": "h",
           "showlegend": true,
           "textposition": "auto",
           "type": "bar",
           "x": [
            7.354383212394588e-05
           ],
           "xaxis": "x",
           "y": [
            "Road traffic, freight vehicles"
           ],
           "yaxis": "y"
          },
          {
           "alignmentgroup": "True",
           "hovertemplate": "Sources=%{y}<br>Year=2016<br>e/km=%{x}<extra></extra>",
           "ids": [
            "Road traffic, passenger cars"
           ],
           "legendgroup": "Road traffic, passenger cars",
           "marker": {
            "color": "#EF553B",
            "pattern": {
             "shape": ""
            }
           },
           "name": "Road traffic, passenger cars",
           "offsetgroup": "Road traffic, passenger cars",
           "orientation": "h",
           "showlegend": true,
           "textposition": "auto",
           "type": "bar",
           "x": [
            2.1354011443893263e-05
           ],
           "xaxis": "x",
           "y": [
            "Road traffic, passenger cars"
           ],
           "yaxis": "y"
          }
         ],
         "name": "2016"
        },
        {
         "data": [
          {
           "alignmentgroup": "True",
           "hovertemplate": "Sources=%{y}<br>Year=2017<br>e/km=%{x}<extra></extra>",
           "ids": [
            "Road traffic, freight vehicles"
           ],
           "legendgroup": "Road traffic, freight vehicles",
           "marker": {
            "color": "#636efa",
            "pattern": {
             "shape": ""
            }
           },
           "name": "Road traffic, freight vehicles",
           "offsetgroup": "Road traffic, freight vehicles",
           "orientation": "h",
           "showlegend": true,
           "textposition": "auto",
           "type": "bar",
           "x": [
            6.767704514058911e-05
           ],
           "xaxis": "x",
           "y": [
            "Road traffic, freight vehicles"
           ],
           "yaxis": "y"
          },
          {
           "alignmentgroup": "True",
           "hovertemplate": "Sources=%{y}<br>Year=2017<br>e/km=%{x}<extra></extra>",
           "ids": [
            "Road traffic, passenger cars"
           ],
           "legendgroup": "Road traffic, passenger cars",
           "marker": {
            "color": "#EF553B",
            "pattern": {
             "shape": ""
            }
           },
           "name": "Road traffic, passenger cars",
           "offsetgroup": "Road traffic, passenger cars",
           "orientation": "h",
           "showlegend": true,
           "textposition": "auto",
           "type": "bar",
           "x": [
            2.1113294858178326e-05
           ],
           "xaxis": "x",
           "y": [
            "Road traffic, passenger cars"
           ],
           "yaxis": "y"
          }
         ],
         "name": "2017"
        },
        {
         "data": [
          {
           "alignmentgroup": "True",
           "hovertemplate": "Sources=%{y}<br>Year=2018<br>e/km=%{x}<extra></extra>",
           "ids": [
            "Road traffic, freight vehicles"
           ],
           "legendgroup": "Road traffic, freight vehicles",
           "marker": {
            "color": "#636efa",
            "pattern": {
             "shape": ""
            }
           },
           "name": "Road traffic, freight vehicles",
           "offsetgroup": "Road traffic, freight vehicles",
           "orientation": "h",
           "showlegend": true,
           "textposition": "auto",
           "type": "bar",
           "x": [
            6.228928702124843e-05
           ],
           "xaxis": "x",
           "y": [
            "Road traffic, freight vehicles"
           ],
           "yaxis": "y"
          },
          {
           "alignmentgroup": "True",
           "hovertemplate": "Sources=%{y}<br>Year=2018<br>e/km=%{x}<extra></extra>",
           "ids": [
            "Road traffic, passenger cars"
           ],
           "legendgroup": "Road traffic, passenger cars",
           "marker": {
            "color": "#EF553B",
            "pattern": {
             "shape": ""
            }
           },
           "name": "Road traffic, passenger cars",
           "offsetgroup": "Road traffic, passenger cars",
           "orientation": "h",
           "showlegend": true,
           "textposition": "auto",
           "type": "bar",
           "x": [
            2.084165866981285e-05
           ],
           "xaxis": "x",
           "y": [
            "Road traffic, passenger cars"
           ],
           "yaxis": "y"
          }
         ],
         "name": "2018"
        },
        {
         "data": [
          {
           "alignmentgroup": "True",
           "hovertemplate": "Sources=%{y}<br>Year=2019<br>e/km=%{x}<extra></extra>",
           "ids": [
            "Road traffic, freight vehicles"
           ],
           "legendgroup": "Road traffic, freight vehicles",
           "marker": {
            "color": "#636efa",
            "pattern": {
             "shape": ""
            }
           },
           "name": "Road traffic, freight vehicles",
           "offsetgroup": "Road traffic, freight vehicles",
           "orientation": "h",
           "showlegend": true,
           "textposition": "auto",
           "type": "bar",
           "x": [
            5.7280767409534574e-05
           ],
           "xaxis": "x",
           "y": [
            "Road traffic, freight vehicles"
           ],
           "yaxis": "y"
          },
          {
           "alignmentgroup": "True",
           "hovertemplate": "Sources=%{y}<br>Year=2019<br>e/km=%{x}<extra></extra>",
           "ids": [
            "Road traffic, passenger cars"
           ],
           "legendgroup": "Road traffic, passenger cars",
           "marker": {
            "color": "#EF553B",
            "pattern": {
             "shape": ""
            }
           },
           "name": "Road traffic, passenger cars",
           "offsetgroup": "Road traffic, passenger cars",
           "orientation": "h",
           "showlegend": true,
           "textposition": "auto",
           "type": "bar",
           "x": [
            1.99324471246539e-05
           ],
           "xaxis": "x",
           "y": [
            "Road traffic, passenger cars"
           ],
           "yaxis": "y"
          }
         ],
         "name": "2019"
        },
        {
         "data": [
          {
           "alignmentgroup": "True",
           "hovertemplate": "Sources=%{y}<br>Year=2020<br>e/km=%{x}<extra></extra>",
           "ids": [
            "Road traffic, freight vehicles"
           ],
           "legendgroup": "Road traffic, freight vehicles",
           "marker": {
            "color": "#636efa",
            "pattern": {
             "shape": ""
            }
           },
           "name": "Road traffic, freight vehicles",
           "offsetgroup": "Road traffic, freight vehicles",
           "orientation": "h",
           "showlegend": true,
           "textposition": "auto",
           "type": "bar",
           "x": [
            5.872105541310262e-05
           ],
           "xaxis": "x",
           "y": [
            "Road traffic, freight vehicles"
           ],
           "yaxis": "y"
          },
          {
           "alignmentgroup": "True",
           "hovertemplate": "Sources=%{y}<br>Year=2020<br>e/km=%{x}<extra></extra>",
           "ids": [
            "Road traffic, passenger cars"
           ],
           "legendgroup": "Road traffic, passenger cars",
           "marker": {
            "color": "#EF553B",
            "pattern": {
             "shape": ""
            }
           },
           "name": "Road traffic, passenger cars",
           "offsetgroup": "Road traffic, passenger cars",
           "orientation": "h",
           "showlegend": true,
           "textposition": "auto",
           "type": "bar",
           "x": [
            1.9427074002042e-05
           ],
           "xaxis": "x",
           "y": [
            "Road traffic, passenger cars"
           ],
           "yaxis": "y"
          }
         ],
         "name": "2020"
        },
        {
         "data": [
          {
           "alignmentgroup": "True",
           "hovertemplate": "Sources=%{y}<br>Year=2021<br>e/km=%{x}<extra></extra>",
           "ids": [
            "Road traffic, freight vehicles"
           ],
           "legendgroup": "Road traffic, freight vehicles",
           "marker": {
            "color": "#636efa",
            "pattern": {
             "shape": ""
            }
           },
           "name": "Road traffic, freight vehicles",
           "offsetgroup": "Road traffic, freight vehicles",
           "orientation": "h",
           "showlegend": true,
           "textposition": "auto",
           "type": "bar",
           "x": [
            null
           ],
           "xaxis": "x",
           "y": [
            "Road traffic, freight vehicles"
           ],
           "yaxis": "y"
          },
          {
           "alignmentgroup": "True",
           "hovertemplate": "Sources=%{y}<br>Year=2021<br>e/km=%{x}<extra></extra>",
           "ids": [
            "Road traffic, passenger cars"
           ],
           "legendgroup": "Road traffic, passenger cars",
           "marker": {
            "color": "#EF553B",
            "pattern": {
             "shape": ""
            }
           },
           "name": "Road traffic, passenger cars",
           "offsetgroup": "Road traffic, passenger cars",
           "orientation": "h",
           "showlegend": true,
           "textposition": "auto",
           "type": "bar",
           "x": [
            null
           ],
           "xaxis": "x",
           "y": [
            "Road traffic, passenger cars"
           ],
           "yaxis": "y"
          }
         ],
         "name": "2021"
        }
       ],
       "layout": {
        "autosize": true,
        "barmode": "relative",
        "legend": {
         "title": {
          "text": "Sources"
         },
         "tracegroupgap": 0
        },
        "margin": {
         "t": 60
        },
        "sliders": [
         {
          "active": 0,
          "currentvalue": {
           "prefix": "Year="
          },
          "len": 0.9,
          "pad": {
           "b": 10,
           "t": 60
          },
          "steps": [
           {
            "args": [
             [
              "1990"
             ],
             {
              "frame": {
               "duration": 0,
               "redraw": true
              },
              "fromcurrent": true,
              "mode": "immediate",
              "transition": {
               "duration": 0,
               "easing": "linear"
              }
             }
            ],
            "label": "1990",
            "method": "animate"
           },
           {
            "args": [
             [
              "1991"
             ],
             {
              "frame": {
               "duration": 0,
               "redraw": true
              },
              "fromcurrent": true,
              "mode": "immediate",
              "transition": {
               "duration": 0,
               "easing": "linear"
              }
             }
            ],
            "label": "1991",
            "method": "animate"
           },
           {
            "args": [
             [
              "1992"
             ],
             {
              "frame": {
               "duration": 0,
               "redraw": true
              },
              "fromcurrent": true,
              "mode": "immediate",
              "transition": {
               "duration": 0,
               "easing": "linear"
              }
             }
            ],
            "label": "1992",
            "method": "animate"
           },
           {
            "args": [
             [
              "1993"
             ],
             {
              "frame": {
               "duration": 0,
               "redraw": true
              },
              "fromcurrent": true,
              "mode": "immediate",
              "transition": {
               "duration": 0,
               "easing": "linear"
              }
             }
            ],
            "label": "1993",
            "method": "animate"
           },
           {
            "args": [
             [
              "1994"
             ],
             {
              "frame": {
               "duration": 0,
               "redraw": true
              },
              "fromcurrent": true,
              "mode": "immediate",
              "transition": {
               "duration": 0,
               "easing": "linear"
              }
             }
            ],
            "label": "1994",
            "method": "animate"
           },
           {
            "args": [
             [
              "1995"
             ],
             {
              "frame": {
               "duration": 0,
               "redraw": true
              },
              "fromcurrent": true,
              "mode": "immediate",
              "transition": {
               "duration": 0,
               "easing": "linear"
              }
             }
            ],
            "label": "1995",
            "method": "animate"
           },
           {
            "args": [
             [
              "1996"
             ],
             {
              "frame": {
               "duration": 0,
               "redraw": true
              },
              "fromcurrent": true,
              "mode": "immediate",
              "transition": {
               "duration": 0,
               "easing": "linear"
              }
             }
            ],
            "label": "1996",
            "method": "animate"
           },
           {
            "args": [
             [
              "1997"
             ],
             {
              "frame": {
               "duration": 0,
               "redraw": true
              },
              "fromcurrent": true,
              "mode": "immediate",
              "transition": {
               "duration": 0,
               "easing": "linear"
              }
             }
            ],
            "label": "1997",
            "method": "animate"
           },
           {
            "args": [
             [
              "1998"
             ],
             {
              "frame": {
               "duration": 0,
               "redraw": true
              },
              "fromcurrent": true,
              "mode": "immediate",
              "transition": {
               "duration": 0,
               "easing": "linear"
              }
             }
            ],
            "label": "1998",
            "method": "animate"
           },
           {
            "args": [
             [
              "1999"
             ],
             {
              "frame": {
               "duration": 0,
               "redraw": true
              },
              "fromcurrent": true,
              "mode": "immediate",
              "transition": {
               "duration": 0,
               "easing": "linear"
              }
             }
            ],
            "label": "1999",
            "method": "animate"
           },
           {
            "args": [
             [
              "2000"
             ],
             {
              "frame": {
               "duration": 0,
               "redraw": true
              },
              "fromcurrent": true,
              "mode": "immediate",
              "transition": {
               "duration": 0,
               "easing": "linear"
              }
             }
            ],
            "label": "2000",
            "method": "animate"
           },
           {
            "args": [
             [
              "2001"
             ],
             {
              "frame": {
               "duration": 0,
               "redraw": true
              },
              "fromcurrent": true,
              "mode": "immediate",
              "transition": {
               "duration": 0,
               "easing": "linear"
              }
             }
            ],
            "label": "2001",
            "method": "animate"
           },
           {
            "args": [
             [
              "2002"
             ],
             {
              "frame": {
               "duration": 0,
               "redraw": true
              },
              "fromcurrent": true,
              "mode": "immediate",
              "transition": {
               "duration": 0,
               "easing": "linear"
              }
             }
            ],
            "label": "2002",
            "method": "animate"
           },
           {
            "args": [
             [
              "2003"
             ],
             {
              "frame": {
               "duration": 0,
               "redraw": true
              },
              "fromcurrent": true,
              "mode": "immediate",
              "transition": {
               "duration": 0,
               "easing": "linear"
              }
             }
            ],
            "label": "2003",
            "method": "animate"
           },
           {
            "args": [
             [
              "2004"
             ],
             {
              "frame": {
               "duration": 0,
               "redraw": true
              },
              "fromcurrent": true,
              "mode": "immediate",
              "transition": {
               "duration": 0,
               "easing": "linear"
              }
             }
            ],
            "label": "2004",
            "method": "animate"
           },
           {
            "args": [
             [
              "2005"
             ],
             {
              "frame": {
               "duration": 0,
               "redraw": true
              },
              "fromcurrent": true,
              "mode": "immediate",
              "transition": {
               "duration": 0,
               "easing": "linear"
              }
             }
            ],
            "label": "2005",
            "method": "animate"
           },
           {
            "args": [
             [
              "2006"
             ],
             {
              "frame": {
               "duration": 0,
               "redraw": true
              },
              "fromcurrent": true,
              "mode": "immediate",
              "transition": {
               "duration": 0,
               "easing": "linear"
              }
             }
            ],
            "label": "2006",
            "method": "animate"
           },
           {
            "args": [
             [
              "2007"
             ],
             {
              "frame": {
               "duration": 0,
               "redraw": true
              },
              "fromcurrent": true,
              "mode": "immediate",
              "transition": {
               "duration": 0,
               "easing": "linear"
              }
             }
            ],
            "label": "2007",
            "method": "animate"
           },
           {
            "args": [
             [
              "2008"
             ],
             {
              "frame": {
               "duration": 0,
               "redraw": true
              },
              "fromcurrent": true,
              "mode": "immediate",
              "transition": {
               "duration": 0,
               "easing": "linear"
              }
             }
            ],
            "label": "2008",
            "method": "animate"
           },
           {
            "args": [
             [
              "2009"
             ],
             {
              "frame": {
               "duration": 0,
               "redraw": true
              },
              "fromcurrent": true,
              "mode": "immediate",
              "transition": {
               "duration": 0,
               "easing": "linear"
              }
             }
            ],
            "label": "2009",
            "method": "animate"
           },
           {
            "args": [
             [
              "2010"
             ],
             {
              "frame": {
               "duration": 0,
               "redraw": true
              },
              "fromcurrent": true,
              "mode": "immediate",
              "transition": {
               "duration": 0,
               "easing": "linear"
              }
             }
            ],
            "label": "2010",
            "method": "animate"
           },
           {
            "args": [
             [
              "2011"
             ],
             {
              "frame": {
               "duration": 0,
               "redraw": true
              },
              "fromcurrent": true,
              "mode": "immediate",
              "transition": {
               "duration": 0,
               "easing": "linear"
              }
             }
            ],
            "label": "2011",
            "method": "animate"
           },
           {
            "args": [
             [
              "2012"
             ],
             {
              "frame": {
               "duration": 0,
               "redraw": true
              },
              "fromcurrent": true,
              "mode": "immediate",
              "transition": {
               "duration": 0,
               "easing": "linear"
              }
             }
            ],
            "label": "2012",
            "method": "animate"
           },
           {
            "args": [
             [
              "2013"
             ],
             {
              "frame": {
               "duration": 0,
               "redraw": true
              },
              "fromcurrent": true,
              "mode": "immediate",
              "transition": {
               "duration": 0,
               "easing": "linear"
              }
             }
            ],
            "label": "2013",
            "method": "animate"
           },
           {
            "args": [
             [
              "2014"
             ],
             {
              "frame": {
               "duration": 0,
               "redraw": true
              },
              "fromcurrent": true,
              "mode": "immediate",
              "transition": {
               "duration": 0,
               "easing": "linear"
              }
             }
            ],
            "label": "2014",
            "method": "animate"
           },
           {
            "args": [
             [
              "2015"
             ],
             {
              "frame": {
               "duration": 0,
               "redraw": true
              },
              "fromcurrent": true,
              "mode": "immediate",
              "transition": {
               "duration": 0,
               "easing": "linear"
              }
             }
            ],
            "label": "2015",
            "method": "animate"
           },
           {
            "args": [
             [
              "2016"
             ],
             {
              "frame": {
               "duration": 0,
               "redraw": true
              },
              "fromcurrent": true,
              "mode": "immediate",
              "transition": {
               "duration": 0,
               "easing": "linear"
              }
             }
            ],
            "label": "2016",
            "method": "animate"
           },
           {
            "args": [
             [
              "2017"
             ],
             {
              "frame": {
               "duration": 0,
               "redraw": true
              },
              "fromcurrent": true,
              "mode": "immediate",
              "transition": {
               "duration": 0,
               "easing": "linear"
              }
             }
            ],
            "label": "2017",
            "method": "animate"
           },
           {
            "args": [
             [
              "2018"
             ],
             {
              "frame": {
               "duration": 0,
               "redraw": true
              },
              "fromcurrent": true,
              "mode": "immediate",
              "transition": {
               "duration": 0,
               "easing": "linear"
              }
             }
            ],
            "label": "2018",
            "method": "animate"
           },
           {
            "args": [
             [
              "2019"
             ],
             {
              "frame": {
               "duration": 0,
               "redraw": true
              },
              "fromcurrent": true,
              "mode": "immediate",
              "transition": {
               "duration": 0,
               "easing": "linear"
              }
             }
            ],
            "label": "2019",
            "method": "animate"
           },
           {
            "args": [
             [
              "2020"
             ],
             {
              "frame": {
               "duration": 0,
               "redraw": true
              },
              "fromcurrent": true,
              "mode": "immediate",
              "transition": {
               "duration": 0,
               "easing": "linear"
              }
             }
            ],
            "label": "2020",
            "method": "animate"
           },
           {
            "args": [
             [
              "2021"
             ],
             {
              "frame": {
               "duration": 0,
               "redraw": true
              },
              "fromcurrent": true,
              "mode": "immediate",
              "transition": {
               "duration": 0,
               "easing": "linear"
              }
             }
            ],
            "label": "2021",
            "method": "animate"
           }
          ],
          "x": 0.1,
          "xanchor": "left",
          "y": 0,
          "yanchor": "top"
         }
        ],
        "template": {
         "data": {
          "bar": [
           {
            "error_x": {
             "color": "#2a3f5f"
            },
            "error_y": {
             "color": "#2a3f5f"
            },
            "marker": {
             "line": {
              "color": "#E5ECF6",
              "width": 0.5
             },
             "pattern": {
              "fillmode": "overlay",
              "size": 10,
              "solidity": 0.2
             }
            },
            "type": "bar"
           }
          ],
          "barpolar": [
           {
            "marker": {
             "line": {
              "color": "#E5ECF6",
              "width": 0.5
             },
             "pattern": {
              "fillmode": "overlay",
              "size": 10,
              "solidity": 0.2
             }
            },
            "type": "barpolar"
           }
          ],
          "carpet": [
           {
            "aaxis": {
             "endlinecolor": "#2a3f5f",
             "gridcolor": "white",
             "linecolor": "white",
             "minorgridcolor": "white",
             "startlinecolor": "#2a3f5f"
            },
            "baxis": {
             "endlinecolor": "#2a3f5f",
             "gridcolor": "white",
             "linecolor": "white",
             "minorgridcolor": "white",
             "startlinecolor": "#2a3f5f"
            },
            "type": "carpet"
           }
          ],
          "choropleth": [
           {
            "colorbar": {
             "outlinewidth": 0,
             "ticks": ""
            },
            "type": "choropleth"
           }
          ],
          "contour": [
           {
            "colorbar": {
             "outlinewidth": 0,
             "ticks": ""
            },
            "colorscale": [
             [
              0,
              "#0d0887"
             ],
             [
              0.1111111111111111,
              "#46039f"
             ],
             [
              0.2222222222222222,
              "#7201a8"
             ],
             [
              0.3333333333333333,
              "#9c179e"
             ],
             [
              0.4444444444444444,
              "#bd3786"
             ],
             [
              0.5555555555555556,
              "#d8576b"
             ],
             [
              0.6666666666666666,
              "#ed7953"
             ],
             [
              0.7777777777777778,
              "#fb9f3a"
             ],
             [
              0.8888888888888888,
              "#fdca26"
             ],
             [
              1,
              "#f0f921"
             ]
            ],
            "type": "contour"
           }
          ],
          "contourcarpet": [
           {
            "colorbar": {
             "outlinewidth": 0,
             "ticks": ""
            },
            "type": "contourcarpet"
           }
          ],
          "heatmap": [
           {
            "colorbar": {
             "outlinewidth": 0,
             "ticks": ""
            },
            "colorscale": [
             [
              0,
              "#0d0887"
             ],
             [
              0.1111111111111111,
              "#46039f"
             ],
             [
              0.2222222222222222,
              "#7201a8"
             ],
             [
              0.3333333333333333,
              "#9c179e"
             ],
             [
              0.4444444444444444,
              "#bd3786"
             ],
             [
              0.5555555555555556,
              "#d8576b"
             ],
             [
              0.6666666666666666,
              "#ed7953"
             ],
             [
              0.7777777777777778,
              "#fb9f3a"
             ],
             [
              0.8888888888888888,
              "#fdca26"
             ],
             [
              1,
              "#f0f921"
             ]
            ],
            "type": "heatmap"
           }
          ],
          "heatmapgl": [
           {
            "colorbar": {
             "outlinewidth": 0,
             "ticks": ""
            },
            "colorscale": [
             [
              0,
              "#0d0887"
             ],
             [
              0.1111111111111111,
              "#46039f"
             ],
             [
              0.2222222222222222,
              "#7201a8"
             ],
             [
              0.3333333333333333,
              "#9c179e"
             ],
             [
              0.4444444444444444,
              "#bd3786"
             ],
             [
              0.5555555555555556,
              "#d8576b"
             ],
             [
              0.6666666666666666,
              "#ed7953"
             ],
             [
              0.7777777777777778,
              "#fb9f3a"
             ],
             [
              0.8888888888888888,
              "#fdca26"
             ],
             [
              1,
              "#f0f921"
             ]
            ],
            "type": "heatmapgl"
           }
          ],
          "histogram": [
           {
            "marker": {
             "pattern": {
              "fillmode": "overlay",
              "size": 10,
              "solidity": 0.2
             }
            },
            "type": "histogram"
           }
          ],
          "histogram2d": [
           {
            "colorbar": {
             "outlinewidth": 0,
             "ticks": ""
            },
            "colorscale": [
             [
              0,
              "#0d0887"
             ],
             [
              0.1111111111111111,
              "#46039f"
             ],
             [
              0.2222222222222222,
              "#7201a8"
             ],
             [
              0.3333333333333333,
              "#9c179e"
             ],
             [
              0.4444444444444444,
              "#bd3786"
             ],
             [
              0.5555555555555556,
              "#d8576b"
             ],
             [
              0.6666666666666666,
              "#ed7953"
             ],
             [
              0.7777777777777778,
              "#fb9f3a"
             ],
             [
              0.8888888888888888,
              "#fdca26"
             ],
             [
              1,
              "#f0f921"
             ]
            ],
            "type": "histogram2d"
           }
          ],
          "histogram2dcontour": [
           {
            "colorbar": {
             "outlinewidth": 0,
             "ticks": ""
            },
            "colorscale": [
             [
              0,
              "#0d0887"
             ],
             [
              0.1111111111111111,
              "#46039f"
             ],
             [
              0.2222222222222222,
              "#7201a8"
             ],
             [
              0.3333333333333333,
              "#9c179e"
             ],
             [
              0.4444444444444444,
              "#bd3786"
             ],
             [
              0.5555555555555556,
              "#d8576b"
             ],
             [
              0.6666666666666666,
              "#ed7953"
             ],
             [
              0.7777777777777778,
              "#fb9f3a"
             ],
             [
              0.8888888888888888,
              "#fdca26"
             ],
             [
              1,
              "#f0f921"
             ]
            ],
            "type": "histogram2dcontour"
           }
          ],
          "mesh3d": [
           {
            "colorbar": {
             "outlinewidth": 0,
             "ticks": ""
            },
            "type": "mesh3d"
           }
          ],
          "parcoords": [
           {
            "line": {
             "colorbar": {
              "outlinewidth": 0,
              "ticks": ""
             }
            },
            "type": "parcoords"
           }
          ],
          "pie": [
           {
            "automargin": true,
            "type": "pie"
           }
          ],
          "scatter": [
           {
            "marker": {
             "colorbar": {
              "outlinewidth": 0,
              "ticks": ""
             }
            },
            "type": "scatter"
           }
          ],
          "scatter3d": [
           {
            "line": {
             "colorbar": {
              "outlinewidth": 0,
              "ticks": ""
             }
            },
            "marker": {
             "colorbar": {
              "outlinewidth": 0,
              "ticks": ""
             }
            },
            "type": "scatter3d"
           }
          ],
          "scattercarpet": [
           {
            "marker": {
             "colorbar": {
              "outlinewidth": 0,
              "ticks": ""
             }
            },
            "type": "scattercarpet"
           }
          ],
          "scattergeo": [
           {
            "marker": {
             "colorbar": {
              "outlinewidth": 0,
              "ticks": ""
             }
            },
            "type": "scattergeo"
           }
          ],
          "scattergl": [
           {
            "marker": {
             "colorbar": {
              "outlinewidth": 0,
              "ticks": ""
             }
            },
            "type": "scattergl"
           }
          ],
          "scattermapbox": [
           {
            "marker": {
             "colorbar": {
              "outlinewidth": 0,
              "ticks": ""
             }
            },
            "type": "scattermapbox"
           }
          ],
          "scatterpolar": [
           {
            "marker": {
             "colorbar": {
              "outlinewidth": 0,
              "ticks": ""
             }
            },
            "type": "scatterpolar"
           }
          ],
          "scatterpolargl": [
           {
            "marker": {
             "colorbar": {
              "outlinewidth": 0,
              "ticks": ""
             }
            },
            "type": "scatterpolargl"
           }
          ],
          "scatterternary": [
           {
            "marker": {
             "colorbar": {
              "outlinewidth": 0,
              "ticks": ""
             }
            },
            "type": "scatterternary"
           }
          ],
          "surface": [
           {
            "colorbar": {
             "outlinewidth": 0,
             "ticks": ""
            },
            "colorscale": [
             [
              0,
              "#0d0887"
             ],
             [
              0.1111111111111111,
              "#46039f"
             ],
             [
              0.2222222222222222,
              "#7201a8"
             ],
             [
              0.3333333333333333,
              "#9c179e"
             ],
             [
              0.4444444444444444,
              "#bd3786"
             ],
             [
              0.5555555555555556,
              "#d8576b"
             ],
             [
              0.6666666666666666,
              "#ed7953"
             ],
             [
              0.7777777777777778,
              "#fb9f3a"
             ],
             [
              0.8888888888888888,
              "#fdca26"
             ],
             [
              1,
              "#f0f921"
             ]
            ],
            "type": "surface"
           }
          ],
          "table": [
           {
            "cells": {
             "fill": {
              "color": "#EBF0F8"
             },
             "line": {
              "color": "white"
             }
            },
            "header": {
             "fill": {
              "color": "#C8D4E3"
             },
             "line": {
              "color": "white"
             }
            },
            "type": "table"
           }
          ]
         },
         "layout": {
          "annotationdefaults": {
           "arrowcolor": "#2a3f5f",
           "arrowhead": 0,
           "arrowwidth": 1
          },
          "autotypenumbers": "strict",
          "coloraxis": {
           "colorbar": {
            "outlinewidth": 0,
            "ticks": ""
           }
          },
          "colorscale": {
           "diverging": [
            [
             0,
             "#8e0152"
            ],
            [
             0.1,
             "#c51b7d"
            ],
            [
             0.2,
             "#de77ae"
            ],
            [
             0.3,
             "#f1b6da"
            ],
            [
             0.4,
             "#fde0ef"
            ],
            [
             0.5,
             "#f7f7f7"
            ],
            [
             0.6,
             "#e6f5d0"
            ],
            [
             0.7,
             "#b8e186"
            ],
            [
             0.8,
             "#7fbc41"
            ],
            [
             0.9,
             "#4d9221"
            ],
            [
             1,
             "#276419"
            ]
           ],
           "sequential": [
            [
             0,
             "#0d0887"
            ],
            [
             0.1111111111111111,
             "#46039f"
            ],
            [
             0.2222222222222222,
             "#7201a8"
            ],
            [
             0.3333333333333333,
             "#9c179e"
            ],
            [
             0.4444444444444444,
             "#bd3786"
            ],
            [
             0.5555555555555556,
             "#d8576b"
            ],
            [
             0.6666666666666666,
             "#ed7953"
            ],
            [
             0.7777777777777778,
             "#fb9f3a"
            ],
            [
             0.8888888888888888,
             "#fdca26"
            ],
            [
             1,
             "#f0f921"
            ]
           ],
           "sequentialminus": [
            [
             0,
             "#0d0887"
            ],
            [
             0.1111111111111111,
             "#46039f"
            ],
            [
             0.2222222222222222,
             "#7201a8"
            ],
            [
             0.3333333333333333,
             "#9c179e"
            ],
            [
             0.4444444444444444,
             "#bd3786"
            ],
            [
             0.5555555555555556,
             "#d8576b"
            ],
            [
             0.6666666666666666,
             "#ed7953"
            ],
            [
             0.7777777777777778,
             "#fb9f3a"
            ],
            [
             0.8888888888888888,
             "#fdca26"
            ],
            [
             1,
             "#f0f921"
            ]
           ]
          },
          "colorway": [
           "#636efa",
           "#EF553B",
           "#00cc96",
           "#ab63fa",
           "#FFA15A",
           "#19d3f3",
           "#FF6692",
           "#B6E880",
           "#FF97FF",
           "#FECB52"
          ],
          "font": {
           "color": "#2a3f5f"
          },
          "geo": {
           "bgcolor": "white",
           "lakecolor": "white",
           "landcolor": "#E5ECF6",
           "showlakes": true,
           "showland": true,
           "subunitcolor": "white"
          },
          "hoverlabel": {
           "align": "left"
          },
          "hovermode": "closest",
          "mapbox": {
           "style": "light"
          },
          "paper_bgcolor": "white",
          "plot_bgcolor": "#E5ECF6",
          "polar": {
           "angularaxis": {
            "gridcolor": "white",
            "linecolor": "white",
            "ticks": ""
           },
           "bgcolor": "#E5ECF6",
           "radialaxis": {
            "gridcolor": "white",
            "linecolor": "white",
            "ticks": ""
           }
          },
          "scene": {
           "xaxis": {
            "backgroundcolor": "#E5ECF6",
            "gridcolor": "white",
            "gridwidth": 2,
            "linecolor": "white",
            "showbackground": true,
            "ticks": "",
            "zerolinecolor": "white"
           },
           "yaxis": {
            "backgroundcolor": "#E5ECF6",
            "gridcolor": "white",
            "gridwidth": 2,
            "linecolor": "white",
            "showbackground": true,
            "ticks": "",
            "zerolinecolor": "white"
           },
           "zaxis": {
            "backgroundcolor": "#E5ECF6",
            "gridcolor": "white",
            "gridwidth": 2,
            "linecolor": "white",
            "showbackground": true,
            "ticks": "",
            "zerolinecolor": "white"
           }
          },
          "shapedefaults": {
           "line": {
            "color": "#2a3f5f"
           }
          },
          "ternary": {
           "aaxis": {
            "gridcolor": "white",
            "linecolor": "white",
            "ticks": ""
           },
           "baxis": {
            "gridcolor": "white",
            "linecolor": "white",
            "ticks": ""
           },
           "bgcolor": "#E5ECF6",
           "caxis": {
            "gridcolor": "white",
            "linecolor": "white",
            "ticks": ""
           }
          },
          "title": {
           "x": 0.05
          },
          "xaxis": {
           "automargin": true,
           "gridcolor": "white",
           "linecolor": "white",
           "ticks": "",
           "title": {
            "standoff": 15
           },
           "zerolinecolor": "white",
           "zerolinewidth": 2
          },
          "yaxis": {
           "automargin": true,
           "gridcolor": "white",
           "linecolor": "white",
           "ticks": "",
           "title": {
            "standoff": 15
           },
           "zerolinecolor": "white",
           "zerolinewidth": 2
          }
         }
        },
        "updatemenus": [
         {
          "buttons": [
           {
            "args": [
             null,
             {
              "frame": {
               "duration": 500,
               "redraw": true
              },
              "fromcurrent": true,
              "mode": "immediate",
              "transition": {
               "duration": 500,
               "easing": "linear"
              }
             }
            ],
            "label": "&#9654;",
            "method": "animate"
           },
           {
            "args": [
             [
              null
             ],
             {
              "frame": {
               "duration": 0,
               "redraw": true
              },
              "fromcurrent": true,
              "mode": "immediate",
              "transition": {
               "duration": 0,
               "easing": "linear"
              }
             }
            ],
            "label": "&#9724;",
            "method": "animate"
           }
          ],
          "direction": "left",
          "pad": {
           "r": 10,
           "t": 70
          },
          "showactive": false,
          "type": "buttons",
          "x": 0.1,
          "xanchor": "right",
          "y": 0,
          "yanchor": "top"
         }
        ],
        "xaxis": {
         "anchor": "y",
         "domain": [
          0,
          1
         ],
         "range": [
          0,
          0.001
         ],
         "title": {
          "text": "e/km"
         },
         "type": "linear"
        },
        "yaxis": {
         "anchor": "x",
         "autorange": true,
         "categoryarray": [
          "Road traffic, passenger cars",
          "Road traffic, freight vehicles"
         ],
         "categoryorder": "array",
         "domain": [
          0,
          1
         ],
         "range": [
          -0.5,
          1.5
         ],
         "title": {
          "text": "Sources"
         },
         "type": "category"
        }
       }
      },
      "image/png": "[encoded data removed]"
     },
     "metadata": {},
     "output_type": "display_data"
    }
   ],
   "source": [
    "vehicle_data_ani3 = getCategory(vehicle_data, \"Emission Type\", [\"PM10 (Particulate matter)\"], False)\n",
    "fig = px.bar(vehicle_data_ani3, x=\"e/km\", y=\"Sources\", orientation='h', animation_frame=\"Year\", animation_group=\"Sources\", \n",
    "             color=\"Sources\", range_x=[0,0.001])\n",
    "fig.update_traces(showlegend=False)\n",
    "fig.show()"
   ]
  },
  {
   "cell_type": "markdown",
   "metadata": {},
   "source": [
    "In general, the emission of PM10 recorded a significant downward trend for both freight vehicles and passenger cars. However, the data for freight vehicles was always higher than that for passenger cars during 30 years."
   ]
  }
 ],
 "metadata": {
  "kernelspec": {
   "display_name": "Python 3 (ipykernel)",
   "language": "python",
   "name": "python3"
  },
  "language_info": {
   "codemirror_mode": {
    "name": "ipython",
    "version": 3
   },
   "file_extension": ".py",
   "mimetype": "text/x-python",
   "name": "python",
   "nbconvert_exporter": "python",
   "pygments_lexer": "ipython3",
   "version": "3.9.13"
  },
  "vscode": {
   "interpreter": {
    "hash": "be9c55cb382150f083378ad87df26d791c51ec2ee5bbefdb4bd0393600cf24ec"
   }
  }
 },
 "nbformat": 4,
 "nbformat_minor": 4
}
